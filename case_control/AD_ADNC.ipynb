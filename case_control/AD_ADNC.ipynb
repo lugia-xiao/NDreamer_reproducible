{
 "cells": [
  {
   "cell_type": "code",
   "execution_count": null,
   "id": "4836e505-df4d-4cfc-8a1f-3ef0f73951fe",
   "metadata": {},
   "outputs": [],
   "source": [
    "#import pertpy as pt\n",
    "import scanpy as sc\n",
    "import numpy as np\n",
    "\n",
    "import random\n",
    "import torch\n",
    "import sklearn\n",
    "import os\n",
    "def set_seed(seed: int):\n",
    "    # Set Python random seed\n",
    "    random.seed(seed)\n",
    "\n",
    "    # Set NumPy random seed\n",
    "    np.random.seed(seed)\n",
    "\n",
    "    # Set PyTorch random seed\n",
    "    torch.manual_seed(seed)\n",
    "    if torch.cuda.is_available():\n",
    "        torch.cuda.manual_seed(seed)\n",
    "        torch.cuda.manual_seed_all(seed)  # If using multi-GPU.\n",
    "\n",
    "        # Ensure deterministic behavior in PyTorch (can slow down computations)\n",
    "        torch.backends.cudnn.deterministic = True\n",
    "        torch.backends.cudnn.benchmark = False\n",
    "\n",
    "    # Set sklearn random seed\n",
    "    sklearn.utils.check_random_state(seed)\n",
    "\n",
    "    # Set environment variable for reproducibility\n",
    "    os.environ['PYTHONHASHSEED'] = str(seed)\n",
    "\n",
    "set_seed(123)\n",
    "\n",
    "import warnings\n",
    "warnings.filterwarnings(\"ignore\")\n",
    "warnings.filterwarnings(\"ignore\", category=FutureWarning)"
   ]
  },
  {
   "cell_type": "code",
   "execution_count": null,
   "id": "62ee393e-5453-4f04-af6f-7407fee16171",
   "metadata": {},
   "outputs": [],
   "source": [
    "adata=sc.read_h5ad(\"./data/AD.h5ad\")\n",
    "adata.raw = None\n",
    "adata=adata[adata.obs[\"ADNC\"].isin(['Not AD','High'])].copy()\n",
    "sc.pl.umap(adata,color=[\"Subclass\",\"ADNC\",\"donor_id\",\"disease\"],ncols=1)"
   ]
  },
  {
   "cell_type": "code",
   "execution_count": null,
   "id": "daf93f0c-2179-4858-9014-04565a634baa",
   "metadata": {},
   "outputs": [],
   "source": [
    "from ndreamer import NDreamer\n",
    "\n",
    "model = NDreamer(adata, condition_key=\"ADNC\", contorl_name='Not AD', num_hvg=2000, require_batch=True,\n",
    "                            batch_key='donor_id',\n",
    "                            resolution_low=0.5, resolution_high=7, cluster_method=\"Leiden\", embedding_dim=512,\n",
    "                            codebooks=[1024 for i in range(32)],\n",
    "                            codebook_dim=8, encoder_hidden=[1024, 512], decoder_hidden=[512, 1024], z_dim=256,\n",
    "                            cos_loss_scaler=20, random_seed=123, batch_size=8192, epoches=10, lr=1e-3,\n",
    "                            triplet_margin=5,independent_loss_scaler=1000, save_pth=\"./AD_ADNC/\",\n",
    "                            developer_test_mode=False,\n",
    "                            library_size_normalize_adata=False,\n",
    "                            save_preprocessed_adata_path=\"./AD_ADNC/preprocessed.h5ad\",\n",
    "                            KL_scaler=5e-3, reconstruct_scaler=1, triplet_scaler=5, num_triplets_per_label=15,\n",
    "                            tau=0.01, commitment_loss_scaler=1, cluster_correlation_scaler=50,reset_threshold=1/1024,\n",
    "                            reset_interval=30,try_identify_cb_specific_subtypes=False,\n",
    "                            local_neighborhood_loss_scaler=1,local_neighbor_sigma=1,\n",
    "                            try_identify_perturb_escaped_cell=False,n_neighbors=20,\n",
    "                            local_neighbor_across_cluster_scaler=20)\n",
    "\n",
    "model.train_model()\n",
    "\n",
    "model.get_modifier_space()\n",
    "model.decompose_true_expression_batch_effect_all(nearest_neighbor=1,bandwidth=1)\n",
    "model.Estmiate_ITE_all(nearest_neighbor=1,bandwidth=1)"
   ]
  }
 ],
 "metadata": {
  "kernelspec": {
   "display_name": "Python 3 (ipykernel)",
   "language": "python",
   "name": "python3"
  },
  "language_info": {
   "codemirror_mode": {
    "name": "ipython",
    "version": 3
   },
   "file_extension": ".py",
   "mimetype": "text/x-python",
   "name": "python",
   "nbconvert_exporter": "python",
   "pygments_lexer": "ipython3",
   "version": "3.11.11"
  }
 },
 "nbformat": 4,
 "nbformat_minor": 5
}
