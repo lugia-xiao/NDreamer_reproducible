{
 "cells": [
  {
   "cell_type": "code",
   "execution_count": 1,
   "id": "e253f13c-8b72-4de4-9df9-31fdcc62ba38",
   "metadata": {},
   "outputs": [
    {
     "name": "stdout",
     "output_type": "stream",
     "text": [
      "AnnData object with n_obs × n_vars = 1378211 × 36412\n",
      "    obs: 'assay_ontology_term_id', 'cell_type_ontology_term_id', 'disease_ontology_term_id', 'self_reported_ethnicity_ontology_term_id', 'organism_ontology_term_id', 'sex_ontology_term_id', 'tissue_ontology_term_id', 'is_primary_data', 'Neurotypical reference', 'Class', 'Subclass', 'Supertype', 'Age at death', 'Years of education', 'Cognitive status', 'ADNC', 'Braak stage', 'Thal phase', 'CERAD score', 'APOE4 status', 'Lewy body disease pathology', 'LATE-NC stage', 'Microinfarct pathology', 'Specimen ID', 'donor_id', 'PMI', 'Number of UMIs', 'Genes detected', 'Fraction mitochrondrial UMIs', 'suspension_type', 'development_stage_ontology_term_id', 'Continuous Pseudo-progression Score', 'tissue_type', 'cell_type', 'assay', 'disease', 'organism', 'sex', 'tissue', 'self_reported_ethnicity', 'development_stage', 'observation_joinid'\n",
      "    var: 'feature_is_filtered', 'feature_name', 'feature_reference', 'feature_biotype', 'feature_length', 'feature_type'\n",
      "    uns: 'ADNC_colors', 'APOE4 status_colors', 'Age at death_colors', 'Braak stage_colors', 'CERAD score_colors', 'Cognitive status_colors', 'Great Apes Metadata', 'LATE-NC stage_colors', 'Lewy body disease pathology_colors', 'Microinfarct pathology_colors', 'PMI_colors', 'Subclass_colors', 'Supertype_colors', 'Thal phase_colors', 'UW Clinical Metadata', 'Years of education_colors', 'batch_condition', 'citation', 'default_embedding', 'neighbors', 'schema_reference', 'schema_version', 'title', 'umap'\n",
      "    obsm: 'X_scVI', 'X_umap'\n",
      "    obsp: 'connectivities', 'distances'\n",
      "  (1, 3)\t0.5285244584083557\n",
      "  (1, 8)\t0.29878050088882446\n",
      "  (1, 2)\t0.7152222394943237\n",
      "  (2, 3)\t0.23078246414661407\n",
      "  (2, 2)\t0.4181644022464752\n",
      "  (4, 8)\t1.625741958618164\n",
      "  (5, 2)\t0.44561538100242615\n",
      "  (6, 3)\t0.5932336449623108\n",
      "  (6, 2)\t0.3399772644042969\n",
      "  (7, 3)\t0.44316619634628296\n",
      "  (7, 2)\t0.7491788864135742\n",
      "  (8, 4)\t0.4892875552177429\n",
      "  (8, 3)\t0.4892875552177429\n",
      "  (8, 2)\t0.4892875552177429\n",
      "  (9, 3)\t0.17639771103858948\n",
      "  (9, 7)\t0.17639771103858948\n",
      "  (9, 2)\t0.17639771103858948\n"
     ]
    }
   ],
   "source": [
    "import scanpy as sc\n",
    "adata=sc.read_h5ad(\"./data/c32964d2-3339-441f-8e56-7177234c7876.h5ad\")\n",
    "print(adata)\n",
    "print(adata.X[:10,:10])"
   ]
  },
  {
   "cell_type": "code",
   "execution_count": 2,
   "id": "2868cabe-ee30-45fd-b212-c65a92eadca2",
   "metadata": {},
   "outputs": [
    {
     "name": "stdout",
     "output_type": "stream",
     "text": [
      "assay_ontology_term_id ['EFO:0009922' 'EFO:0030059']\n",
      "cell_type_ontology_term_id ['CL:0000128' 'CL:0000129' 'CL:0002453' 'CL:0002605' 'CL:1001602'\n",
      " 'CL:4023011' 'CL:4023012' 'CL:4023013' 'CL:4023015' 'CL:4023016'\n",
      " 'CL:4023017' 'CL:4023018' 'CL:4023036' 'CL:4023038' 'CL:4023040'\n",
      " 'CL:4023041' 'CL:4023051' 'CL:4023064']\n",
      "disease_ontology_term_id ['MONDO:0001627' 'PATO:0000461']\n",
      "self_reported_ethnicity_ontology_term_id ['HANCESTRO:0005' 'HANCESTRO:0008' 'HANCESTRO:0013,HANCESTRO:0014'\n",
      " 'HANCESTRO:0015']\n",
      "organism_ontology_term_id ['NCBITaxon:9606']\n",
      "sex_ontology_term_id ['PATO:0000383' 'PATO:0000384']\n",
      "tissue_ontology_term_id ['UBERON:0002771']\n",
      "is_primary_data [False  True]\n",
      "Neurotypical reference ['False' 'True']\n",
      "Class ['Neuronal: GABAergic' 'Neuronal: Glutamatergic'\n",
      " 'Non-neuronal and Non-neural']\n",
      "Subclass ['Astrocyte' 'Chandelier' 'Endothelial' 'L2/3 IT' 'L4 IT' 'L5 ET' 'L5 IT'\n",
      " 'L5/6 NP' 'L6 CT' 'L6 IT' 'L6 IT Car3' 'L6b' 'Lamp5' 'Lamp5 Lhx6'\n",
      " 'Microglia-PVM' 'OPC' 'Oligodendrocyte' 'Pax6' 'Pvalb' 'Sncg' 'Sst'\n",
      " 'Sst Chodl' 'VLMC' 'Vip']\n",
      "Age at death ['65 to 77 years old' '78 to 89 years old' '90+ years old'\n",
      " 'Less than 65 years old']\n",
      "Years of education ['12 to 15 years' '16 to 18 years' '19 to 21 years' 'Reference']\n",
      "Cognitive status ['Dementia' 'No dementia' 'Reference']\n",
      "ADNC ['High' 'Intermediate' 'Low' 'Not AD' 'Reference']\n",
      "Braak stage ['Braak 0' 'Braak II' 'Braak III' 'Braak IV' 'Braak V' 'Braak VI'\n",
      " 'Reference']\n",
      "Thal phase ['Reference' 'Thal 0' 'Thal 1' 'Thal 2' 'Thal 3' 'Thal 4' 'Thal 5']\n",
      "CERAD score ['Absent' 'Frequent' 'Moderate' 'Reference' 'Sparse']\n",
      "APOE4 status ['N' 'Reference' 'Y']\n",
      "Lewy body disease pathology ['Amygdala-predominant' 'Brainstem-predominant' 'Limbic (Transitional)'\n",
      " 'Neocortical (Diffuse)' 'Not Identified (olfactory bulb assessed)'\n",
      " 'Not Identified (olfactory bulb not assessed)' 'Olfactory bulb only'\n",
      " 'Reference']\n",
      "LATE-NC stage ['LATE Stage 1' 'LATE Stage 2' 'LATE Stage 3' 'Not Identified' 'Reference'\n",
      " 'Staging Precluded by FTLD with TDP43 or ALS/MND or TDP-43 pathology is unclassifiable']\n",
      "Microinfarct pathology ['0 to 3 microinfarcts' '4 to 6 microinfarcts' '7 to 10 microinfarcts'\n",
      " 'Reference']\n",
      "donor_id ['H18.30.001' 'H18.30.002' 'H19.30.001' 'H19.30.002' 'H19.33.004'\n",
      " 'H20.33.001' 'H20.33.002' 'H20.33.004' 'H20.33.005' 'H20.33.008'\n",
      " 'H20.33.011' 'H20.33.012' 'H20.33.013' 'H20.33.014' 'H20.33.015'\n",
      " 'H20.33.016' 'H20.33.017' 'H20.33.018' 'H20.33.019' 'H20.33.020'\n",
      " 'H20.33.024' 'H20.33.025' 'H20.33.026' 'H20.33.027' 'H20.33.028'\n",
      " 'H20.33.029' 'H20.33.030' 'H20.33.031' 'H20.33.032' 'H20.33.033'\n",
      " 'H20.33.034' 'H20.33.035' 'H20.33.036' 'H20.33.037' 'H20.33.038'\n",
      " 'H20.33.039' 'H20.33.040' 'H20.33.041' 'H20.33.043' 'H20.33.044'\n",
      " 'H20.33.045' 'H20.33.046' 'H200.1023' 'H21.33.001' 'H21.33.002'\n",
      " 'H21.33.003' 'H21.33.004' 'H21.33.005' 'H21.33.006' 'H21.33.007'\n",
      " 'H21.33.008' 'H21.33.009' 'H21.33.010' 'H21.33.011' 'H21.33.012'\n",
      " 'H21.33.013' 'H21.33.014' 'H21.33.015' 'H21.33.016' 'H21.33.017'\n",
      " 'H21.33.018' 'H21.33.019' 'H21.33.020' 'H21.33.021' 'H21.33.022'\n",
      " 'H21.33.023' 'H21.33.025' 'H21.33.026' 'H21.33.027' 'H21.33.028'\n",
      " 'H21.33.029' 'H21.33.030' 'H21.33.031' 'H21.33.032' 'H21.33.033'\n",
      " 'H21.33.034' 'H21.33.035' 'H21.33.036' 'H21.33.037' 'H21.33.038'\n",
      " 'H21.33.039' 'H21.33.040' 'H21.33.041' 'H21.33.042' 'H21.33.043'\n",
      " 'H21.33.044' 'H21.33.045' 'H21.33.046' 'H21.33.047']\n",
      "PMI ['3.2 to 5.9 hours' '5.9 to 8.7 hours' '8.7 to 11.4 hours' 'Reference']\n",
      "suspension_type ['nucleus']\n",
      "development_stage_ontology_term_id ['HsapDv:0000095' 'HsapDv:0000123' 'HsapDv:0000136' 'HsapDv:0000137'\n",
      " 'HsapDv:0000144' 'HsapDv:0000154' 'HsapDv:0000159' 'HsapDv:0000162'\n",
      " 'HsapDv:0000163' 'HsapDv:0000164' 'HsapDv:0000166' 'HsapDv:0000169'\n",
      " 'HsapDv:0000171' 'HsapDv:0000172' 'HsapDv:0000206' 'HsapDv:0000207'\n",
      " 'HsapDv:0000208' 'HsapDv:0000209' 'HsapDv:0000210' 'HsapDv:0000211'\n",
      " 'HsapDv:0000212' 'HsapDv:0000213' 'HsapDv:0000214' 'HsapDv:0000215']\n",
      "Continuous Pseudo-progression Score [0.         0.14961633 0.17061852 0.18031863 0.18236981 0.20448549\n",
      " 0.20654937 0.22478343 0.23078076 0.23701    0.23803339 0.2524426\n",
      " 0.26164476 0.29655503 0.30017715 0.30231278 0.30375142 0.32363895\n",
      " 0.3361733  0.35563188 0.36833016 0.3714672  0.37697023 0.38041122\n",
      " 0.43882693 0.44212789 0.48629656 0.51747629 0.51800474 0.52034665\n",
      " 0.52288883 0.57573463 0.58888187 0.6128317  0.61653109 0.6259508\n",
      " 0.64394614 0.65294318 0.67827704 0.68021604 0.68718707 0.69004091\n",
      " 0.7049965  0.72336396 0.7250057  0.72816072 0.72933197 0.73992399\n",
      " 0.74451789 0.74887648 0.74959888 0.75388783 0.75418519 0.76078088\n",
      " 0.7657036  0.77785864 0.78651528 0.79002623 0.79034705 0.81086494\n",
      " 0.81493364 0.81804081 0.82179335 0.83462669 0.83809575 0.84430513\n",
      " 0.84479796 0.84721016 0.85006491 0.85682117 0.86838267 0.86952118\n",
      " 0.87493798 0.87896757 0.88956275 0.89121542 0.89607397 0.89991152\n",
      " 0.90684253 0.91011221 0.91101929 0.91107676 0.92235388 0.92406454\n",
      " 0.92851254]\n",
      "tissue_type ['tissue']\n",
      "cell_type ['L2/3-6 intratelencephalic projecting glutamatergic neuron'\n",
      " 'L5 extratelencephalic projecting glutamatergic cortical neuron'\n",
      " 'L6b glutamatergic cortical neuron' 'VIP GABAergic cortical interneuron'\n",
      " 'astrocyte of the cerebral cortex'\n",
      " 'caudal ganglionic eminence derived interneuron'\n",
      " 'cerebral cortex endothelial cell'\n",
      " 'chandelier pvalb GABAergic cortical interneuron'\n",
      " 'corticothalamic-projecting glutamatergic cortical neuron'\n",
      " 'lamp5 GABAergic cortical interneuron' 'microglial cell'\n",
      " 'near-projecting glutamatergic cortical neuron' 'oligodendrocyte'\n",
      " 'oligodendrocyte precursor cell' 'pvalb GABAergic cortical interneuron'\n",
      " 'sncg GABAergic cortical interneuron'\n",
      " 'sst GABAergic cortical interneuron' 'vascular leptomeningeal cell']\n",
      "assay [\"10x 3' v3\" '10x multiome']\n",
      "disease ['dementia' 'normal']\n",
      "organism ['Homo sapiens']\n",
      "sex ['female' 'male']\n",
      "tissue ['middle temporal gyrus']\n",
      "self_reported_ethnicity ['Asian' 'European'\n",
      " 'Greater Middle Eastern  (Middle Eastern or North African or Persian)'\n",
      " 'Native American,Hispanic or Latin American']\n",
      "development_stage ['29-year-old stage' '42-year-old stage' '43-year-old stage'\n",
      " '50-year-old stage' '60-year-old stage' '65-year-old stage'\n",
      " '68-year-old stage' '69-year-old stage' '70-year-old stage'\n",
      " '72-year-old stage' '75-year-old stage' '77-year-old stage'\n",
      " '78-year-old stage' '80 year-old and over stage' '80-year-old stage'\n",
      " '81-year-old stage' '82-year-old stage' '83-year-old stage'\n",
      " '84-year-old stage' '85-year-old stage' '86-year-old stage'\n",
      " '87-year-old stage' '88-year-old stage' '89-year-old stage']\n"
     ]
    }
   ],
   "source": [
    "import numpy as np\n",
    "for i in adata.obs.columns:\n",
    "    try:\n",
    "        unique=np.unique(adata.obs[i])\n",
    "        if len(unique)<100:\n",
    "            print(i, unique)\n",
    "    except:\n",
    "        continue"
   ]
  },
  {
   "cell_type": "code",
   "execution_count": null,
   "id": "4b6cb48a-1849-4ce1-9701-4a8ca5f006cb",
   "metadata": {},
   "outputs": [],
   "source": [
    "sc.pp.highly_variable_genes(adata, n_top_genes=2000)\n",
    "adata = adata[:, adata.var[\"highly_variable\"]].copy()\n",
    "sc.tl.pca(adata, svd_solver=\"arpack\")\n",
    "sc.pp.neighbors(adata)\n",
    "sc.tl.umap(adata)"
   ]
  },
  {
   "cell_type": "code",
   "execution_count": null,
   "id": "fe20520e-a929-4e03-8301-6715690a1b9f",
   "metadata": {},
   "outputs": [],
   "source": [
    "sc.pl.umap(adata,color=[\"Subclass\",\"ADNC\",\"donor_id\",\"disease\"],ncols=1)"
   ]
  },
  {
   "cell_type": "code",
   "execution_count": null,
   "id": "f3073103-d98d-4dad-8af5-04c6a871454f",
   "metadata": {},
   "outputs": [],
   "source": [
    "adata.write_h5ad(\"./data/AD.h5ad\")"
   ]
  },
  {
   "cell_type": "code",
   "execution_count": null,
   "id": "d77fd3a8-7896-46b9-b95b-7142647b62fc",
   "metadata": {},
   "outputs": [],
   "source": []
  },
  {
   "cell_type": "code",
   "execution_count": 1,
   "id": "2f592bdf-60c5-4141-9e9e-b7d1889f13a4",
   "metadata": {},
   "outputs": [],
   "source": [
    "import scanpy as sc\n",
    "\n",
    "adata=sc.read_h5ad(\"./AD/adata.h5ad\")"
   ]
  },
  {
   "cell_type": "code",
   "execution_count": 3,
   "id": "a2da1903-9ab7-46f6-a2f8-14e68bd07197",
   "metadata": {},
   "outputs": [
    {
     "name": "stdout",
     "output_type": "stream",
     "text": [
      "Unique DataFrame:\n",
      "                                                  donor_id   disease\n",
      "exp_component_name                                                  \n",
      "GGTGATTAGGTCACTT-L8TX_210722_01_H06-1153814299  H20.33.034    normal\n",
      "TTGAACGCAGGTGTGA-L8TX_210729_01_G12-1153814338  H21.33.035    normal\n",
      "GGGAGTAAGGCATTTC-L8TX_210107_01_H09-1142430361  H20.33.014    normal\n",
      "ACAGAAAGTATCGTGT-L8TX_210415_01_G01-1153814188  H21.33.015    normal\n",
      "TTGTTCAAGCGAGAAA-L8TX_210513_01_F11-1153814259  H20.33.033  dementia\n",
      "...                                                    ...       ...\n",
      "TTGGATGCATTGGGAG-L8TX_210805_01_A04-1153814346  H21.33.038    normal\n",
      "GTGGAAGGTGGACCTC-L8TX_210722_01_G07-1153814308  H21.33.033    normal\n",
      "AATCGACAGTCCCGAC-L8TX_210805_01_B04-1153814348  H21.33.034  dementia\n",
      "TGCAGATCATCGATAC-L8TX_210701_01_B07-1153814269  H21.33.030    normal\n",
      "TTAGGCACACCCTGTT-L8TX_210430_01_G05-1153814200  H21.33.020  dementia\n",
      "\n",
      "[89 rows x 2 columns]\n",
      "\n",
      "Mapping Dictionary:\n",
      "{'H20.33.034': 'normal', 'H21.33.035': 'normal', 'H20.33.014': 'normal', 'H21.33.015': 'normal', 'H20.33.033': 'dementia', 'H21.33.043': 'dementia', 'H21.33.005': 'dementia', 'H20.33.031': 'dementia', 'H21.33.036': 'normal', 'H21.33.002': 'dementia', 'H20.33.025': 'normal', 'H21.33.047': 'normal', 'H21.33.040': 'normal', 'H20.33.001': 'normal', 'H21.33.026': 'normal', 'H21.33.008': 'dementia', 'H21.33.001': 'dementia', 'H20.33.046': 'dementia', 'H20.33.040': 'dementia', 'H20.33.002': 'normal', 'H21.33.025': 'normal', 'H20.33.026': 'dementia', 'H21.33.018': 'dementia', 'H19.33.004': 'normal', 'H19.30.001': 'normal', 'H21.33.019': 'normal', 'H21.33.013': 'dementia', 'H20.33.020': 'dementia', 'H21.33.022': 'normal', 'H20.33.041': 'dementia', 'H20.33.018': 'dementia', 'H21.33.004': 'normal', 'H21.33.011': 'normal', 'H20.33.044': 'normal', 'H19.30.002': 'normal', 'H20.33.012': 'normal', 'H21.33.041': 'normal', 'H21.33.006': 'normal', 'H21.33.014': 'normal', 'H21.33.044': 'dementia', 'H20.33.028': 'dementia', 'H21.33.010': 'dementia', 'H21.33.046': 'dementia', 'H21.33.029': 'dementia', 'H18.30.002': 'normal', 'H21.33.037': 'normal', 'H20.33.017': 'dementia', 'H21.33.016': 'dementia', 'H21.33.007': 'dementia', 'H20.33.015': 'dementia', 'H21.33.021': 'dementia', 'H20.33.005': 'normal', 'H20.33.004': 'dementia', 'H200.1023': 'normal', 'H20.33.039': 'normal', 'H21.33.032': 'normal', 'H20.33.011': 'dementia', 'H20.33.036': 'normal', 'H21.33.042': 'dementia', 'H21.33.012': 'dementia', 'H20.33.016': 'dementia', 'H20.33.030': 'normal', 'H21.33.023': 'normal', 'H20.33.029': 'dementia', 'H18.30.001': 'normal', 'H20.33.032': 'normal', 'H20.33.043': 'normal', 'H21.33.039': 'dementia', 'H20.33.035': 'normal', 'H20.33.037': 'dementia', 'H20.33.045': 'dementia', 'H21.33.031': 'dementia', 'H21.33.028': 'normal', 'H20.33.013': 'normal', 'H20.33.027': 'normal', 'H21.33.027': 'dementia', 'H21.33.003': 'normal', 'H20.33.008': 'normal', 'H20.33.019': 'normal', 'H21.33.017': 'dementia', 'H20.33.038': 'dementia', 'H21.33.045': 'dementia', 'H20.33.024': 'normal', 'H21.33.009': 'dementia', 'H21.33.038': 'normal', 'H21.33.033': 'normal', 'H21.33.034': 'dementia', 'H21.33.030': 'normal', 'H21.33.020': 'dementia'}\n",
      "(array(['dementia', 'normal'], dtype=object), array([42, 47]))\n"
     ]
    }
   ],
   "source": [
    "import pandas as pd\n",
    "import numpy as np\n",
    "df = pd.DataFrame(adata.obs[[\"donor_id\",\"disease\"]].copy())\n",
    "\n",
    "# Remove duplicated rows\n",
    "unique_df = df.drop_duplicates()\n",
    "\n",
    "# Construct a dictionary mapping the first column to the second column\n",
    "mapping_dict = dict(zip(unique_df['donor_id'], unique_df['disease']))\n",
    "\n",
    "print(\"Unique DataFrame:\")\n",
    "print(unique_df)\n",
    "print(\"\\nMapping Dictionary:\")\n",
    "print(mapping_dict)\n",
    "print(np.unique(unique_df[\"disease\"].values,return_counts=True))"
   ]
  },
  {
   "cell_type": "code",
   "execution_count": null,
   "id": "3eb3a712-437d-41e5-877c-79d6e5a7f9b5",
   "metadata": {},
   "outputs": [],
   "source": []
  }
 ],
 "metadata": {
  "kernelspec": {
   "display_name": "Python 3 (ipykernel)",
   "language": "python",
   "name": "python3"
  },
  "language_info": {
   "codemirror_mode": {
    "name": "ipython",
    "version": 3
   },
   "file_extension": ".py",
   "mimetype": "text/x-python",
   "name": "python",
   "nbconvert_exporter": "python",
   "pygments_lexer": "ipython3",
   "version": "3.11.11"
  }
 },
 "nbformat": 4,
 "nbformat_minor": 5
}
