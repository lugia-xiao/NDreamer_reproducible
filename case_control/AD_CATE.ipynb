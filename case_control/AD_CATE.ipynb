{
 "cells": [
  {
   "cell_type": "code",
   "id": "0b1f347e-82cd-431f-b4d6-522cbc8fef39",
   "metadata": {},
   "source": [
    "import anndata as ad\n",
    "import scanpy as sc\n",
    "import gc\n",
    "import sys\n",
    "import cellanova as cnova\n",
    "import numpy as np\n",
    "import pandas as pd\n",
    "import matplotlib.pyplot as plt\n",
    "import seaborn as sea\n",
    "import os\n",
    "\n",
    "from metrics1 import calculate_metrics"
   ],
   "outputs": [],
   "execution_count": null
  },
  {
   "cell_type": "code",
   "id": "8da563bc-7ac0-4336-950c-aee56a502cb7",
   "metadata": {},
   "source": [
    "adata_raw=sc.read_h5ad(\"./data/AD.h5ad\")\n",
    "adata_raw.raw = None\n",
    "for colori in [\"Subclass\",\"donor_id\",\"disease\"]:\n",
    "    sc.pl.umap(adata_raw,color=colori)"
   ],
   "outputs": [],
   "execution_count": null
  },
  {
   "cell_type": "code",
   "id": "5f89b81b-2d0c-4497-8886-ac3eaa233a74",
   "metadata": {},
   "source": [
    "sc.pl.umap(adata_raw,color=[\"Subclass\",\"disease\"],ncols=1)"
   ],
   "outputs": [],
   "execution_count": null
  },
  {
   "cell_type": "code",
   "id": "e4af6280-acdd-4cc3-b9c7-b112876f393c",
   "metadata": {},
   "source": [
    "import pandas as pd\n",
    "df = pd.DataFrame(adata_raw.obs[[\"disease\",'donor_id']].copy())\n",
    "\n",
    "# Remove duplicated rows\n",
    "unique_df = df.drop_duplicates()\n",
    "\n",
    "# Construct a dictionary mapping the first column to the second column\n",
    "mapping_dict = dict(zip(unique_df['donor_id'], unique_df[\"disease\"]))\n",
    "\n",
    "print(\"Unique DataFrame:\")\n",
    "print(unique_df)\n",
    "print(\"\\nMapping Dictionary:\")\n",
    "print(mapping_dict)"
   ],
   "outputs": [],
   "execution_count": null
  },
  {
   "cell_type": "code",
   "id": "0b33f638-59e2-4e74-9163-f6df5a076f84",
   "metadata": {},
   "source": [
    "print(len(unique_df.loc[unique_df[\"disease\"]==\"normal\"]))"
   ],
   "outputs": [],
   "execution_count": null
  },
  {
   "cell_type": "code",
   "id": "65385d56-78d3-4d20-8b19-88dc04079dd6",
   "metadata": {},
   "source": [
    "print(adata_raw.obs.columns)\n",
    "df = pd.DataFrame(adata_raw.obs[[\"ADNC\",'donor_id']].copy())\n",
    "\n",
    "# Remove duplicated rows\n",
    "unique_df = df.drop_duplicates()\n",
    "\n",
    "# Construct a dictionary mapping the first column to the second column\n",
    "mapping_dict = dict(zip(unique_df['donor_id'], unique_df[\"ADNC\"]))\n",
    "\n",
    "print(\"Unique DataFrame:\")\n",
    "print(unique_df)\n",
    "print(\"\\nMapping Dictionary:\")\n",
    "print(mapping_dict)"
   ],
   "outputs": [],
   "execution_count": null
  },
  {
   "cell_type": "code",
   "id": "d2ca8334-9162-45f2-a98c-92e459ee3774",
   "metadata": {},
   "source": [
    "print(len(unique_df.loc[unique_df[\"ADNC\"]=='Not AD']))"
   ],
   "outputs": [],
   "execution_count": null
  },
  {
   "cell_type": "code",
   "id": "4b548836-ce90-40f6-94f8-cb0e6ff47b77",
   "metadata": {},
   "source": [
    "flag=adata_raw.obs[\"Subclass\"]=='Lamp5'\n",
    "adata_raw.obs[\"WhereIsThisCellType\"]=flag\n",
    "sc.pl.umap(adata_raw,color=\"WhereIsThisCellType\")"
   ],
   "outputs": [],
   "execution_count": null
  },
  {
   "cell_type": "code",
   "id": "20e4f807-67bd-4d4b-a3d0-76936f186579",
   "metadata": {},
   "source": [
    "sc.pl.umap(adata_raw,color=\"APOE\",ncols=1)"
   ],
   "outputs": [],
   "execution_count": null
  },
  {
   "cell_type": "code",
   "id": "66dad356-6ed7-4054-9da5-9ab71e55e6ac",
   "metadata": {},
   "source": [
    "sc.pl.umap(adata_raw,color=\"ADNC\")"
   ],
   "outputs": [],
   "execution_count": null
  },
  {
   "cell_type": "code",
   "id": "20620363-86ae-431f-b69c-7fc928eb9a86",
   "metadata": {},
   "source": [
    "import numpy as np\n",
    "import matplotlib.pyplot as plt\n",
    "import seaborn as sns\n",
    "from scipy.stats import norm\n",
    "\n",
    "def plot_distribution_with_binary_zscore(vector, gene_name):\n",
    "    \"\"\"\n",
    "    Plots the distribution of the values in the vector, calculates the z-score\n",
    "    based on the proportion of values > 0 using CLT, and uses the gene name and z-score\n",
    "    as the title of the plot.\n",
    "\n",
    "    Args:\n",
    "    - vector (numpy.ndarray or list): The input vector of values.\n",
    "    - gene_name (str): The gene name to include in the title.\n",
    "\n",
    "    Returns:\n",
    "    - None: Displays the plot.\n",
    "    \"\"\"\n",
    "    # Convert to numpy array if not already\n",
    "    vector = np.array(vector)\n",
    "\n",
    "    # Binary transformation: count the number of values > 0\n",
    "    count_positive = np.sum(vector > 0)+0.5*np.sum(vector==0)\n",
    "    n = len(vector)\n",
    "    proportion_positive = count_positive / n  # Proportion of values > 0\n",
    "\n",
    "    # Calculate z-score using the CLT\n",
    "    p_null = 0.5  # Null hypothesis: Proportion of values > 0 is 0.5\n",
    "    std_error = np.sqrt(p_null * (1 - p_null) / n)\n",
    "    z_score = (proportion_positive - p_null) / std_error\n",
    "\n",
    "    # Plot the distribution of the vector\n",
    "    plt.figure(figsize=(8, 6))\n",
    "    plt.hist(vector, bins=30, alpha=0.7, edgecolor='k', color='blue')\n",
    "    plt.axvline(0, color='red', linestyle='--', label='Reference: 0')\n",
    "    plt.title(f\"{gene_name} | Z-score: {z_score:.2f} (Proportion > 0: {proportion_positive:.2f})\", fontsize=14)\n",
    "    plt.xlabel('Values')\n",
    "    plt.ylabel('Frequency')\n",
    "    plt.legend()\n",
    "    plt.tight_layout()\n",
    "\n",
    "    # Show the plot\n",
    "    plt.show()\n",
    "\n",
    "def plot_distribution(vector, bins=30, kde=True, title=\"Distribution Plot\"):\n",
    "    \"\"\"\n",
    "    Plots the distribution of a vector using a histogram and optionally overlays a KDE fitted line.\n",
    "\n",
    "    Parameters:\n",
    "    - vector (array-like): The input data vector.\n",
    "    - bins (int): Number of bins for the histogram. Default is 30.\n",
    "    - kde (bool): Whether to add a KDE fitted line. Default is True.\n",
    "    - title (str): Title for the plot. Default is \"Distribution Plot\".\n",
    "    \"\"\"\n",
    "    plt.figure(figsize=(8, 6))\n",
    "\n",
    "    # Plot histogram and optionally the KDE\n",
    "    sns.histplot(vector, bins=bins, kde=kde, color='blue', stat='density', edgecolor='black')\n",
    "\n",
    "    # Add titles and labels\n",
    "    plt.title(title, fontsize=14)\n",
    "    plt.xlabel(\"Value\", fontsize=12)\n",
    "    plt.ylabel(\"Density\", fontsize=12)\n",
    "    plt.grid(True, linestyle='--', alpha=0.7)\n",
    "\n",
    "    # Show the plot\n",
    "    plt.tight_layout()\n",
    "    plt.show()\n",
    "\n",
    "def plot_distribution1(vector, bins=30, kde=True, title=\"Distribution Plot\"):\n",
    "    \"\"\"\n",
    "    Plots the distribution of a vector using a histogram and optionally overlays a KDE fitted line and a normal distribution.\n",
    "\n",
    "    Parameters:\n",
    "    - vector (array-like): The input data vector.\n",
    "    - bins (int): Number of bins for the histogram. Default is 30.\n",
    "    - kde (bool): Whether to add a KDE fitted line. Default is True.\n",
    "    - title (str): Title for the plot. Default is \"Distribution Plot\".\n",
    "    \"\"\"\n",
    "    plt.figure(figsize=(8, 6))\n",
    "\n",
    "    # Plot histogram and optionally the KDE\n",
    "    sns.histplot(vector, bins=bins, kde=kde, color='blue', stat='density', edgecolor='black')\n",
    "\n",
    "    # Overlay the normal distribution curve\n",
    "    mean, std = np.mean(vector), np.std(vector)\n",
    "    x = np.linspace(min(vector), max(vector), 1000)\n",
    "    plt.plot(x, norm.pdf(x, mean, std), color='red', label=f'Normal Dist. (μ={mean:.2f}, σ={std:.2f})')\n",
    "\n",
    "    # Add titles, labels, and legend\n",
    "    plt.title(title, fontsize=14)\n",
    "    plt.xlabel(\"Value\", fontsize=12)\n",
    "    plt.ylabel(\"Density\", fontsize=12)\n",
    "    plt.grid(True, linestyle='--', alpha=0.7)\n",
    "    plt.legend(fontsize=12)\n",
    "\n",
    "    # Show the plot\n",
    "    plt.tight_layout()\n",
    "    plt.show()\n",
    "\n",
    "from scipy.stats import norm\n",
    "from statsmodels.stats.multitest import multipletests\n",
    "\n",
    "def zscores_to_adjusted_pvalues(z_scores, adjustment_method='fdr_bh'):\n",
    "    \"\"\"\n",
    "    Convert z-scores to two-sided p-values and adjust them for multiple comparisons.\n",
    "\n",
    "    Parameters:\n",
    "        z_scores (array-like): Vector of z-scores.\n",
    "        adjustment_method (str): Method for p-value adjustment. \n",
    "                                 Options include 'bonferroni', 'fdr_bh', etc.\n",
    "                                 (default is 'fdr_bh').\n",
    "\n",
    "    Returns:\n",
    "        dict: A dictionary containing:\n",
    "              - 'z_scores': The original z-scores.\n",
    "              - 'p_values': The two-sided p-values.\n",
    "              - 'adjusted_p_values': The adjusted p-values.\n",
    "    \"\"\"\n",
    "    # Convert z-scores to two-sided p-values\n",
    "    p_values = 2*(1 - norm.cdf(np.abs(z_scores)))\n",
    "    p_values = np.nan_to_num(p_values, nan=0)\n",
    "    # Adjust p-values for multiple comparisons\n",
    "    adjusted_p_values = multipletests(p_values, method=adjustment_method)[1]\n",
    "    \n",
    "    return adjusted_p_values\n",
    "\n",
    "import pandas as pd\n",
    "def Plot_and_Estimate_CATE_adata(\n",
    "    adata,\n",
    "    indices,\n",
    "    up_regulate=True,\n",
    "    genes=None,\n",
    "    topk=5,\n",
    "    plot=True,\n",
    "    parametric=False\n",
    "):\n",
    "    # Subset the ITE matrix using the selected indices\n",
    "    ITE_subset = adata.X[indices, :]\n",
    "\n",
    "    # Initialize z-scores for genes\n",
    "    z_scores = []\n",
    "\n",
    "    # Calculate z-scores for each gene (column in the ITE matrix)\n",
    "    for gene_idx in range(ITE_subset.shape[1]):\n",
    "        gene_ite = ITE_subset[:, gene_idx]\n",
    "        # Test if ITE > 0 using non-parametric test (binomial distribution assumption)\n",
    "        n = len(gene_ite)\n",
    "        successes = np.sum(gene_ite > 0) + 0.5*np.sum(gene_ite==0)\n",
    "        # z-score for binomial test\n",
    "        z_score = (successes - n * 0.5) / np.sqrt(n * 0.25)\n",
    "        z_scores.append(z_score)\n",
    "    \n",
    "    if parametric:\n",
    "        z_scores = []\n",
    "        for gene_idx in range(ITE_subset.shape[1]):\n",
    "            gene_ite = ITE_subset[:, gene_idx]\n",
    "            # Test if ITE > 0 using non-parametric test (binomial distribution assumption)\n",
    "            n = len(gene_ite)\n",
    "            # z-score for binomial test\n",
    "            z_score = np.mean(gene_ite)/np.std(gene_ite, ddof=1)*np.sqrt(n)\n",
    "            z_scores.append(z_score)\n",
    "    \n",
    "    # Select top-k significant genes if `genes` is not provided\n",
    "    z_scores = np.array(z_scores)\n",
    "    #print(np.max(z_scores))\n",
    "    #plot_distribution(z_scores)\n",
    "    p_adjs=zscores_to_adjusted_pvalues(z_scores)\n",
    "\n",
    "    if genes is not None:\n",
    "        print(z_scores[adata.var_names.tolist().index(genes)])\n",
    "        gene_idx = np.where(adata.var_names == genes)[0][0]\n",
    "        ite_values = ITE_subset[:, gene_idx]\n",
    "        plot_distribution_with_binary_zscore(vector=-ite_values, gene_name=genes)\n",
    "        return\n",
    "            \n",
    "    #plot_distribution(2 * (1 - norm.cdf(np.abs(z_scores))))\n",
    "    if up_regulate:\n",
    "        print(\"Calculating up-regulation\")\n",
    "        z_scores=-z_scores\n",
    "    # Get indices of top-k absolute z-scores\n",
    "    topk_indices = np.argsort(z_scores)[:topk]\n",
    "    genes = adata.var_names[topk_indices]\n",
    "    #print(z_scores[topk_indices])\n",
    "\n",
    "    print(adata.var_names[np.argsort(z_scores)[:200]].tolist())\n",
    "    \n",
    "    #print(\"Number of genes with ITE adjusted p-values less than 0.01\",np.sum(p_adjs<0.01))\n",
    "    \n",
    "    # Print the selected most significant genes\n",
    "    print(\"Selected most significant genes:\")\n",
    "    genes=genes.tolist()\n",
    "\n",
    "    df=pd.DataFrame({\"Gene\":genes, \"Z score\":np.array([z_scores[adata.var_names.tolist().index(gene)] for gene in genes]),\n",
    "                    \"Adjusted_p\":np.array([p_adjs[adata.var_names.tolist().index(gene)] for gene in genes])})\n",
    "    print(df)\n",
    "\n",
    "    if plot:\n",
    "        # Plot the distribution of ITE values for the selected genes\n",
    "        plt.figure(figsize=(10, 6))\n",
    "        for gene in genes:\n",
    "            if gene is None:\n",
    "                continue\n",
    "            print(\"Plotting:\", gene)\n",
    "            print(\"adjusted p-value:\",p_adjs[adata.var_names.tolist().index(gene)])\n",
    "            gene_idx = np.where(adata.var_names == gene)[0][0]\n",
    "            ite_values = ITE_subset[:, gene_idx]\n",
    "\n",
    "            plot_distribution_with_binary_zscore(vector=-ite_values, gene_name=gene)\n",
    "            sc.pl.umap(adata_raw, color=gene,ncols=1)\n",
    "\n",
    "    top1000=adata.var_names[np.argsort(z_scores)[:1000]].tolist()\n",
    "    return [x for x in top1000 if x is not None][:300]"
   ],
   "outputs": [],
   "execution_count": null
  },
  {
   "cell_type": "code",
   "id": "8683b40e-7908-4488-9815-f0a7be174364",
   "metadata": {},
   "source": [
    "def read_ITE():\n",
    "    print(\"adata preprocessing...\")\n",
    "\n",
    "    import warnings\n",
    "    warnings.filterwarnings(\"ignore\")\n",
    "    warnings.filterwarnings(\"ignore\", category=FutureWarning)\n",
    "\n",
    "    ITE = []\n",
    "    for filei in os.listdir(\"./AD\"):\n",
    "        if filei.find(\"ITE.h5ad\") > 0:\n",
    "            ITE.append(sc.read_h5ad(\"./AD/\" + filei))\n",
    "    ITE = ad.concat(ITE, merge=\"same\", uns_merge=\"same\")\n",
    "    print(\"Finish\")\n",
    "    return ITE"
   ],
   "outputs": [],
   "execution_count": null
  },
  {
   "cell_type": "code",
   "id": "e793fd58-0298-4440-9f12-86e73b51322f",
   "metadata": {},
   "source": [
    "ITE=read_ITE()"
   ],
   "outputs": [],
   "execution_count": null
  },
  {
   "cell_type": "code",
   "id": "50a75613-4634-43e0-9a1d-d00eb391b93e",
   "metadata": {},
   "source": [
    "import rpy2.robjects as ro\n",
    "from rpy2.robjects.packages import importr\n",
    "from rpy2.robjects.vectors import StrVector\n",
    "\n",
    "# Ensure required R packages are installed\n",
    "utils = importr(\"utils\")\n",
    "utils.chooseCRANmirror(ind=1)  # Select a CRAN mirror\n",
    "importr(\"org.Hs.eg.db\")\n",
    "importr(\"AnnotationDbi\")\n",
    "\n",
    "# Define the R function in Python\n",
    "ro.r('''\n",
    "library(org.Hs.eg.db)\n",
    "library(AnnotationDbi)\n",
    "\n",
    "convert_ensg_to_gene_name_local <- function(ensg_vector) {\n",
    "  gene_names <- mapIds(\n",
    "    org.Hs.eg.db,\n",
    "    keys = ensg_vector,\n",
    "    column = \"SYMBOL\",\n",
    "    keytype = \"ENSEMBL\",\n",
    "    multiVals = \"first\"\n",
    "  )\n",
    "  result <- data.frame(ENSG_ID = ensg_vector, Gene_Name = gene_names, stringsAsFactors = FALSE)\n",
    "  return(result)\n",
    "}\n",
    "''')\n",
    "\n",
    "# Python function to call the R function\n",
    "def convert_ensg_to_gene_name(ensg_list):\n",
    "    r_convert_func = ro.globalenv['convert_ensg_to_gene_name_local']\n",
    "    r_result = r_convert_func(StrVector(ensg_list))\n",
    "    print()\n",
    "    # Convert R data frame to Python dictionary\n",
    "    result = [r_result[\"Gene_Name\"][i] for i in range(len(r_result))]\n",
    "    return result\n",
    "\n",
    "# Example usage\n",
    "ensg_ids = [\"ENSG00000139618\", \"ENSG00000227232\", \"ENSG00000157764\"]\n",
    "gene_names = convert_ensg_to_gene_name(ensg_ids)\n",
    "print(gene_names)"
   ],
   "outputs": [],
   "execution_count": null
  },
  {
   "cell_type": "code",
   "id": "02360a6f-50e8-4ce5-8123-cd0b553d6b36",
   "metadata": {},
   "source": [
    "gene_names=np.array(convert_ensg_to_gene_name(ITE.var_names.tolist()))\n",
    "print(gene_names)\n",
    "ITE.var_names=gene_names"
   ],
   "outputs": [],
   "execution_count": null
  },
  {
   "cell_type": "code",
   "id": "cf8150d3-59c2-42ae-8dac-60ecfc85cd11",
   "metadata": {},
   "source": [
    "gene_names1=np.array(convert_ensg_to_gene_name(adata_raw.var_names.tolist()))\n",
    "print(gene_names1)\n",
    "adata_raw.var_names=gene_names1"
   ],
   "outputs": [],
   "execution_count": null
  },
  {
   "cell_type": "markdown",
   "id": "7323e7c7-9d08-46dc-a710-6b8ce2feecbf",
   "metadata": {},
   "source": [
    "# Common"
   ]
  },
  {
   "cell_type": "code",
   "id": "527c0d85-632b-4016-9e9b-378dd2ef28b0",
   "metadata": {
    "scrolled": true
   },
   "source": [
    "for genei in [\"ATP6\",\"ND4\",\"CYTB\",\"FTH1\"]:\n",
    "    Plot_and_Estimate_CATE_adata(ITE,range(ITE.shape[0]),genes=genei)"
   ],
   "outputs": [],
   "execution_count": null
  },
  {
   "cell_type": "code",
   "id": "d23453b5-a49a-448a-a5aa-078ad64323a5",
   "metadata": {},
   "source": [
    "Plot_and_Estimate_CATE_adata(ITE,range(ITE.shape[0]),genes=\"COX2\")"
   ],
   "outputs": [],
   "execution_count": null
  },
  {
   "cell_type": "markdown",
   "id": "91e40012-51bb-4f54-a1a2-a84de2f648d5",
   "metadata": {},
   "source": [
    "# Oligo"
   ]
  },
  {
   "cell_type": "code",
   "id": "3669d7b9-5630-4f9d-937c-6bbca3a9391e",
   "metadata": {
    "scrolled": true
   },
   "source": [
    "indices=ITE.obs[\"Subclass\"]=='Oligodendrocyte'\n",
    "Plot_and_Estimate_CATE_adata(ITE,indices)\n",
    "print(\"=\"*20)\n",
    "Plot_and_Estimate_CATE_adata(ITE,indices,parametric=True)"
   ],
   "outputs": [],
   "execution_count": null
  },
  {
   "cell_type": "code",
   "id": "2961b6e2-90c8-4a96-875c-019941427020",
   "metadata": {
    "scrolled": true
   },
   "source": [
    "Plot_and_Estimate_CATE_adata(ITE,indices,up_regulate=False)\n",
    "print(\"=\"*20)\n",
    "Plot_and_Estimate_CATE_adata(ITE,indices,parametric=True,up_regulate=False)"
   ],
   "outputs": [],
   "execution_count": null
  },
  {
   "cell_type": "code",
   "id": "a397cbf9-9fd0-40d5-b334-4794893149ee",
   "metadata": {
    "scrolled": true
   },
   "source": [
    "indices=ITE.obs[\"Subclass\"]=='Astrocyte'\n",
    "Plot_and_Estimate_CATE_adata(ITE,indices)\n",
    "print(\"=\"*20)\n",
    "Plot_and_Estimate_CATE_adata(ITE,indices,parametric=True)"
   ],
   "outputs": [],
   "execution_count": null
  },
  {
   "cell_type": "code",
   "id": "29a829c2-b2cb-4062-8387-448dba7bc765",
   "metadata": {},
   "source": [
    "indices=ITE.obs[\"Subclass\"]=='Astrocyte'\n",
    "Plot_and_Estimate_CATE_adata(ITE,indices,genes=\"APOE\")"
   ],
   "outputs": [],
   "execution_count": null
  },
  {
   "cell_type": "code",
   "id": "10e8b1df-2a3d-4e11-ba90-87a798a84c96",
   "metadata": {
    "scrolled": true
   },
   "source": [
    "Plot_and_Estimate_CATE_adata(ITE,indices,up_regulate=False)\n",
    "print(\"=\"*20)\n",
    "Plot_and_Estimate_CATE_adata(ITE,indices,parametric=True,up_regulate=False)"
   ],
   "outputs": [],
   "execution_count": null
  },
  {
   "cell_type": "code",
   "id": "db17762f-e6fe-46fb-956b-1792b779247f",
   "metadata": {
    "scrolled": true
   },
   "source": [
    "indices=ITE.obs[\"Subclass\"]=='Microglia-PVM'\n",
    "#Plot_and_Estimate_CATE_adata(ITE,indices,genes=\"SPP1\")\n",
    "Plot_and_Estimate_CATE_adata(ITE,indices)\n",
    "print(\"=\"*20)\n",
    "Plot_and_Estimate_CATE_adata(ITE,indices,parametric=True)"
   ],
   "outputs": [],
   "execution_count": null
  },
  {
   "cell_type": "code",
   "id": "7c7df5cb-172f-4c68-88ca-d81df13fd6c7",
   "metadata": {
    "scrolled": true
   },
   "source": [
    "sc.pl.umap(adata_raw[adata_raw.obs[\"Subclass\"]=='Microglia-PVM'],color=['ADNC','disease'],ncols=1)"
   ],
   "outputs": [],
   "execution_count": null
  },
  {
   "cell_type": "code",
   "id": "565aa11b-be51-4a17-92b3-9929298c8abe",
   "metadata": {
    "scrolled": true
   },
   "source": [
    "for colori in ['CCL8', 'VCAN-AS1', 'CCL3', 'IFITM1', 'CH25H', 'SIGLEC1', 'H2BC7', 'FOS']:\n",
    "    sc.pl.umap(adata_raw[adata_raw.obs[\"Subclass\"]=='Microglia-PVM'],color=colori,ncols=1)"
   ],
   "outputs": [],
   "execution_count": null
  },
  {
   "cell_type": "code",
   "id": "18b290b6-be1d-4772-9674-3dfec64ccdb3",
   "metadata": {
    "scrolled": true
   },
   "source": [
    "Plot_and_Estimate_CATE_adata(ITE,indices,up_regulate=False)\n",
    "print(\"=\"*20)\n",
    "Plot_and_Estimate_CATE_adata(ITE,indices,parametric=True,up_regulate=False)"
   ],
   "outputs": [],
   "execution_count": null
  },
  {
   "cell_type": "code",
   "id": "987a5942-ccf8-4551-8bdd-89bb8a2c8745",
   "metadata": {
    "scrolled": true
   },
   "source": [
    "indices=ITE.obs[\"Class\"]=='Neuronal: GABAergic'\n",
    "Plot_and_Estimate_CATE_adata(ITE,indices)\n",
    "print(\"=\"*20)\n",
    "Plot_and_Estimate_CATE_adata(ITE,indices,parametric=True)"
   ],
   "outputs": [],
   "execution_count": null
  },
  {
   "cell_type": "code",
   "id": "730b08ce-cadb-42ab-bf08-e05806aca1af",
   "metadata": {
    "scrolled": true
   },
   "source": [
    "Plot_and_Estimate_CATE_adata(ITE,indices,up_regulate=False)\n",
    "print(\"=\"*20)\n",
    "Plot_and_Estimate_CATE_adata(ITE,indices,parametric=True,up_regulate=False)"
   ],
   "outputs": [],
   "execution_count": null
  },
  {
   "cell_type": "code",
   "id": "d4370584-95da-4d96-8561-b9d692ef333f",
   "metadata": {
    "scrolled": true
   },
   "source": [
    "for colori in ['P2RY14','IPO9-AS1','ANGPT2','PDE8A','EGFR','ERBB4']:\n",
    "    sc.pl.umap(adata_raw,color=colori,ncols=1)"
   ],
   "outputs": [],
   "execution_count": null
  },
  {
   "cell_type": "code",
   "id": "b7744f58-b3a5-4940-a17a-aff7b74870b3",
   "metadata": {
    "scrolled": true
   },
   "source": [
    "indices=ITE.obs[\"Class\"]=='Neuronal: Glutamatergic'\n",
    "Plot_and_Estimate_CATE_adata(ITE,indices)\n",
    "print(\"=\"*20)\n",
    "Plot_and_Estimate_CATE_adata(ITE,indices,parametric=True)"
   ],
   "outputs": [],
   "execution_count": null
  },
  {
   "cell_type": "code",
   "id": "61d6580b-0e9e-4416-b498-534ab2aad475",
   "metadata": {
    "scrolled": true
   },
   "source": [
    "indices=ITE.obs[\"Class\"]=='Neuronal: Glutamatergic'\n",
    "Plot_and_Estimate_CATE_adata(ITE,indices,genes=\"TIMP3\")\n",
    "Plot_and_Estimate_CATE_adata(ITE,indices,genes=\"HS3ST2\")"
   ],
   "outputs": [],
   "execution_count": null
  },
  {
   "cell_type": "code",
   "id": "ff94471a-47e3-404c-9206-48ccca936cac",
   "metadata": {
    "scrolled": true
   },
   "source": [
    "Plot_and_Estimate_CATE_adata(ITE,indices,up_regulate=False)\n",
    "print(\"=\"*20)\n",
    "Plot_and_Estimate_CATE_adata(ITE,indices,parametric=True,up_regulate=False)"
   ],
   "outputs": [],
   "execution_count": null
  },
  {
   "cell_type": "code",
   "id": "2d3cab7c-58e9-4d20-bb63-1e4c487706bf",
   "metadata": {
    "scrolled": true
   },
   "source": [
    "for colori in ['TIMP3','HS3ST2','CHST9', \"CNTN5\",'ABCB1', 'SHOC1']:\n",
    "    sc.pl.umap(adata_raw,color=colori,ncols=1)"
   ],
   "outputs": [],
   "execution_count": null
  },
  {
   "cell_type": "code",
   "id": "e2cf0db0-dcc3-44aa-bd4d-6f775aeab2cc",
   "metadata": {
    "scrolled": true
   },
   "source": [
    "indices=ITE.obs[\"Subclass\"]=='L2/3 IT'\n",
    "#Plot_and_Estimate_CATE_adata(ITE,indices,genes=\"SPP1\")\n",
    "Plot_and_Estimate_CATE_adata(ITE,indices)\n",
    "print(\"=\"*20)\n",
    "Plot_and_Estimate_CATE_adata(ITE,indices,parametric=True)"
   ],
   "outputs": [],
   "execution_count": null
  },
  {
   "cell_type": "code",
   "id": "628390ec-ab4f-479d-9bb0-589dc0bb542d",
   "metadata": {
    "scrolled": true
   },
   "source": [
    "indices=ITE.obs[\"Subclass\"]=='Lamp5'\n",
    "#Plot_and_Estimate_CATE_adata(ITE,indices,genes=\"SPP1\")\n",
    "Plot_and_Estimate_CATE_adata(ITE,indices,up_regulate=False)\n",
    "print(\"=\"*20)\n",
    "Plot_and_Estimate_CATE_adata(ITE,indices,parametric=True,up_regulate=False)"
   ],
   "outputs": [],
   "execution_count": null
  },
  {
   "cell_type": "code",
   "id": "f04b4dea-c393-4b41-a2b8-8faf07fe2f83",
   "metadata": {
    "scrolled": true
   },
   "source": [
    "indices=ITE.obs[\"Subclass\"]=='Lamp5'\n",
    "#Plot_and_Estimate_CATE_adata(ITE,indices,genes=\"SPP1\")\n",
    "Plot_and_Estimate_CATE_adata(ITE,indices)\n",
    "print(\"=\"*20)\n",
    "Plot_and_Estimate_CATE_adata(ITE,indices,parametric=True)"
   ],
   "outputs": [],
   "execution_count": null
  },
  {
   "cell_type": "code",
   "id": "651e4b0d-01f7-4ae5-8eab-c7611b234738",
   "metadata": {
    "scrolled": true
   },
   "source": [
    "indices=ITE.obs[\"Subclass\"]=='Lamp5'\n",
    "#Plot_and_Estimate_CATE_adata(ITE,indices,genes=\"SPP1\")\n",
    "for genei in ['SPHKAP',\"KIT\"]:\n",
    "    Plot_and_Estimate_CATE_adata(ITE,indices,genes=genei)"
   ],
   "outputs": [],
   "execution_count": null
  },
  {
   "cell_type": "code",
   "id": "a82b4e1b-1ffa-4feb-b0e4-25625d166da7",
   "metadata": {
    "scrolled": true
   },
   "source": [
    "for colori in ['RHOH', 'PECAM1']:#['SPHKAP','KIT','FTL','PCDH11Y','CCK']:\n",
    "    sc.pl.umap(adata_raw,color=colori,ncols=1)"
   ],
   "outputs": [],
   "execution_count": null
  },
  {
   "cell_type": "code",
   "id": "9ac0de85-58b9-4af0-9478-cd9ac81f4a09",
   "metadata": {
    "scrolled": true
   },
   "source": [
    "cell_types = ['Astrocyte', 'Microglia-PVM', 'L2/3 IT', 'Oligodendrocyte', 'Chandelier', 'Endothelial', 'L4 IT', 'L5 ET', 'L5 IT',\n",
    "              'L5/6 NP', 'L6 CT', 'L6 IT', 'L6 IT Car3', 'L6b', 'Lamp5', 'Lamp5 Lhx6',\n",
    "              'OPC', 'Pax6', 'Pvalb', 'Sncg', 'Sst',\n",
    "              'Sst Chodl', 'VLMC', 'Vip']\n",
    "\n",
    "significants_unparametric_up={}\n",
    "significants_parametric_up={}\n",
    "significants_unparametric_down={}\n",
    "significants_parametric_down={}\n",
    "\n",
    "for cell_typei in cell_types:\n",
    "    indices=ITE.obs[\"Subclass\"]==cell_typei\n",
    "    top100_1=Plot_and_Estimate_CATE_adata(ITE,indices)\n",
    "    significants_unparametric_up[cell_typei]=top100_1\n",
    "    print(\"=\"*20)\n",
    "    top100_2=Plot_and_Estimate_CATE_adata(ITE,indices,parametric=True)\n",
    "    significants_parametric_up[cell_typei]=top100_2\n",
    "    print(\"=\"*20)\n",
    "    top100_3=Plot_and_Estimate_CATE_adata(ITE,indices,up_regulate=False)\n",
    "    significants_unparametric_down[cell_typei]=top100_3\n",
    "    print(\"=\"*20)\n",
    "    top100_4=Plot_and_Estimate_CATE_adata(ITE,indices,parametric=True,up_regulate=False)\n",
    "    significants_parametric_down[cell_typei]=top100_4\n",
    "    print(\"---\"*20)\n",
    "    print(\"---\"*20)\n",
    "    print(\"---\"*20)\n",
    "    print(\"---\"*20)\n",
    "    print(\"---\"*20)\n",
    "    print(\"---\"*20)\n",
    "    print(\"---\"*20)\n",
    "    print(\"---\"*20)\n",
    "    print(\"---\"*20)\n",
    "    print(\"---\"*20)\n",
    "    df1=pd.DataFrame(significants_unparametric_up)\n",
    "    df2=pd.DataFrame(significants_parametric_up)\n",
    "    df1.to_csv(\"./AD_stat/up_significant_unparametric.csv\")\n",
    "    df2.to_csv(\"./AD_stat/up_significant_parametric.csv\")\n",
    "\n",
    "    df3=pd.DataFrame(significants_unparametric_down)\n",
    "    df4=pd.DataFrame(significants_parametric_down)\n",
    "    df3.to_csv(\"./AD_stat/down_significant_unparametric.csv\")\n",
    "    df4.to_csv(\"./AD_stat/down_significant_parametric.csv\")"
   ],
   "outputs": [],
   "execution_count": null
  },
  {
   "cell_type": "code",
   "id": "2c02b9ce-c256-4c05-83ea-6a9a7b8bb4aa",
   "metadata": {},
   "source": [],
   "outputs": [],
   "execution_count": null
  }
 ],
 "metadata": {
  "kernelspec": {
   "display_name": "Python 3 (ipykernel)",
   "language": "python",
   "name": "python3"
  },
  "language_info": {
   "codemirror_mode": {
    "name": "ipython",
    "version": 3
   },
   "file_extension": ".py",
   "mimetype": "text/x-python",
   "name": "python",
   "nbconvert_exporter": "python",
   "pygments_lexer": "ipython3",
   "version": "3.11.11"
  }
 },
 "nbformat": 4,
 "nbformat_minor": 5
}
