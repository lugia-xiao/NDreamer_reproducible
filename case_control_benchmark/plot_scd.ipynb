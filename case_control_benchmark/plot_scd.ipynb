{
 "cells": [
  {
   "cell_type": "code",
   "execution_count": 1,
   "id": "cf5d9248-2163-4eca-aa13-6dbc23f948e5",
   "metadata": {},
   "outputs": [
    {
     "name": "stderr",
     "output_type": "stream",
     "text": [
      "Unable to determine R library path: Command '('/vast/palmer/apps/avx2/software/R/4.3.2-foss-2022b-patched/lib64/R/bin/Rscript', '-e', 'cat(Sys.getenv(\"LD_LIBRARY_PATH\"))')' returned non-zero exit status 127.\n"
     ]
    },
    {
     "name": "stdout",
     "output_type": "stream",
     "text": [
      "R_HOME is already set to: /vast/palmer/apps/avx2/software/R/4.3.2-foss-2022b-patched/lib64/R\n"
     ]
    },
    {
     "name": "stderr",
     "output_type": "stream",
     "text": [
      "/gpfs/gibbs/project/wang_zuoheng/xx244/Ndreamer/case_control_benchmark/metrics.py:29: DeprecationWarning: The global conversion available with activate() is deprecated and will be removed in the next major release. Use a local converter.\n",
      "  anndata2ri.activate()\n",
      "/home/xx244/.conda/envs/benchmark/lib/python3.11/site-packages/rpy2/robjects/pandas2ri.py:368: DeprecationWarning: The global conversion available with activate() is deprecated and will be removed in the next major release. Use a local converter.\n",
      "  warnings.warn('The global conversion available with activate() '\n",
      "/home/xx244/.conda/envs/benchmark/lib/python3.11/site-packages/rpy2/robjects/numpy2ri.py:241: DeprecationWarning: The global conversion available with activate() is deprecated and will be removed in the next major release. Use a local converter.\n",
      "  warnings.warn('The global conversion available with activate() '\n"
     ]
    }
   ],
   "source": [
    "import anndata as ad\n",
    "import scanpy as sc\n",
    "import gc\n",
    "import sys\n",
    "import cellanova as cnova\n",
    "import numpy as np\n",
    "import pandas as pd\n",
    "import matplotlib.pyplot as plt\n",
    "import seaborn as sea\n",
    "\n",
    "from metrics import calculate_metrics"
   ]
  },
  {
   "cell_type": "code",
   "execution_count": 3,
   "id": "1cfd8766-6bf5-458e-9c2e-6f8b63addf15",
   "metadata": {},
   "outputs": [],
   "source": [
    "def plot_scd(adata, cell_type_key, batch_key, condition_key, dataset_name):\n",
    "    adata.raw = None\n",
    "    print(\"adata preprocessing...\")\n",
    "\n",
    "    import warnings\n",
    "    warnings.filterwarnings(\"ignore\")\n",
    "    warnings.filterwarnings(\"ignore\", category=FutureWarning)\n",
    "\n",
    "    if isinstance(batch_key, str):\n",
    "        batch_key = [batch_key]\n",
    "\n",
    "    batch_all = []\n",
    "    for i in range(adata.shape[0]):\n",
    "        tmp = \"__\".join([adata.obs[batch_keyj][i] for batch_keyj in batch_key])\n",
    "        batch_all.append(tmp)\n",
    "    batch_all = np.array(batch_all)\n",
    "    adata.obs[\"batch_all\"] = batch_all\n",
    "    adata.obs[\"batch_all\"] = adata.obs[\"batch_all\"].astype(\"category\")\n",
    "    print(\"batch_all\", np.unique(batch_all))\n",
    "\n",
    "    batch_all_with_condition = []\n",
    "    for i in range(adata.shape[0]):\n",
    "        tmp = \"__\".join([adata.obs[batch_keyj][i] for batch_keyj in batch_key])\n",
    "        tmp = tmp + \"__\" + adata.obs[condition_key][i]\n",
    "        batch_all_with_condition.append(tmp)\n",
    "    batch_all_with_condition = np.array(batch_all_with_condition)\n",
    "    adata.obs[\"batch_all_with_condition\"] = batch_all_with_condition\n",
    "    adata.obs[\"batch_all_with_condition\"] = adata.obs[\"batch_all_with_condition\"].astype(\"category\")\n",
    "    print(\"batch_all_with_condition\", np.unique(batch_all_with_condition))\n",
    "\n",
    "    batch_key.append(\"batch_all\")\n",
    "    batch_key.append(\"batch_all_with_condition\")\n",
    "\n",
    "    main_effect_adata = ad.AnnData(adata.obsm['main_effect'], dtype=np.float32)\n",
    "    #main_effect_adata.var_names = adata.var_names\n",
    "    main_effect_adata.obs = adata.obs.copy()\n",
    "\n",
    "    integrated = ad.AnnData(adata.layers['denoised'], dtype=np.float32)\n",
    "    integrated.obs = adata.obs.copy()\n",
    "    integrated.var_names = adata.var_names\n",
    "\n",
    "    print(\"Plot of main effect:\")\n",
    "    if main_effect_adata.shape[1] > 60:\n",
    "        sc.pp.pca(main_effect_adata)\n",
    "    sc.pp.neighbors(main_effect_adata, n_neighbors=15)\n",
    "    sc.tl.umap(main_effect_adata)\n",
    "    for colori in [cell_type_key, condition_key] + batch_key:\n",
    "        sc.pl.umap(main_effect_adata, color=colori, ncols=1)\n",
    "\n",
    "    print(\"Plot of denoised expression\")\n",
    "    sc.pp.pca(integrated)\n",
    "    sc.pp.neighbors(integrated, n_neighbors=15)\n",
    "    sc.tl.umap(integrated)\n",
    "    for colori in [cell_type_key, condition_key] + batch_key:\n",
    "        sc.pl.umap(integrated, color=colori, ncols=1)\n",
    "\n",
    "    print(\"Within each unique condition, plot main effect\")\n",
    "    unique_conditions = np.unique(np.array(integrated.obs[condition_key]))\n",
    "    for conditioni in unique_conditions:\n",
    "        print(\"Now evaluating\", conditioni, \"main effect\")\n",
    "        main_effect_adatai = main_effect_adata[main_effect_adata.obs[condition_key] == conditioni]\n",
    "        for colori in [cell_type_key] + batch_key:\n",
    "            sc.pl.umap(main_effect_adatai, color=colori, ncols=1)\n",
    "        print(\"-\" * 20)\n",
    "\n",
    "    print(\"Within each unique condition, plot denoised expression\")\n",
    "    unique_conditions = np.unique(np.array(integrated.obs[condition_key]))\n",
    "    for conditioni in unique_conditions:\n",
    "        print(\"Now evaluating\", conditioni, \"denoised expression\")\n",
    "        integratedi = integrated[integrated.obs[condition_key] == conditioni]\n",
    "        for colori in [cell_type_key] + batch_key:\n",
    "            sc.pl.umap(integratedi, color=colori, ncols=1)\n",
    "        print(\"-\" * 20)"
   ]
  },
  {
   "cell_type": "markdown",
   "id": "f4e828ac-ee9a-40a3-8ab4-9c64613ce567",
   "metadata": {},
   "source": [
    "# Type 1 diabetes\n",
    "\n",
    "https://www.ncbi.nlm.nih.gov/geo/query/acc.cgi?acc=GSE148073"
   ]
  },
  {
   "cell_type": "code",
   "execution_count": null,
   "id": "4094702f-cf79-4c1b-8d72-a8b8e321c1ac",
   "metadata": {},
   "outputs": [],
   "source": [
    "adata=sc.read_h5ad(\"./scd/t1d_latent.h5ad\")\n",
    "print(adata)\n",
    "print(adata.layers['denoised'].shape)\n",
    "print(adata.obsm['main_effect'].shape)\n",
    "plot_scd(adata=adata,cell_type_key=\"cell_type\",batch_key=\"donor_id\",\n",
    "                   condition_key=\"disease_state\",dataset_name=\"t1d\")"
   ]
  },
  {
   "cell_type": "markdown",
   "id": "58402547-94ed-48dc-b22e-7164fbe281c3",
   "metadata": {},
   "source": [
    "# Human kidney multiomics atlas\n",
    "\n",
    "https://www.ncbi.nlm.nih.gov/geo/query/acc.cgi?acc=GSE211785"
   ]
  },
  {
   "cell_type": "code",
   "execution_count": null,
   "id": "fb9dbd43-12ae-4073-b442-3e3305b3fe2e",
   "metadata": {},
   "outputs": [],
   "source": [
    "adata=sc.read_h5ad(\"./scd/kidney_latent.h5ad\")\n",
    "plot_scd(adata=adata,cell_type_key='Cluster_Idents',batch_key=['sample','tech'],\n",
    "                   condition_key=\"Status\",dataset_name=\"kidney\")"
   ]
  },
  {
   "cell_type": "markdown",
   "id": "737feff1-f737-49ef-bfcd-a94d8eb1c207",
   "metadata": {},
   "source": [
    "# Mouse radiation experiment dataset\n",
    "\n",
    "https://www.ncbi.nlm.nih.gov/geo/query/acc.cgi?acc=GSE280883"
   ]
  },
  {
   "cell_type": "code",
   "execution_count": null,
   "id": "028c1e28-1bfd-412c-9e43-ff48e4c32993",
   "metadata": {},
   "outputs": [],
   "source": [
    "adata=sc.read_h5ad(\"./scd/mouse_latent.h5ad\")\n",
    "plot_scd(adata=adata,cell_type_key='compartment',batch_key=['orig.ident',\"replicate\",\"source\"],\n",
    "                   condition_key=\"sample\",dataset_name=\"mouse\")"
   ]
  }
 ],
 "metadata": {
  "kernelspec": {
   "display_name": "Python 3 (ipykernel)",
   "language": "python",
   "name": "python3"
  },
  "language_info": {
   "codemirror_mode": {
    "name": "ipython",
    "version": 3
   },
   "file_extension": ".py",
   "mimetype": "text/x-python",
   "name": "python",
   "nbconvert_exporter": "python",
   "pygments_lexer": "ipython3",
   "version": "3.11.11"
  }
 },
 "nbformat": 4,
 "nbformat_minor": 5
}
