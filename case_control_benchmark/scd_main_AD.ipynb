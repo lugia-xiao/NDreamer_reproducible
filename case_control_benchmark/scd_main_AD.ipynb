{
 "cells": [
  {
   "cell_type": "code",
   "execution_count": 1,
   "id": "f471c51c-3310-499c-aaa8-299bd0b6760c",
   "metadata": {},
   "outputs": [
    {
     "name": "stdout",
     "output_type": "stream",
     "text": [
      "R_HOME is already set to: /vast/palmer/apps/avx2/software/R/4.3.2-foss-2022b-patched/lib64/R\n"
     ]
    },
    {
     "name": "stderr",
     "output_type": "stream",
     "text": [
      "Unable to determine R library path: Command '('/vast/palmer/apps/avx2/software/R/4.3.2-foss-2022b-patched/lib64/R/bin/Rscript', '-e', 'cat(Sys.getenv(\"LD_LIBRARY_PATH\"))')' returned non-zero exit status 127.\n",
      "/gpfs/gibbs/project/wang_zuoheng/xx244/Ndreamer/case_control_benchmark/metrics.py:29: DeprecationWarning: The global conversion available with activate() is deprecated and will be removed in the next major release. Use a local converter.\n",
      "  anndata2ri.activate()\n",
      "/home/xx244/.conda/envs/benchmark/lib/python3.11/site-packages/rpy2/robjects/pandas2ri.py:368: DeprecationWarning: The global conversion available with activate() is deprecated and will be removed in the next major release. Use a local converter.\n",
      "  warnings.warn('The global conversion available with activate() '\n",
      "/home/xx244/.conda/envs/benchmark/lib/python3.11/site-packages/rpy2/robjects/numpy2ri.py:241: DeprecationWarning: The global conversion available with activate() is deprecated and will be removed in the next major release. Use a local converter.\n",
      "  warnings.warn('The global conversion available with activate() '\n"
     ]
    }
   ],
   "source": [
    "import anndata as ad\n",
    "import scanpy as sc\n",
    "import gc\n",
    "import sys\n",
    "import cellanova as cnova\n",
    "import numpy as np\n",
    "import pandas as pd\n",
    "import matplotlib.pyplot as plt\n",
    "import seaborn as sea\n",
    "\n",
    "from metrics import calculate_metrics"
   ]
  },
  {
   "cell_type": "code",
   "execution_count": 2,
   "id": "b1268daa-8125-4b0a-b5d4-bac0180959db",
   "metadata": {},
   "outputs": [],
   "source": [
    "adata=sc.read_h5ad(\"./scd/AD_effect_modifier_space.h5ad\")"
   ]
  },
  {
   "cell_type": "code",
   "execution_count": null,
   "id": "7fcabc4b-2e0b-4533-b4c5-e7a9a9b70bf6",
   "metadata": {},
   "outputs": [
    {
     "name": "stdout",
     "output_type": "stream",
     "text": [
      "['/gpfs/gibbs/project/wang_zuoheng/xx244/R/4.3'\n",
      " '/vast/palmer/apps/avx2/software/R/4.3.2-foss-2022b-patched/lib64/R/library']\n",
      "LISI---\n",
      "cLISI, bLISI, LISI_F1 0.9980306976410096 0.10199558450372316 0.1850768949994233\n",
      "ASW---\n"
     ]
    }
   ],
   "source": [
    "import rpy2.robjects as robjects\n",
    "import anndata2ri\n",
    "anndata2ri.activate()\n",
    "# Add your library path\n",
    "library_path = \"/gpfs/gibbs/project/wang_zuoheng/xx244/R/4.3/\"  # Replace with the actual path\n",
    "# Update R's library paths\n",
    "robjects.r(f'.libPaths(c(\"{library_path}\", .libPaths()))')\n",
    "# Verify the updated library paths\n",
    "print(robjects.r('.libPaths()'))\n",
    "calculate_metrics(adata, batch_key='donor_id', celltype_key='Subclass', all=True, n_neighbors=15,savepath=\"./scd/AD_main.csv\")"
   ]
  },
  {
   "cell_type": "code",
   "execution_count": null,
   "id": "9bc4da61-9d96-49b3-83ed-4489621342b0",
   "metadata": {},
   "outputs": [],
   "source": []
  }
 ],
 "metadata": {
  "kernelspec": {
   "display_name": "Python 3 (ipykernel)",
   "language": "python",
   "name": "python3"
  },
  "language_info": {
   "codemirror_mode": {
    "name": "ipython",
    "version": 3
   },
   "file_extension": ".py",
   "mimetype": "text/x-python",
   "name": "python",
   "nbconvert_exporter": "python",
   "pygments_lexer": "ipython3",
   "version": "3.11.11"
  }
 },
 "nbformat": 4,
 "nbformat_minor": 5
}
