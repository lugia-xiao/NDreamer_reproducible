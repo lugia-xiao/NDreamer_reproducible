{
 "cells": [
  {
   "cell_type": "code",
   "execution_count": 1,
   "id": "35b7aa35-aeb7-489f-8d42-5cd4ac90ffc4",
   "metadata": {},
   "outputs": [],
   "source": [
    "import anndata as ad\n",
    "import scanpy as sc\n",
    "import gc\n",
    "import sys\n",
    "import cellanova as cnova\n",
    "import numpy as np\n",
    "import pandas as pd\n",
    "import matplotlib.pyplot as plt\n",
    "import seaborn as sea"
   ]
  },
  {
   "cell_type": "code",
   "execution_count": 6,
   "id": "0a696853-5c9e-4d54-b84a-d71776dc1983",
   "metadata": {},
   "outputs": [],
   "source": [
    "def get_mean_std(adata, batch_key):\n",
    "    if np.max(adata.X) > 15:\n",
    "        sc.pp.filter_cells(adata, min_genes=300)\n",
    "        sc.pp.filter_genes(adata, min_cells=10)\n",
    "\n",
    "        sc.pp.normalize_per_cell(adata, counts_per_cell_after=1e4)\n",
    "        sc.pp.log1p(adata)\n",
    "\n",
    "    if adata.shape[1] > 3000:\n",
    "        sc.pp.highly_variable_genes(adata, n_top_genes=3000, batch_key=batch_key)\n",
    "        adata = adata[:, adata.var[\"highly_variable\"]].copy()\n",
    "    else:\n",
    "        sc.pp.highly_variable_genes(adata, n_top_genes=adata.shape[1], batch_key=batch_key)\n",
    "\n",
    "    if not isinstance(adata.X, np.ndarray):\n",
    "        adata.X = adata.X.toarray()\n",
    "    \n",
    "    print(adata.X.shape)\n",
    "    mean=np.mean(adata.X, axis=0, keepdims=True)\n",
    "    std=np.std(adata.X, axis=0, keepdims=True)\n",
    "    return mean,std"
   ]
  },
  {
   "cell_type": "code",
   "execution_count": 7,
   "id": "b3a09092-56f6-45d3-a0b4-a75e35fd3541",
   "metadata": {},
   "outputs": [
    {
     "name": "stdout",
     "output_type": "stream",
     "text": [
      "(69645, 3000)\n",
      "[[0.01114433 0.00537084 0.06579028 ... 0.00249119 0.00623902 0.4020955 ]] [[0.1118257  0.07038265 0.26703846 ... 0.05428093 0.06962858 0.66590923]]\n"
     ]
    }
   ],
   "source": [
    "adata = sc.read_h5ad('../case_control/data/t1d.h5ad')\n",
    "mean,std=get_mean_std(adata=adata, batch_key=\"donor_id\")\n",
    "print(mean,std)"
   ]
  },
  {
   "cell_type": "code",
   "execution_count": 11,
   "id": "45ffd3f9-3dc3-47fd-97b8-664460adcb41",
   "metadata": {},
   "outputs": [],
   "source": [
    "def calculate_rowwise_correlation_scaled(adata1, adata2, std, batch_key=\"batch_all_with_condition\"):\n",
    "    # Ensure the obs index and batch_key match\n",
    "    # assert np.sum(adata1.obs[\"batch_all_with_condition\"]!=adata2.obs[\"batch_all_with_condition\"])==0, \"obs indices do not match between the two AnnData objects\"\n",
    "    assert batch_key in adata1.obs.columns, f\"{batch_key} not found in adata1.obs\"\n",
    "    assert batch_key in adata2.obs.columns, f\"{batch_key} not found in adata2.obs\"\n",
    "\n",
    "    results = []\n",
    "\n",
    "    # Iterate through unique batches\n",
    "    unique_batches = adata1.obs[batch_key].unique()\n",
    "    for batch in unique_batches:\n",
    "        # Subset the data for the current batch\n",
    "        batch_mask = adata1.obs[batch_key] == batch\n",
    "        data1 = adata1[batch_mask].X\n",
    "        data2 = adata2[batch_mask].X\n",
    "\n",
    "        data1=data1*std\n",
    "        data2=data2*std\n",
    "\n",
    "        barcodes = adata1[batch_mask].obs_names.tolist()\n",
    "\n",
    "        # Ensure the data is in dense format if sparse\n",
    "        if not isinstance(data1, np.ndarray):\n",
    "            data1 = data1.toarray()\n",
    "        if not isinstance(data2, np.ndarray):\n",
    "            data2 = data2.toarray()\n",
    "\n",
    "        # Compute correlation for each row\n",
    "        for i in range(data1.shape[0]):\n",
    "            row_corr = np.corrcoef(data1[i, :], data2[i, :])[0, 1]\n",
    "            mse = np.mean(np.square(data1[i, :] - data2[i, :]))\n",
    "            results.append({\"correlation\": row_corr, batch_key: batch, \"barcode\": barcodes[i], \"mse\": mse})\n",
    "\n",
    "    # Convert results to DataFrame\n",
    "    result_df = pd.DataFrame(results)\n",
    "    return result_df"
   ]
  },
  {
   "cell_type": "code",
   "execution_count": 12,
   "id": "e989b6d2-c345-4e41-a31e-82cef7eb17a3",
   "metadata": {},
   "outputs": [],
   "source": [
    "def evaluate_cellanova_mse(adata, batch_key, condition_key, dataset_name, std):\n",
    "    adata.raw=None\n",
    "    print(\"adata preprocessing...\")\n",
    "\n",
    "    import warnings\n",
    "    warnings.filterwarnings(\"ignore\")\n",
    "    warnings.filterwarnings(\"ignore\", category=FutureWarning)\n",
    "\n",
    "    if isinstance(batch_key, str):\n",
    "       batch_key = [batch_key]\n",
    "\n",
    "    batch_all = []\n",
    "    for i in range(adata.shape[0]):\n",
    "        tmp = \"__\".join([adata.obs[batch_keyj][i] for batch_keyj in batch_key])\n",
    "        batch_all.append(tmp)\n",
    "    batch_all = np.array(batch_all)\n",
    "    adata.obs[\"batch_all\"]=batch_all\n",
    "    adata.obs[\"batch_all\"] = adata.obs[\"batch_all\"].astype(\"category\")\n",
    "    print(\"batch_all\", np.unique(batch_all))\n",
    "\n",
    "    batch_all_with_condition = []\n",
    "    for i in range(adata.shape[0]):\n",
    "        tmp = \"__\".join([adata.obs[batch_keyj][i] for batch_keyj in batch_key])\n",
    "        tmp = tmp + \"__\" + adata.obs[condition_key][i]\n",
    "        batch_all_with_condition.append(tmp)\n",
    "    batch_all_with_condition = np.array(batch_all_with_condition)\n",
    "    adata.obs[\"batch_all_with_condition\"] = batch_all_with_condition\n",
    "    adata.obs[\"batch_all_with_condition\"] = adata.obs[\"batch_all_with_condition\"].astype(\"category\")\n",
    "    print(\"batch_all_with_condition\", np.unique(batch_all_with_condition))\n",
    "\n",
    "    batch_key.append(\"batch_all\")\n",
    "    batch_key.append(\"batch_all_with_condition\")\n",
    "    print(\"Finish preprocessing\")\n",
    "\n",
    "    main_effect_adata = ad.AnnData(adata.layers['main_effect'], dtype=np.float32)\n",
    "    main_effect_adata.var_names = adata.var_names\n",
    "    main_effect_adata.obs = adata.obs.copy()\n",
    "\n",
    "    integrated = ad.AnnData(adata.layers['denoised'], dtype=np.float32)\n",
    "    integrated.obs = adata.obs.copy()\n",
    "    integrated.var_names = adata.var_names\n",
    "\n",
    "    print(\"Calculating global distortion...\")\n",
    "    df_global_correlation=calculate_rowwise_correlation_scaled(adata, integrated, std)\n",
    "    df_global_correlation.to_csv(\"./cellanova/\"+dataset_name+\"_global_correlation_scaled.csv\")\n",
    "    print(\"Finish\")"
   ]
  },
  {
   "cell_type": "code",
   "execution_count": 13,
   "id": "5d0a0a67-11a3-4faa-bb6c-e3703b931f43",
   "metadata": {},
   "outputs": [
    {
     "name": "stdout",
     "output_type": "stream",
     "text": [
      "adata preprocessing...\n",
      "batch_all ['HPAP019' 'HPAP020' 'HPAP021' 'HPAP022' 'HPAP023' 'HPAP024' 'HPAP026'\n",
      " 'HPAP028' 'HPAP029' 'HPAP032' 'HPAP034' 'HPAP035' 'HPAP036' 'HPAP037'\n",
      " 'HPAP038' 'HPAP039' 'HPAP040' 'HPAP042' 'HPAP043' 'HPAP044' 'HPAP045'\n",
      " 'HPAP047' 'HPAP049' 'HPAP050']\n",
      "batch_all_with_condition ['HPAP019__AAB' 'HPAP020__T1D' 'HPAP021__T1D' 'HPAP022__Control'\n",
      " 'HPAP023__T1D' 'HPAP024__AAB' 'HPAP026__Control' 'HPAP028__T1D'\n",
      " 'HPAP029__AAB' 'HPAP032__T1D' 'HPAP034__Control' 'HPAP035__Control'\n",
      " 'HPAP036__Control' 'HPAP037__Control' 'HPAP038__AAB' 'HPAP039__Control'\n",
      " 'HPAP040__Control' 'HPAP042__Control' 'HPAP043__AAB' 'HPAP044__Control'\n",
      " 'HPAP045__AAB' 'HPAP047__Control' 'HPAP049__AAB' 'HPAP050__AAB']\n",
      "Finish preprocessing\n",
      "Calculating global distortion...\n",
      "Finish\n"
     ]
    }
   ],
   "source": [
    "adata=sc.read_h5ad(\"./cellanova/t1d_results.h5ad\")\n",
    "evaluate_cellanova_mse(adata=adata,batch_key=\"donor_id\",condition_key=\"disease_state\",dataset_name=\"t1d\", std=std)"
   ]
  },
  {
   "cell_type": "markdown",
   "id": "163bb102-e32a-4cee-9979-55cf22fa23eb",
   "metadata": {},
   "source": [
    "# Kidney dataset"
   ]
  },
  {
   "cell_type": "code",
   "execution_count": 14,
   "id": "2df9c68c-14fa-4e11-bb73-83b6e9e6a4fd",
   "metadata": {},
   "outputs": [
    {
     "name": "stdout",
     "output_type": "stream",
     "text": [
      "(282610, 3000)\n",
      "[[0.08848958 0.18313816 0.0182847  ... 0.22860017 0.03765563 0.01596534]] [[0.38014755 0.64402455 0.19035025 ... 0.68938184 0.2806099  0.17945607]]\n",
      "adata preprocessing...\n",
      "batch_all ['HK1584.SC' 'HK1585.SC' 'HK1588.SC' 'HK1593.SC' 'HK1594.SC' 'HK1597.SC'\n",
      " 'HK1632.SC' 'HK1634.SC' 'HK1635_G.SC' 'HK1635_T.SC' 'HK1650_G.SC'\n",
      " 'HK1650_T.SC' 'HK1664_G.SC' 'HK1664_T.SC' 'HK1770.SC' 'HK1997.SC'\n",
      " 'HK2558.SN' 'HK2596.SN' 'HK2662.SC' 'HK2663_SN' 'HK2711.SN' 'HK2713.SC'\n",
      " 'HK2739.SN' 'HK2770.SC' 'HK2770_SN' 'HK2774.SC' 'HK2774.SN' 'HK2833.SC'\n",
      " 'HK2833.SN' 'HK2844.SN' 'HK2862.SN' 'HK2867.SC' 'HK2867.SN' 'HK2868.SN'\n",
      " 'HK2891.SC' 'HK2891.SN' 'HK2893.SC' 'HK2893.SN' 'HK2895.SC' 'HK2895.SN'\n",
      " 'HK2896.SC' 'HK2898.SN' 'HK2899.SC' 'HK2899.SN' 'HK2923.SC' 'HK2924.SC'\n",
      " 'HK2976.SN']\n",
      "batch_all_with_condition ['HK1584.SC__Disease' 'HK1585.SC__Control' 'HK1588.SC__Control'\n",
      " 'HK1593.SC__Disease' 'HK1594.SC__Disease' 'HK1597.SC__Disease'\n",
      " 'HK1632.SC__Disease' 'HK1634.SC__Disease' 'HK1635_G.SC__Disease'\n",
      " 'HK1635_T.SC__Disease' 'HK1650_G.SC__Disease' 'HK1650_T.SC__Disease'\n",
      " 'HK1664_G.SC__Control' 'HK1664_T.SC__Control' 'HK1770.SC__Disease'\n",
      " 'HK1997.SC__Control' 'HK2558.SN__Disease' 'HK2596.SN__Disease'\n",
      " 'HK2662.SC__Control' 'HK2663_SN__Disease' 'HK2711.SN__Disease'\n",
      " 'HK2713.SC__Control' 'HK2739.SN__Disease' 'HK2770.SC__Disease'\n",
      " 'HK2770_SN__Control' 'HK2774.SC__Disease' 'HK2774.SN__Disease'\n",
      " 'HK2833.SC__Control' 'HK2833.SN__Control' 'HK2844.SN__Disease'\n",
      " 'HK2862.SN__Disease' 'HK2867.SC__Control' 'HK2867.SN__Control'\n",
      " 'HK2868.SN__Disease' 'HK2891.SC__Control' 'HK2891.SN__Control'\n",
      " 'HK2893.SC__Control' 'HK2893.SN__Control' 'HK2895.SC__Control'\n",
      " 'HK2895.SN__Control' 'HK2896.SC__Control' 'HK2898.SN__Control'\n",
      " 'HK2899.SC__Control' 'HK2899.SN__Control' 'HK2923.SC__Control'\n",
      " 'HK2924.SC__Control' 'HK2976.SN__Disease']\n",
      "Finish preprocessing\n",
      "Calculating global distortion...\n",
      "Finish\n"
     ]
    }
   ],
   "source": [
    "adata=sc.read_h5ad(\"../case_control/data/GSE211785_Susztak_SC_SN_ATAC_merged_PreSCVI_final.h5ad\")\n",
    "adata=adata[adata.obs[\"tech\"].isin(['SC_RNA','SN_RNA'])].copy()\n",
    "mean,std=get_mean_std(adata=adata, batch_key=\"orig_ident\")\n",
    "print(mean,std)\n",
    "\n",
    "adata=sc.read_h5ad(\"./cellanova/kidney_results.h5ad\")\n",
    "evaluate_cellanova_mse(adata=adata,batch_key=\"orig_ident\",condition_key=\"Status\",dataset_name=\"kidney\", std=std)"
   ]
  },
  {
   "cell_type": "markdown",
   "id": "cd8c9c6d-9655-477d-9411-1da4707af306",
   "metadata": {},
   "source": [
    "# Mouse radiation experiment dataset\n",
    "\n",
    "https://www.ncbi.nlm.nih.gov/geo/query/acc.cgi?acc=GSE280883"
   ]
  },
  {
   "cell_type": "code",
   "execution_count": null,
   "id": "19d5f70d-a6f1-4ec3-bf23-be928ffc61d7",
   "metadata": {},
   "outputs": [],
   "source": [
    "adata=sc.read_h5ad(\"../case_control/data/mouse.h5ad\")\n",
    "mean,std=get_mean_std(adata=adata, batch_key='real_batch')\n",
    "print(mean,std)\n",
    "\n",
    "adata=sc.read_h5ad(\"./cellanova/kidney_results.h5ad\")\n",
    "evaluate_cellanova_mse(adata=adata,batch_key=['sample','tech'],condition_key=\"Status\",dataset_name=\"kidney\", std=std)"
   ]
  },
  {
   "cell_type": "markdown",
   "id": "1ab23d7b-578e-4810-90d8-24a6fd29c14d",
   "metadata": {},
   "source": [
    "# SEA-AD dataset"
   ]
  },
  {
   "cell_type": "code",
   "execution_count": null,
   "id": "1fc19a02-7d8d-40cc-92d8-67eebc9abce6",
   "metadata": {},
   "outputs": [],
   "source": [
    "adata=sc.read_h5ad(\"../case_control/data/AD.h5ad\")\n",
    "mean,std=get_mean_std(adata=adata, batch_key='donor_id')\n",
    "print(mean,std)\n",
    "\n",
    "adata=sc.read_h5ad(\"./cellanova/AD_results.h5ad\")\n",
    "adata.raw=None\n",
    "\n",
    "evaluate_cellanova_mse(adata=adata,batch_key=['donor_id'],condition_key=\"disease\",dataset_name=\"AD\", std=std)"
   ]
  }
 ],
 "metadata": {
  "kernelspec": {
   "display_name": "Python 3 (ipykernel)",
   "language": "python",
   "name": "python3"
  },
  "language_info": {
   "codemirror_mode": {
    "name": "ipython",
    "version": 3
   },
   "file_extension": ".py",
   "mimetype": "text/x-python",
   "name": "python",
   "nbconvert_exporter": "python",
   "pygments_lexer": "ipython3",
   "version": "3.11.11"
  }
 },
 "nbformat": 4,
 "nbformat_minor": 5
}
