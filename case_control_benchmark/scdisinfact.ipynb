{
 "cells": [
  {
   "cell_type": "code",
   "execution_count": 1,
   "id": "02616175-364d-4295-bcdb-4d98c2dc6824",
   "metadata": {},
   "outputs": [],
   "source": [
    "import anndata as ad\n",
    "import scanpy as sc\n",
    "import gc\n",
    "import sys\n",
    "import numpy as np\n",
    "import pandas as pd\n",
    "import matplotlib.pyplot as plt\n",
    "import seaborn as sea\n",
    "import scipy\n",
    "import torch\n",
    "import os\n",
    "\n",
    "from scDisInFact import scdisinfact, create_scdisinfact_dataset\n",
    "\n",
    "sc.settings.verbosity = 0\n",
    "sc.settings.set_figure_params(dpi=300)\n",
    "pd.set_option('display.max_columns', None)\n",
    "seed = 10\n",
    "np.random.seed(seed)\n",
    "\n",
    "device = torch.device(\"cuda:0\" if torch.cuda.is_available() else \"cpu\")"
   ]
  },
  {
   "cell_type": "code",
   "execution_count": 2,
   "id": "2f70a4f3-4557-44d7-8404-c34545ef391c",
   "metadata": {},
   "outputs": [],
   "source": [
    "def run_scdisinfact(adata, batch_key, condition_key, dataset_name, cell_type_label=None):\n",
    "    if np.max(adata.X) > 15:\n",
    "        sc.pp.filter_cells(adata, min_genes=300)\n",
    "        sc.pp.filter_genes(adata, min_cells=10)\n",
    "\n",
    "        sc.pp.normalize_per_cell(adata, counts_per_cell_after=1e4)\n",
    "        sc.pp.log1p(adata)\n",
    "\n",
    "    if adata.shape[1] > 3000:\n",
    "        sc.pp.highly_variable_genes(adata, n_top_genes=3000, batch_key=batch_key)\n",
    "        adata = adata[:, adata.var[\"highly_variable\"]].copy()\n",
    "    else:\n",
    "        sc.pp.highly_variable_genes(adata, n_top_genes=adata.shape[1], batch_key=batch_key)\n",
    "\n",
    "    import warnings\n",
    "\n",
    "    # Suppress all warnings\n",
    "    warnings.filterwarnings(\"ignore\")\n",
    "\n",
    "    result_dir = \"./scd/\" + dataset_name + \"/\"\n",
    "    if not os.path.exists(result_dir):\n",
    "        os.makedirs(result_dir)\n",
    "\n",
    "    if isinstance(adata.X, scipy.sparse.spmatrix):\n",
    "        adata.X = adata.X.toarray()\n",
    "\n",
    "    counts = adata.X\n",
    "    adata.obs[\"batch\"] = adata.obs[batch_key].copy()\n",
    "    meta_cells = adata.obs.copy()\n",
    "\n",
    "    if isinstance(condition_key, str):\n",
    "        condition_key = [condition_key]\n",
    "\n",
    "    if not isinstance(condition_key, list):\n",
    "        print(\"Wrong condition_key, must be string or list of string\")\n",
    "\n",
    "    data_dict = create_scdisinfact_dataset(counts, meta_cells, condition_key=condition_key, batch_key=batch_key, log_trans=False)\n",
    "\n",
    "    # default setting of hyper-parameters\n",
    "    reg_mmd_comm = 1e-4\n",
    "    reg_mmd_diff = 1e-4\n",
    "    reg_kl_comm = 1e-5\n",
    "    reg_kl_diff = 1e-2\n",
    "    reg_class = 1\n",
    "    reg_gl = 1\n",
    "\n",
    "    Ks = [8, 4]\n",
    "\n",
    "    batch_size = 64\n",
    "    nepochs = 100\n",
    "    interval = 10\n",
    "    lr = 5e-4\n",
    "    lambs = [reg_mmd_comm, reg_mmd_diff, reg_kl_comm, reg_kl_diff, reg_class, reg_gl]\n",
    "    model = scdisinfact(data_dict=data_dict, Ks=Ks, batch_size=batch_size, interval=interval, lr=lr,\n",
    "                        reg_mmd_comm=reg_mmd_comm, reg_mmd_diff=reg_mmd_diff, reg_gl=reg_gl, reg_class=reg_class,\n",
    "                        reg_kl_comm=reg_kl_comm, reg_kl_diff=reg_kl_diff, seed=0, device=device)\n",
    "    model.train()\n",
    "    losses = model.train_model(nepochs=nepochs, recon_loss=\"NB\")\n",
    "    torch.save(model.state_dict(), result_dir + f\"model_{Ks}_{lambs}_{batch_size}_{nepochs}_{lr}.pth\")\n",
    "    model.load_state_dict(\n",
    "        torch.load(result_dir + f\"model_{Ks}_{lambs}_{batch_size}_{nepochs}_{lr}.pth\", map_location=device))\n",
    "    _ = model.eval()\n",
    "\n",
    "    # one forward pass\n",
    "    z_cs = []\n",
    "    z_ds = []\n",
    "    zs = []\n",
    "\n",
    "    for dataset in data_dict[\"datasets\"]:\n",
    "        with torch.no_grad():\n",
    "            # pass through the encoders\n",
    "            dict_inf = model.inference(counts=dataset.counts_norm.to(model.device),\n",
    "                                       batch_ids=dataset.batch_id[:, None].to(model.device), print_stat=True)\n",
    "            # pass through the decoder\n",
    "            dict_gen = model.generative(z_c=dict_inf[\"mu_c\"], z_d=dict_inf[\"mu_d\"],\n",
    "                                        batch_ids=dataset.batch_id[:, None].to(model.device))\n",
    "            z_c = dict_inf[\"mu_c\"]\n",
    "            z_d = dict_inf[\"mu_d\"]\n",
    "            z = torch.cat([z_c] + z_d, dim=1)\n",
    "            mu = dict_gen[\"mu\"]\n",
    "            z_ds.append([x.cpu().detach().numpy() for x in z_d])\n",
    "            z_cs.append(z_c.cpu().detach().numpy())\n",
    "            zs.append(np.concatenate([z_cs[-1]] + z_ds[-1], axis=1))\n",
    "\n",
    "    latent = np.concatenate(z_cs, axis=0)\n",
    "    meta_dict = {}\n",
    "    for namei in meta_cells.columns.tolist():\n",
    "        meta_dict[namei] = np.concatenate([x[namei].values for x in data_dict[\"meta_cells\"]])\n",
    "\n",
    "    meta_df = pd.DataFrame(meta_dict)\n",
    "    adata_latent = ad.AnnData(X=counts)\n",
    "    adata_latent.var_names = adata.var_names\n",
    "    adata_latent.obs = meta_df\n",
    "\n",
    "    denoised_counts = model.predict_counts(input_counts=counts, meta_cells=meta_cells, condition_keys=condition_key,\n",
    "                                           batch_key=batch_key, predict_conds=None, predict_batch=None)\n",
    "    # adata.obsm[\"denoised\"] = denoised_counts\n",
    "    adata.layers[\"denoised\"] = denoised_counts\n",
    "    adata.obsm['main_effect'] = latent\n",
    "\n",
    "    adata.write_h5ad(\"./scd/\" + dataset_name + \"_latent.h5ad\")\n",
    "\n",
    "    sc.pp.neighbors(adata_latent, n_neighbors=15, n_pcs=50)\n",
    "    sc.tl.umap(adata_latent)\n",
    "    sc.pl.umap(adata_latent, color=condition_key, ncols=1)\n",
    "    sc.pl.umap(adata_latent, color=batch_key, ncols=1)\n",
    "    if cell_type_label is not None:\n",
    "        sc.pl.umap(adata_latent, color=cell_type_label)"
   ]
  },
  {
   "cell_type": "markdown",
   "id": "77b56ce5-c488-4d02-9997-472868242ce5",
   "metadata": {},
   "source": [
    "# Type 1 diabetes\n",
    "\n",
    "https://www.ncbi.nlm.nih.gov/geo/query/acc.cgi?acc=GSE148073"
   ]
  },
  {
   "cell_type": "code",
   "execution_count": 3,
   "id": "23f64b71-9860-4cac-8611-1e635191e9d2",
   "metadata": {},
   "outputs": [
    {
     "name": "stdout",
     "output_type": "stream",
     "text": [
      "Sanity check...\n",
      "Finished.\n",
      "Create scDisInFact datasets...\n",
      "Finished.\n",
      "Epoch 0, Validating Loss: 2.1501\n",
      "\t loss reconstruction: 1.00772\n",
      "\t loss kl comm: 0.10317\n",
      "\t loss kl diff: 1.26928\n",
      "\t loss mmd common: 3.89013\n",
      "\t loss mmd diff: 20.89508\n",
      "\t loss classification: 1.00880\n",
      "\t loss group lasso diff: 0.11846\n",
      "GPU memory usage: 0.000000MB\n"
     ]
    },
    {
     "ename": "KeyboardInterrupt",
     "evalue": "",
     "output_type": "error",
     "traceback": [
      "\u001b[0;31m---------------------------------------------------------------------------\u001b[0m",
      "\u001b[0;31mKeyboardInterrupt\u001b[0m                         Traceback (most recent call last)",
      "Cell \u001b[0;32mIn[3], line 2\u001b[0m\n\u001b[1;32m      1\u001b[0m adata \u001b[38;5;241m=\u001b[39m sc\u001b[38;5;241m.\u001b[39mread_h5ad(\u001b[38;5;124m'\u001b[39m\u001b[38;5;124m../case_control/data/t1d.h5ad\u001b[39m\u001b[38;5;124m'\u001b[39m)\n\u001b[0;32m----> 2\u001b[0m \u001b[43mrun_scdisinfact\u001b[49m\u001b[43m(\u001b[49m\u001b[43madata\u001b[49m\u001b[38;5;241;43m=\u001b[39;49m\u001b[43madata\u001b[49m\u001b[43m,\u001b[49m\u001b[43m \u001b[49m\u001b[43mbatch_key\u001b[49m\u001b[38;5;241;43m=\u001b[39;49m\u001b[38;5;124;43m\"\u001b[39;49m\u001b[38;5;124;43mdonor_id\u001b[39;49m\u001b[38;5;124;43m\"\u001b[39;49m\u001b[43m,\u001b[49m\u001b[43m \u001b[49m\u001b[43mcondition_key\u001b[49m\u001b[38;5;241;43m=\u001b[39;49m\u001b[38;5;124;43m\"\u001b[39;49m\u001b[38;5;124;43mdisease_state\u001b[39;49m\u001b[38;5;124;43m\"\u001b[39;49m\u001b[43m,\u001b[49m\u001b[43m \u001b[49m\u001b[43mcell_type_label\u001b[49m\u001b[38;5;241;43m=\u001b[39;49m\u001b[38;5;124;43m'\u001b[39;49m\u001b[38;5;124;43mcell_label\u001b[39;49m\u001b[38;5;124;43m'\u001b[39;49m\u001b[43m,\u001b[49m\u001b[43m \u001b[49m\u001b[43mdataset_name\u001b[49m\u001b[38;5;241;43m=\u001b[39;49m\u001b[38;5;124;43m\"\u001b[39;49m\u001b[38;5;124;43mt1d\u001b[39;49m\u001b[38;5;124;43m\"\u001b[39;49m\u001b[43m)\u001b[49m\n",
      "Cell \u001b[0;32mIn[2], line 58\u001b[0m, in \u001b[0;36mrun_scdisinfact\u001b[0;34m(adata, batch_key, condition_key, dataset_name, cell_type_label)\u001b[0m\n\u001b[1;32m     54\u001b[0m model \u001b[38;5;241m=\u001b[39m scdisinfact(data_dict\u001b[38;5;241m=\u001b[39mdata_dict, Ks\u001b[38;5;241m=\u001b[39mKs, batch_size\u001b[38;5;241m=\u001b[39mbatch_size, interval\u001b[38;5;241m=\u001b[39minterval, lr\u001b[38;5;241m=\u001b[39mlr,\n\u001b[1;32m     55\u001b[0m                     reg_mmd_comm\u001b[38;5;241m=\u001b[39mreg_mmd_comm, reg_mmd_diff\u001b[38;5;241m=\u001b[39mreg_mmd_diff, reg_gl\u001b[38;5;241m=\u001b[39mreg_gl, reg_class\u001b[38;5;241m=\u001b[39mreg_class,\n\u001b[1;32m     56\u001b[0m                     reg_kl_comm\u001b[38;5;241m=\u001b[39mreg_kl_comm, reg_kl_diff\u001b[38;5;241m=\u001b[39mreg_kl_diff, seed\u001b[38;5;241m=\u001b[39m\u001b[38;5;241m0\u001b[39m, device\u001b[38;5;241m=\u001b[39mdevice)\n\u001b[1;32m     57\u001b[0m model\u001b[38;5;241m.\u001b[39mtrain()\n\u001b[0;32m---> 58\u001b[0m losses \u001b[38;5;241m=\u001b[39m \u001b[43mmodel\u001b[49m\u001b[38;5;241;43m.\u001b[39;49m\u001b[43mtrain_model\u001b[49m\u001b[43m(\u001b[49m\u001b[43mnepochs\u001b[49m\u001b[38;5;241;43m=\u001b[39;49m\u001b[43mnepochs\u001b[49m\u001b[43m,\u001b[49m\u001b[43m \u001b[49m\u001b[43mrecon_loss\u001b[49m\u001b[38;5;241;43m=\u001b[39;49m\u001b[38;5;124;43m\"\u001b[39;49m\u001b[38;5;124;43mNB\u001b[39;49m\u001b[38;5;124;43m\"\u001b[39;49m\u001b[43m)\u001b[49m\n\u001b[1;32m     59\u001b[0m torch\u001b[38;5;241m.\u001b[39msave(model\u001b[38;5;241m.\u001b[39mstate_dict(), result_dir \u001b[38;5;241m+\u001b[39m \u001b[38;5;124mf\u001b[39m\u001b[38;5;124m\"\u001b[39m\u001b[38;5;124mmodel_\u001b[39m\u001b[38;5;132;01m{\u001b[39;00mKs\u001b[38;5;132;01m}\u001b[39;00m\u001b[38;5;124m_\u001b[39m\u001b[38;5;132;01m{\u001b[39;00mlambs\u001b[38;5;132;01m}\u001b[39;00m\u001b[38;5;124m_\u001b[39m\u001b[38;5;132;01m{\u001b[39;00mbatch_size\u001b[38;5;132;01m}\u001b[39;00m\u001b[38;5;124m_\u001b[39m\u001b[38;5;132;01m{\u001b[39;00mnepochs\u001b[38;5;132;01m}\u001b[39;00m\u001b[38;5;124m_\u001b[39m\u001b[38;5;132;01m{\u001b[39;00mlr\u001b[38;5;132;01m}\u001b[39;00m\u001b[38;5;124m.pth\u001b[39m\u001b[38;5;124m\"\u001b[39m)\n\u001b[1;32m     60\u001b[0m model\u001b[38;5;241m.\u001b[39mload_state_dict(\n\u001b[1;32m     61\u001b[0m     torch\u001b[38;5;241m.\u001b[39mload(result_dir \u001b[38;5;241m+\u001b[39m \u001b[38;5;124mf\u001b[39m\u001b[38;5;124m\"\u001b[39m\u001b[38;5;124mmodel_\u001b[39m\u001b[38;5;132;01m{\u001b[39;00mKs\u001b[38;5;132;01m}\u001b[39;00m\u001b[38;5;124m_\u001b[39m\u001b[38;5;132;01m{\u001b[39;00mlambs\u001b[38;5;132;01m}\u001b[39;00m\u001b[38;5;124m_\u001b[39m\u001b[38;5;132;01m{\u001b[39;00mbatch_size\u001b[38;5;132;01m}\u001b[39;00m\u001b[38;5;124m_\u001b[39m\u001b[38;5;132;01m{\u001b[39;00mnepochs\u001b[38;5;132;01m}\u001b[39;00m\u001b[38;5;124m_\u001b[39m\u001b[38;5;132;01m{\u001b[39;00mlr\u001b[38;5;132;01m}\u001b[39;00m\u001b[38;5;124m.pth\u001b[39m\u001b[38;5;124m\"\u001b[39m, map_location\u001b[38;5;241m=\u001b[39mdevice))\n",
      "File \u001b[0;32m~/.conda/envs/benchmark/lib/python3.11/site-packages/scDisInFact/model.py:599\u001b[0m, in \u001b[0;36mscdisinfact.train_model\u001b[0;34m(self, nepochs, recon_loss)\u001b[0m\n\u001b[1;32m    596\u001b[0m \u001b[38;5;66;03m# pass through the decoder\u001b[39;00m\n\u001b[1;32m    597\u001b[0m dict_gen \u001b[38;5;241m=\u001b[39m \u001b[38;5;28mself\u001b[39m\u001b[38;5;241m.\u001b[39mgenerative(z_c \u001b[38;5;241m=\u001b[39m dict_inf[\u001b[38;5;124m\"\u001b[39m\u001b[38;5;124mz_c\u001b[39m\u001b[38;5;124m\"\u001b[39m], z_d \u001b[38;5;241m=\u001b[39m dict_inf[\u001b[38;5;124m\"\u001b[39m\u001b[38;5;124mz_d\u001b[39m\u001b[38;5;124m\"\u001b[39m], batch_ids \u001b[38;5;241m=\u001b[39m batch_id)\n\u001b[0;32m--> 599\u001b[0m loss_recon, loss_kl_comm, loss_kl_diff, loss_mmd_comm, loss_mmd_diff, loss_class, loss_gl_d \u001b[38;5;241m=\u001b[39m \u001b[38;5;28;43mself\u001b[39;49m\u001b[38;5;241;43m.\u001b[39;49m\u001b[43mloss\u001b[49m\u001b[43m(\u001b[49m\u001b[43mdict_inf\u001b[49m\u001b[43m \u001b[49m\u001b[38;5;241;43m=\u001b[39;49m\u001b[43m \u001b[49m\u001b[43mdict_inf\u001b[49m\u001b[43m,\u001b[49m\u001b[43m \u001b[49m\u001b[43m\\\u001b[49m\n\u001b[1;32m    600\u001b[0m \u001b[43m    \u001b[49m\u001b[43mdict_gen\u001b[49m\u001b[43m \u001b[49m\u001b[38;5;241;43m=\u001b[39;49m\u001b[43m \u001b[49m\u001b[43mdict_gen\u001b[49m\u001b[43m,\u001b[49m\u001b[43m \u001b[49m\u001b[43msize_factor\u001b[49m\u001b[43m \u001b[49m\u001b[38;5;241;43m=\u001b[39;49m\u001b[43m \u001b[49m\u001b[43msize_factor\u001b[49m\u001b[43m,\u001b[49m\u001b[43m \u001b[49m\u001b[43mcount\u001b[49m\u001b[43m \u001b[49m\u001b[38;5;241;43m=\u001b[39;49m\u001b[43m \u001b[49m\u001b[43mcount\u001b[49m\u001b[43m,\u001b[49m\u001b[43m \u001b[49m\u001b[43mbatch_id\u001b[49m\u001b[43m \u001b[49m\u001b[38;5;241;43m=\u001b[39;49m\u001b[43m \u001b[49m\u001b[43mmmd_batch_id\u001b[49m\u001b[43m,\u001b[49m\u001b[43m \u001b[49m\u001b[43mdiff_labels\u001b[49m\u001b[43m \u001b[49m\u001b[38;5;241;43m=\u001b[39;49m\u001b[43m \u001b[49m\u001b[43mdiff_labels\u001b[49m\u001b[43m,\u001b[49m\u001b[43m \u001b[49m\u001b[43mrecon_loss\u001b[49m\u001b[43m \u001b[49m\u001b[38;5;241;43m=\u001b[39;49m\u001b[43m \u001b[49m\u001b[43mrecon_loss\u001b[49m\u001b[43m)\u001b[49m\n\u001b[1;32m    602\u001b[0m loss \u001b[38;5;241m=\u001b[39m loss_recon \u001b[38;5;241m+\u001b[39m \u001b[38;5;28mself\u001b[39m\u001b[38;5;241m.\u001b[39mlambs[\u001b[38;5;124m\"\u001b[39m\u001b[38;5;124mmmd_diff\u001b[39m\u001b[38;5;124m\"\u001b[39m] \u001b[38;5;241m*\u001b[39m loss_mmd_diff \u001b[38;5;241m+\u001b[39m \u001b[38;5;28mself\u001b[39m\u001b[38;5;241m.\u001b[39mlambs[\u001b[38;5;124m\"\u001b[39m\u001b[38;5;124mclass\u001b[39m\u001b[38;5;124m\"\u001b[39m] \u001b[38;5;241m*\u001b[39m loss_class \u001b[38;5;241m+\u001b[39m \u001b[38;5;28mself\u001b[39m\u001b[38;5;241m.\u001b[39mlambs[\u001b[38;5;124m\"\u001b[39m\u001b[38;5;124mkl_diff\u001b[39m\u001b[38;5;124m\"\u001b[39m] \u001b[38;5;241m*\u001b[39m loss_kl_diff \u001b[38;5;241m+\u001b[39m \u001b[38;5;28mself\u001b[39m\u001b[38;5;241m.\u001b[39mlambs[\u001b[38;5;124m\"\u001b[39m\u001b[38;5;124mgl\u001b[39m\u001b[38;5;124m\"\u001b[39m] \u001b[38;5;241m*\u001b[39m loss_gl_d \n\u001b[1;32m    603\u001b[0m loss\u001b[38;5;241m.\u001b[39mbackward()\n",
      "File \u001b[0;32m~/.conda/envs/benchmark/lib/python3.11/site-packages/scDisInFact/model.py:452\u001b[0m, in \u001b[0;36mscdisinfact.loss\u001b[0;34m(self, dict_inf, dict_gen, size_factor, count, batch_id, diff_labels, recon_loss)\u001b[0m\n\u001b[1;32m    450\u001b[0m     loss_recon \u001b[38;5;241m=\u001b[39m loss_func\u001b[38;5;241m.\u001b[39mZINB(pi \u001b[38;5;241m=\u001b[39m dict_gen[\u001b[38;5;124m\"\u001b[39m\u001b[38;5;124mpi\u001b[39m\u001b[38;5;124m\"\u001b[39m], theta \u001b[38;5;241m=\u001b[39m dict_gen[\u001b[38;5;124m\"\u001b[39m\u001b[38;5;124mtheta\u001b[39m\u001b[38;5;124m\"\u001b[39m], scale_factor \u001b[38;5;241m=\u001b[39m size_factor, ridge_lambda \u001b[38;5;241m=\u001b[39m lamb_pi, device \u001b[38;5;241m=\u001b[39m \u001b[38;5;28mself\u001b[39m\u001b[38;5;241m.\u001b[39mdevice)\u001b[38;5;241m.\u001b[39mloss(y_true \u001b[38;5;241m=\u001b[39m count, y_pred \u001b[38;5;241m=\u001b[39m dict_gen[\u001b[38;5;124m\"\u001b[39m\u001b[38;5;124mmu\u001b[39m\u001b[38;5;124m\"\u001b[39m])\n\u001b[1;32m    451\u001b[0m \u001b[38;5;28;01melif\u001b[39;00m recon_loss \u001b[38;5;241m==\u001b[39m \u001b[38;5;124m\"\u001b[39m\u001b[38;5;124mNB\u001b[39m\u001b[38;5;124m\"\u001b[39m:\n\u001b[0;32m--> 452\u001b[0m     loss_recon \u001b[38;5;241m=\u001b[39m \u001b[43mloss_func\u001b[49m\u001b[38;5;241;43m.\u001b[39;49m\u001b[43mNB\u001b[49m\u001b[43m(\u001b[49m\u001b[43mtheta\u001b[49m\u001b[43m \u001b[49m\u001b[38;5;241;43m=\u001b[39;49m\u001b[43m \u001b[49m\u001b[43mdict_gen\u001b[49m\u001b[43m[\u001b[49m\u001b[38;5;124;43m\"\u001b[39;49m\u001b[38;5;124;43mtheta\u001b[39;49m\u001b[38;5;124;43m\"\u001b[39;49m\u001b[43m]\u001b[49m\u001b[43m,\u001b[49m\u001b[43m \u001b[49m\u001b[43mscale_factor\u001b[49m\u001b[43m \u001b[49m\u001b[38;5;241;43m=\u001b[39;49m\u001b[43m \u001b[49m\u001b[43msize_factor\u001b[49m\u001b[43m,\u001b[49m\u001b[43m \u001b[49m\u001b[43mdevice\u001b[49m\u001b[43m \u001b[49m\u001b[38;5;241;43m=\u001b[39;49m\u001b[43m \u001b[49m\u001b[38;5;28;43mself\u001b[39;49m\u001b[38;5;241;43m.\u001b[39;49m\u001b[43mdevice\u001b[49m\u001b[43m)\u001b[49m\u001b[38;5;241;43m.\u001b[39;49m\u001b[43mloss\u001b[49m\u001b[43m(\u001b[49m\u001b[43my_true\u001b[49m\u001b[43m \u001b[49m\u001b[38;5;241;43m=\u001b[39;49m\u001b[43m \u001b[49m\u001b[43mcount\u001b[49m\u001b[43m,\u001b[49m\u001b[43m \u001b[49m\u001b[43my_pred\u001b[49m\u001b[43m \u001b[49m\u001b[38;5;241;43m=\u001b[39;49m\u001b[43m \u001b[49m\u001b[43mdict_gen\u001b[49m\u001b[43m[\u001b[49m\u001b[38;5;124;43m\"\u001b[39;49m\u001b[38;5;124;43mmu\u001b[39;49m\u001b[38;5;124;43m\"\u001b[39;49m\u001b[43m]\u001b[49m\u001b[43m)\u001b[49m\n\u001b[1;32m    453\u001b[0m \u001b[38;5;28;01melif\u001b[39;00m recon_loss \u001b[38;5;241m==\u001b[39m \u001b[38;5;124m\"\u001b[39m\u001b[38;5;124mMSE\u001b[39m\u001b[38;5;124m\"\u001b[39m:\n\u001b[1;32m    454\u001b[0m     mse_loss \u001b[38;5;241m=\u001b[39m nn\u001b[38;5;241m.\u001b[39mMSELoss()\n",
      "File \u001b[0;32m~/.conda/envs/benchmark/lib/python3.11/site-packages/scDisInFact/zinb.py:76\u001b[0m, in \u001b[0;36mNB.loss\u001b[0;34m(self, y_true, y_pred, mean)\u001b[0m\n\u001b[1;32m     73\u001b[0m t2 \u001b[38;5;241m=\u001b[39m (theta\u001b[38;5;241m+\u001b[39my_true) \u001b[38;5;241m*\u001b[39m torch\u001b[38;5;241m.\u001b[39mlog(\u001b[38;5;241m1.0\u001b[39m \u001b[38;5;241m+\u001b[39m (y_pred\u001b[38;5;241m/\u001b[39m(theta\u001b[38;5;241m+\u001b[39meps))) \u001b[38;5;241m+\u001b[39m (y_true \u001b[38;5;241m*\u001b[39m (torch\u001b[38;5;241m.\u001b[39mlog(theta\u001b[38;5;241m+\u001b[39meps) \u001b[38;5;241m-\u001b[39m torch\u001b[38;5;241m.\u001b[39mlog(y_pred\u001b[38;5;241m+\u001b[39meps)))\n\u001b[1;32m     74\u001b[0m final \u001b[38;5;241m=\u001b[39m t1 \u001b[38;5;241m+\u001b[39m t2\n\u001b[0;32m---> 76\u001b[0m final \u001b[38;5;241m=\u001b[39m \u001b[43m_nan2inf\u001b[49m\u001b[43m(\u001b[49m\u001b[43mfinal\u001b[49m\u001b[43m)\u001b[49m\n\u001b[1;32m     78\u001b[0m \u001b[38;5;28;01mif\u001b[39;00m mean:\n\u001b[1;32m     79\u001b[0m     \u001b[38;5;28;01mif\u001b[39;00m \u001b[38;5;28mself\u001b[39m\u001b[38;5;241m.\u001b[39mmasking:\n",
      "File \u001b[0;32m~/.conda/envs/benchmark/lib/python3.11/site-packages/scDisInFact/zinb.py:8\u001b[0m, in \u001b[0;36m_nan2inf\u001b[0;34m(x)\u001b[0m\n\u001b[1;32m      7\u001b[0m \u001b[38;5;28;01mdef\u001b[39;00m \u001b[38;5;21m_nan2inf\u001b[39m(x):\n\u001b[0;32m----> 8\u001b[0m     \u001b[38;5;28;01mreturn\u001b[39;00m torch\u001b[38;5;241m.\u001b[39mwhere(torch\u001b[38;5;241m.\u001b[39misnan(x), \u001b[43mtorch\u001b[49m\u001b[38;5;241;43m.\u001b[39;49m\u001b[43mzeros_like\u001b[49m\u001b[43m(\u001b[49m\u001b[43mx\u001b[49m\u001b[43m)\u001b[49m\u001b[38;5;241m+\u001b[39mnp\u001b[38;5;241m.\u001b[39minf, x)\n",
      "\u001b[0;31mKeyboardInterrupt\u001b[0m: "
     ]
    }
   ],
   "source": [
    "adata = sc.read_h5ad('../case_control/data/t1d.h5ad')\n",
    "run_scdisinfact(adata=adata, batch_key=\"donor_id\", condition_key=\"disease_state\", cell_type_label='cell_label', dataset_name=\"t1d\")"
   ]
  },
  {
   "cell_type": "markdown",
   "id": "5adb099c-303a-425d-be9d-3e9f8fc3d9ea",
   "metadata": {},
   "source": [
    "# Human kidney multiomics atlas\n",
    "\n",
    "https://www.ncbi.nlm.nih.gov/geo/query/acc.cgi?acc=GSE211785"
   ]
  },
  {
   "cell_type": "code",
   "execution_count": null,
   "id": "7f87bd32-5e45-4117-8e80-53c7bd434798",
   "metadata": {},
   "outputs": [],
   "source": [
    "adata=sc.read_h5ad(\"../case_control/data/GSE211785_Susztak_SC_SN_ATAC_merged_PreSCVI_final.h5ad\")\n",
    "adata=adata[adata.obs[\"tech\"].isin(['SC_RNA','SN_RNA'])].copy()\n",
    "run_scdisinfact(adata=adata, batch_key=\"orig_ident\", condition_key=\"Status\", cell_type_label='Cluster_Idents', dataset_name=\"kidney\")"
   ]
  },
  {
   "cell_type": "markdown",
   "id": "e77ab0de-ff18-4551-b549-e1aabdb7a6be",
   "metadata": {},
   "source": [
    "# Mouse radiation experiment dataset\n",
    "\n",
    "https://www.ncbi.nlm.nih.gov/geo/query/acc.cgi?acc=GSE280883"
   ]
  },
  {
   "cell_type": "code",
   "execution_count": null,
   "id": "94252867-27d1-4b52-bef8-8f92e0e3da2e",
   "metadata": {},
   "outputs": [],
   "source": [
    "adata=sc.read_h5ad(\"../case_control/data/mouse.h5ad\")\n",
    "run_scdisinfact(adata=adata, batch_key='real_batch', condition_key=\"sample\", cell_type_label='compartment', dataset_name=\"mouse\")"
   ]
  },
  {
   "cell_type": "markdown",
   "id": "4e71aaf9-16ff-492b-acee-9e8d27cc11ca",
   "metadata": {},
   "source": [
    "# SEA-AD dataset\n",
    "\n",
    "https://cellxgene.cziscience.com/collections/1ca90a2d-2943-483d-b678-b809bf464c30"
   ]
  },
  {
   "cell_type": "code",
   "execution_count": null,
   "id": "45579a1f-1e1b-4733-b113-231606ec7a08",
   "metadata": {},
   "outputs": [],
   "source": [
    "adata=sc.read_h5ad(\"../case_control/data/AD.h5ad\")\n",
    "run_scdisinfact(adata=adata, batch_key='donor_id', condition_key=\"disease\", cell_type_label='Subclass', dataset_name=\"AD\")"
   ]
  }
 ],
 "metadata": {
  "kernelspec": {
   "display_name": "Python 3 (ipykernel)",
   "language": "python",
   "name": "python3"
  },
  "language_info": {
   "codemirror_mode": {
    "name": "ipython",
    "version": 3
   },
   "file_extension": ".py",
   "mimetype": "text/x-python",
   "name": "python",
   "nbconvert_exporter": "python",
   "pygments_lexer": "ipython3",
   "version": "3.11.11"
  }
 },
 "nbformat": 4,
 "nbformat_minor": 5
}
