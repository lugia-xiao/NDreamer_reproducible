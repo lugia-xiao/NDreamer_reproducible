{
 "cells": [
  {
   "cell_type": "code",
   "execution_count": 1,
   "id": "e221aeb6-b48f-4f1c-b0ba-65fa364b7154",
   "metadata": {},
   "outputs": [
    {
     "name": "stderr",
     "output_type": "stream",
     "text": [
      "Unable to determine R library path: Command '('/vast/palmer/apps/avx2/software/R/4.3.2-foss-2022b-patched/lib64/R/bin/Rscript', '-e', 'cat(Sys.getenv(\"LD_LIBRARY_PATH\"))')' returned non-zero exit status 127.\n",
      "/tmp/ipykernel_2723568/963067665.py:7: DeprecationWarning: The global conversion available with activate() is deprecated and will be removed in the next major release. Use a local converter.\n",
      "  anndata2ri.activate()\n"
     ]
    },
    {
     "name": "stdout",
     "output_type": "stream",
     "text": [
      "['/gpfs/gibbs/project/wang_zuoheng/xx244/R/4.3'\n",
      " '/vast/palmer/apps/avx2/software/R/4.3.2-foss-2022b-patched/lib64/R/library']\n",
      "R_HOME is already set to: /vast/palmer/apps/avx2/software/R/4.3.2-foss-2022b-patched/lib64/R\n"
     ]
    },
    {
     "name": "stderr",
     "output_type": "stream",
     "text": [
      "/gpfs/gibbs/project/wang_zuoheng/xx244/Ndreamer/reproducible/metrics.py:29: DeprecationWarning: The global conversion available with activate() is deprecated and will be removed in the next major release. Use a local converter.\n",
      "  anndata2ri.activate()\n",
      "/home/xx244/.conda/envs/benchmark/lib/python3.11/site-packages/rpy2/robjects/pandas2ri.py:368: DeprecationWarning: The global conversion available with activate() is deprecated and will be removed in the next major release. Use a local converter.\n",
      "  warnings.warn('The global conversion available with activate() '\n",
      "/home/xx244/.conda/envs/benchmark/lib/python3.11/site-packages/rpy2/robjects/numpy2ri.py:241: DeprecationWarning: The global conversion available with activate() is deprecated and will be removed in the next major release. Use a local converter.\n",
      "  warnings.warn('The global conversion available with activate() '\n"
     ]
    }
   ],
   "source": [
    "import scanpy as sc\n",
    "import numpy as np\n",
    "\n",
    "import rpy2.robjects as robjects\n",
    "\n",
    "import anndata2ri\n",
    "anndata2ri.activate()\n",
    "# Add your library path\n",
    "library_path = \"/gpfs/gibbs/project/wang_zuoheng/xx244/R/4.3/\"  # Replace with the actual path\n",
    "# Update R's library paths\n",
    "robjects.r(f'.libPaths(c(\"{library_path}\", .libPaths()))')\n",
    "# Verify the updated library paths\n",
    "print(robjects.r('.libPaths()'))\n",
    "\n",
    "from metrics import calculate_metrics\n",
    "\n",
    "import warnings\n",
    "warnings.filterwarnings(\"ignore\")\n",
    "warnings.filterwarnings(\"ignore\", category=FutureWarning)"
   ]
  },
  {
   "cell_type": "markdown",
   "id": "1976c7bc-0412-4955-9a33-f4e69e867c2a",
   "metadata": {},
   "source": [
    "# Gene target of CRISPR as condition, phase as cell type"
   ]
  },
  {
   "cell_type": "code",
   "execution_count": 2,
   "id": "67af13a5-d1b5-4d06-b511-00322765d41a",
   "metadata": {
    "execution": {
     "iopub.execute_input": "2025-01-07T18:10:06.131451Z",
     "iopub.status.busy": "2025-01-07T18:10:06.131093Z",
     "iopub.status.idle": "2025-01-07T18:15:35.282848Z",
     "shell.execute_reply": "2025-01-07T18:15:35.282288Z"
    }
   },
   "outputs": [
    {
     "name": "stdout",
     "output_type": "stream",
     "text": [
      "LISI---\n"
     ]
    },
    {
     "name": "stdout",
     "output_type": "stream",
     "text": [
      "cLISI, bLISI, LISI_F1 0.9188518412850242 0.27087271641865174 0.41840254977261\n"
     ]
    },
    {
     "name": "stdout",
     "output_type": "stream",
     "text": [
      "ASW---\n"
     ]
    },
    {
     "name": "stdout",
     "output_type": "stream",
     "text": [
      "asw_label 0.5369665175676346\n"
     ]
    },
    {
     "name": "stdout",
     "output_type": "stream",
     "text": [
      "asw_batch 0.9077126520781662\n"
     ]
    },
    {
     "name": "stdout",
     "output_type": "stream",
     "text": [
      "kBET---\n"
     ]
    },
    {
     "name": "stdout",
     "output_type": "stream",
     "text": [
      "0 labels consist of a single batch or is too small. Skip.\n"
     ]
    },
    {
     "name": "stdout",
     "output_type": "stream",
     "text": [
      "Adding diffusion to step 4\n"
     ]
    },
    {
     "name": "stdout",
     "output_type": "stream",
     "text": [
      "Adding diffusion to step 4\n",
      "Adding diffusion to step 5\n"
     ]
    },
    {
     "name": "stdout",
     "output_type": "stream",
     "text": [
      "Adding diffusion to step 6\n"
     ]
    },
    {
     "name": "stdout",
     "output_type": "stream",
     "text": [
      "Adding diffusion to step 7\n"
     ]
    },
    {
     "name": "stdout",
     "output_type": "stream",
     "text": [
      "Adding diffusion to step 8\n"
     ]
    },
    {
     "name": "stdout",
     "output_type": "stream",
     "text": [
      "kbet_score 0.8920123061475849\n",
      "graph_conn 0.9136929003103322\n"
     ]
    },
    {
     "name": "stdout",
     "output_type": "stream",
     "text": [
      "NMI, ARI ---\n",
      "NMI 0.38523762301241105\n",
      "ARI 0.4543595191856554\n",
      "positive and true positive rate---\n"
     ]
    },
    {
     "name": "stdout",
     "output_type": "stream",
     "text": [
      "                             ASW_label      ARI       NMI   1-cLISI     bLISI  \\\n",
      "X_effect_modifier_space_PCA   0.536967  0.45436  0.385238  0.918852  0.270873   \n",
      "\n",
      "                             ASW_batch  kBET Accept Rate  graph connectivity  \\\n",
      "X_effect_modifier_space_PCA   0.907713          0.892012            0.913693   \n",
      "\n",
      "                             PCR_batch  pos rate  true pos rate   F1 LISI  \n",
      "X_effect_modifier_space_PCA   0.577223  0.920643       0.510251  0.418403  \n"
     ]
    }
   ],
   "source": [
    "adata1=sc.read_h5ad(\"./ECCITE/adata.h5ad\")\n",
    "\n",
    "try:\n",
    "    calculate_metrics(adata1, batch_key='gene_target', celltype_key=\"Phase\", all=True, n_neighbors=15, embed='X_effect_modifier_space_PCA')\n",
    "except:\n",
    "    calculate_metrics(adata1, batch_key='gene_target', celltype_key=\"Phase\", all=True, n_neighbors=15, embed='X_effect_modifier_space_PCA')"
   ]
  },
  {
   "cell_type": "code",
   "execution_count": 3,
   "id": "c746402c-035e-458e-a30c-d4a14ad7aa25",
   "metadata": {
    "execution": {
     "iopub.execute_input": "2025-01-07T18:15:35.285211Z",
     "iopub.status.busy": "2025-01-07T18:15:35.284578Z",
     "iopub.status.idle": "2025-01-07T18:19:59.275211Z",
     "shell.execute_reply": "2025-01-07T18:19:59.274715Z"
    }
   },
   "outputs": [
    {
     "name": "stdout",
     "output_type": "stream",
     "text": [
      "['/gpfs/gibbs/project/wang_zuoheng/xx244/R/4.3'\n",
      " '/vast/palmer/apps/avx2/software/R/4.3.2-foss-2022b-patched/lib64/R/library']\n",
      "LISI---\n"
     ]
    },
    {
     "name": "stdout",
     "output_type": "stream",
     "text": [
      "cLISI, bLISI, LISI_F1 0.9188518412850242 0.7068917241835242 0.7990543848998459\n"
     ]
    },
    {
     "name": "stdout",
     "output_type": "stream",
     "text": [
      "ASW---\n"
     ]
    },
    {
     "name": "stdout",
     "output_type": "stream",
     "text": [
      "asw_label 0.5369665175676346\n"
     ]
    },
    {
     "name": "stdout",
     "output_type": "stream",
     "text": [
      "asw_batch 0.9469179019161514\n"
     ]
    },
    {
     "name": "stdout",
     "output_type": "stream",
     "text": [
      "kBET---\n"
     ]
    },
    {
     "name": "stdout",
     "output_type": "stream",
     "text": [
      "0 labels consist of a single batch or is too small. Skip.\n"
     ]
    },
    {
     "name": "stdout",
     "output_type": "stream",
     "text": [
      "Adding diffusion to step 4\n"
     ]
    },
    {
     "name": "stdout",
     "output_type": "stream",
     "text": [
      "Adding diffusion to step 5\n"
     ]
    },
    {
     "name": "stdout",
     "output_type": "stream",
     "text": [
      "Adding diffusion to step 4\n",
      "Adding diffusion to step 5\n"
     ]
    },
    {
     "name": "stdout",
     "output_type": "stream",
     "text": [
      "Adding diffusion to step 6\n"
     ]
    },
    {
     "name": "stdout",
     "output_type": "stream",
     "text": [
      "Adding diffusion to step 7\n"
     ]
    },
    {
     "name": "stdout",
     "output_type": "stream",
     "text": [
      "Adding diffusion to step 8\n"
     ]
    },
    {
     "name": "stdout",
     "output_type": "stream",
     "text": [
      "Adding diffusion to step 9\n"
     ]
    },
    {
     "name": "stdout",
     "output_type": "stream",
     "text": [
      "Adding diffusion to step 10\n"
     ]
    },
    {
     "name": "stdout",
     "output_type": "stream",
     "text": [
      "Adding diffusion to step 11\n"
     ]
    },
    {
     "name": "stdout",
     "output_type": "stream",
     "text": [
      "Adding diffusion to step 12\n"
     ]
    },
    {
     "name": "stdout",
     "output_type": "stream",
     "text": [
      "kbet_score 0.6644905164970081\n",
      "graph_conn 0.9136929003103322\n",
      "Warning: cluster key cluster already exists in adata.obs and will be overwritten\n"
     ]
    },
    {
     "name": "stdout",
     "output_type": "stream",
     "text": [
      "NMI, ARI ---\n",
      "NMI 0.38523762301241105\n",
      "ARI 0.4543595191856554\n",
      "positive and true positive rate---\n"
     ]
    },
    {
     "name": "stdout",
     "output_type": "stream",
     "text": [
      "                             ASW_label      ARI       NMI   1-cLISI     bLISI  \\\n",
      "X_effect_modifier_space_PCA   0.536967  0.45436  0.385238  0.918852  0.706892   \n",
      "\n",
      "                             ASW_batch  kBET Accept Rate  graph connectivity  \\\n",
      "X_effect_modifier_space_PCA   0.946918          0.664491            0.913693   \n",
      "\n",
      "                             PCR_batch  pos rate  true pos rate   F1 LISI  \n",
      "X_effect_modifier_space_PCA    0.95164  0.920643       0.661151  0.799054  \n"
     ]
    },
    {
     "data": {
      "text/html": [
       "<div>\n",
       "<style scoped>\n",
       "    .dataframe tbody tr th:only-of-type {\n",
       "        vertical-align: middle;\n",
       "    }\n",
       "\n",
       "    .dataframe tbody tr th {\n",
       "        vertical-align: top;\n",
       "    }\n",
       "\n",
       "    .dataframe thead th {\n",
       "        text-align: right;\n",
       "    }\n",
       "</style>\n",
       "<table border=\"1\" class=\"dataframe\">\n",
       "  <thead>\n",
       "    <tr style=\"text-align: right;\">\n",
       "      <th></th>\n",
       "      <th>ASW_label</th>\n",
       "      <th>ARI</th>\n",
       "      <th>NMI</th>\n",
       "      <th>1-cLISI</th>\n",
       "      <th>bLISI</th>\n",
       "      <th>ASW_batch</th>\n",
       "      <th>kBET Accept Rate</th>\n",
       "      <th>graph connectivity</th>\n",
       "      <th>PCR_batch</th>\n",
       "      <th>pos rate</th>\n",
       "      <th>true pos rate</th>\n",
       "      <th>F1 LISI</th>\n",
       "    </tr>\n",
       "  </thead>\n",
       "  <tbody>\n",
       "    <tr>\n",
       "      <th>X_effect_modifier_space_PCA</th>\n",
       "      <td>0.536967</td>\n",
       "      <td>0.45436</td>\n",
       "      <td>0.385238</td>\n",
       "      <td>0.918852</td>\n",
       "      <td>0.706892</td>\n",
       "      <td>0.946918</td>\n",
       "      <td>0.664491</td>\n",
       "      <td>0.913693</td>\n",
       "      <td>0.95164</td>\n",
       "      <td>0.920643</td>\n",
       "      <td>0.661151</td>\n",
       "      <td>0.799054</td>\n",
       "    </tr>\n",
       "  </tbody>\n",
       "</table>\n",
       "</div>"
      ],
      "text/plain": [
       "                             ASW_label      ARI       NMI   1-cLISI     bLISI  \\\n",
       "X_effect_modifier_space_PCA   0.536967  0.45436  0.385238  0.918852  0.706892   \n",
       "\n",
       "                             ASW_batch  kBET Accept Rate  graph connectivity  \\\n",
       "X_effect_modifier_space_PCA   0.946918          0.664491            0.913693   \n",
       "\n",
       "                             PCR_batch  pos rate  true pos rate   F1 LISI  \n",
       "X_effect_modifier_space_PCA    0.95164  0.920643       0.661151  0.799054  "
      ]
     },
     "execution_count": 3,
     "metadata": {},
     "output_type": "execute_result"
    }
   ],
   "source": [
    "import rpy2.robjects as robjects\n",
    "\n",
    "import anndata2ri\n",
    "anndata2ri.activate()\n",
    "# Add your library path\n",
    "library_path = \"/gpfs/gibbs/project/wang_zuoheng/xx244/R/4.3/\"  # Replace with the actual path\n",
    "# Update R's library paths\n",
    "robjects.r(f'.libPaths(c(\"{library_path}\", .libPaths()))')\n",
    "# Verify the updated library paths\n",
    "print(robjects.r('.libPaths()'))\n",
    "\n",
    "from metrics import calculate_metrics\n",
    "\n",
    "import warnings\n",
    "warnings.filterwarnings(\"ignore\")\n",
    "warnings.filterwarnings(\"ignore\", category=FutureWarning)\n",
    "\n",
    "calculate_metrics(adata1, batch_key='replicate', celltype_key=\"Phase\", all=True, n_neighbors=15, embed='X_effect_modifier_space_PCA')"
   ]
  },
  {
   "cell_type": "code",
   "execution_count": 3,
   "id": "9c8d387e-d186-4fb3-bc4e-97b1c998ac41",
   "metadata": {},
   "outputs": [
    {
     "name": "stdout",
     "output_type": "stream",
     "text": [
      "['/gpfs/gibbs/project/wang_zuoheng/xx244/R/4.3'\n",
      " '/vast/palmer/apps/avx2/software/R/4.3.2-foss-2022b-patched/lib64/R/library']\n",
      "LISI---\n",
      "cLISI, bLISI, LISI_F1 0.9188518412850242 0.2634935493614416 0.4095445119722736\n",
      "ASW---\n",
      "asw_label 0.5369665175676346\n",
      "asw_batch 0.9730852886575341\n",
      "kBET---\n",
      "0 labels consist of a single batch or is too small. Skip.\n",
      "Adding diffusion to step 4\n",
      "Adding diffusion to step 5\n",
      "Adding diffusion to step 4\n",
      "Adding diffusion to step 5\n",
      "Adding diffusion to step 6\n",
      "Adding diffusion to step 7\n",
      "Adding diffusion to step 8\n",
      "Adding diffusion to step 9\n",
      "Adding diffusion to step 10\n",
      "Adding diffusion to step 11\n",
      "Adding diffusion to step 12\n",
      "kbet_score 0.9483492935502882\n",
      "graph_conn 0.9136929003103322\n",
      "NMI, ARI ---\n",
      "NMI 0.38523762301241105\n",
      "ARI 0.4543595191856554\n",
      "positive and true positive rate---\n",
      "                             ASW_label      ARI       NMI   1-cLISI     bLISI  \\\n",
      "X_effect_modifier_space_PCA   0.536967  0.45436  0.385238  0.918852  0.263494   \n",
      "\n",
      "                             ASW_batch  kBET Accept Rate  graph connectivity  \\\n",
      "X_effect_modifier_space_PCA   0.973085          0.948349            0.913693   \n",
      "\n",
      "                             PCR_batch  pos rate  true pos rate   F1 LISI  \n",
      "X_effect_modifier_space_PCA   0.664941  0.920643       0.877804  0.409545  \n"
     ]
    },
    {
     "data": {
      "text/html": [
       "<div>\n",
       "<style scoped>\n",
       "    .dataframe tbody tr th:only-of-type {\n",
       "        vertical-align: middle;\n",
       "    }\n",
       "\n",
       "    .dataframe tbody tr th {\n",
       "        vertical-align: top;\n",
       "    }\n",
       "\n",
       "    .dataframe thead th {\n",
       "        text-align: right;\n",
       "    }\n",
       "</style>\n",
       "<table border=\"1\" class=\"dataframe\">\n",
       "  <thead>\n",
       "    <tr style=\"text-align: right;\">\n",
       "      <th></th>\n",
       "      <th>ASW_label</th>\n",
       "      <th>ARI</th>\n",
       "      <th>NMI</th>\n",
       "      <th>1-cLISI</th>\n",
       "      <th>bLISI</th>\n",
       "      <th>ASW_batch</th>\n",
       "      <th>kBET Accept Rate</th>\n",
       "      <th>graph connectivity</th>\n",
       "      <th>PCR_batch</th>\n",
       "      <th>pos rate</th>\n",
       "      <th>true pos rate</th>\n",
       "      <th>F1 LISI</th>\n",
       "    </tr>\n",
       "  </thead>\n",
       "  <tbody>\n",
       "    <tr>\n",
       "      <th>X_effect_modifier_space_PCA</th>\n",
       "      <td>0.536967</td>\n",
       "      <td>0.45436</td>\n",
       "      <td>0.385238</td>\n",
       "      <td>0.918852</td>\n",
       "      <td>0.263494</td>\n",
       "      <td>0.973085</td>\n",
       "      <td>0.948349</td>\n",
       "      <td>0.913693</td>\n",
       "      <td>0.664941</td>\n",
       "      <td>0.920643</td>\n",
       "      <td>0.877804</td>\n",
       "      <td>0.409545</td>\n",
       "    </tr>\n",
       "  </tbody>\n",
       "</table>\n",
       "</div>"
      ],
      "text/plain": [
       "                             ASW_label      ARI       NMI   1-cLISI     bLISI  \\\n",
       "X_effect_modifier_space_PCA   0.536967  0.45436  0.385238  0.918852  0.263494   \n",
       "\n",
       "                             ASW_batch  kBET Accept Rate  graph connectivity  \\\n",
       "X_effect_modifier_space_PCA   0.973085          0.948349            0.913693   \n",
       "\n",
       "                             PCR_batch  pos rate  true pos rate   F1 LISI  \n",
       "X_effect_modifier_space_PCA   0.664941  0.920643       0.877804  0.409545  "
      ]
     },
     "execution_count": 3,
     "metadata": {},
     "output_type": "execute_result"
    }
   ],
   "source": [
    "import rpy2.robjects as robjects\n",
    "adata1=sc.read_h5ad(\"./ECCITE/adata.h5ad\")\n",
    "import anndata2ri\n",
    "anndata2ri.activate()\n",
    "# Add your library path\n",
    "library_path = \"/gpfs/gibbs/project/wang_zuoheng/xx244/R/4.3/\"  # Replace with the actual path\n",
    "# Update R's library paths\n",
    "robjects.r(f'.libPaths(c(\"{library_path}\", .libPaths()))')\n",
    "# Verify the updated library paths\n",
    "print(robjects.r('.libPaths()'))\n",
    "\n",
    "from metrics import calculate_metrics\n",
    "\n",
    "import warnings\n",
    "warnings.filterwarnings(\"ignore\")\n",
    "warnings.filterwarnings(\"ignore\", category=FutureWarning)\n",
    "\n",
    "calculate_metrics(adata1, batch_key='perturbation', celltype_key=\"Phase\", all=True, n_neighbors=15, embed='X_effect_modifier_space_PCA')"
   ]
  },
  {
   "cell_type": "markdown",
   "id": "01bb1213-1809-4cb8-b187-cc556569d29e",
   "metadata": {},
   "source": [
    "# Whether or not perturbed as label, phase as cell type"
   ]
  },
  {
   "cell_type": "code",
   "execution_count": 4,
   "id": "e0fd96cd-4eea-4314-9335-d6c87e8d48ca",
   "metadata": {},
   "outputs": [
    {
     "name": "stdout",
     "output_type": "stream",
     "text": [
      "['/gpfs/gibbs/project/wang_zuoheng/xx244/R/4.3'\n",
      " '/vast/palmer/apps/avx2/software/R/4.3.2-foss-2022b-patched/lib64/R/library']\n",
      "LISI---\n",
      "cLISI, bLISI, LISI_F1 0.9259990996045417 0.3671958752029579 0.5258650960456374\n",
      "ASW---\n",
      "asw_label 0.519734313711524\n",
      "asw_batch 0.9737485406524303\n",
      "kBET---\n",
      "0 labels consist of a single batch or is too small. Skip.\n",
      "Adding diffusion to step 4\n",
      "Adding diffusion to step 4\n",
      "Adding diffusion to step 5\n",
      "Adding diffusion to step 6\n",
      "Adding diffusion to step 7\n",
      "Adding diffusion to step 8\n",
      "Adding diffusion to step 9\n",
      "Adding diffusion to step 10\n",
      "kbet_score 0.6966091681859744\n",
      "graph_conn 0.9215613532025978\n",
      "NMI, ARI ---\n",
      "NMI 0.4061917375801695\n",
      "ARI 0.4728041380977415\n",
      "positive and true positive rate---\n",
      "                             ASW_label       ARI       NMI   1-cLISI  \\\n",
      "X_effect_modifier_space_PCA   0.519734  0.472804  0.406192  0.925999   \n",
      "\n",
      "                                bLISI  ASW_batch  kBET Accept Rate  \\\n",
      "X_effect_modifier_space_PCA  0.367196   0.973749          0.696609   \n",
      "\n",
      "                             graph connectivity  PCR_batch  pos rate  \\\n",
      "X_effect_modifier_space_PCA            0.921561   0.929934  0.932172   \n",
      "\n",
      "                             true pos rate   F1 LISI  \n",
      "X_effect_modifier_space_PCA       0.708621  0.525865  \n"
     ]
    },
    {
     "data": {
      "text/html": [
       "<div>\n",
       "<style scoped>\n",
       "    .dataframe tbody tr th:only-of-type {\n",
       "        vertical-align: middle;\n",
       "    }\n",
       "\n",
       "    .dataframe tbody tr th {\n",
       "        vertical-align: top;\n",
       "    }\n",
       "\n",
       "    .dataframe thead th {\n",
       "        text-align: right;\n",
       "    }\n",
       "</style>\n",
       "<table border=\"1\" class=\"dataframe\">\n",
       "  <thead>\n",
       "    <tr style=\"text-align: right;\">\n",
       "      <th></th>\n",
       "      <th>ASW_label</th>\n",
       "      <th>ARI</th>\n",
       "      <th>NMI</th>\n",
       "      <th>1-cLISI</th>\n",
       "      <th>bLISI</th>\n",
       "      <th>ASW_batch</th>\n",
       "      <th>kBET Accept Rate</th>\n",
       "      <th>graph connectivity</th>\n",
       "      <th>PCR_batch</th>\n",
       "      <th>pos rate</th>\n",
       "      <th>true pos rate</th>\n",
       "      <th>F1 LISI</th>\n",
       "    </tr>\n",
       "  </thead>\n",
       "  <tbody>\n",
       "    <tr>\n",
       "      <th>X_effect_modifier_space_PCA</th>\n",
       "      <td>0.519734</td>\n",
       "      <td>0.472804</td>\n",
       "      <td>0.406192</td>\n",
       "      <td>0.925999</td>\n",
       "      <td>0.367196</td>\n",
       "      <td>0.973749</td>\n",
       "      <td>0.696609</td>\n",
       "      <td>0.921561</td>\n",
       "      <td>0.929934</td>\n",
       "      <td>0.932172</td>\n",
       "      <td>0.708621</td>\n",
       "      <td>0.525865</td>\n",
       "    </tr>\n",
       "  </tbody>\n",
       "</table>\n",
       "</div>"
      ],
      "text/plain": [
       "                             ASW_label       ARI       NMI   1-cLISI  \\\n",
       "X_effect_modifier_space_PCA   0.519734  0.472804  0.406192  0.925999   \n",
       "\n",
       "                                bLISI  ASW_batch  kBET Accept Rate  \\\n",
       "X_effect_modifier_space_PCA  0.367196   0.973749          0.696609   \n",
       "\n",
       "                             graph connectivity  PCR_batch  pos rate  \\\n",
       "X_effect_modifier_space_PCA            0.921561   0.929934  0.932172   \n",
       "\n",
       "                             true pos rate   F1 LISI  \n",
       "X_effect_modifier_space_PCA       0.708621  0.525865  "
      ]
     },
     "execution_count": 4,
     "metadata": {},
     "output_type": "execute_result"
    },
    {
     "name": "stdout",
     "output_type": "stream",
     "text": [
      "ASW---\n"
     ]
    },
    {
     "name": "stdout",
     "output_type": "stream",
     "text": [
      "asw_label 0.519734313711524\n"
     ]
    },
    {
     "name": "stdout",
     "output_type": "stream",
     "text": [
      "asw_batch 0.968320329825204\n"
     ]
    },
    {
     "name": "stdout",
     "output_type": "stream",
     "text": [
      "kBET---\n"
     ]
    },
    {
     "name": "stdout",
     "output_type": "stream",
     "text": [
      "0 labels consist of a single batch or is too small. Skip.\n"
     ]
    },
    {
     "name": "stdout",
     "output_type": "stream",
     "text": [
      "Adding diffusion to step 4\n"
     ]
    },
    {
     "name": "stdout",
     "output_type": "stream",
     "text": [
      "Adding diffusion to step 4\n",
      "Adding diffusion to step 5\n"
     ]
    },
    {
     "name": "stdout",
     "output_type": "stream",
     "text": [
      "Adding diffusion to step 6\n"
     ]
    },
    {
     "name": "stdout",
     "output_type": "stream",
     "text": [
      "Adding diffusion to step 7\n"
     ]
    },
    {
     "name": "stdout",
     "output_type": "stream",
     "text": [
      "Adding diffusion to step 8\n"
     ]
    },
    {
     "name": "stdout",
     "output_type": "stream",
     "text": [
      "Adding diffusion to step 9\n"
     ]
    },
    {
     "name": "stdout",
     "output_type": "stream",
     "text": [
      "Adding diffusion to step 10\n"
     ]
    },
    {
     "name": "stdout",
     "output_type": "stream",
     "text": [
      "kbet_score 0.8992961288007474\n",
      "graph_conn 0.9084747806990928\n"
     ]
    },
    {
     "name": "stdout",
     "output_type": "stream",
     "text": [
      "NMI, ARI ---\n",
      "NMI 0.41151428406557045\n",
      "ARI 0.47628941542828634\n",
      "positive and true positive rate---\n"
     ]
    },
    {
     "name": "stdout",
     "output_type": "stream",
     "text": [
      "                             ASW_label       ARI       NMI   1-cLISI  \\\n",
      "X_effect_modifier_space_PCA   0.519734  0.476289  0.411514  0.925999   \n",
      "\n",
      "                                bLISI  ASW_batch  kBET Accept Rate  \\\n",
      "X_effect_modifier_space_PCA  0.235387    0.96832          0.899296   \n",
      "\n",
      "                             graph connectivity  PCR_batch  pos rate  \\\n",
      "X_effect_modifier_space_PCA            0.908475   0.321345  0.932172   \n",
      "\n",
      "                             true pos rate   F1 LISI  \n",
      "X_effect_modifier_space_PCA       0.878817  0.375359  \n"
     ]
    },
    {
     "data": {
      "text/html": [
       "<div>\n",
       "<style scoped>\n",
       "    .dataframe tbody tr th:only-of-type {\n",
       "        vertical-align: middle;\n",
       "    }\n",
       "\n",
       "    .dataframe tbody tr th {\n",
       "        vertical-align: top;\n",
       "    }\n",
       "\n",
       "    .dataframe thead th {\n",
       "        text-align: right;\n",
       "    }\n",
       "</style>\n",
       "<table border=\"1\" class=\"dataframe\">\n",
       "  <thead>\n",
       "    <tr style=\"text-align: right;\">\n",
       "      <th></th>\n",
       "      <th>ASW_label</th>\n",
       "      <th>ARI</th>\n",
       "      <th>NMI</th>\n",
       "      <th>1-cLISI</th>\n",
       "      <th>bLISI</th>\n",
       "      <th>ASW_batch</th>\n",
       "      <th>kBET Accept Rate</th>\n",
       "      <th>graph connectivity</th>\n",
       "      <th>PCR_batch</th>\n",
       "      <th>pos rate</th>\n",
       "      <th>true pos rate</th>\n",
       "      <th>F1 LISI</th>\n",
       "    </tr>\n",
       "  </thead>\n",
       "  <tbody>\n",
       "    <tr>\n",
       "      <th>X_effect_modifier_space_PCA</th>\n",
       "      <td>0.519734</td>\n",
       "      <td>0.476289</td>\n",
       "      <td>0.411514</td>\n",
       "      <td>0.925999</td>\n",
       "      <td>0.235387</td>\n",
       "      <td>0.96832</td>\n",
       "      <td>0.899296</td>\n",
       "      <td>0.908475</td>\n",
       "      <td>0.321345</td>\n",
       "      <td>0.932172</td>\n",
       "      <td>0.878817</td>\n",
       "      <td>0.375359</td>\n",
       "    </tr>\n",
       "  </tbody>\n",
       "</table>\n",
       "</div>"
      ],
      "text/plain": [
       "                             ASW_label       ARI       NMI   1-cLISI  \\\n",
       "X_effect_modifier_space_PCA   0.519734  0.476289  0.411514  0.925999   \n",
       "\n",
       "                                bLISI  ASW_batch  kBET Accept Rate  \\\n",
       "X_effect_modifier_space_PCA  0.235387    0.96832          0.899296   \n",
       "\n",
       "                             graph connectivity  PCR_batch  pos rate  \\\n",
       "X_effect_modifier_space_PCA            0.908475   0.321345  0.932172   \n",
       "\n",
       "                             true pos rate   F1 LISI  \n",
       "X_effect_modifier_space_PCA       0.878817  0.375359  "
      ]
     },
     "execution_count": 4,
     "metadata": {},
     "output_type": "execute_result"
    }
   ],
   "source": [
    "adata2=sc.read_h5ad(\"./ECCITE_perturbation/adata.h5ad\")\n",
    "\n",
    "cb=[]\n",
    "for i in range(adata2.shape[0]):\n",
    "    cb.append(str(adata2.obs[\"perturbation\"][i])+\"_\"+str(adata2.obs[\"replicate\"][i]))\n",
    "adata2.obs[\"cb\"]=np.array(cb)\n",
    "\n",
    "import rpy2.robjects as robjects\n",
    "\n",
    "import anndata2ri\n",
    "anndata2ri.activate()\n",
    "# Add your library path\n",
    "library_path = \"/gpfs/gibbs/project/wang_zuoheng/xx244/R/4.3/\"  # Replace with the actual path\n",
    "# Update R's library paths\n",
    "robjects.r(f'.libPaths(c(\"{library_path}\", .libPaths()))')\n",
    "# Verify the updated library paths\n",
    "print(robjects.r('.libPaths()'))\n",
    "\n",
    "from metrics import calculate_metrics\n",
    "\n",
    "import warnings\n",
    "warnings.filterwarnings(\"ignore\")\n",
    "warnings.filterwarnings(\"ignore\", category=FutureWarning)\n",
    "\n",
    "calculate_metrics(adata2, batch_key='cb', celltype_key=\"Phase\", all=True, n_neighbors=15, embed='X_effect_modifier_space_PCA')"
   ]
  },
  {
   "cell_type": "code",
   "execution_count": 5,
   "id": "6c3e6ed3-cd12-43c0-b338-3ac4f714126d",
   "metadata": {
    "execution": {
     "iopub.execute_input": "2025-01-07T18:24:28.445698Z",
     "iopub.status.busy": "2025-01-07T18:24:28.445483Z",
     "iopub.status.idle": "2025-01-07T18:28:46.550728Z",
     "shell.execute_reply": "2025-01-07T18:28:46.550231Z"
    }
   },
   "outputs": [
    {
     "name": "stdout",
     "output_type": "stream",
     "text": [
      "['/gpfs/gibbs/project/wang_zuoheng/xx244/R/4.3'\n",
      " '/vast/palmer/apps/avx2/software/R/4.3.2-foss-2022b-patched/lib64/R/library']\n",
      "LISI---\n"
     ]
    },
    {
     "name": "stdout",
     "output_type": "stream",
     "text": [
      "cLISI, bLISI, LISI_F1 0.9259990996045417 0.6870308880965064 0.7888135851517502\n"
     ]
    },
    {
     "name": "stdout",
     "output_type": "stream",
     "text": [
      "ASW---\n"
     ]
    },
    {
     "name": "stdout",
     "output_type": "stream",
     "text": [
      "asw_label 0.519734313711524\n"
     ]
    },
    {
     "name": "stdout",
     "output_type": "stream",
     "text": [
      "asw_batch 0.9730001248524118\n"
     ]
    },
    {
     "name": "stdout",
     "output_type": "stream",
     "text": [
      "kBET---\n"
     ]
    },
    {
     "name": "stdout",
     "output_type": "stream",
     "text": [
      "0 labels consist of a single batch or is too small. Skip.\n"
     ]
    },
    {
     "name": "stdout",
     "output_type": "stream",
     "text": [
      "Adding diffusion to step 4\n"
     ]
    },
    {
     "name": "stdout",
     "output_type": "stream",
     "text": [
      "Adding diffusion to step 4\n",
      "Adding diffusion to step 5\n"
     ]
    },
    {
     "name": "stdout",
     "output_type": "stream",
     "text": [
      "Adding diffusion to step 6\n"
     ]
    },
    {
     "name": "stdout",
     "output_type": "stream",
     "text": [
      "Adding diffusion to step 7\n"
     ]
    },
    {
     "name": "stdout",
     "output_type": "stream",
     "text": [
      "Adding diffusion to step 8\n"
     ]
    },
    {
     "name": "stdout",
     "output_type": "stream",
     "text": [
      "Adding diffusion to step 9\n"
     ]
    },
    {
     "name": "stdout",
     "output_type": "stream",
     "text": [
      "Adding diffusion to step 10\n"
     ]
    },
    {
     "name": "stdout",
     "output_type": "stream",
     "text": [
      "kbet_score 0.6347630930462682\n",
      "graph_conn 0.9084747806990928\n",
      "Warning: cluster key cluster already exists in adata.obs and will be overwritten\n"
     ]
    },
    {
     "name": "stdout",
     "output_type": "stream",
     "text": [
      "NMI, ARI ---\n",
      "NMI 0.41151428406557045\n",
      "ARI 0.47628941542828634\n",
      "positive and true positive rate---\n"
     ]
    },
    {
     "name": "stdout",
     "output_type": "stream",
     "text": [
      "                             ASW_label       ARI       NMI   1-cLISI  \\\n",
      "X_effect_modifier_space_PCA   0.519734  0.476289  0.411514  0.925999   \n",
      "\n",
      "                                bLISI  ASW_batch  kBET Accept Rate  \\\n",
      "X_effect_modifier_space_PCA  0.687031      0.973          0.634763   \n",
      "\n",
      "                             graph connectivity  PCR_batch  pos rate  \\\n",
      "X_effect_modifier_space_PCA            0.908475   0.954823  0.932172   \n",
      "\n",
      "                             true pos rate   F1 LISI  \n",
      "X_effect_modifier_space_PCA       0.716146  0.788814  \n"
     ]
    },
    {
     "data": {
      "text/html": [
       "<div>\n",
       "<style scoped>\n",
       "    .dataframe tbody tr th:only-of-type {\n",
       "        vertical-align: middle;\n",
       "    }\n",
       "\n",
       "    .dataframe tbody tr th {\n",
       "        vertical-align: top;\n",
       "    }\n",
       "\n",
       "    .dataframe thead th {\n",
       "        text-align: right;\n",
       "    }\n",
       "</style>\n",
       "<table border=\"1\" class=\"dataframe\">\n",
       "  <thead>\n",
       "    <tr style=\"text-align: right;\">\n",
       "      <th></th>\n",
       "      <th>ASW_label</th>\n",
       "      <th>ARI</th>\n",
       "      <th>NMI</th>\n",
       "      <th>1-cLISI</th>\n",
       "      <th>bLISI</th>\n",
       "      <th>ASW_batch</th>\n",
       "      <th>kBET Accept Rate</th>\n",
       "      <th>graph connectivity</th>\n",
       "      <th>PCR_batch</th>\n",
       "      <th>pos rate</th>\n",
       "      <th>true pos rate</th>\n",
       "      <th>F1 LISI</th>\n",
       "    </tr>\n",
       "  </thead>\n",
       "  <tbody>\n",
       "    <tr>\n",
       "      <th>X_effect_modifier_space_PCA</th>\n",
       "      <td>0.519734</td>\n",
       "      <td>0.476289</td>\n",
       "      <td>0.411514</td>\n",
       "      <td>0.925999</td>\n",
       "      <td>0.687031</td>\n",
       "      <td>0.973</td>\n",
       "      <td>0.634763</td>\n",
       "      <td>0.908475</td>\n",
       "      <td>0.954823</td>\n",
       "      <td>0.932172</td>\n",
       "      <td>0.716146</td>\n",
       "      <td>0.788814</td>\n",
       "    </tr>\n",
       "  </tbody>\n",
       "</table>\n",
       "</div>"
      ],
      "text/plain": [
       "                             ASW_label       ARI       NMI   1-cLISI  \\\n",
       "X_effect_modifier_space_PCA   0.519734  0.476289  0.411514  0.925999   \n",
       "\n",
       "                                bLISI  ASW_batch  kBET Accept Rate  \\\n",
       "X_effect_modifier_space_PCA  0.687031      0.973          0.634763   \n",
       "\n",
       "                             graph connectivity  PCR_batch  pos rate  \\\n",
       "X_effect_modifier_space_PCA            0.908475   0.954823  0.932172   \n",
       "\n",
       "                             true pos rate   F1 LISI  \n",
       "X_effect_modifier_space_PCA       0.716146  0.788814  "
      ]
     },
     "execution_count": 5,
     "metadata": {},
     "output_type": "execute_result"
    }
   ],
   "source": [
    "import rpy2.robjects as robjects\n",
    "\n",
    "import anndata2ri\n",
    "anndata2ri.activate()\n",
    "# Add your library path\n",
    "library_path = \"/gpfs/gibbs/project/wang_zuoheng/xx244/R/4.3/\"  # Replace with the actual path\n",
    "# Update R's library paths\n",
    "robjects.r(f'.libPaths(c(\"{library_path}\", .libPaths()))')\n",
    "# Verify the updated library paths\n",
    "print(robjects.r('.libPaths()'))\n",
    "\n",
    "from metrics import calculate_metrics\n",
    "\n",
    "import warnings\n",
    "warnings.filterwarnings(\"ignore\")\n",
    "warnings.filterwarnings(\"ignore\", category=FutureWarning)\n",
    "\n",
    "calculate_metrics(adata2, batch_key='replicate', celltype_key=\"Phase\", all=True, n_neighbors=15, embed='X_effect_modifier_space_PCA')"
   ]
  },
  {
   "cell_type": "code",
   "execution_count": 4,
   "id": "7253a565-9dfe-4bfd-bd29-c0cfaa740eae",
   "metadata": {},
   "outputs": [
    {
     "name": "stdout",
     "output_type": "stream",
     "text": [
      "['/gpfs/gibbs/project/wang_zuoheng/xx244/R/4.3'\n",
      " '/vast/palmer/apps/avx2/software/R/4.3.2-foss-2022b-patched/lib64/R/library']\n",
      "LISI---\n",
      "cLISI, bLISI, LISI_F1 0.9259990996045417 0.2603531913293082 0.4064337761936368\n",
      "ASW---\n",
      "asw_label 0.519734313711524\n",
      "asw_batch 0.9104133527704752\n",
      "kBET---\n",
      "0 labels consist of a single batch or is too small. Skip.\n",
      "Adding diffusion to step 4\n",
      "Adding diffusion to step 5\n",
      "Adding diffusion to step 6\n",
      "Adding diffusion to step 7\n",
      "kbet_score 0.8174088257248177\n",
      "graph_conn 0.9084747806990928\n",
      "NMI, ARI ---\n",
      "NMI 0.41151428406557045\n",
      "ARI 0.47628941542828634\n",
      "positive and true positive rate---\n",
      "                             ASW_label       ARI       NMI   1-cLISI  \\\n",
      "X_effect_modifier_space_PCA   0.519734  0.476289  0.411514  0.925999   \n",
      "\n",
      "                                bLISI  ASW_batch  kBET Accept Rate  \\\n",
      "X_effect_modifier_space_PCA  0.260353   0.910413          0.817409   \n",
      "\n",
      "                             graph connectivity  PCR_batch  pos rate  \\\n",
      "X_effect_modifier_space_PCA            0.908475   0.182334  0.932172   \n",
      "\n",
      "                             true pos rate   F1 LISI  \n",
      "X_effect_modifier_space_PCA       0.407545  0.406434  \n"
     ]
    },
    {
     "data": {
      "text/html": [
       "<div>\n",
       "<style scoped>\n",
       "    .dataframe tbody tr th:only-of-type {\n",
       "        vertical-align: middle;\n",
       "    }\n",
       "\n",
       "    .dataframe tbody tr th {\n",
       "        vertical-align: top;\n",
       "    }\n",
       "\n",
       "    .dataframe thead th {\n",
       "        text-align: right;\n",
       "    }\n",
       "</style>\n",
       "<table border=\"1\" class=\"dataframe\">\n",
       "  <thead>\n",
       "    <tr style=\"text-align: right;\">\n",
       "      <th></th>\n",
       "      <th>ASW_label</th>\n",
       "      <th>ARI</th>\n",
       "      <th>NMI</th>\n",
       "      <th>1-cLISI</th>\n",
       "      <th>bLISI</th>\n",
       "      <th>ASW_batch</th>\n",
       "      <th>kBET Accept Rate</th>\n",
       "      <th>graph connectivity</th>\n",
       "      <th>PCR_batch</th>\n",
       "      <th>pos rate</th>\n",
       "      <th>true pos rate</th>\n",
       "      <th>F1 LISI</th>\n",
       "    </tr>\n",
       "  </thead>\n",
       "  <tbody>\n",
       "    <tr>\n",
       "      <th>X_effect_modifier_space_PCA</th>\n",
       "      <td>0.519734</td>\n",
       "      <td>0.476289</td>\n",
       "      <td>0.411514</td>\n",
       "      <td>0.925999</td>\n",
       "      <td>0.260353</td>\n",
       "      <td>0.910413</td>\n",
       "      <td>0.817409</td>\n",
       "      <td>0.908475</td>\n",
       "      <td>0.182334</td>\n",
       "      <td>0.932172</td>\n",
       "      <td>0.407545</td>\n",
       "      <td>0.406434</td>\n",
       "    </tr>\n",
       "  </tbody>\n",
       "</table>\n",
       "</div>"
      ],
      "text/plain": [
       "                             ASW_label       ARI       NMI   1-cLISI  \\\n",
       "X_effect_modifier_space_PCA   0.519734  0.476289  0.411514  0.925999   \n",
       "\n",
       "                                bLISI  ASW_batch  kBET Accept Rate  \\\n",
       "X_effect_modifier_space_PCA  0.260353   0.910413          0.817409   \n",
       "\n",
       "                             graph connectivity  PCR_batch  pos rate  \\\n",
       "X_effect_modifier_space_PCA            0.908475   0.182334  0.932172   \n",
       "\n",
       "                             true pos rate   F1 LISI  \n",
       "X_effect_modifier_space_PCA       0.407545  0.406434  "
      ]
     },
     "execution_count": 4,
     "metadata": {},
     "output_type": "execute_result"
    }
   ],
   "source": [
    "adata2=sc.read_h5ad(\"./ECCITE_perturbation/adata.h5ad\")\n",
    "\n",
    "import rpy2.robjects as robjects\n",
    "\n",
    "import anndata2ri\n",
    "anndata2ri.activate()\n",
    "# Add your library path\n",
    "library_path = \"/gpfs/gibbs/project/wang_zuoheng/xx244/R/4.3/\"  # Replace with the actual path\n",
    "# Update R's library paths\n",
    "robjects.r(f'.libPaths(c(\"{library_path}\", .libPaths()))')\n",
    "# Verify the updated library paths\n",
    "print(robjects.r('.libPaths()'))\n",
    "\n",
    "from metrics import calculate_metrics\n",
    "\n",
    "import warnings\n",
    "warnings.filterwarnings(\"ignore\")\n",
    "warnings.filterwarnings(\"ignore\", category=FutureWarning)\n",
    "\n",
    "calculate_metrics(adata2, batch_key='gene_target', celltype_key=\"Phase\", all=True, n_neighbors=15, embed='X_effect_modifier_space_PCA')"
   ]
  },
  {
   "cell_type": "markdown",
   "id": "583723c2-1e89-49be-a027-3f482792729f",
   "metadata": {},
   "source": [
    "# Whether or not perturbed as label, phase as cell type\n",
    "\n",
    "But here, we do not consider the batch effect"
   ]
  },
  {
   "cell_type": "code",
   "execution_count": 7,
   "id": "4d252274-6ba7-400a-bba4-264d6cfde1c6",
   "metadata": {},
   "outputs": [
    {
     "name": "stdout",
     "output_type": "stream",
     "text": [
      "['/gpfs/gibbs/project/wang_zuoheng/xx244/R/4.3'\n",
      " '/vast/palmer/apps/avx2/software/R/4.3.2-foss-2022b-patched/lib64/R/library']\n",
      "LISI---\n",
      "cLISI, bLISI, LISI_F1 0.9215196480880681 0.25329852937979164 0.39737139947628464\n",
      "ASW---\n",
      "asw_label 0.5438540279865265\n",
      "asw_batch 0.9686285991219421\n",
      "kBET---\n",
      "0 labels consist of a single batch or is too small. Skip.\n",
      "Adding diffusion to step 4\n",
      "Adding diffusion to step 4\n",
      "Adding diffusion to step 5\n",
      "Adding diffusion to step 6\n",
      "Adding diffusion to step 7\n",
      "Adding diffusion to step 8\n",
      "Adding diffusion to step 9\n",
      "Adding diffusion to step 10\n",
      "Adding diffusion to step 11\n",
      "kbet_score 0.7379893066004346\n",
      "graph_conn 0.9134415705026471\n",
      "NMI, ARI ---\n",
      "NMI 0.3552421880052017\n",
      "ARI 0.34428967895410806\n",
      "positive and true positive rate---\n",
      "                             ASW_label      ARI       NMI  1-cLISI     bLISI  \\\n",
      "X_effect_modifier_space_PCA   0.543854  0.34429  0.355242  0.92152  0.253299   \n",
      "\n",
      "                             ASW_batch  kBET Accept Rate  graph connectivity  \\\n",
      "X_effect_modifier_space_PCA   0.968629          0.737989            0.913442   \n",
      "\n",
      "                             PCR_batch  pos rate  true pos rate   F1 LISI  \n",
      "X_effect_modifier_space_PCA   0.284371  0.925563       0.855227  0.397371  \n"
     ]
    },
    {
     "data": {
      "text/html": [
       "<div>\n",
       "<style scoped>\n",
       "    .dataframe tbody tr th:only-of-type {\n",
       "        vertical-align: middle;\n",
       "    }\n",
       "\n",
       "    .dataframe tbody tr th {\n",
       "        vertical-align: top;\n",
       "    }\n",
       "\n",
       "    .dataframe thead th {\n",
       "        text-align: right;\n",
       "    }\n",
       "</style>\n",
       "<table border=\"1\" class=\"dataframe\">\n",
       "  <thead>\n",
       "    <tr style=\"text-align: right;\">\n",
       "      <th></th>\n",
       "      <th>ASW_label</th>\n",
       "      <th>ARI</th>\n",
       "      <th>NMI</th>\n",
       "      <th>1-cLISI</th>\n",
       "      <th>bLISI</th>\n",
       "      <th>ASW_batch</th>\n",
       "      <th>kBET Accept Rate</th>\n",
       "      <th>graph connectivity</th>\n",
       "      <th>PCR_batch</th>\n",
       "      <th>pos rate</th>\n",
       "      <th>true pos rate</th>\n",
       "      <th>F1 LISI</th>\n",
       "    </tr>\n",
       "  </thead>\n",
       "  <tbody>\n",
       "    <tr>\n",
       "      <th>X_effect_modifier_space_PCA</th>\n",
       "      <td>0.543854</td>\n",
       "      <td>0.34429</td>\n",
       "      <td>0.355242</td>\n",
       "      <td>0.92152</td>\n",
       "      <td>0.253299</td>\n",
       "      <td>0.968629</td>\n",
       "      <td>0.737989</td>\n",
       "      <td>0.913442</td>\n",
       "      <td>0.284371</td>\n",
       "      <td>0.925563</td>\n",
       "      <td>0.855227</td>\n",
       "      <td>0.397371</td>\n",
       "    </tr>\n",
       "  </tbody>\n",
       "</table>\n",
       "</div>"
      ],
      "text/plain": [
       "                             ASW_label      ARI       NMI  1-cLISI     bLISI  \\\n",
       "X_effect_modifier_space_PCA   0.543854  0.34429  0.355242  0.92152  0.253299   \n",
       "\n",
       "                             ASW_batch  kBET Accept Rate  graph connectivity  \\\n",
       "X_effect_modifier_space_PCA   0.968629          0.737989            0.913442   \n",
       "\n",
       "                             PCR_batch  pos rate  true pos rate   F1 LISI  \n",
       "X_effect_modifier_space_PCA   0.284371  0.925563       0.855227  0.397371  "
      ]
     },
     "execution_count": 7,
     "metadata": {},
     "output_type": "execute_result"
    },
    {
     "name": "stdout",
     "output_type": "stream",
     "text": [
      "cLISI, bLISI, LISI_F1 0.9259990996045417 0.2353874988765516 0.3753592684863416\n"
     ]
    },
    {
     "name": "stdout",
     "output_type": "stream",
     "text": [
      "ASW---\n"
     ]
    },
    {
     "name": "stdout",
     "output_type": "stream",
     "text": [
      "asw_label 0.519734313711524\n"
     ]
    },
    {
     "name": "stdout",
     "output_type": "stream",
     "text": [
      "asw_batch 0.968320329825204\n"
     ]
    },
    {
     "name": "stdout",
     "output_type": "stream",
     "text": [
      "kBET---\n"
     ]
    },
    {
     "name": "stdout",
     "output_type": "stream",
     "text": [
      "0 labels consist of a single batch or is too small. Skip.\n"
     ]
    },
    {
     "name": "stdout",
     "output_type": "stream",
     "text": [
      "Adding diffusion to step 4\n"
     ]
    },
    {
     "name": "stdout",
     "output_type": "stream",
     "text": [
      "Adding diffusion to step 4\n",
      "Adding diffusion to step 5\n"
     ]
    },
    {
     "name": "stdout",
     "output_type": "stream",
     "text": [
      "Adding diffusion to step 6\n"
     ]
    },
    {
     "name": "stdout",
     "output_type": "stream",
     "text": [
      "Adding diffusion to step 7\n"
     ]
    },
    {
     "name": "stdout",
     "output_type": "stream",
     "text": [
      "Adding diffusion to step 8\n"
     ]
    },
    {
     "name": "stdout",
     "output_type": "stream",
     "text": [
      "Adding diffusion to step 9\n"
     ]
    },
    {
     "name": "stdout",
     "output_type": "stream",
     "text": [
      "Adding diffusion to step 10\n"
     ]
    },
    {
     "name": "stdout",
     "output_type": "stream",
     "text": [
      "kbet_score 0.898319433771088\n",
      "graph_conn 0.9084747806990928\n",
      "Warning: cluster key cluster already exists in adata.obs and will be overwritten\n"
     ]
    },
    {
     "name": "stdout",
     "output_type": "stream",
     "text": [
      "NMI, ARI ---\n",
      "NMI 0.41151428406557045\n",
      "ARI 0.47628941542828634\n",
      "positive and true positive rate---\n"
     ]
    },
    {
     "name": "stdout",
     "output_type": "stream",
     "text": [
      "                             ASW_label       ARI       NMI   1-cLISI  \\\n",
      "X_effect_modifier_space_PCA   0.519734  0.476289  0.411514  0.925999   \n",
      "\n",
      "                                bLISI  ASW_batch  kBET Accept Rate  \\\n",
      "X_effect_modifier_space_PCA  0.235387    0.96832          0.898319   \n",
      "\n",
      "                             graph connectivity  PCR_batch  pos rate  \\\n",
      "X_effect_modifier_space_PCA            0.908475   0.321345  0.932172   \n",
      "\n",
      "                             true pos rate   F1 LISI  \n",
      "X_effect_modifier_space_PCA       0.878817  0.375359  \n"
     ]
    },
    {
     "data": {
      "text/html": [
       "<div>\n",
       "<style scoped>\n",
       "    .dataframe tbody tr th:only-of-type {\n",
       "        vertical-align: middle;\n",
       "    }\n",
       "\n",
       "    .dataframe tbody tr th {\n",
       "        vertical-align: top;\n",
       "    }\n",
       "\n",
       "    .dataframe thead th {\n",
       "        text-align: right;\n",
       "    }\n",
       "</style>\n",
       "<table border=\"1\" class=\"dataframe\">\n",
       "  <thead>\n",
       "    <tr style=\"text-align: right;\">\n",
       "      <th></th>\n",
       "      <th>ASW_label</th>\n",
       "      <th>ARI</th>\n",
       "      <th>NMI</th>\n",
       "      <th>1-cLISI</th>\n",
       "      <th>bLISI</th>\n",
       "      <th>ASW_batch</th>\n",
       "      <th>kBET Accept Rate</th>\n",
       "      <th>graph connectivity</th>\n",
       "      <th>PCR_batch</th>\n",
       "      <th>pos rate</th>\n",
       "      <th>true pos rate</th>\n",
       "      <th>F1 LISI</th>\n",
       "    </tr>\n",
       "  </thead>\n",
       "  <tbody>\n",
       "    <tr>\n",
       "      <th>X_effect_modifier_space_PCA</th>\n",
       "      <td>0.519734</td>\n",
       "      <td>0.476289</td>\n",
       "      <td>0.411514</td>\n",
       "      <td>0.925999</td>\n",
       "      <td>0.235387</td>\n",
       "      <td>0.96832</td>\n",
       "      <td>0.898319</td>\n",
       "      <td>0.908475</td>\n",
       "      <td>0.321345</td>\n",
       "      <td>0.932172</td>\n",
       "      <td>0.878817</td>\n",
       "      <td>0.375359</td>\n",
       "    </tr>\n",
       "  </tbody>\n",
       "</table>\n",
       "</div>"
      ],
      "text/plain": [
       "                             ASW_label       ARI       NMI   1-cLISI  \\\n",
       "X_effect_modifier_space_PCA   0.519734  0.476289  0.411514  0.925999   \n",
       "\n",
       "                                bLISI  ASW_batch  kBET Accept Rate  \\\n",
       "X_effect_modifier_space_PCA  0.235387    0.96832          0.898319   \n",
       "\n",
       "                             graph connectivity  PCR_batch  pos rate  \\\n",
       "X_effect_modifier_space_PCA            0.908475   0.321345  0.932172   \n",
       "\n",
       "                             true pos rate   F1 LISI  \n",
       "X_effect_modifier_space_PCA       0.878817  0.375359  "
      ]
     },
     "execution_count": 6,
     "metadata": {},
     "output_type": "execute_result"
    }
   ],
   "source": [
    "import rpy2.robjects as robjects\n",
    "\n",
    "import anndata2ri\n",
    "anndata2ri.activate()\n",
    "# Add your library path\n",
    "library_path = \"/gpfs/gibbs/project/wang_zuoheng/xx244/R/4.3/\"  # Replace with the actual path\n",
    "# Update R's library paths\n",
    "robjects.r(f'.libPaths(c(\"{library_path}\", .libPaths()))')\n",
    "# Verify the updated library paths\n",
    "print(robjects.r('.libPaths()'))\n",
    "\n",
    "from metrics import calculate_metrics\n",
    "\n",
    "import warnings\n",
    "warnings.filterwarnings(\"ignore\")\n",
    "warnings.filterwarnings(\"ignore\", category=FutureWarning)\n",
    "\n",
    "adata3=sc.read_h5ad(\"./ECCITE_perturbation_nobatch/adata.h5ad\")\n",
    "\n",
    "calculate_metrics(adata3, batch_key='perturbation', celltype_key=\"Phase\", all=True, n_neighbors=15, embed='X_effect_modifier_space_PCA')"
   ]
  },
  {
   "cell_type": "code",
   "execution_count": 9,
   "id": "fbb164e5-b352-4b26-b022-a0a501d96e34",
   "metadata": {},
   "outputs": [
    {
     "name": "stdout",
     "output_type": "stream",
     "text": [
      "['/gpfs/gibbs/project/wang_zuoheng/xx244/R/4.3'\n",
      " '/vast/palmer/apps/avx2/software/R/4.3.2-foss-2022b-patched/lib64/R/library']\n",
      "LISI---\n",
      "cLISI, bLISI, LISI_F1 0.9215196480880681 0.25979792275891467 0.40532520003601474\n",
      "ASW---\n",
      "asw_label 0.5438540279865265\n",
      "asw_batch 0.9110247993620121\n",
      "kBET---\n",
      "0 labels consist of a single batch or is too small. Skip.\n",
      "Adding diffusion to step 4\n",
      "Adding diffusion to step 5\n",
      "Adding diffusion to step 6\n",
      "Adding diffusion to step 7\n",
      "Adding diffusion to step 8\n",
      "Adding diffusion to step 9\n",
      "Adding diffusion to step 10\n",
      "kbet_score 0.8647364737341993\n",
      "graph_conn 0.9134415705026471\n",
      "NMI, ARI ---\n",
      "NMI 0.3552421880052017\n",
      "ARI 0.34428967895410806\n",
      "positive and true positive rate---\n",
      "                             ASW_label      ARI       NMI  1-cLISI     bLISI  \\\n",
      "X_effect_modifier_space_PCA   0.543854  0.34429  0.355242  0.92152  0.259798   \n",
      "\n",
      "                             ASW_batch  kBET Accept Rate  graph connectivity  \\\n",
      "X_effect_modifier_space_PCA   0.911025          0.864736            0.913442   \n",
      "\n",
      "                             PCR_batch  pos rate  true pos rate   F1 LISI  \n",
      "X_effect_modifier_space_PCA   0.045679  0.925563       0.431232  0.405325  \n"
     ]
    },
    {
     "data": {
      "text/html": [
       "<div>\n",
       "<style scoped>\n",
       "    .dataframe tbody tr th:only-of-type {\n",
       "        vertical-align: middle;\n",
       "    }\n",
       "\n",
       "    .dataframe tbody tr th {\n",
       "        vertical-align: top;\n",
       "    }\n",
       "\n",
       "    .dataframe thead th {\n",
       "        text-align: right;\n",
       "    }\n",
       "</style>\n",
       "<table border=\"1\" class=\"dataframe\">\n",
       "  <thead>\n",
       "    <tr style=\"text-align: right;\">\n",
       "      <th></th>\n",
       "      <th>ASW_label</th>\n",
       "      <th>ARI</th>\n",
       "      <th>NMI</th>\n",
       "      <th>1-cLISI</th>\n",
       "      <th>bLISI</th>\n",
       "      <th>ASW_batch</th>\n",
       "      <th>kBET Accept Rate</th>\n",
       "      <th>graph connectivity</th>\n",
       "      <th>PCR_batch</th>\n",
       "      <th>pos rate</th>\n",
       "      <th>true pos rate</th>\n",
       "      <th>F1 LISI</th>\n",
       "    </tr>\n",
       "  </thead>\n",
       "  <tbody>\n",
       "    <tr>\n",
       "      <th>X_effect_modifier_space_PCA</th>\n",
       "      <td>0.543854</td>\n",
       "      <td>0.34429</td>\n",
       "      <td>0.355242</td>\n",
       "      <td>0.92152</td>\n",
       "      <td>0.259798</td>\n",
       "      <td>0.911025</td>\n",
       "      <td>0.864736</td>\n",
       "      <td>0.913442</td>\n",
       "      <td>0.045679</td>\n",
       "      <td>0.925563</td>\n",
       "      <td>0.431232</td>\n",
       "      <td>0.405325</td>\n",
       "    </tr>\n",
       "  </tbody>\n",
       "</table>\n",
       "</div>"
      ],
      "text/plain": [
       "                             ASW_label      ARI       NMI  1-cLISI     bLISI  \\\n",
       "X_effect_modifier_space_PCA   0.543854  0.34429  0.355242  0.92152  0.259798   \n",
       "\n",
       "                             ASW_batch  kBET Accept Rate  graph connectivity  \\\n",
       "X_effect_modifier_space_PCA   0.911025          0.864736            0.913442   \n",
       "\n",
       "                             PCR_batch  pos rate  true pos rate   F1 LISI  \n",
       "X_effect_modifier_space_PCA   0.045679  0.925563       0.431232  0.405325  "
      ]
     },
     "execution_count": 9,
     "metadata": {},
     "output_type": "execute_result"
    }
   ],
   "source": [
    "import rpy2.robjects as robjects\n",
    "\n",
    "import anndata2ri\n",
    "anndata2ri.activate()\n",
    "# Add your library path\n",
    "library_path = \"/gpfs/gibbs/project/wang_zuoheng/xx244/R/4.3/\"  # Replace with the actual path\n",
    "# Update R's library paths\n",
    "robjects.r(f'.libPaths(c(\"{library_path}\", .libPaths()))')\n",
    "# Verify the updated library paths\n",
    "print(robjects.r('.libPaths()'))\n",
    "\n",
    "from metrics import calculate_metrics\n",
    "\n",
    "import warnings\n",
    "warnings.filterwarnings(\"ignore\")\n",
    "warnings.filterwarnings(\"ignore\", category=FutureWarning)\n",
    "\n",
    "adata3=sc.read_h5ad(\"./ECCITE_perturbation_nobatch/adata.h5ad\")\n",
    "\n",
    "calculate_metrics(adata3, batch_key='gene_target', celltype_key=\"Phase\", all=True, n_neighbors=15, embed='X_effect_modifier_space_PCA')"
   ]
  },
  {
   "cell_type": "code",
   "execution_count": 8,
   "id": "16590b53-42ee-4809-9704-aaf0e56a518f",
   "metadata": {},
   "outputs": [
    {
     "name": "stdout",
     "output_type": "stream",
     "text": [
      "['/gpfs/gibbs/project/wang_zuoheng/xx244/R/4.3'\n",
      " '/vast/palmer/apps/avx2/software/R/4.3.2-foss-2022b-patched/lib64/R/library']\n",
      "LISI---\n",
      "cLISI, bLISI, LISI_F1 0.9215196480880681 0.4010972869354932 0.5589207591679447\n",
      "Variance contribution increased after integration!\n",
      "Setting PCR comparison score to 0.\n",
      "ASW---\n",
      "asw_label 0.5438540279865265\n",
      "asw_batch 0.9486208457262034\n",
      "kBET---\n",
      "0 labels consist of a single batch or is too small. Skip.\n",
      "Adding diffusion to step 4\n",
      "Adding diffusion to step 4\n",
      "Adding diffusion to step 5\n",
      "Adding diffusion to step 6\n",
      "Adding diffusion to step 7\n",
      "Adding diffusion to step 8\n",
      "Adding diffusion to step 9\n",
      "Adding diffusion to step 10\n",
      "Adding diffusion to step 11\n",
      "kbet_score 0.20417670936577093\n",
      "graph_conn 0.9134415705026471\n",
      "NMI, ARI ---\n",
      "NMI 0.3552421880052017\n",
      "ARI 0.34428967895410806\n",
      "positive and true positive rate---\n",
      "                             ASW_label      ARI       NMI  1-cLISI     bLISI  \\\n",
      "X_effect_modifier_space_PCA   0.543854  0.34429  0.355242  0.92152  0.401097   \n",
      "\n",
      "                             ASW_batch  kBET Accept Rate  graph connectivity  \\\n",
      "X_effect_modifier_space_PCA   0.948621          0.204177            0.913442   \n",
      "\n",
      "                             PCR_batch  pos rate  true pos rate   F1 LISI  \n",
      "X_effect_modifier_space_PCA          0  0.925563       0.099667  0.558921  \n"
     ]
    },
    {
     "data": {
      "text/html": [
       "<div>\n",
       "<style scoped>\n",
       "    .dataframe tbody tr th:only-of-type {\n",
       "        vertical-align: middle;\n",
       "    }\n",
       "\n",
       "    .dataframe tbody tr th {\n",
       "        vertical-align: top;\n",
       "    }\n",
       "\n",
       "    .dataframe thead th {\n",
       "        text-align: right;\n",
       "    }\n",
       "</style>\n",
       "<table border=\"1\" class=\"dataframe\">\n",
       "  <thead>\n",
       "    <tr style=\"text-align: right;\">\n",
       "      <th></th>\n",
       "      <th>ASW_label</th>\n",
       "      <th>ARI</th>\n",
       "      <th>NMI</th>\n",
       "      <th>1-cLISI</th>\n",
       "      <th>bLISI</th>\n",
       "      <th>ASW_batch</th>\n",
       "      <th>kBET Accept Rate</th>\n",
       "      <th>graph connectivity</th>\n",
       "      <th>PCR_batch</th>\n",
       "      <th>pos rate</th>\n",
       "      <th>true pos rate</th>\n",
       "      <th>F1 LISI</th>\n",
       "    </tr>\n",
       "  </thead>\n",
       "  <tbody>\n",
       "    <tr>\n",
       "      <th>X_effect_modifier_space_PCA</th>\n",
       "      <td>0.543854</td>\n",
       "      <td>0.34429</td>\n",
       "      <td>0.355242</td>\n",
       "      <td>0.92152</td>\n",
       "      <td>0.401097</td>\n",
       "      <td>0.948621</td>\n",
       "      <td>0.204177</td>\n",
       "      <td>0.913442</td>\n",
       "      <td>0</td>\n",
       "      <td>0.925563</td>\n",
       "      <td>0.099667</td>\n",
       "      <td>0.558921</td>\n",
       "    </tr>\n",
       "  </tbody>\n",
       "</table>\n",
       "</div>"
      ],
      "text/plain": [
       "                             ASW_label      ARI       NMI  1-cLISI     bLISI  \\\n",
       "X_effect_modifier_space_PCA   0.543854  0.34429  0.355242  0.92152  0.401097   \n",
       "\n",
       "                             ASW_batch  kBET Accept Rate  graph connectivity  \\\n",
       "X_effect_modifier_space_PCA   0.948621          0.204177            0.913442   \n",
       "\n",
       "                             PCR_batch  pos rate  true pos rate   F1 LISI  \n",
       "X_effect_modifier_space_PCA          0  0.925563       0.099667  0.558921  "
      ]
     },
     "execution_count": 8,
     "metadata": {},
     "output_type": "execute_result"
    }
   ],
   "source": [
    "import rpy2.robjects as robjects\n",
    "\n",
    "import anndata2ri\n",
    "anndata2ri.activate()\n",
    "# Add your library path\n",
    "library_path = \"/gpfs/gibbs/project/wang_zuoheng/xx244/R/4.3/\"  # Replace with the actual path\n",
    "# Update R's library paths\n",
    "robjects.r(f'.libPaths(c(\"{library_path}\", .libPaths()))')\n",
    "# Verify the updated library paths\n",
    "print(robjects.r('.libPaths()'))\n",
    "\n",
    "from metrics import calculate_metrics\n",
    "\n",
    "import warnings\n",
    "warnings.filterwarnings(\"ignore\")\n",
    "warnings.filterwarnings(\"ignore\", category=FutureWarning)\n",
    "\n",
    "adata3=sc.read_h5ad(\"./ECCITE_perturbation_nobatch/adata.h5ad\")\n",
    "\n",
    "calculate_metrics(adata3, batch_key='replicate', celltype_key=\"Phase\", all=True, n_neighbors=15, embed='X_effect_modifier_space_PCA')"
   ]
  },
  {
   "cell_type": "code",
   "execution_count": null,
   "id": "0a5e27bf-2d3f-4f7c-b828-6fc6721a9304",
   "metadata": {},
   "outputs": [],
   "source": []
  }
 ],
 "metadata": {
  "kernelspec": {
   "display_name": "Python 3 (ipykernel)",
   "language": "python",
   "name": "python3"
  },
  "language_info": {
   "codemirror_mode": {
    "name": "ipython",
    "version": 3
   },
   "file_extension": ".py",
   "mimetype": "text/x-python",
   "name": "python",
   "nbconvert_exporter": "python",
   "pygments_lexer": "ipython3",
   "version": "3.11.11"
  }
 },
 "nbformat": 4,
 "nbformat_minor": 5
}
