{
 "cells": [
  {
   "cell_type": "markdown",
   "id": "283770a8-bf32-4169-830e-3f1db0453fc4",
   "metadata": {},
   "source": [
    "# PBMC\n",
    "\n",
    "https://www.ncbi.nlm.nih.gov/geo/query/acc.cgi?acc=GSE96583\n",
    "\n",
    "https://drive.google.com/uc?id=1r87vhoLLq6PXAYdmyyd89zG90eJOFYLk"
   ]
  },
  {
   "cell_type": "code",
   "execution_count": 1,
   "id": "3b6fe1ab-8a3d-4f6e-b3f6-c595651a7139",
   "metadata": {},
   "outputs": [],
   "source": [
    "import scanpy as sc\n",
    "import numpy as np\n",
    "from ndreamer import NDreamer"
   ]
  },
  {
   "cell_type": "code",
   "execution_count": null,
   "id": "d806e108-7960-42ed-8835-563f847202ad",
   "metadata": {},
   "outputs": [],
   "source": [
    "adata = sc.read_h5ad('../data/PBMC.h5ad')\n",
    "print(adata)\n",
    "print('condition',np.unique(adata.obs['condition']))\n",
    "#print('batch',np.unique(adata.obs['batch']))\n",
    "print('cell_type',np.unique(adata.obs['cell_type']))\n",
    "print(adata.X[:10,:10])\n",
    "sc.pp.pca(adata)\n",
    "sc.pp.neighbors(adata)\n",
    "sc.tl.umap(adata)\n",
    "sc.pl.umap(adata, color=[\"condition\",'cell_type'],ncols=1)"
   ]
  },
  {
   "cell_type": "markdown",
   "id": "8814fccf-8fde-4cd7-9ba7-c10e46815a23",
   "metadata": {},
   "source": [
    "# Only independent loss"
   ]
  },
  {
   "cell_type": "code",
   "execution_count": null,
   "id": "2f34ef23-6221-49dd-982a-8613ffa8105e",
   "metadata": {},
   "outputs": [],
   "source": [
    "adata = sc.read_h5ad('../data/PBMC.h5ad')\n",
    "model = NDreamer(adata, condition_key=\"condition\", contorl_name='control', num_hvg=2000, require_batch=False,\n",
    "                        batch_key=None,\n",
    "                        resolution_low=0.5, resolution_high=7, cluster_method=\"Leiden\", embedding_dim=512,\n",
    "                            codebooks=[1024 for i in range(32)],\n",
    "                            codebook_dim=8, encoder_hidden=[1024, 512], decoder_hidden=[512, 1024], z_dim=256,\n",
    "                            cos_loss_scaler=20, random_seed=123, batch_size=1024, epoches=100, lr=1e-3,\n",
    "                            triplet_margin=5,independent_loss_scaler=1000, save_pth=\"./PBMC_only_independent/\",\n",
    "                            developer_test_mode=False,\n",
    "                            library_size_normalize_adata=False,\n",
    "                            save_preprocessed_adata_path=None,\n",
    "                            KL_scaler=5e-3, reconstruct_scaler=1, triplet_scaler=0, num_triplets_per_label=15,\n",
    "                            tau=0.01, commitment_loss_scaler=1, cluster_correlation_scaler=0,reset_threshold=1/1024,\n",
    "                            reset_interval=30,try_identify_cb_specific_subtypes=False,\n",
    "                            local_neighborhood_loss_scaler=0,local_neighbor_sigma=1,\n",
    "                            try_identify_perturb_escaped_cell=False,n_neighbors=20,\n",
    "                            local_neighbor_across_cluster_scaler=20)\n",
    "\n",
    "model.train_model()\n",
    "model.get_modifier_space()\n",
    "\n",
    "adata1=model.DL_model.adata.copy()\n",
    "sc.pp.neighbors(adata1, use_rep='X_effect_modifier_space_PCA', n_neighbors=25)\n",
    "sc.tl.umap(adata1)\n",
    "sc.pl.umap(adata1, color=['condition', 'cell_type'], ncols=1)\n",
    "\n",
    "import rpy2.robjects as robjects\n",
    "import anndata2ri\n",
    "anndata2ri.activate()\n",
    "# Add your library path\n",
    "library_path = \"/gpfs/gibbs/project/wang_zuoheng/xx244/R/4.3/\"  # Replace with the actual path\n",
    "# Update R's library paths\n",
    "robjects.r(f'.libPaths(c(\"{library_path}\", .libPaths()))')\n",
    "# Verify the updated library paths\n",
    "print(robjects.r('.libPaths()'))\n",
    "from metrics import calculate_metrics\n",
    "import warnings\n",
    "warnings.filterwarnings(\"ignore\")\n",
    "warnings.filterwarnings(\"ignore\", category=FutureWarning)\n",
    "calculate_metrics(adata1, batch_key=\"condition\", celltype_key='cell_type', all=True, n_neighbors=15, embed='X_effect_modifier_space_PCA')"
   ]
  },
  {
   "cell_type": "markdown",
   "id": "fa6f696a-5d5d-4401-ab08-99ad87ccb119",
   "metadata": {},
   "source": [
    "# Only VQ-VAE"
   ]
  },
  {
   "cell_type": "code",
   "execution_count": null,
   "id": "e4f8f8be-064e-42c3-bc23-6bec14984f19",
   "metadata": {},
   "outputs": [],
   "source": [
    "adata = sc.read_h5ad('../data/PBMC.h5ad')\n",
    "model = NDreamer(adata, condition_key=\"condition\", contorl_name='control', num_hvg=2000, require_batch=False,\n",
    "                        batch_key=None,\n",
    "                        resolution_low=0.5, resolution_high=7, cluster_method=\"Leiden\", embedding_dim=512,\n",
    "                            codebooks=[1024 for i in range(32)],\n",
    "                            codebook_dim=8, encoder_hidden=[1024, 512], decoder_hidden=[512, 1024], z_dim=256,\n",
    "                            cos_loss_scaler=0, random_seed=123, batch_size=1024, epoches=100, lr=1e-3,\n",
    "                            triplet_margin=5,independent_loss_scaler=0, save_pth=\"./PBMC_VQ_VAE/\",\n",
    "                            developer_test_mode=False,\n",
    "                            library_size_normalize_adata=False,\n",
    "                            save_preprocessed_adata_path=None,\n",
    "                            KL_scaler=5e-3, reconstruct_scaler=1, triplet_scaler=0, num_triplets_per_label=15,\n",
    "                            tau=0.01, commitment_loss_scaler=1, cluster_correlation_scaler=0,reset_threshold=1/1024,\n",
    "                            reset_interval=30,try_identify_cb_specific_subtypes=False,\n",
    "                            local_neighborhood_loss_scaler=0,local_neighbor_sigma=1,\n",
    "                            try_identify_perturb_escaped_cell=False,n_neighbors=20,\n",
    "                            local_neighbor_across_cluster_scaler=20)\n",
    "\n",
    "model.train_model()\n",
    "model.get_modifier_space()\n",
    "\n",
    "adata1=model.DL_model.adata.copy()\n",
    "sc.pp.neighbors(adata1, use_rep='X_effect_modifier_space_PCA', n_neighbors=25)\n",
    "sc.tl.umap(adata1)\n",
    "sc.pl.umap(adata1, color=['condition', 'cell_type'], ncols=1)\n",
    "\n",
    "import rpy2.robjects as robjects\n",
    "import anndata2ri\n",
    "anndata2ri.activate()\n",
    "# Add your library path\n",
    "library_path = \"/gpfs/gibbs/project/wang_zuoheng/xx244/R/4.3/\"  # Replace with the actual path\n",
    "# Update R's library paths\n",
    "robjects.r(f'.libPaths(c(\"{library_path}\", .libPaths()))')\n",
    "# Verify the updated library paths\n",
    "print(robjects.r('.libPaths()'))\n",
    "from metrics import calculate_metrics\n",
    "import warnings\n",
    "warnings.filterwarnings(\"ignore\")\n",
    "warnings.filterwarnings(\"ignore\", category=FutureWarning)\n",
    "calculate_metrics(adata1, batch_key=\"condition\", celltype_key='cell_type', all=True, n_neighbors=15, embed='X_effect_modifier_space_PCA')"
   ]
  }
 ],
 "metadata": {
  "kernelspec": {
   "display_name": "Python 3 (ipykernel)",
   "language": "python",
   "name": "python3"
  },
  "language_info": {
   "codemirror_mode": {
    "name": "ipython",
    "version": 3
   },
   "file_extension": ".py",
   "mimetype": "text/x-python",
   "name": "python",
   "nbconvert_exporter": "python",
   "pygments_lexer": "ipython3",
   "version": "3.11.11"
  }
 },
 "nbformat": 4,
 "nbformat_minor": 5
}
