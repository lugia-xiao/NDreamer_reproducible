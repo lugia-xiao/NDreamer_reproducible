{
 "cells": [
  {
   "cell_type": "code",
   "execution_count": 1,
   "id": "c397ba0d-d3b9-41a7-878b-acbe239dca15",
   "metadata": {},
   "outputs": [
    {
     "name": "stderr",
     "output_type": "stream",
     "text": [
      "/home/xx244/.conda/envs/benchmark/lib/python3.11/site-packages/anndata/utils.py:429: FutureWarning: Importing read_csv from `anndata` is deprecated. Import anndata.io.read_csv instead.\n",
      "  warnings.warn(msg, FutureWarning)\n",
      "/home/xx244/.conda/envs/benchmark/lib/python3.11/site-packages/anndata/utils.py:429: FutureWarning: Importing read_loom from `anndata` is deprecated. Import anndata.io.read_loom instead.\n",
      "  warnings.warn(msg, FutureWarning)\n",
      "/home/xx244/.conda/envs/benchmark/lib/python3.11/site-packages/anndata/utils.py:429: FutureWarning: Importing read_text from `anndata` is deprecated. Import anndata.io.read_text instead.\n",
      "  warnings.warn(msg, FutureWarning)\n",
      "/home/xx244/.conda/envs/benchmark/lib/python3.11/site-packages/anndata/utils.py:429: FutureWarning: Importing CSCDataset from `anndata.experimental` is deprecated. Import anndata.abc.CSCDataset instead.\n",
      "  warnings.warn(msg, FutureWarning)\n",
      "/home/xx244/.conda/envs/benchmark/lib/python3.11/site-packages/anndata/utils.py:429: FutureWarning: Importing CSRDataset from `anndata.experimental` is deprecated. Import anndata.abc.CSRDataset instead.\n",
      "  warnings.warn(msg, FutureWarning)\n",
      "/home/xx244/.conda/envs/benchmark/lib/python3.11/site-packages/anndata/utils.py:429: FutureWarning: Importing read_elem from `anndata.experimental` is deprecated. Import anndata.io.read_elem instead.\n",
      "  warnings.warn(msg, FutureWarning)\n"
     ]
    }
   ],
   "source": [
    "import pertpy as pt\n",
    "import scanpy as sc\n",
    "import numpy as np\n",
    "\n",
    "import random\n",
    "import torch\n",
    "import sklearn\n",
    "import os\n",
    "def set_seed(seed: int):\n",
    "    # Set Python random seed\n",
    "    random.seed(seed)\n",
    "\n",
    "    # Set NumPy random seed\n",
    "    np.random.seed(seed)\n",
    "\n",
    "    # Set PyTorch random seed\n",
    "    torch.manual_seed(seed)\n",
    "    if torch.cuda.is_available():\n",
    "        torch.cuda.manual_seed(seed)\n",
    "        torch.cuda.manual_seed_all(seed)  # If using multi-GPU.\n",
    "\n",
    "        # Ensure deterministic behavior in PyTorch (can slow down computations)\n",
    "        torch.backends.cudnn.deterministic = True\n",
    "        torch.backends.cudnn.benchmark = False\n",
    "\n",
    "    # Set sklearn random seed\n",
    "    sklearn.utils.check_random_state(seed)\n",
    "\n",
    "    # Set environment variable for reproducibility\n",
    "    os.environ['PYTHONHASHSEED'] = str(seed)\n",
    "\n",
    "set_seed(123)\n",
    "\n",
    "import warnings\n",
    "warnings.filterwarnings(\"ignore\")\n",
    "warnings.filterwarnings(\"ignore\", category=FutureWarning)"
   ]
  },
  {
   "cell_type": "code",
   "execution_count": null,
   "id": "db9fcf80-1824-4be0-9e68-d683878490ab",
   "metadata": {},
   "outputs": [],
   "source": [
    "adata=sc.read_h5ad(\"../data/ASD1.h5ad\")\n",
    "print(np.unique(adata.obs[\"perturb01\"],return_counts=True))\n",
    "adata.raw=None\n",
    "sc.pl.umap(adata,color=[\"Batch\",\"CellType\",\"Perturbation\",\"perturb01\"],ncols=1)\n",
    "print(adata.X[:10,:10])\n",
    "print(adata)"
   ]
  },
  {
   "cell_type": "code",
   "execution_count": null,
   "id": "71b998c6-e321-4885-a496-7c0047671da1",
   "metadata": {},
   "outputs": [],
   "source": [
    "from ndreamer import NDreamer\n",
    "print(adata.shape)\n",
    "model = NDreamer(adata, condition_key='Perturbation', contorl_name='nan', num_hvg=2000, require_batch=False,\n",
    "                            batch_key=None,\n",
    "                            resolution_low=0.5, resolution_high=7, cluster_method=\"Leiden\", embedding_dim=512,\n",
    "                            codebooks=[1024 for i in range(32)],\n",
    "                            codebook_dim=8, encoder_hidden=[1024, 512], decoder_hidden=[512, 1024], z_dim=256,\n",
    "                            cos_loss_scaler=20, random_seed=123, batch_size=1024, epoches=5, lr=1e-3,\n",
    "                            triplet_margin=5,independent_loss_scaler=1000, save_pth=\"./ASD1_nobatch/\",\n",
    "                            developer_test_mode=False,\n",
    "                            library_size_normalize_adata=False,\n",
    "                            save_preprocessed_adata_path=\"./ASD1_nobatch/preprocessed.h5ad\",\n",
    "                            KL_scaler=5e-3, reconstruct_scaler=1, triplet_scaler=5, num_triplets_per_label=15,\n",
    "                            tau=0.01, commitment_loss_scaler=1, cluster_correlation_scaler=50,reset_threshold=1/1024,\n",
    "                            reset_interval=30,try_identify_cb_specific_subtypes=False,\n",
    "                            local_neighborhood_loss_scaler=1,local_neighbor_sigma=1,\n",
    "                            try_identify_perturb_escaped_cell=False,n_neighbors=20,\n",
    "                            local_neighbor_across_cluster_scaler=20)\n",
    "\n",
    "model.train_model()\n",
    "model.get_modifier_space()\n",
    "\n",
    "try:\n",
    "    model.decompose_true_expression_batch_effect_all(nearest_neighbor=1,bandwidth=1)\n",
    "    model.Estmiate_ITE_all(nearest_neighbor=1,bandwidth=1)\n",
    "except Exception as error:\n",
    "    # handle the exception\n",
    "    print(\"An exception occurred:\", error) "
   ]
  }
 ],
 "metadata": {
  "kernelspec": {
   "display_name": "Python 3 (ipykernel)",
   "language": "python",
   "name": "python3"
  },
  "language_info": {
   "codemirror_mode": {
    "name": "ipython",
    "version": 3
   },
   "file_extension": ".py",
   "mimetype": "text/x-python",
   "name": "python",
   "nbconvert_exporter": "python",
   "pygments_lexer": "ipython3",
   "version": "3.11.11"
  }
 },
 "nbformat": 4,
 "nbformat_minor": 5
}
