{
 "cells": [
  {
   "cell_type": "code",
   "execution_count": 1,
   "id": "e56b7b83-4358-407f-9038-c0d51554ae2b",
   "metadata": {},
   "outputs": [
    {
     "name": "stderr",
     "output_type": "stream",
     "text": [
      "Unable to determine R library path: Command '('/vast/palmer/apps/avx2/software/R/4.3.2-foss-2022b-patched/lib64/R/bin/Rscript', '-e', 'cat(Sys.getenv(\"LD_LIBRARY_PATH\"))')' returned non-zero exit status 127.\n",
      "/tmp/ipykernel_3532914/963067665.py:7: DeprecationWarning: The global conversion available with activate() is deprecated and will be removed in the next major release. Use a local converter.\n",
      "  anndata2ri.activate()\n"
     ]
    },
    {
     "name": "stdout",
     "output_type": "stream",
     "text": [
      "['/gpfs/gibbs/project/wang_zuoheng/xx244/R/4.3'\n",
      " '/vast/palmer/apps/avx2/software/R/4.3.2-foss-2022b-patched/lib64/R/library']\n",
      "R_HOME is already set to: /vast/palmer/apps/avx2/software/R/4.3.2-foss-2022b-patched/lib64/R\n"
     ]
    },
    {
     "name": "stderr",
     "output_type": "stream",
     "text": [
      "/gpfs/gibbs/project/wang_zuoheng/xx244/Ndreamer/reproducible/metrics.py:29: DeprecationWarning: The global conversion available with activate() is deprecated and will be removed in the next major release. Use a local converter.\n",
      "  anndata2ri.activate()\n",
      "/home/xx244/.conda/envs/benchmark/lib/python3.11/site-packages/rpy2/robjects/pandas2ri.py:368: DeprecationWarning: The global conversion available with activate() is deprecated and will be removed in the next major release. Use a local converter.\n",
      "  warnings.warn('The global conversion available with activate() '\n",
      "/home/xx244/.conda/envs/benchmark/lib/python3.11/site-packages/rpy2/robjects/numpy2ri.py:241: DeprecationWarning: The global conversion available with activate() is deprecated and will be removed in the next major release. Use a local converter.\n",
      "  warnings.warn('The global conversion available with activate() '\n"
     ]
    }
   ],
   "source": [
    "import scanpy as sc\n",
    "import numpy as np\n",
    "\n",
    "import rpy2.robjects as robjects\n",
    "\n",
    "import anndata2ri\n",
    "anndata2ri.activate()\n",
    "# Add your library path\n",
    "library_path = \"/gpfs/gibbs/project/wang_zuoheng/xx244/R/4.3/\"  # Replace with the actual path\n",
    "# Update R's library paths\n",
    "robjects.r(f'.libPaths(c(\"{library_path}\", .libPaths()))')\n",
    "# Verify the updated library paths\n",
    "print(robjects.r('.libPaths()'))\n",
    "\n",
    "from metrics import calculate_metrics\n",
    "\n",
    "import warnings\n",
    "warnings.filterwarnings(\"ignore\")\n",
    "warnings.filterwarnings(\"ignore\", category=FutureWarning)"
   ]
  },
  {
   "cell_type": "markdown",
   "id": "ef6b97ff-a78e-495c-9917-fa7cbb00bd59",
   "metadata": {},
   "source": [
    "# First, we treat gene_target of CRISPR as condition and consider batch effect"
   ]
  },
  {
   "cell_type": "code",
   "execution_count": null,
   "id": "e932561c-0ae3-4ad7-8b66-908065bc3e73",
   "metadata": {},
   "outputs": [],
   "source": [
    "adata1=sc.read_h5ad(\"./ASD/adata.h5ad\")\n",
    "\n",
    "import rpy2.robjects as robjects\n",
    "\n",
    "import anndata2ri\n",
    "anndata2ri.activate()\n",
    "# Add your library path\n",
    "library_path = \"/gpfs/gibbs/project/wang_zuoheng/xx244/R/4.3/\"  # Replace with the actual path\n",
    "# Update R's library paths\n",
    "robjects.r(f'.libPaths(c(\"{library_path}\", .libPaths()))')\n",
    "# Verify the updated library paths\n",
    "print(robjects.r('.libPaths()'))\n",
    "\n",
    "from metrics import calculate_metrics\n",
    "\n",
    "import warnings\n",
    "warnings.filterwarnings(\"ignore\")\n",
    "warnings.filterwarnings(\"ignore\", category=FutureWarning)\n",
    "\n",
    "calculate_metrics(adata1, batch_key='Perturbation', celltype_key=\"CellType\", all=True, n_neighbors=15, embed='X_effect_modifier_space_PCA')"
   ]
  },
  {
   "cell_type": "code",
   "execution_count": null,
   "id": "2658b3f3-c31a-4460-8090-cd3e54cdcec5",
   "metadata": {},
   "outputs": [],
   "source": [
    "import rpy2.robjects as robjects\n",
    "\n",
    "import anndata2ri\n",
    "anndata2ri.activate()\n",
    "# Add your library path\n",
    "library_path = \"/gpfs/gibbs/project/wang_zuoheng/xx244/R/4.3/\"  # Replace with the actual path\n",
    "# Update R's library paths\n",
    "robjects.r(f'.libPaths(c(\"{library_path}\", .libPaths()))')\n",
    "# Verify the updated library paths\n",
    "print(robjects.r('.libPaths()'))\n",
    "\n",
    "from metrics import calculate_metrics\n",
    "\n",
    "import warnings\n",
    "warnings.filterwarnings(\"ignore\")\n",
    "warnings.filterwarnings(\"ignore\", category=FutureWarning)\n",
    "\n",
    "calculate_metrics(adata1, batch_key=\"Batch\", celltype_key=\"CellType\", all=True, n_neighbors=15, embed='X_effect_modifier_space_PCA')"
   ]
  },
  {
   "cell_type": "markdown",
   "id": "69934a3a-eafc-4907-b3d3-f7678ad6cb01",
   "metadata": {},
   "source": [
    "# Then, we treat whether or not a cell is perturbed as condition and consider batch effect"
   ]
  },
  {
   "cell_type": "code",
   "execution_count": null,
   "id": "b0a84624-3db5-4066-9e0e-5158d8faeca1",
   "metadata": {},
   "outputs": [],
   "source": [
    "adata2=sc.read_h5ad(\"./ASD01/adata.h5ad\")\n",
    "\n",
    "import rpy2.robjects as robjects\n",
    "\n",
    "import anndata2ri\n",
    "anndata2ri.activate()\n",
    "# Add your library path\n",
    "library_path = \"/gpfs/gibbs/project/wang_zuoheng/xx244/R/4.3/\"  # Replace with the actual path\n",
    "# Update R's library paths\n",
    "robjects.r(f'.libPaths(c(\"{library_path}\", .libPaths()))')\n",
    "# Verify the updated library paths\n",
    "print(robjects.r('.libPaths()'))\n",
    "\n",
    "from metrics import calculate_metrics\n",
    "\n",
    "import warnings\n",
    "warnings.filterwarnings(\"ignore\")\n",
    "warnings.filterwarnings(\"ignore\", category=FutureWarning)\n",
    "\n",
    "calculate_metrics(adata2, batch_key='perturb01', celltype_key=\"CellType\", all=True, n_neighbors=15, embed='X_effect_modifier_space_PCA')"
   ]
  },
  {
   "cell_type": "code",
   "execution_count": null,
   "id": "8c78614f-70cd-476b-babb-7aa26e7c7648",
   "metadata": {},
   "outputs": [],
   "source": [
    "import rpy2.robjects as robjects\n",
    "\n",
    "import anndata2ri\n",
    "anndata2ri.activate()\n",
    "# Add your library path\n",
    "library_path = \"/gpfs/gibbs/project/wang_zuoheng/xx244/R/4.3/\"  # Replace with the actual path\n",
    "# Update R's library paths\n",
    "robjects.r(f'.libPaths(c(\"{library_path}\", .libPaths()))')\n",
    "# Verify the updated library paths\n",
    "print(robjects.r('.libPaths()'))\n",
    "\n",
    "from metrics import calculate_metrics\n",
    "\n",
    "import warnings\n",
    "warnings.filterwarnings(\"ignore\")\n",
    "warnings.filterwarnings(\"ignore\", category=FutureWarning)\n",
    "\n",
    "calculate_metrics(adata2, batch_key=\"Batch\", celltype_key=\"CellType\", all=True, n_neighbors=15, embed='X_effect_modifier_space_PCA')"
   ]
  },
  {
   "cell_type": "markdown",
   "id": "3c0ddeef-a0ab-4a9e-b2e7-df980d24882b",
   "metadata": {},
   "source": [
    "# At last, we treat whether or not a cell is perturbed as condition and do not consider batch effect"
   ]
  },
  {
   "cell_type": "code",
   "execution_count": null,
   "id": "9eea151b-0533-4e67-9fa8-7e92726b6ad0",
   "metadata": {},
   "outputs": [],
   "source": [
    "adata3=sc.read_h5ad(\"./ASD01_nobatch/adata.h5ad\")\n",
    "\n",
    "import rpy2.robjects as robjects\n",
    "\n",
    "import anndata2ri\n",
    "anndata2ri.activate()\n",
    "# Add your library path\n",
    "library_path = \"/gpfs/gibbs/project/wang_zuoheng/xx244/R/4.3/\"  # Replace with the actual path\n",
    "# Update R's library paths\n",
    "robjects.r(f'.libPaths(c(\"{library_path}\", .libPaths()))')\n",
    "# Verify the updated library paths\n",
    "print(robjects.r('.libPaths()'))\n",
    "\n",
    "from metrics import calculate_metrics\n",
    "\n",
    "import warnings\n",
    "warnings.filterwarnings(\"ignore\")\n",
    "warnings.filterwarnings(\"ignore\", category=FutureWarning)\n",
    "\n",
    "calculate_metrics(adata3, batch_key='perturb01', celltype_key=\"CellType\", all=True, n_neighbors=15, embed='X_effect_modifier_space_PCA')"
   ]
  },
  {
   "cell_type": "code",
   "execution_count": null,
   "id": "f4c4cb9c-707f-4692-a5db-474e0111c034",
   "metadata": {},
   "outputs": [],
   "source": [
    "import rpy2.robjects as robjects\n",
    "\n",
    "import anndata2ri\n",
    "anndata2ri.activate()\n",
    "# Add your library path\n",
    "library_path = \"/gpfs/gibbs/project/wang_zuoheng/xx244/R/4.3/\"  # Replace with the actual path\n",
    "# Update R's library paths\n",
    "robjects.r(f'.libPaths(c(\"{library_path}\", .libPaths()))')\n",
    "# Verify the updated library paths\n",
    "print(robjects.r('.libPaths()'))\n",
    "\n",
    "from metrics import calculate_metrics\n",
    "\n",
    "import warnings\n",
    "warnings.filterwarnings(\"ignore\")\n",
    "warnings.filterwarnings(\"ignore\", category=FutureWarning)\n",
    "\n",
    "calculate_metrics(adata3, batch_key=\"Batch\", celltype_key=\"CellType\", all=True, n_neighbors=15, embed='X_effect_modifier_space_PCA')"
   ]
  }
 ],
 "metadata": {
  "kernelspec": {
   "display_name": "Python 3 (ipykernel)",
   "language": "python",
   "name": "python3"
  },
  "language_info": {
   "codemirror_mode": {
    "name": "ipython",
    "version": 3
   },
   "file_extension": ".py",
   "mimetype": "text/x-python",
   "name": "python",
   "nbconvert_exporter": "python",
   "pygments_lexer": "ipython3",
   "version": "3.11.11"
  }
 },
 "nbformat": 4,
 "nbformat_minor": 5
}
