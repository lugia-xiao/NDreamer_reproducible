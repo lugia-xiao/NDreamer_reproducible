{
 "cells": [
  {
   "cell_type": "code",
   "execution_count": 1,
   "id": "e56b7b83-4358-407f-9038-c0d51554ae2b",
   "metadata": {},
   "outputs": [
    {
     "name": "stderr",
     "output_type": "stream",
     "text": [
      "Unable to determine R library path: Command '('/vast/palmer/apps/avx2/software/R/4.3.2-foss-2022b-patched/lib64/R/bin/Rscript', '-e', 'cat(Sys.getenv(\"LD_LIBRARY_PATH\"))')' returned non-zero exit status 127.\n",
      "/tmp/ipykernel_2223733/963067665.py:7: DeprecationWarning: The global conversion available with activate() is deprecated and will be removed in the next major release. Use a local converter.\n",
      "  anndata2ri.activate()\n"
     ]
    },
    {
     "name": "stdout",
     "output_type": "stream",
     "text": [
      "['/gpfs/gibbs/project/wang_zuoheng/xx244/R/4.3'\n",
      " '/vast/palmer/apps/avx2/software/R/4.3.2-foss-2022b-patched/lib64/R/library']\n",
      "R_HOME is already set to: /vast/palmer/apps/avx2/software/R/4.3.2-foss-2022b-patched/lib64/R\n"
     ]
    },
    {
     "name": "stderr",
     "output_type": "stream",
     "text": [
      "/gpfs/gibbs/project/wang_zuoheng/xx244/Ndreamer/reproducible/metrics.py:29: DeprecationWarning: The global conversion available with activate() is deprecated and will be removed in the next major release. Use a local converter.\n",
      "  anndata2ri.activate()\n",
      "/home/xx244/.conda/envs/benchmark/lib/python3.11/site-packages/rpy2/robjects/pandas2ri.py:368: DeprecationWarning: The global conversion available with activate() is deprecated and will be removed in the next major release. Use a local converter.\n",
      "  warnings.warn('The global conversion available with activate() '\n",
      "/home/xx244/.conda/envs/benchmark/lib/python3.11/site-packages/rpy2/robjects/numpy2ri.py:241: DeprecationWarning: The global conversion available with activate() is deprecated and will be removed in the next major release. Use a local converter.\n",
      "  warnings.warn('The global conversion available with activate() '\n"
     ]
    },
    {
     "name": "stderr",
     "output_type": "stream",
     "text": [
      "/gpfs/gibbs/project/wang_zuoheng/xx244/Ndreamer/reproducible/metrics.py:29: DeprecationWarning: The global conversion available with activate() is deprecated and will be removed in the next major release. Use a local converter.\n",
      "  anndata2ri.activate()\n",
      "/home/xx244/.conda/envs/benchmark/lib/python3.11/site-packages/rpy2/robjects/pandas2ri.py:368: DeprecationWarning: The global conversion available with activate() is deprecated and will be removed in the next major release. Use a local converter.\n",
      "  warnings.warn('The global conversion available with activate() '\n",
      "/home/xx244/.conda/envs/benchmark/lib/python3.11/site-packages/rpy2/robjects/numpy2ri.py:241: DeprecationWarning: The global conversion available with activate() is deprecated and will be removed in the next major release. Use a local converter.\n",
      "  warnings.warn('The global conversion available with activate() '\n"
     ]
    }
   ],
   "source": [
    "import scanpy as sc\n",
    "import numpy as np\n",
    "\n",
    "import rpy2.robjects as robjects\n",
    "\n",
    "import anndata2ri\n",
    "anndata2ri.activate()\n",
    "# Add your library path\n",
    "library_path = \"/gpfs/gibbs/project/wang_zuoheng/xx244/R/4.3/\"  # Replace with the actual path\n",
    "# Update R's library paths\n",
    "robjects.r(f'.libPaths(c(\"{library_path}\", .libPaths()))')\n",
    "# Verify the updated library paths\n",
    "print(robjects.r('.libPaths()'))\n",
    "\n",
    "from metrics import calculate_metrics\n",
    "\n",
    "import warnings\n",
    "warnings.filterwarnings(\"ignore\")\n",
    "warnings.filterwarnings(\"ignore\", category=FutureWarning)"
   ]
  },
  {
   "cell_type": "markdown",
   "id": "ef6b97ff-a78e-495c-9917-fa7cbb00bd59",
   "metadata": {},
   "source": [
    "# First, we treat gene_target of CRISPR as condition and consider batch effect"
   ]
  },
  {
   "cell_type": "code",
   "execution_count": 2,
   "id": "e932561c-0ae3-4ad7-8b66-908065bc3e73",
   "metadata": {
    "execution": {
     "iopub.execute_input": "2025-01-09T16:43:59.091631Z",
     "iopub.status.busy": "2025-01-09T16:43:59.091297Z",
     "iopub.status.idle": "2025-01-09T16:55:34.386395Z",
     "shell.execute_reply": "2025-01-09T16:55:34.385915Z"
    }
   },
   "outputs": [
    {
     "name": "stdout",
     "output_type": "stream",
     "text": [
      "['/gpfs/gibbs/project/wang_zuoheng/xx244/R/4.3'\n",
      " '/vast/palmer/apps/avx2/software/R/4.3.2-foss-2022b-patched/lib64/R/library']\n",
      "LISI---\n"
     ]
    },
    {
     "name": "stdout",
     "output_type": "stream",
     "text": [
      "cLISI, bLISI, LISI_F1 0.9649494550321194 0.06500681645838485 0.121807680289405\n"
     ]
    },
    {
     "name": "stdout",
     "output_type": "stream",
     "text": [
      "ASW---\n"
     ]
    },
    {
     "name": "stdout",
     "output_type": "stream",
     "text": [
      "asw_label 0.7367525547742844\n"
     ]
    },
    {
     "name": "stdout",
     "output_type": "stream",
     "text": [
      "asw_batch 0.8198015022641035\n"
     ]
    },
    {
     "name": "stdout",
     "output_type": "stream",
     "text": [
      "kBET---\n"
     ]
    },
    {
     "name": "stdout",
     "output_type": "stream",
     "text": [
      "0 labels consist of a single batch or is too small. Skip.\n"
     ]
    },
    {
     "name": "stdout",
     "output_type": "stream",
     "text": [
      "Adding diffusion to step 4\n"
     ]
    },
    {
     "name": "stdout",
     "output_type": "stream",
     "text": [
      "Adding diffusion to step 5\n"
     ]
    },
    {
     "name": "stdout",
     "output_type": "stream",
     "text": [
      "Adding diffusion to step 6\n"
     ]
    },
    {
     "name": "stdout",
     "output_type": "stream",
     "text": [
      "Adding diffusion to step 7\n"
     ]
    },
    {
     "name": "stdout",
     "output_type": "stream",
     "text": [
      "Adding diffusion to step 8\n"
     ]
    },
    {
     "name": "stdout",
     "output_type": "stream",
     "text": [
      "Adding diffusion to step 9\n"
     ]
    },
    {
     "name": "stdout",
     "output_type": "stream",
     "text": [
      "Adding diffusion to step 4\n"
     ]
    },
    {
     "name": "stdout",
     "output_type": "stream",
     "text": [
      "Adding diffusion to step 5\n"
     ]
    },
    {
     "name": "stdout",
     "output_type": "stream",
     "text": [
      "Adding diffusion to step 4\n"
     ]
    },
    {
     "name": "stdout",
     "output_type": "stream",
     "text": [
      "Adding diffusion to step 5\n"
     ]
    },
    {
     "name": "stdout",
     "output_type": "stream",
     "text": [
      "Adding diffusion to step 6\n"
     ]
    },
    {
     "name": "stdout",
     "output_type": "stream",
     "text": [
      "Adding diffusion to step 7\n"
     ]
    },
    {
     "name": "stdout",
     "output_type": "stream",
     "text": [
      "Adding diffusion to step 8\n"
     ]
    },
    {
     "name": "stdout",
     "output_type": "stream",
     "text": [
      "Adding diffusion to step 4\n"
     ]
    },
    {
     "name": "stdout",
     "output_type": "stream",
     "text": [
      "Adding diffusion to step 5\n"
     ]
    },
    {
     "name": "stdout",
     "output_type": "stream",
     "text": [
      "Adding diffusion to step 4\n"
     ]
    },
    {
     "name": "stdout",
     "output_type": "stream",
     "text": [
      "Adding diffusion to step 5\n"
     ]
    },
    {
     "name": "stdout",
     "output_type": "stream",
     "text": [
      "kbet_score 0.847555354552512\n",
      "graph_conn 0.9849317009717984\n"
     ]
    },
    {
     "name": "stdout",
     "output_type": "stream",
     "text": [
      "NMI, ARI ---\n",
      "NMI 0.7457379320395585\n",
      "ARI 0.649998602200064\n",
      "positive and true positive rate---\n"
     ]
    },
    {
     "name": "stdout",
     "output_type": "stream",
     "text": [
      "                             ASW_label       ARI       NMI   1-cLISI  \\\n",
      "X_effect_modifier_space_PCA   0.736753  0.649999  0.745738  0.964949   \n",
      "\n",
      "                                bLISI  ASW_batch  kBET Accept Rate  \\\n",
      "X_effect_modifier_space_PCA  0.065007   0.819802          0.847555   \n",
      "\n",
      "                             graph connectivity  PCR_batch  pos rate  \\\n",
      "X_effect_modifier_space_PCA            0.984932   0.443315  0.928749   \n",
      "\n",
      "                             true pos rate   F1 LISI  \n",
      "X_effect_modifier_space_PCA        0.30185  0.121808  \n"
     ]
    },
    {
     "data": {
      "text/html": [
       "<div>\n",
       "<style scoped>\n",
       "    .dataframe tbody tr th:only-of-type {\n",
       "        vertical-align: middle;\n",
       "    }\n",
       "\n",
       "    .dataframe tbody tr th {\n",
       "        vertical-align: top;\n",
       "    }\n",
       "\n",
       "    .dataframe thead th {\n",
       "        text-align: right;\n",
       "    }\n",
       "</style>\n",
       "<table border=\"1\" class=\"dataframe\">\n",
       "  <thead>\n",
       "    <tr style=\"text-align: right;\">\n",
       "      <th></th>\n",
       "      <th>ASW_label</th>\n",
       "      <th>ARI</th>\n",
       "      <th>NMI</th>\n",
       "      <th>1-cLISI</th>\n",
       "      <th>bLISI</th>\n",
       "      <th>ASW_batch</th>\n",
       "      <th>kBET Accept Rate</th>\n",
       "      <th>graph connectivity</th>\n",
       "      <th>PCR_batch</th>\n",
       "      <th>pos rate</th>\n",
       "      <th>true pos rate</th>\n",
       "      <th>F1 LISI</th>\n",
       "    </tr>\n",
       "  </thead>\n",
       "  <tbody>\n",
       "    <tr>\n",
       "      <th>X_effect_modifier_space_PCA</th>\n",
       "      <td>0.736753</td>\n",
       "      <td>0.649999</td>\n",
       "      <td>0.745738</td>\n",
       "      <td>0.964949</td>\n",
       "      <td>0.065007</td>\n",
       "      <td>0.819802</td>\n",
       "      <td>0.847555</td>\n",
       "      <td>0.984932</td>\n",
       "      <td>0.443315</td>\n",
       "      <td>0.928749</td>\n",
       "      <td>0.30185</td>\n",
       "      <td>0.121808</td>\n",
       "    </tr>\n",
       "  </tbody>\n",
       "</table>\n",
       "</div>"
      ],
      "text/plain": [
       "                             ASW_label       ARI       NMI   1-cLISI  \\\n",
       "X_effect_modifier_space_PCA   0.736753  0.649999  0.745738  0.964949   \n",
       "\n",
       "                                bLISI  ASW_batch  kBET Accept Rate  \\\n",
       "X_effect_modifier_space_PCA  0.065007   0.819802          0.847555   \n",
       "\n",
       "                             graph connectivity  PCR_batch  pos rate  \\\n",
       "X_effect_modifier_space_PCA            0.984932   0.443315  0.928749   \n",
       "\n",
       "                             true pos rate   F1 LISI  \n",
       "X_effect_modifier_space_PCA        0.30185  0.121808  "
      ]
     },
     "execution_count": 2,
     "metadata": {},
     "output_type": "execute_result"
    }
   ],
   "source": [
    "adata1=sc.read_h5ad(\"./ASD1/adata.h5ad\")\n",
    "\n",
    "import rpy2.robjects as robjects\n",
    "\n",
    "import anndata2ri\n",
    "anndata2ri.activate()\n",
    "# Add your library path\n",
    "library_path = \"/gpfs/gibbs/project/wang_zuoheng/xx244/R/4.3/\"  # Replace with the actual path\n",
    "# Update R's library paths\n",
    "robjects.r(f'.libPaths(c(\"{library_path}\", .libPaths()))')\n",
    "# Verify the updated library paths\n",
    "print(robjects.r('.libPaths()'))\n",
    "\n",
    "from metrics import calculate_metrics\n",
    "\n",
    "import warnings\n",
    "warnings.filterwarnings(\"ignore\")\n",
    "warnings.filterwarnings(\"ignore\", category=FutureWarning)\n",
    "\n",
    "calculate_metrics(adata1, batch_key='Perturbation', celltype_key=\"CellType\", all=True, n_neighbors=15, embed='X_effect_modifier_space_PCA')"
   ]
  },
  {
   "cell_type": "code",
   "execution_count": 3,
   "id": "2658b3f3-c31a-4460-8090-cd3e54cdcec5",
   "metadata": {
    "execution": {
     "iopub.execute_input": "2025-01-09T16:55:34.389106Z",
     "iopub.status.busy": "2025-01-09T16:55:34.388456Z",
     "iopub.status.idle": "2025-01-09T17:06:10.338964Z",
     "shell.execute_reply": "2025-01-09T17:06:10.338496Z"
    }
   },
   "outputs": [
    {
     "name": "stdout",
     "output_type": "stream",
     "text": [
      "['/gpfs/gibbs/project/wang_zuoheng/xx244/R/4.3'\n",
      " '/vast/palmer/apps/avx2/software/R/4.3.2-foss-2022b-patched/lib64/R/library']\n",
      "LISI---\n"
     ]
    },
    {
     "name": "stdout",
     "output_type": "stream",
     "text": [
      "cLISI, bLISI, LISI_F1 0.9649494550321194 0.3164995457294635 0.47665738392718254\n"
     ]
    },
    {
     "name": "stdout",
     "output_type": "stream",
     "text": [
      "ASW---\n"
     ]
    },
    {
     "name": "stdout",
     "output_type": "stream",
     "text": [
      "asw_label 0.7367525547742844\n"
     ]
    },
    {
     "name": "stdout",
     "output_type": "stream",
     "text": [
      "asw_batch 0.8751681924835442\n"
     ]
    },
    {
     "name": "stdout",
     "output_type": "stream",
     "text": [
      "kBET---\n"
     ]
    },
    {
     "name": "stdout",
     "output_type": "stream",
     "text": [
      "0 labels consist of a single batch or is too small. Skip.\n"
     ]
    },
    {
     "name": "stdout",
     "output_type": "stream",
     "text": [
      "Adding diffusion to step 4\n"
     ]
    },
    {
     "name": "stdout",
     "output_type": "stream",
     "text": [
      "Adding diffusion to step 5\n"
     ]
    },
    {
     "name": "stdout",
     "output_type": "stream",
     "text": [
      "Adding diffusion to step 6\n"
     ]
    },
    {
     "name": "stdout",
     "output_type": "stream",
     "text": [
      "Adding diffusion to step 7\n"
     ]
    },
    {
     "name": "stdout",
     "output_type": "stream",
     "text": [
      "Adding diffusion to step 8\n"
     ]
    },
    {
     "name": "stdout",
     "output_type": "stream",
     "text": [
      "Adding diffusion to step 9\n"
     ]
    },
    {
     "name": "stdout",
     "output_type": "stream",
     "text": [
      "Adding diffusion to step 4\n"
     ]
    },
    {
     "name": "stdout",
     "output_type": "stream",
     "text": [
      "Adding diffusion to step 5\n"
     ]
    },
    {
     "name": "stdout",
     "output_type": "stream",
     "text": [
      "Adding diffusion to step 4\n"
     ]
    },
    {
     "name": "stdout",
     "output_type": "stream",
     "text": [
      "Adding diffusion to step 5\n"
     ]
    },
    {
     "name": "stdout",
     "output_type": "stream",
     "text": [
      "Adding diffusion to step 6\n"
     ]
    },
    {
     "name": "stdout",
     "output_type": "stream",
     "text": [
      "Adding diffusion to step 7\n"
     ]
    },
    {
     "name": "stdout",
     "output_type": "stream",
     "text": [
      "Adding diffusion to step 8\n"
     ]
    },
    {
     "name": "stdout",
     "output_type": "stream",
     "text": [
      "Adding diffusion to step 4\n"
     ]
    },
    {
     "name": "stdout",
     "output_type": "stream",
     "text": [
      "Adding diffusion to step 5\n"
     ]
    },
    {
     "name": "stdout",
     "output_type": "stream",
     "text": [
      "Adding diffusion to step 4\n"
     ]
    },
    {
     "name": "stdout",
     "output_type": "stream",
     "text": [
      "Adding diffusion to step 5\n"
     ]
    },
    {
     "name": "stdout",
     "output_type": "stream",
     "text": [
      "Adding diffusion to step 6\n"
     ]
    },
    {
     "name": "stdout",
     "output_type": "stream",
     "text": [
      "kbet_score 0.6512173977207356\n",
      "graph_conn 0.9849317009717984\n",
      "Warning: cluster key cluster already exists in adata.obs and will be overwritten\n"
     ]
    },
    {
     "name": "stdout",
     "output_type": "stream",
     "text": [
      "NMI, ARI ---\n",
      "NMI 0.7457379320395585\n",
      "ARI 0.649998602200064\n",
      "positive and true positive rate---\n"
     ]
    },
    {
     "name": "stdout",
     "output_type": "stream",
     "text": [
      "                             ASW_label       ARI       NMI   1-cLISI   bLISI  \\\n",
      "X_effect_modifier_space_PCA   0.736753  0.649999  0.745738  0.964949  0.3165   \n",
      "\n",
      "                             ASW_batch  kBET Accept Rate  graph connectivity  \\\n",
      "X_effect_modifier_space_PCA   0.875168          0.651217            0.984932   \n",
      "\n",
      "                             PCR_batch  pos rate  true pos rate   F1 LISI  \n",
      "X_effect_modifier_space_PCA   0.351659  0.928749       0.585745  0.476657  \n"
     ]
    },
    {
     "data": {
      "text/html": [
       "<div>\n",
       "<style scoped>\n",
       "    .dataframe tbody tr th:only-of-type {\n",
       "        vertical-align: middle;\n",
       "    }\n",
       "\n",
       "    .dataframe tbody tr th {\n",
       "        vertical-align: top;\n",
       "    }\n",
       "\n",
       "    .dataframe thead th {\n",
       "        text-align: right;\n",
       "    }\n",
       "</style>\n",
       "<table border=\"1\" class=\"dataframe\">\n",
       "  <thead>\n",
       "    <tr style=\"text-align: right;\">\n",
       "      <th></th>\n",
       "      <th>ASW_label</th>\n",
       "      <th>ARI</th>\n",
       "      <th>NMI</th>\n",
       "      <th>1-cLISI</th>\n",
       "      <th>bLISI</th>\n",
       "      <th>ASW_batch</th>\n",
       "      <th>kBET Accept Rate</th>\n",
       "      <th>graph connectivity</th>\n",
       "      <th>PCR_batch</th>\n",
       "      <th>pos rate</th>\n",
       "      <th>true pos rate</th>\n",
       "      <th>F1 LISI</th>\n",
       "    </tr>\n",
       "  </thead>\n",
       "  <tbody>\n",
       "    <tr>\n",
       "      <th>X_effect_modifier_space_PCA</th>\n",
       "      <td>0.736753</td>\n",
       "      <td>0.649999</td>\n",
       "      <td>0.745738</td>\n",
       "      <td>0.964949</td>\n",
       "      <td>0.3165</td>\n",
       "      <td>0.875168</td>\n",
       "      <td>0.651217</td>\n",
       "      <td>0.984932</td>\n",
       "      <td>0.351659</td>\n",
       "      <td>0.928749</td>\n",
       "      <td>0.585745</td>\n",
       "      <td>0.476657</td>\n",
       "    </tr>\n",
       "  </tbody>\n",
       "</table>\n",
       "</div>"
      ],
      "text/plain": [
       "                             ASW_label       ARI       NMI   1-cLISI   bLISI  \\\n",
       "X_effect_modifier_space_PCA   0.736753  0.649999  0.745738  0.964949  0.3165   \n",
       "\n",
       "                             ASW_batch  kBET Accept Rate  graph connectivity  \\\n",
       "X_effect_modifier_space_PCA   0.875168          0.651217            0.984932   \n",
       "\n",
       "                             PCR_batch  pos rate  true pos rate   F1 LISI  \n",
       "X_effect_modifier_space_PCA   0.351659  0.928749       0.585745  0.476657  "
      ]
     },
     "execution_count": 3,
     "metadata": {},
     "output_type": "execute_result"
    }
   ],
   "source": [
    "import rpy2.robjects as robjects\n",
    "\n",
    "import anndata2ri\n",
    "anndata2ri.activate()\n",
    "# Add your library path\n",
    "library_path = \"/gpfs/gibbs/project/wang_zuoheng/xx244/R/4.3/\"  # Replace with the actual path\n",
    "# Update R's library paths\n",
    "robjects.r(f'.libPaths(c(\"{library_path}\", .libPaths()))')\n",
    "# Verify the updated library paths\n",
    "print(robjects.r('.libPaths()'))\n",
    "\n",
    "from metrics import calculate_metrics\n",
    "\n",
    "import warnings\n",
    "warnings.filterwarnings(\"ignore\")\n",
    "warnings.filterwarnings(\"ignore\", category=FutureWarning)\n",
    "\n",
    "calculate_metrics(adata1, batch_key=\"Batch\", celltype_key=\"CellType\", all=True, n_neighbors=15, embed='X_effect_modifier_space_PCA')"
   ]
  },
  {
   "cell_type": "code",
   "execution_count": 2,
   "id": "9ebd9986-f898-4b12-9e55-990adb4e53f7",
   "metadata": {},
   "outputs": [
    {
     "name": "stdout",
     "output_type": "stream",
     "text": [
      "['/gpfs/gibbs/project/wang_zuoheng/xx244/R/4.3'\n",
      " '/vast/palmer/apps/avx2/software/R/4.3.2-foss-2022b-patched/lib64/R/library']\n",
      "LISI---\n",
      "cLISI, bLISI, LISI_F1 0.9649494550321194 0.784101139032958 0.8651756208394338\n",
      "ASW---\n",
      "asw_label 0.7367525547742844\n",
      "asw_batch 0.9042340666997509\n",
      "kBET---\n",
      "0 labels consist of a single batch or is too small. Skip.\n",
      "Adding diffusion to step 4\n",
      "Adding diffusion to step 5\n",
      "Adding diffusion to step 6\n",
      "Adding diffusion to step 7\n",
      "Adding diffusion to step 8\n",
      "Adding diffusion to step 9\n",
      "Adding diffusion to step 4\n",
      "Adding diffusion to step 5\n",
      "Adding diffusion to step 4\n",
      "Adding diffusion to step 5\n",
      "Adding diffusion to step 6\n",
      "Adding diffusion to step 7\n",
      "Adding diffusion to step 8\n",
      "Adding diffusion to step 4\n",
      "Adding diffusion to step 5\n",
      "Adding diffusion to step 4\n",
      "Adding diffusion to step 5\n",
      "Adding diffusion to step 6\n",
      "kbet_score 0.9324338310754826\n",
      "graph_conn 0.9849317009717984\n",
      "NMI, ARI ---\n",
      "NMI 0.7457379320395585\n",
      "ARI 0.649998602200064\n",
      "positive and true positive rate---\n",
      "                             ASW_label       ARI       NMI   1-cLISI  \\\n",
      "X_effect_modifier_space_PCA   0.736753  0.649999  0.745738  0.964949   \n",
      "\n",
      "                                bLISI  ASW_batch  kBET Accept Rate  \\\n",
      "X_effect_modifier_space_PCA  0.784101   0.904234          0.932434   \n",
      "\n",
      "                             graph connectivity  PCR_batch  pos rate  \\\n",
      "X_effect_modifier_space_PCA            0.984932   0.140561  0.928749   \n",
      "\n",
      "                             true pos rate   F1 LISI  \n",
      "X_effect_modifier_space_PCA       0.861069  0.865176  \n"
     ]
    },
    {
     "data": {
      "text/html": [
       "<div>\n",
       "<style scoped>\n",
       "    .dataframe tbody tr th:only-of-type {\n",
       "        vertical-align: middle;\n",
       "    }\n",
       "\n",
       "    .dataframe tbody tr th {\n",
       "        vertical-align: top;\n",
       "    }\n",
       "\n",
       "    .dataframe thead th {\n",
       "        text-align: right;\n",
       "    }\n",
       "</style>\n",
       "<table border=\"1\" class=\"dataframe\">\n",
       "  <thead>\n",
       "    <tr style=\"text-align: right;\">\n",
       "      <th></th>\n",
       "      <th>ASW_label</th>\n",
       "      <th>ARI</th>\n",
       "      <th>NMI</th>\n",
       "      <th>1-cLISI</th>\n",
       "      <th>bLISI</th>\n",
       "      <th>ASW_batch</th>\n",
       "      <th>kBET Accept Rate</th>\n",
       "      <th>graph connectivity</th>\n",
       "      <th>PCR_batch</th>\n",
       "      <th>pos rate</th>\n",
       "      <th>true pos rate</th>\n",
       "      <th>F1 LISI</th>\n",
       "    </tr>\n",
       "  </thead>\n",
       "  <tbody>\n",
       "    <tr>\n",
       "      <th>X_effect_modifier_space_PCA</th>\n",
       "      <td>0.736753</td>\n",
       "      <td>0.649999</td>\n",
       "      <td>0.745738</td>\n",
       "      <td>0.964949</td>\n",
       "      <td>0.784101</td>\n",
       "      <td>0.904234</td>\n",
       "      <td>0.932434</td>\n",
       "      <td>0.984932</td>\n",
       "      <td>0.140561</td>\n",
       "      <td>0.928749</td>\n",
       "      <td>0.861069</td>\n",
       "      <td>0.865176</td>\n",
       "    </tr>\n",
       "  </tbody>\n",
       "</table>\n",
       "</div>"
      ],
      "text/plain": [
       "                             ASW_label       ARI       NMI   1-cLISI  \\\n",
       "X_effect_modifier_space_PCA   0.736753  0.649999  0.745738  0.964949   \n",
       "\n",
       "                                bLISI  ASW_batch  kBET Accept Rate  \\\n",
       "X_effect_modifier_space_PCA  0.784101   0.904234          0.932434   \n",
       "\n",
       "                             graph connectivity  PCR_batch  pos rate  \\\n",
       "X_effect_modifier_space_PCA            0.984932   0.140561  0.928749   \n",
       "\n",
       "                             true pos rate   F1 LISI  \n",
       "X_effect_modifier_space_PCA       0.861069  0.865176  "
      ]
     },
     "execution_count": 2,
     "metadata": {},
     "output_type": "execute_result"
    }
   ],
   "source": [
    "adata1=sc.read_h5ad(\"./ASD1/adata.h5ad\")\n",
    "\n",
    "import rpy2.robjects as robjects\n",
    "\n",
    "import anndata2ri\n",
    "anndata2ri.activate()\n",
    "# Add your library path\n",
    "library_path = \"/gpfs/gibbs/project/wang_zuoheng/xx244/R/4.3/\"  # Replace with the actual path\n",
    "# Update R's library paths\n",
    "robjects.r(f'.libPaths(c(\"{library_path}\", .libPaths()))')\n",
    "# Verify the updated library paths\n",
    "print(robjects.r('.libPaths()'))\n",
    "\n",
    "from metrics import calculate_metrics\n",
    "\n",
    "import warnings\n",
    "warnings.filterwarnings(\"ignore\")\n",
    "warnings.filterwarnings(\"ignore\", category=FutureWarning)\n",
    "\n",
    "calculate_metrics(adata1, batch_key='perturb01', celltype_key=\"CellType\", all=True, n_neighbors=15, embed='X_effect_modifier_space_PCA')"
   ]
  },
  {
   "cell_type": "markdown",
   "id": "69934a3a-eafc-4907-b3d3-f7678ad6cb01",
   "metadata": {},
   "source": [
    "# Then, we treat whether or not a cell is perturbed as condition and consider batch effect"
   ]
  },
  {
   "cell_type": "code",
   "execution_count": 4,
   "id": "b0a84624-3db5-4066-9e0e-5158d8faeca1",
   "metadata": {
    "execution": {
     "iopub.execute_input": "2025-01-09T17:06:10.340684Z",
     "iopub.status.busy": "2025-01-09T17:06:10.340470Z",
     "iopub.status.idle": "2025-01-09T17:13:46.523370Z",
     "shell.execute_reply": "2025-01-09T17:13:46.522886Z"
    }
   },
   "outputs": [
    {
     "name": "stdout",
     "output_type": "stream",
     "text": [
      "['/gpfs/gibbs/project/wang_zuoheng/xx244/R/4.3'\n",
      " '/vast/palmer/apps/avx2/software/R/4.3.2-foss-2022b-patched/lib64/R/library']\n",
      "LISI---\n"
     ]
    },
    {
     "name": "stdout",
     "output_type": "stream",
     "text": [
      "cLISI, bLISI, LISI_F1 0.9908532571827069 0.7654706655713126 0.8637007017131844\n"
     ]
    },
    {
     "name": "stdout",
     "output_type": "stream",
     "text": [
      "ASW---\n"
     ]
    },
    {
     "name": "stdout",
     "output_type": "stream",
     "text": [
      "asw_label 0.68837009370327\n"
     ]
    },
    {
     "name": "stdout",
     "output_type": "stream",
     "text": [
      "asw_batch 0.9413587405419866\n"
     ]
    },
    {
     "name": "stdout",
     "output_type": "stream",
     "text": [
      "kBET---\n"
     ]
    },
    {
     "name": "stdout",
     "output_type": "stream",
     "text": [
      "0 labels consist of a single batch or is too small. Skip.\n"
     ]
    },
    {
     "name": "stdout",
     "output_type": "stream",
     "text": [
      "Adding diffusion to step 4\n"
     ]
    },
    {
     "name": "stdout",
     "output_type": "stream",
     "text": [
      "Adding diffusion to step 4\n"
     ]
    },
    {
     "name": "stdout",
     "output_type": "stream",
     "text": [
      "Adding diffusion to step 5\n"
     ]
    },
    {
     "name": "stdout",
     "output_type": "stream",
     "text": [
      "Adding diffusion to step 4\n"
     ]
    },
    {
     "name": "stdout",
     "output_type": "stream",
     "text": [
      "kbet_score 0.893892236884793\n",
      "graph_conn 0.9972631376067745\n"
     ]
    },
    {
     "name": "stdout",
     "output_type": "stream",
     "text": [
      "NMI, ARI ---\n",
      "NMI 0.8964417540649325\n",
      "ARI 0.8999697338778881\n",
      "positive and true positive rate---\n"
     ]
    },
    {
     "name": "stdout",
     "output_type": "stream",
     "text": [
      "                             ASW_label      ARI       NMI   1-cLISI     bLISI  \\\n",
      "X_effect_modifier_space_PCA    0.68837  0.89997  0.896442  0.990853  0.765471   \n",
      "\n",
      "                             ASW_batch  kBET Accept Rate  graph connectivity  \\\n",
      "X_effect_modifier_space_PCA   0.941359          0.893892            0.997263   \n",
      "\n",
      "                             PCR_batch  pos rate  true pos rate   F1 LISI  \n",
      "X_effect_modifier_space_PCA   0.034958  0.981282       0.845873  0.863701  \n"
     ]
    },
    {
     "data": {
      "text/html": [
       "<div>\n",
       "<style scoped>\n",
       "    .dataframe tbody tr th:only-of-type {\n",
       "        vertical-align: middle;\n",
       "    }\n",
       "\n",
       "    .dataframe tbody tr th {\n",
       "        vertical-align: top;\n",
       "    }\n",
       "\n",
       "    .dataframe thead th {\n",
       "        text-align: right;\n",
       "    }\n",
       "</style>\n",
       "<table border=\"1\" class=\"dataframe\">\n",
       "  <thead>\n",
       "    <tr style=\"text-align: right;\">\n",
       "      <th></th>\n",
       "      <th>ASW_label</th>\n",
       "      <th>ARI</th>\n",
       "      <th>NMI</th>\n",
       "      <th>1-cLISI</th>\n",
       "      <th>bLISI</th>\n",
       "      <th>ASW_batch</th>\n",
       "      <th>kBET Accept Rate</th>\n",
       "      <th>graph connectivity</th>\n",
       "      <th>PCR_batch</th>\n",
       "      <th>pos rate</th>\n",
       "      <th>true pos rate</th>\n",
       "      <th>F1 LISI</th>\n",
       "    </tr>\n",
       "  </thead>\n",
       "  <tbody>\n",
       "    <tr>\n",
       "      <th>X_effect_modifier_space_PCA</th>\n",
       "      <td>0.68837</td>\n",
       "      <td>0.89997</td>\n",
       "      <td>0.896442</td>\n",
       "      <td>0.990853</td>\n",
       "      <td>0.765471</td>\n",
       "      <td>0.941359</td>\n",
       "      <td>0.893892</td>\n",
       "      <td>0.997263</td>\n",
       "      <td>0.034958</td>\n",
       "      <td>0.981282</td>\n",
       "      <td>0.845873</td>\n",
       "      <td>0.863701</td>\n",
       "    </tr>\n",
       "  </tbody>\n",
       "</table>\n",
       "</div>"
      ],
      "text/plain": [
       "                             ASW_label      ARI       NMI   1-cLISI     bLISI  \\\n",
       "X_effect_modifier_space_PCA    0.68837  0.89997  0.896442  0.990853  0.765471   \n",
       "\n",
       "                             ASW_batch  kBET Accept Rate  graph connectivity  \\\n",
       "X_effect_modifier_space_PCA   0.941359          0.893892            0.997263   \n",
       "\n",
       "                             PCR_batch  pos rate  true pos rate   F1 LISI  \n",
       "X_effect_modifier_space_PCA   0.034958  0.981282       0.845873  0.863701  "
      ]
     },
     "execution_count": 4,
     "metadata": {},
     "output_type": "execute_result"
    }
   ],
   "source": [
    "adata2=sc.read_h5ad(\"./ASD101/adata.h5ad\")\n",
    "\n",
    "import rpy2.robjects as robjects\n",
    "\n",
    "import anndata2ri\n",
    "anndata2ri.activate()\n",
    "# Add your library path\n",
    "library_path = \"/gpfs/gibbs/project/wang_zuoheng/xx244/R/4.3/\"  # Replace with the actual path\n",
    "# Update R's library paths\n",
    "robjects.r(f'.libPaths(c(\"{library_path}\", .libPaths()))')\n",
    "# Verify the updated library paths\n",
    "print(robjects.r('.libPaths()'))\n",
    "\n",
    "from metrics import calculate_metrics\n",
    "\n",
    "import warnings\n",
    "warnings.filterwarnings(\"ignore\")\n",
    "warnings.filterwarnings(\"ignore\", category=FutureWarning)\n",
    "\n",
    "calculate_metrics(adata2, batch_key='perturb01', celltype_key=\"CellType\", all=True, n_neighbors=15, embed='X_effect_modifier_space_PCA')"
   ]
  },
  {
   "cell_type": "code",
   "execution_count": 5,
   "id": "8c78614f-70cd-476b-babb-7aa26e7c7648",
   "metadata": {
    "execution": {
     "iopub.execute_input": "2025-01-09T17:13:46.524962Z",
     "iopub.status.busy": "2025-01-09T17:13:46.524738Z",
     "iopub.status.idle": "2025-01-09T17:22:24.276618Z",
     "shell.execute_reply": "2025-01-09T17:22:24.276120Z"
    }
   },
   "outputs": [
    {
     "name": "stdout",
     "output_type": "stream",
     "text": [
      "['/gpfs/gibbs/project/wang_zuoheng/xx244/R/4.3'\n",
      " '/vast/palmer/apps/avx2/software/R/4.3.2-foss-2022b-patched/lib64/R/library']\n",
      "LISI---\n"
     ]
    },
    {
     "name": "stdout",
     "output_type": "stream",
     "text": [
      "cLISI, bLISI, LISI_F1 0.9908532571827069 0.2852222122267064 0.44294144786983014\n"
     ]
    },
    {
     "name": "stdout",
     "output_type": "stream",
     "text": [
      "ASW---\n"
     ]
    },
    {
     "name": "stdout",
     "output_type": "stream",
     "text": [
      "asw_label 0.68837009370327\n"
     ]
    },
    {
     "name": "stdout",
     "output_type": "stream",
     "text": [
      "asw_batch 0.8813240406874584\n"
     ]
    },
    {
     "name": "stdout",
     "output_type": "stream",
     "text": [
      "kBET---\n"
     ]
    },
    {
     "name": "stdout",
     "output_type": "stream",
     "text": [
      "0 labels consist of a single batch or is too small. Skip.\n"
     ]
    },
    {
     "name": "stdout",
     "output_type": "stream",
     "text": [
      "Adding diffusion to step 4\n"
     ]
    },
    {
     "name": "stdout",
     "output_type": "stream",
     "text": [
      "Adding diffusion to step 4\n"
     ]
    },
    {
     "name": "stdout",
     "output_type": "stream",
     "text": [
      "Adding diffusion to step 5\n"
     ]
    },
    {
     "name": "stdout",
     "output_type": "stream",
     "text": [
      "Adding diffusion to step 4\n"
     ]
    },
    {
     "name": "stdout",
     "output_type": "stream",
     "text": [
      "kbet_score 0.3255771795898632\n",
      "graph_conn 0.9972631376067745\n",
      "Warning: cluster key cluster already exists in adata.obs and will be overwritten\n"
     ]
    },
    {
     "name": "stdout",
     "output_type": "stream",
     "text": [
      "NMI, ARI ---\n",
      "NMI 0.8964417540649325\n",
      "ARI 0.8999697338778881\n",
      "positive and true positive rate---\n"
     ]
    },
    {
     "name": "stdout",
     "output_type": "stream",
     "text": [
      "                             ASW_label      ARI       NMI   1-cLISI     bLISI  \\\n",
      "X_effect_modifier_space_PCA    0.68837  0.89997  0.896442  0.990853  0.285222   \n",
      "\n",
      "                             ASW_batch  kBET Accept Rate  graph connectivity  \\\n",
      "X_effect_modifier_space_PCA   0.881324          0.325577            0.997263   \n",
      "\n",
      "                             PCR_batch  pos rate  true pos rate   F1 LISI  \n",
      "X_effect_modifier_space_PCA    0.28936  0.981282       0.255523  0.442941  \n"
     ]
    },
    {
     "data": {
      "text/html": [
       "<div>\n",
       "<style scoped>\n",
       "    .dataframe tbody tr th:only-of-type {\n",
       "        vertical-align: middle;\n",
       "    }\n",
       "\n",
       "    .dataframe tbody tr th {\n",
       "        vertical-align: top;\n",
       "    }\n",
       "\n",
       "    .dataframe thead th {\n",
       "        text-align: right;\n",
       "    }\n",
       "</style>\n",
       "<table border=\"1\" class=\"dataframe\">\n",
       "  <thead>\n",
       "    <tr style=\"text-align: right;\">\n",
       "      <th></th>\n",
       "      <th>ASW_label</th>\n",
       "      <th>ARI</th>\n",
       "      <th>NMI</th>\n",
       "      <th>1-cLISI</th>\n",
       "      <th>bLISI</th>\n",
       "      <th>ASW_batch</th>\n",
       "      <th>kBET Accept Rate</th>\n",
       "      <th>graph connectivity</th>\n",
       "      <th>PCR_batch</th>\n",
       "      <th>pos rate</th>\n",
       "      <th>true pos rate</th>\n",
       "      <th>F1 LISI</th>\n",
       "    </tr>\n",
       "  </thead>\n",
       "  <tbody>\n",
       "    <tr>\n",
       "      <th>X_effect_modifier_space_PCA</th>\n",
       "      <td>0.68837</td>\n",
       "      <td>0.89997</td>\n",
       "      <td>0.896442</td>\n",
       "      <td>0.990853</td>\n",
       "      <td>0.285222</td>\n",
       "      <td>0.881324</td>\n",
       "      <td>0.325577</td>\n",
       "      <td>0.997263</td>\n",
       "      <td>0.28936</td>\n",
       "      <td>0.981282</td>\n",
       "      <td>0.255523</td>\n",
       "      <td>0.442941</td>\n",
       "    </tr>\n",
       "  </tbody>\n",
       "</table>\n",
       "</div>"
      ],
      "text/plain": [
       "                             ASW_label      ARI       NMI   1-cLISI     bLISI  \\\n",
       "X_effect_modifier_space_PCA    0.68837  0.89997  0.896442  0.990853  0.285222   \n",
       "\n",
       "                             ASW_batch  kBET Accept Rate  graph connectivity  \\\n",
       "X_effect_modifier_space_PCA   0.881324          0.325577            0.997263   \n",
       "\n",
       "                             PCR_batch  pos rate  true pos rate   F1 LISI  \n",
       "X_effect_modifier_space_PCA    0.28936  0.981282       0.255523  0.442941  "
      ]
     },
     "execution_count": 5,
     "metadata": {},
     "output_type": "execute_result"
    }
   ],
   "source": [
    "import rpy2.robjects as robjects\n",
    "\n",
    "import anndata2ri\n",
    "anndata2ri.activate()\n",
    "# Add your library path\n",
    "library_path = \"/gpfs/gibbs/project/wang_zuoheng/xx244/R/4.3/\"  # Replace with the actual path\n",
    "# Update R's library paths\n",
    "robjects.r(f'.libPaths(c(\"{library_path}\", .libPaths()))')\n",
    "# Verify the updated library paths\n",
    "print(robjects.r('.libPaths()'))\n",
    "\n",
    "from metrics import calculate_metrics\n",
    "\n",
    "import warnings\n",
    "warnings.filterwarnings(\"ignore\")\n",
    "warnings.filterwarnings(\"ignore\", category=FutureWarning)\n",
    "\n",
    "calculate_metrics(adata2, batch_key=\"Batch\", celltype_key=\"CellType\", all=True, n_neighbors=15, embed='X_effect_modifier_space_PCA')"
   ]
  },
  {
   "cell_type": "code",
   "execution_count": 3,
   "id": "34158a2c-d2be-47cc-a681-e8475c1bfb8f",
   "metadata": {},
   "outputs": [
    {
     "name": "stdout",
     "output_type": "stream",
     "text": [
      "['/gpfs/gibbs/project/wang_zuoheng/xx244/R/4.3'\n",
      " '/vast/palmer/apps/avx2/software/R/4.3.2-foss-2022b-patched/lib64/R/library']\n",
      "LISI---\n",
      "cLISI, bLISI, LISI_F1 0.9908532571827069 0.06190704400060021 0.11653326236105323\n",
      "ASW---\n",
      "asw_label 0.68837009370327\n",
      "asw_batch 0.8498224520639385\n",
      "kBET---\n",
      "0 labels consist of a single batch or is too small. Skip.\n",
      "Adding diffusion to step 4\n",
      "Adding diffusion to step 4\n",
      "Adding diffusion to step 5\n",
      "kbet_score 0.8267602591563339\n",
      "graph_conn 0.9972631376067745\n",
      "NMI, ARI ---\n",
      "NMI 0.8964417540649325\n",
      "ARI 0.8999697338778881\n",
      "positive and true positive rate---\n",
      "                             ASW_label      ARI       NMI   1-cLISI     bLISI  \\\n",
      "X_effect_modifier_space_PCA    0.68837  0.89997  0.896442  0.990853  0.061907   \n",
      "\n",
      "                             ASW_batch  kBET Accept Rate  graph connectivity  \\\n",
      "X_effect_modifier_space_PCA   0.849822           0.82676            0.997263   \n",
      "\n",
      "                             PCR_batch  pos rate  true pos rate   F1 LISI  \n",
      "X_effect_modifier_space_PCA   0.313878  0.981282       0.243504  0.116533  \n"
     ]
    },
    {
     "data": {
      "text/html": [
       "<div>\n",
       "<style scoped>\n",
       "    .dataframe tbody tr th:only-of-type {\n",
       "        vertical-align: middle;\n",
       "    }\n",
       "\n",
       "    .dataframe tbody tr th {\n",
       "        vertical-align: top;\n",
       "    }\n",
       "\n",
       "    .dataframe thead th {\n",
       "        text-align: right;\n",
       "    }\n",
       "</style>\n",
       "<table border=\"1\" class=\"dataframe\">\n",
       "  <thead>\n",
       "    <tr style=\"text-align: right;\">\n",
       "      <th></th>\n",
       "      <th>ASW_label</th>\n",
       "      <th>ARI</th>\n",
       "      <th>NMI</th>\n",
       "      <th>1-cLISI</th>\n",
       "      <th>bLISI</th>\n",
       "      <th>ASW_batch</th>\n",
       "      <th>kBET Accept Rate</th>\n",
       "      <th>graph connectivity</th>\n",
       "      <th>PCR_batch</th>\n",
       "      <th>pos rate</th>\n",
       "      <th>true pos rate</th>\n",
       "      <th>F1 LISI</th>\n",
       "    </tr>\n",
       "  </thead>\n",
       "  <tbody>\n",
       "    <tr>\n",
       "      <th>X_effect_modifier_space_PCA</th>\n",
       "      <td>0.68837</td>\n",
       "      <td>0.89997</td>\n",
       "      <td>0.896442</td>\n",
       "      <td>0.990853</td>\n",
       "      <td>0.061907</td>\n",
       "      <td>0.849822</td>\n",
       "      <td>0.82676</td>\n",
       "      <td>0.997263</td>\n",
       "      <td>0.313878</td>\n",
       "      <td>0.981282</td>\n",
       "      <td>0.243504</td>\n",
       "      <td>0.116533</td>\n",
       "    </tr>\n",
       "  </tbody>\n",
       "</table>\n",
       "</div>"
      ],
      "text/plain": [
       "                             ASW_label      ARI       NMI   1-cLISI     bLISI  \\\n",
       "X_effect_modifier_space_PCA    0.68837  0.89997  0.896442  0.990853  0.061907   \n",
       "\n",
       "                             ASW_batch  kBET Accept Rate  graph connectivity  \\\n",
       "X_effect_modifier_space_PCA   0.849822           0.82676            0.997263   \n",
       "\n",
       "                             PCR_batch  pos rate  true pos rate   F1 LISI  \n",
       "X_effect_modifier_space_PCA   0.313878  0.981282       0.243504  0.116533  "
      ]
     },
     "execution_count": 3,
     "metadata": {},
     "output_type": "execute_result"
    }
   ],
   "source": [
    "adata2=sc.read_h5ad(\"./ASD101/adata.h5ad\")\n",
    "\n",
    "import rpy2.robjects as robjects\n",
    "\n",
    "import anndata2ri\n",
    "anndata2ri.activate()\n",
    "# Add your library path\n",
    "library_path = \"/gpfs/gibbs/project/wang_zuoheng/xx244/R/4.3/\"  # Replace with the actual path\n",
    "# Update R's library paths\n",
    "robjects.r(f'.libPaths(c(\"{library_path}\", .libPaths()))')\n",
    "# Verify the updated library paths\n",
    "print(robjects.r('.libPaths()'))\n",
    "\n",
    "from metrics import calculate_metrics\n",
    "\n",
    "import warnings\n",
    "warnings.filterwarnings(\"ignore\")\n",
    "warnings.filterwarnings(\"ignore\", category=FutureWarning)\n",
    "\n",
    "calculate_metrics(adata2, batch_key='Perturbation', celltype_key=\"CellType\", all=True, n_neighbors=15, embed='X_effect_modifier_space_PCA')"
   ]
  },
  {
   "cell_type": "markdown",
   "id": "3c0ddeef-a0ab-4a9e-b2e7-df980d24882b",
   "metadata": {},
   "source": [
    "# At last, we treat whether or not a cell is perturbed as condition and do not consider batch effect"
   ]
  },
  {
   "cell_type": "code",
   "execution_count": 6,
   "id": "9eea151b-0533-4e67-9fa8-7e92726b6ad0",
   "metadata": {
    "execution": {
     "iopub.execute_input": "2025-01-09T17:22:24.278448Z",
     "iopub.status.busy": "2025-01-09T17:22:24.278055Z",
     "iopub.status.idle": "2025-01-09T17:30:51.594368Z",
     "shell.execute_reply": "2025-01-09T17:30:51.593871Z"
    }
   },
   "outputs": [
    {
     "name": "stdout",
     "output_type": "stream",
     "text": [
      "['/gpfs/gibbs/project/wang_zuoheng/xx244/R/4.3'\n",
      " '/vast/palmer/apps/avx2/software/R/4.3.2-foss-2022b-patched/lib64/R/library']\n",
      "LISI---\n"
     ]
    },
    {
     "name": "stdout",
     "output_type": "stream",
     "text": [
      "cLISI, bLISI, LISI_F1 0.9896711784332789 0.7727344117329392 0.86785128252295\n"
     ]
    },
    {
     "name": "stdout",
     "output_type": "stream",
     "text": [
      "ASW---\n"
     ]
    },
    {
     "name": "stdout",
     "output_type": "stream",
     "text": [
      "asw_label 0.67908875644207\n"
     ]
    },
    {
     "name": "stdout",
     "output_type": "stream",
     "text": [
      "asw_batch 0.9495591146365241\n"
     ]
    },
    {
     "name": "stdout",
     "output_type": "stream",
     "text": [
      "kBET---\n"
     ]
    },
    {
     "name": "stdout",
     "output_type": "stream",
     "text": [
      "0 labels consist of a single batch or is too small. Skip.\n"
     ]
    },
    {
     "name": "stdout",
     "output_type": "stream",
     "text": [
      "Adding diffusion to step 4\n"
     ]
    },
    {
     "name": "stdout",
     "output_type": "stream",
     "text": [
      "Adding diffusion to step 5\n"
     ]
    },
    {
     "name": "stdout",
     "output_type": "stream",
     "text": [
      "Adding diffusion to step 6\n"
     ]
    },
    {
     "name": "stdout",
     "output_type": "stream",
     "text": [
      "Adding diffusion to step 4\n"
     ]
    },
    {
     "name": "stdout",
     "output_type": "stream",
     "text": [
      "Adding diffusion to step 5\n"
     ]
    },
    {
     "name": "stdout",
     "output_type": "stream",
     "text": [
      "Adding diffusion to step 4\n"
     ]
    },
    {
     "name": "stdout",
     "output_type": "stream",
     "text": [
      "Adding diffusion to step 5\n"
     ]
    },
    {
     "name": "stdout",
     "output_type": "stream",
     "text": [
      "kbet_score 0.7470922582726267\n",
      "graph_conn 0.9967650541679122\n"
     ]
    },
    {
     "name": "stdout",
     "output_type": "stream",
     "text": [
      "NMI, ARI ---\n",
      "NMI 0.8142105998132482\n",
      "ARI 0.7918247396848023\n",
      "positive and true positive rate---\n"
     ]
    },
    {
     "name": "stdout",
     "output_type": "stream",
     "text": [
      "                             ASW_label       ARI       NMI   1-cLISI  \\\n",
      "X_effect_modifier_space_PCA   0.679089  0.791825  0.814211  0.989671   \n",
      "\n",
      "                                bLISI  ASW_batch  kBET Accept Rate  \\\n",
      "X_effect_modifier_space_PCA  0.772734   0.949559          0.747092   \n",
      "\n",
      "                             graph connectivity  PCR_batch  pos rate  \\\n",
      "X_effect_modifier_space_PCA            0.996765   0.290859  0.981405   \n",
      "\n",
      "                             true pos rate   F1 LISI  \n",
      "X_effect_modifier_space_PCA        0.83548  0.867851  \n"
     ]
    },
    {
     "data": {
      "text/html": [
       "<div>\n",
       "<style scoped>\n",
       "    .dataframe tbody tr th:only-of-type {\n",
       "        vertical-align: middle;\n",
       "    }\n",
       "\n",
       "    .dataframe tbody tr th {\n",
       "        vertical-align: top;\n",
       "    }\n",
       "\n",
       "    .dataframe thead th {\n",
       "        text-align: right;\n",
       "    }\n",
       "</style>\n",
       "<table border=\"1\" class=\"dataframe\">\n",
       "  <thead>\n",
       "    <tr style=\"text-align: right;\">\n",
       "      <th></th>\n",
       "      <th>ASW_label</th>\n",
       "      <th>ARI</th>\n",
       "      <th>NMI</th>\n",
       "      <th>1-cLISI</th>\n",
       "      <th>bLISI</th>\n",
       "      <th>ASW_batch</th>\n",
       "      <th>kBET Accept Rate</th>\n",
       "      <th>graph connectivity</th>\n",
       "      <th>PCR_batch</th>\n",
       "      <th>pos rate</th>\n",
       "      <th>true pos rate</th>\n",
       "      <th>F1 LISI</th>\n",
       "    </tr>\n",
       "  </thead>\n",
       "  <tbody>\n",
       "    <tr>\n",
       "      <th>X_effect_modifier_space_PCA</th>\n",
       "      <td>0.679089</td>\n",
       "      <td>0.791825</td>\n",
       "      <td>0.814211</td>\n",
       "      <td>0.989671</td>\n",
       "      <td>0.772734</td>\n",
       "      <td>0.949559</td>\n",
       "      <td>0.747092</td>\n",
       "      <td>0.996765</td>\n",
       "      <td>0.290859</td>\n",
       "      <td>0.981405</td>\n",
       "      <td>0.83548</td>\n",
       "      <td>0.867851</td>\n",
       "    </tr>\n",
       "  </tbody>\n",
       "</table>\n",
       "</div>"
      ],
      "text/plain": [
       "                             ASW_label       ARI       NMI   1-cLISI  \\\n",
       "X_effect_modifier_space_PCA   0.679089  0.791825  0.814211  0.989671   \n",
       "\n",
       "                                bLISI  ASW_batch  kBET Accept Rate  \\\n",
       "X_effect_modifier_space_PCA  0.772734   0.949559          0.747092   \n",
       "\n",
       "                             graph connectivity  PCR_batch  pos rate  \\\n",
       "X_effect_modifier_space_PCA            0.996765   0.290859  0.981405   \n",
       "\n",
       "                             true pos rate   F1 LISI  \n",
       "X_effect_modifier_space_PCA        0.83548  0.867851  "
      ]
     },
     "execution_count": 6,
     "metadata": {},
     "output_type": "execute_result"
    }
   ],
   "source": [
    "adata3=sc.read_h5ad(\"./ASD101_nobatch/adata.h5ad\")\n",
    "\n",
    "import rpy2.robjects as robjects\n",
    "\n",
    "import anndata2ri\n",
    "anndata2ri.activate()\n",
    "# Add your library path\n",
    "library_path = \"/gpfs/gibbs/project/wang_zuoheng/xx244/R/4.3/\"  # Replace with the actual path\n",
    "# Update R's library paths\n",
    "robjects.r(f'.libPaths(c(\"{library_path}\", .libPaths()))')\n",
    "# Verify the updated library paths\n",
    "print(robjects.r('.libPaths()'))\n",
    "\n",
    "from metrics import calculate_metrics\n",
    "\n",
    "import warnings\n",
    "warnings.filterwarnings(\"ignore\")\n",
    "warnings.filterwarnings(\"ignore\", category=FutureWarning)\n",
    "\n",
    "calculate_metrics(adata3, batch_key='perturb01', celltype_key=\"CellType\", all=True, n_neighbors=15, embed='X_effect_modifier_space_PCA')"
   ]
  },
  {
   "cell_type": "code",
   "execution_count": 7,
   "id": "f4c4cb9c-707f-4692-a5db-474e0111c034",
   "metadata": {
    "execution": {
     "iopub.execute_input": "2025-01-09T17:30:51.596162Z",
     "iopub.status.busy": "2025-01-09T17:30:51.595796Z",
     "iopub.status.idle": "2025-01-09T17:40:01.624812Z",
     "shell.execute_reply": "2025-01-09T17:40:01.624325Z"
    }
   },
   "outputs": [
    {
     "name": "stdout",
     "output_type": "stream",
     "text": [
      "['/gpfs/gibbs/project/wang_zuoheng/xx244/R/4.3'\n",
      " '/vast/palmer/apps/avx2/software/R/4.3.2-foss-2022b-patched/lib64/R/library']\n",
      "LISI---\n"
     ]
    },
    {
     "name": "stdout",
     "output_type": "stream",
     "text": [
      "cLISI, bLISI, LISI_F1 0.9896711784332789 0.2664290172994233 0.41983453297009293\n"
     ]
    },
    {
     "name": "stdout",
     "output_type": "stream",
     "text": [
      "ASW---\n"
     ]
    },
    {
     "name": "stdout",
     "output_type": "stream",
     "text": [
      "asw_label 0.67908875644207\n"
     ]
    },
    {
     "name": "stdout",
     "output_type": "stream",
     "text": [
      "asw_batch 0.8835555062193776\n"
     ]
    },
    {
     "name": "stdout",
     "output_type": "stream",
     "text": [
      "kBET---\n"
     ]
    },
    {
     "name": "stdout",
     "output_type": "stream",
     "text": [
      "0 labels consist of a single batch or is too small. Skip.\n"
     ]
    },
    {
     "name": "stdout",
     "output_type": "stream",
     "text": [
      "Adding diffusion to step 4\n"
     ]
    },
    {
     "name": "stdout",
     "output_type": "stream",
     "text": [
      "Adding diffusion to step 5\n"
     ]
    },
    {
     "name": "stdout",
     "output_type": "stream",
     "text": [
      "Adding diffusion to step 6\n"
     ]
    },
    {
     "name": "stdout",
     "output_type": "stream",
     "text": [
      "Adding diffusion to step 4\n"
     ]
    },
    {
     "name": "stdout",
     "output_type": "stream",
     "text": [
      "Adding diffusion to step 5\n"
     ]
    },
    {
     "name": "stdout",
     "output_type": "stream",
     "text": [
      "Adding diffusion to step 4\n"
     ]
    },
    {
     "name": "stdout",
     "output_type": "stream",
     "text": [
      "Adding diffusion to step 5\n"
     ]
    },
    {
     "name": "stdout",
     "output_type": "stream",
     "text": [
      "kbet_score 0.29243813370843885\n",
      "graph_conn 0.9967650541679122\n",
      "Warning: cluster key cluster already exists in adata.obs and will be overwritten\n"
     ]
    },
    {
     "name": "stdout",
     "output_type": "stream",
     "text": [
      "NMI, ARI ---\n",
      "NMI 0.8142105998132482\n",
      "ARI 0.7918247396848023\n",
      "positive and true positive rate---\n"
     ]
    },
    {
     "name": "stdout",
     "output_type": "stream",
     "text": [
      "                             ASW_label       ARI       NMI   1-cLISI  \\\n",
      "X_effect_modifier_space_PCA   0.679089  0.791825  0.814211  0.989671   \n",
      "\n",
      "                                bLISI  ASW_batch  kBET Accept Rate  \\\n",
      "X_effect_modifier_space_PCA  0.266429   0.883556          0.292438   \n",
      "\n",
      "                             graph connectivity  PCR_batch  pos rate  \\\n",
      "X_effect_modifier_space_PCA            0.996765   0.232918  0.981405   \n",
      "\n",
      "                             true pos rate   F1 LISI  \n",
      "X_effect_modifier_space_PCA       0.220599  0.419835  \n"
     ]
    },
    {
     "data": {
      "text/html": [
       "<div>\n",
       "<style scoped>\n",
       "    .dataframe tbody tr th:only-of-type {\n",
       "        vertical-align: middle;\n",
       "    }\n",
       "\n",
       "    .dataframe tbody tr th {\n",
       "        vertical-align: top;\n",
       "    }\n",
       "\n",
       "    .dataframe thead th {\n",
       "        text-align: right;\n",
       "    }\n",
       "</style>\n",
       "<table border=\"1\" class=\"dataframe\">\n",
       "  <thead>\n",
       "    <tr style=\"text-align: right;\">\n",
       "      <th></th>\n",
       "      <th>ASW_label</th>\n",
       "      <th>ARI</th>\n",
       "      <th>NMI</th>\n",
       "      <th>1-cLISI</th>\n",
       "      <th>bLISI</th>\n",
       "      <th>ASW_batch</th>\n",
       "      <th>kBET Accept Rate</th>\n",
       "      <th>graph connectivity</th>\n",
       "      <th>PCR_batch</th>\n",
       "      <th>pos rate</th>\n",
       "      <th>true pos rate</th>\n",
       "      <th>F1 LISI</th>\n",
       "    </tr>\n",
       "  </thead>\n",
       "  <tbody>\n",
       "    <tr>\n",
       "      <th>X_effect_modifier_space_PCA</th>\n",
       "      <td>0.679089</td>\n",
       "      <td>0.791825</td>\n",
       "      <td>0.814211</td>\n",
       "      <td>0.989671</td>\n",
       "      <td>0.266429</td>\n",
       "      <td>0.883556</td>\n",
       "      <td>0.292438</td>\n",
       "      <td>0.996765</td>\n",
       "      <td>0.232918</td>\n",
       "      <td>0.981405</td>\n",
       "      <td>0.220599</td>\n",
       "      <td>0.419835</td>\n",
       "    </tr>\n",
       "  </tbody>\n",
       "</table>\n",
       "</div>"
      ],
      "text/plain": [
       "                             ASW_label       ARI       NMI   1-cLISI  \\\n",
       "X_effect_modifier_space_PCA   0.679089  0.791825  0.814211  0.989671   \n",
       "\n",
       "                                bLISI  ASW_batch  kBET Accept Rate  \\\n",
       "X_effect_modifier_space_PCA  0.266429   0.883556          0.292438   \n",
       "\n",
       "                             graph connectivity  PCR_batch  pos rate  \\\n",
       "X_effect_modifier_space_PCA            0.996765   0.232918  0.981405   \n",
       "\n",
       "                             true pos rate   F1 LISI  \n",
       "X_effect_modifier_space_PCA       0.220599  0.419835  "
      ]
     },
     "execution_count": 7,
     "metadata": {},
     "output_type": "execute_result"
    }
   ],
   "source": [
    "import rpy2.robjects as robjects\n",
    "\n",
    "import anndata2ri\n",
    "anndata2ri.activate()\n",
    "# Add your library path\n",
    "library_path = \"/gpfs/gibbs/project/wang_zuoheng/xx244/R/4.3/\"  # Replace with the actual path\n",
    "# Update R's library paths\n",
    "robjects.r(f'.libPaths(c(\"{library_path}\", .libPaths()))')\n",
    "# Verify the updated library paths\n",
    "print(robjects.r('.libPaths()'))\n",
    "\n",
    "from metrics import calculate_metrics\n",
    "\n",
    "import warnings\n",
    "warnings.filterwarnings(\"ignore\")\n",
    "warnings.filterwarnings(\"ignore\", category=FutureWarning)\n",
    "\n",
    "calculate_metrics(adata3, batch_key=\"Batch\", celltype_key=\"CellType\", all=True, n_neighbors=15, embed='X_effect_modifier_space_PCA')"
   ]
  },
  {
   "cell_type": "code",
   "execution_count": 4,
   "id": "2f42218d-3ae0-4179-904e-0a026da470e7",
   "metadata": {},
   "outputs": [
    {
     "name": "stdout",
     "output_type": "stream",
     "text": [
      "['/gpfs/gibbs/project/wang_zuoheng/xx244/R/4.3'\n",
      " '/vast/palmer/apps/avx2/software/R/4.3.2-foss-2022b-patched/lib64/R/library']\n",
      "LISI---\n",
      "cLISI, bLISI, LISI_F1 0.9896711784332789 0.060926091536234524 0.11478574812924985\n",
      "ASW---\n",
      "asw_label 0.67908875644207\n",
      "asw_batch 0.8374370639380299\n",
      "kBET---\n",
      "0 labels consist of a single batch or is too small. Skip.\n",
      "Adding diffusion to step 4\n",
      "Adding diffusion to step 5\n",
      "Adding diffusion to step 6\n",
      "Adding diffusion to step 4\n",
      "Adding diffusion to step 4\n",
      "Adding diffusion to step 5\n",
      "kbet_score 0.7676129596347877\n",
      "graph_conn 0.9967650541679122\n",
      "NMI, ARI ---\n",
      "NMI 0.8142105998132482\n",
      "ARI 0.7918247396848023\n",
      "positive and true positive rate---\n",
      "                             ASW_label       ARI       NMI   1-cLISI  \\\n",
      "X_effect_modifier_space_PCA   0.679089  0.791825  0.814211  0.989671   \n",
      "\n",
      "                                bLISI  ASW_batch  kBET Accept Rate  \\\n",
      "X_effect_modifier_space_PCA  0.060926   0.837437          0.767613   \n",
      "\n",
      "                             graph connectivity  PCR_batch  pos rate  \\\n",
      "X_effect_modifier_space_PCA            0.996765   0.264473  0.981405   \n",
      "\n",
      "                             true pos rate   F1 LISI  \n",
      "X_effect_modifier_space_PCA        0.23252  0.114786  \n"
     ]
    },
    {
     "data": {
      "text/html": [
       "<div>\n",
       "<style scoped>\n",
       "    .dataframe tbody tr th:only-of-type {\n",
       "        vertical-align: middle;\n",
       "    }\n",
       "\n",
       "    .dataframe tbody tr th {\n",
       "        vertical-align: top;\n",
       "    }\n",
       "\n",
       "    .dataframe thead th {\n",
       "        text-align: right;\n",
       "    }\n",
       "</style>\n",
       "<table border=\"1\" class=\"dataframe\">\n",
       "  <thead>\n",
       "    <tr style=\"text-align: right;\">\n",
       "      <th></th>\n",
       "      <th>ASW_label</th>\n",
       "      <th>ARI</th>\n",
       "      <th>NMI</th>\n",
       "      <th>1-cLISI</th>\n",
       "      <th>bLISI</th>\n",
       "      <th>ASW_batch</th>\n",
       "      <th>kBET Accept Rate</th>\n",
       "      <th>graph connectivity</th>\n",
       "      <th>PCR_batch</th>\n",
       "      <th>pos rate</th>\n",
       "      <th>true pos rate</th>\n",
       "      <th>F1 LISI</th>\n",
       "    </tr>\n",
       "  </thead>\n",
       "  <tbody>\n",
       "    <tr>\n",
       "      <th>X_effect_modifier_space_PCA</th>\n",
       "      <td>0.679089</td>\n",
       "      <td>0.791825</td>\n",
       "      <td>0.814211</td>\n",
       "      <td>0.989671</td>\n",
       "      <td>0.060926</td>\n",
       "      <td>0.837437</td>\n",
       "      <td>0.767613</td>\n",
       "      <td>0.996765</td>\n",
       "      <td>0.264473</td>\n",
       "      <td>0.981405</td>\n",
       "      <td>0.23252</td>\n",
       "      <td>0.114786</td>\n",
       "    </tr>\n",
       "  </tbody>\n",
       "</table>\n",
       "</div>"
      ],
      "text/plain": [
       "                             ASW_label       ARI       NMI   1-cLISI  \\\n",
       "X_effect_modifier_space_PCA   0.679089  0.791825  0.814211  0.989671   \n",
       "\n",
       "                                bLISI  ASW_batch  kBET Accept Rate  \\\n",
       "X_effect_modifier_space_PCA  0.060926   0.837437          0.767613   \n",
       "\n",
       "                             graph connectivity  PCR_batch  pos rate  \\\n",
       "X_effect_modifier_space_PCA            0.996765   0.264473  0.981405   \n",
       "\n",
       "                             true pos rate   F1 LISI  \n",
       "X_effect_modifier_space_PCA        0.23252  0.114786  "
      ]
     },
     "execution_count": 4,
     "metadata": {},
     "output_type": "execute_result"
    }
   ],
   "source": [
    "adata3=sc.read_h5ad(\"./ASD101_nobatch/adata.h5ad\")\n",
    "\n",
    "import rpy2.robjects as robjects\n",
    "\n",
    "import anndata2ri\n",
    "anndata2ri.activate()\n",
    "# Add your library path\n",
    "library_path = \"/gpfs/gibbs/project/wang_zuoheng/xx244/R/4.3/\"  # Replace with the actual path\n",
    "# Update R's library paths\n",
    "robjects.r(f'.libPaths(c(\"{library_path}\", .libPaths()))')\n",
    "# Verify the updated library paths\n",
    "print(robjects.r('.libPaths()'))\n",
    "\n",
    "from metrics import calculate_metrics\n",
    "\n",
    "import warnings\n",
    "warnings.filterwarnings(\"ignore\")\n",
    "warnings.filterwarnings(\"ignore\", category=FutureWarning)\n",
    "\n",
    "calculate_metrics(adata3, batch_key='Perturbation', celltype_key=\"CellType\", all=True, n_neighbors=15, embed='X_effect_modifier_space_PCA')"
   ]
  },
  {
   "cell_type": "code",
   "execution_count": null,
   "id": "aabafc28-ce5f-45df-8807-bf906e0e1a1d",
   "metadata": {},
   "outputs": [],
   "source": []
  }
 ],
 "metadata": {
  "kernelspec": {
   "display_name": "Python 3 (ipykernel)",
   "language": "python",
   "name": "python3"
  },
  "language_info": {
   "codemirror_mode": {
    "name": "ipython",
    "version": 3
   },
   "file_extension": ".py",
   "mimetype": "text/x-python",
   "name": "python",
   "nbconvert_exporter": "python",
   "pygments_lexer": "ipython3",
   "version": "3.11.11"
  }
 },
 "nbformat": 4,
 "nbformat_minor": 5
}
