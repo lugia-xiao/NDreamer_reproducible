{
 "cells": [
  {
   "cell_type": "code",
   "execution_count": 1,
   "id": "e56b7b83-4358-407f-9038-c0d51554ae2b",
   "metadata": {
    "execution": {
     "iopub.execute_input": "2025-01-07T17:01:30.139012Z",
     "iopub.status.busy": "2025-01-07T17:01:30.138751Z",
     "iopub.status.idle": "2025-01-07T17:01:36.645847Z",
     "shell.execute_reply": "2025-01-07T17:01:36.645423Z"
    }
   },
   "outputs": [
    {
     "name": "stderr",
     "output_type": "stream",
     "text": [
      "Unable to determine R library path: Command '('/vast/palmer/apps/avx2/software/R/4.3.2-foss-2022b-patched/lib64/R/bin/Rscript', '-e', 'cat(Sys.getenv(\"LD_LIBRARY_PATH\"))')' returned non-zero exit status 127.\n"
     ]
    },
    {
     "name": "stderr",
     "output_type": "stream",
     "text": [
      "/tmp/ipykernel_1944896/963067665.py:7: DeprecationWarning: The global conversion available with activate() is deprecated and will be removed in the next major release. Use a local converter.\n",
      "  anndata2ri.activate()\n"
     ]
    },
    {
     "name": "stdout",
     "output_type": "stream",
     "text": [
      "['/gpfs/gibbs/project/wang_zuoheng/xx244/R/4.3'\n",
      " '/vast/palmer/apps/avx2/software/R/4.3.2-foss-2022b-patched/lib64/R/library']\n",
      "R_HOME is already set to: /vast/palmer/apps/avx2/software/R/4.3.2-foss-2022b-patched/lib64/R\n"
     ]
    },
    {
     "name": "stderr",
     "output_type": "stream",
     "text": [
      "/gpfs/gibbs/project/wang_zuoheng/xx244/Ndreamer/reproducible/metrics.py:29: DeprecationWarning: The global conversion available with activate() is deprecated and will be removed in the next major release. Use a local converter.\n",
      "  anndata2ri.activate()\n",
      "/home/xx244/.conda/envs/benchmark/lib/python3.11/site-packages/rpy2/robjects/pandas2ri.py:368: DeprecationWarning: The global conversion available with activate() is deprecated and will be removed in the next major release. Use a local converter.\n",
      "  warnings.warn('The global conversion available with activate() '\n",
      "/home/xx244/.conda/envs/benchmark/lib/python3.11/site-packages/rpy2/robjects/numpy2ri.py:241: DeprecationWarning: The global conversion available with activate() is deprecated and will be removed in the next major release. Use a local converter.\n",
      "  warnings.warn('The global conversion available with activate() '\n"
     ]
    }
   ],
   "source": [
    "import scanpy as sc\n",
    "import numpy as np\n",
    "\n",
    "import rpy2.robjects as robjects\n",
    "\n",
    "import anndata2ri\n",
    "anndata2ri.activate()\n",
    "# Add your library path\n",
    "library_path = \"/gpfs/gibbs/project/wang_zuoheng/xx244/R/4.3/\"  # Replace with the actual path\n",
    "# Update R's library paths\n",
    "robjects.r(f'.libPaths(c(\"{library_path}\", .libPaths()))')\n",
    "# Verify the updated library paths\n",
    "print(robjects.r('.libPaths()'))\n",
    "\n",
    "from metrics import calculate_metrics\n",
    "\n",
    "import warnings\n",
    "warnings.filterwarnings(\"ignore\")\n",
    "warnings.filterwarnings(\"ignore\", category=FutureWarning)"
   ]
  },
  {
   "cell_type": "markdown",
   "id": "ef6b97ff-a78e-495c-9917-fa7cbb00bd59",
   "metadata": {},
   "source": [
    "# First, we treat gene_target of CRISPR as condition and consider batch effect"
   ]
  },
  {
   "cell_type": "code",
   "execution_count": 2,
   "id": "e932561c-0ae3-4ad7-8b66-908065bc3e73",
   "metadata": {
    "execution": {
     "iopub.execute_input": "2025-01-07T17:01:36.647716Z",
     "iopub.status.busy": "2025-01-07T17:01:36.647353Z",
     "iopub.status.idle": "2025-01-07T17:13:52.428837Z",
     "shell.execute_reply": "2025-01-07T17:13:52.428353Z"
    }
   },
   "outputs": [
    {
     "name": "stdout",
     "output_type": "stream",
     "text": [
      "['/gpfs/gibbs/project/wang_zuoheng/xx244/R/4.3'\n",
      " '/vast/palmer/apps/avx2/software/R/4.3.2-foss-2022b-patched/lib64/R/library']\n",
      "Cell cluster IPC contains only one batch or has less than 10 cells. Skip.\n",
      "Cell cluster Hippocampus contains only one batch or has less than 10 cells. Skip.\n",
      "Cell cluster Doublet contains only one batch or has less than 10 cells. Skip.\n",
      "Cell cluster Ependyma contains only one batch or has less than 10 cells. Skip.\n",
      "Cell cluster Fibroblast-like contains only one batch or has less than 10 cells. Skip.\n",
      "Cell cluster Vascular contains only one batch or has less than 10 cells. Skip.\n",
      "Cell cluster Choroid Plexus contains only one batch or has less than 10 cells. Skip.\n",
      "LISI---\n"
     ]
    },
    {
     "name": "stdout",
     "output_type": "stream",
     "text": [
      "cLISI, bLISI, LISI_F1 0.9688940358711455 0.06283656312988883 0.11801912497339623\n"
     ]
    },
    {
     "name": "stdout",
     "output_type": "stream",
     "text": [
      "ASW---\n"
     ]
    },
    {
     "name": "stdout",
     "output_type": "stream",
     "text": [
      "asw_label 0.595196433365345\n"
     ]
    },
    {
     "name": "stdout",
     "output_type": "stream",
     "text": [
      "asw_batch 0.8052219543873227\n"
     ]
    },
    {
     "name": "stdout",
     "output_type": "stream",
     "text": [
      "kBET---\n"
     ]
    },
    {
     "name": "stdout",
     "output_type": "stream",
     "text": [
      "7 labels consist of a single batch or is too small. Skip.\n"
     ]
    },
    {
     "name": "stdout",
     "output_type": "stream",
     "text": [
      "Adding diffusion to step 4\n"
     ]
    },
    {
     "name": "stdout",
     "output_type": "stream",
     "text": [
      "Adding diffusion to step 5\n"
     ]
    },
    {
     "name": "stdout",
     "output_type": "stream",
     "text": [
      "Adding diffusion to step 6\n"
     ]
    },
    {
     "name": "stdout",
     "output_type": "stream",
     "text": [
      "Adding diffusion to step 7\n"
     ]
    },
    {
     "name": "stdout",
     "output_type": "stream",
     "text": [
      "Adding diffusion to step 4\n"
     ]
    },
    {
     "name": "stdout",
     "output_type": "stream",
     "text": [
      "Adding diffusion to step 5\n"
     ]
    },
    {
     "name": "stdout",
     "output_type": "stream",
     "text": [
      "Adding diffusion to step 6\n"
     ]
    },
    {
     "name": "stdout",
     "output_type": "stream",
     "text": [
      "Adding diffusion to step 4\n"
     ]
    },
    {
     "name": "stdout",
     "output_type": "stream",
     "text": [
      "Adding diffusion to step 5\n"
     ]
    },
    {
     "name": "stdout",
     "output_type": "stream",
     "text": [
      "Adding diffusion to step 6\n"
     ]
    },
    {
     "name": "stdout",
     "output_type": "stream",
     "text": [
      "Adding diffusion to step 7\n"
     ]
    },
    {
     "name": "stdout",
     "output_type": "stream",
     "text": [
      "Adding diffusion to step 8\n"
     ]
    },
    {
     "name": "stdout",
     "output_type": "stream",
     "text": [
      "Adding diffusion to step 4\n"
     ]
    },
    {
     "name": "stdout",
     "output_type": "stream",
     "text": [
      "Adding diffusion to step 5\n"
     ]
    },
    {
     "name": "stdout",
     "output_type": "stream",
     "text": [
      "Adding diffusion to step 4\n"
     ]
    },
    {
     "name": "stdout",
     "output_type": "stream",
     "text": [
      "Adding diffusion to step 5\n"
     ]
    },
    {
     "name": "stdout",
     "output_type": "stream",
     "text": [
      "Adding diffusion to step 6\n"
     ]
    },
    {
     "name": "stdout",
     "output_type": "stream",
     "text": [
      "kbet_score 0.8588275296131822\n",
      "graph_conn 0.8144347196031001\n"
     ]
    },
    {
     "name": "stdout",
     "output_type": "stream",
     "text": [
      "NMI, ARI ---\n",
      "NMI 0.7086381323081986\n",
      "ARI 0.7308475329646729\n",
      "positive and true positive rate---\n"
     ]
    },
    {
     "name": "stdout",
     "output_type": "stream",
     "text": [
      "                             ASW_label       ARI       NMI   1-cLISI  \\\n",
      "X_effect_modifier_space_PCA   0.595196  0.730848  0.708638  0.968894   \n",
      "\n",
      "                                bLISI  ASW_batch  kBET Accept Rate  \\\n",
      "X_effect_modifier_space_PCA  0.062837   0.805222          0.858828   \n",
      "\n",
      "                             graph connectivity  PCR_batch  pos rate  \\\n",
      "X_effect_modifier_space_PCA            0.814435   0.433823  0.849023   \n",
      "\n",
      "                             true pos rate   F1 LISI  \n",
      "X_effect_modifier_space_PCA       0.318503  0.118019  \n"
     ]
    },
    {
     "data": {
      "text/html": [
       "<div>\n",
       "<style scoped>\n",
       "    .dataframe tbody tr th:only-of-type {\n",
       "        vertical-align: middle;\n",
       "    }\n",
       "\n",
       "    .dataframe tbody tr th {\n",
       "        vertical-align: top;\n",
       "    }\n",
       "\n",
       "    .dataframe thead th {\n",
       "        text-align: right;\n",
       "    }\n",
       "</style>\n",
       "<table border=\"1\" class=\"dataframe\">\n",
       "  <thead>\n",
       "    <tr style=\"text-align: right;\">\n",
       "      <th></th>\n",
       "      <th>ASW_label</th>\n",
       "      <th>ARI</th>\n",
       "      <th>NMI</th>\n",
       "      <th>1-cLISI</th>\n",
       "      <th>bLISI</th>\n",
       "      <th>ASW_batch</th>\n",
       "      <th>kBET Accept Rate</th>\n",
       "      <th>graph connectivity</th>\n",
       "      <th>PCR_batch</th>\n",
       "      <th>pos rate</th>\n",
       "      <th>true pos rate</th>\n",
       "      <th>F1 LISI</th>\n",
       "    </tr>\n",
       "  </thead>\n",
       "  <tbody>\n",
       "    <tr>\n",
       "      <th>X_effect_modifier_space_PCA</th>\n",
       "      <td>0.595196</td>\n",
       "      <td>0.730848</td>\n",
       "      <td>0.708638</td>\n",
       "      <td>0.968894</td>\n",
       "      <td>0.062837</td>\n",
       "      <td>0.805222</td>\n",
       "      <td>0.858828</td>\n",
       "      <td>0.814435</td>\n",
       "      <td>0.433823</td>\n",
       "      <td>0.849023</td>\n",
       "      <td>0.318503</td>\n",
       "      <td>0.118019</td>\n",
       "    </tr>\n",
       "  </tbody>\n",
       "</table>\n",
       "</div>"
      ],
      "text/plain": [
       "                             ASW_label       ARI       NMI   1-cLISI  \\\n",
       "X_effect_modifier_space_PCA   0.595196  0.730848  0.708638  0.968894   \n",
       "\n",
       "                                bLISI  ASW_batch  kBET Accept Rate  \\\n",
       "X_effect_modifier_space_PCA  0.062837   0.805222          0.858828   \n",
       "\n",
       "                             graph connectivity  PCR_batch  pos rate  \\\n",
       "X_effect_modifier_space_PCA            0.814435   0.433823  0.849023   \n",
       "\n",
       "                             true pos rate   F1 LISI  \n",
       "X_effect_modifier_space_PCA       0.318503  0.118019  "
      ]
     },
     "execution_count": 2,
     "metadata": {},
     "output_type": "execute_result"
    }
   ],
   "source": [
    "adata1=sc.read_h5ad(\"./ASD/adata.h5ad\")\n",
    "\n",
    "import rpy2.robjects as robjects\n",
    "\n",
    "import anndata2ri\n",
    "anndata2ri.activate()\n",
    "# Add your library path\n",
    "library_path = \"/gpfs/gibbs/project/wang_zuoheng/xx244/R/4.3/\"  # Replace with the actual path\n",
    "# Update R's library paths\n",
    "robjects.r(f'.libPaths(c(\"{library_path}\", .libPaths()))')\n",
    "# Verify the updated library paths\n",
    "print(robjects.r('.libPaths()'))\n",
    "\n",
    "from metrics import calculate_metrics\n",
    "\n",
    "import warnings\n",
    "warnings.filterwarnings(\"ignore\")\n",
    "warnings.filterwarnings(\"ignore\", category=FutureWarning)\n",
    "\n",
    "calculate_metrics(adata1, batch_key='Perturbation', celltype_key=\"CellType\", all=True, n_neighbors=15, embed='X_effect_modifier_space_PCA')"
   ]
  },
  {
   "cell_type": "code",
   "execution_count": 3,
   "id": "2658b3f3-c31a-4460-8090-cd3e54cdcec5",
   "metadata": {
    "execution": {
     "iopub.execute_input": "2025-01-07T17:13:52.430981Z",
     "iopub.status.busy": "2025-01-07T17:13:52.430372Z",
     "iopub.status.idle": "2025-01-07T17:26:18.752836Z",
     "shell.execute_reply": "2025-01-07T17:26:18.752333Z"
    }
   },
   "outputs": [
    {
     "name": "stdout",
     "output_type": "stream",
     "text": [
      "['/gpfs/gibbs/project/wang_zuoheng/xx244/R/4.3'\n",
      " '/vast/palmer/apps/avx2/software/R/4.3.2-foss-2022b-patched/lib64/R/library']\n",
      "LISI---\n"
     ]
    },
    {
     "name": "stdout",
     "output_type": "stream",
     "text": [
      "cLISI, bLISI, LISI_F1 0.9688940358711455 0.28483770872028935 0.4402497717089014\n"
     ]
    },
    {
     "name": "stdout",
     "output_type": "stream",
     "text": [
      "ASW---\n"
     ]
    },
    {
     "name": "stdout",
     "output_type": "stream",
     "text": [
      "asw_label 0.595196433365345\n"
     ]
    },
    {
     "name": "stdout",
     "output_type": "stream",
     "text": [
      "asw_batch 0.7916539667676701\n"
     ]
    },
    {
     "name": "stdout",
     "output_type": "stream",
     "text": [
      "kBET---\n"
     ]
    },
    {
     "name": "stdout",
     "output_type": "stream",
     "text": [
      "0 labels consist of a single batch or is too small. Skip.\n"
     ]
    },
    {
     "name": "stdout",
     "output_type": "stream",
     "text": [
      "Adding diffusion to step 4\n"
     ]
    },
    {
     "name": "stdout",
     "output_type": "stream",
     "text": [
      "Adding diffusion to step 5\n"
     ]
    },
    {
     "name": "stdout",
     "output_type": "stream",
     "text": [
      "Adding diffusion to step 6\n"
     ]
    },
    {
     "name": "stdout",
     "output_type": "stream",
     "text": [
      "Adding diffusion to step 7\n"
     ]
    },
    {
     "name": "stdout",
     "output_type": "stream",
     "text": [
      "Adding diffusion to step 4\n",
      "Adding diffusion to step 5\n"
     ]
    },
    {
     "name": "stdout",
     "output_type": "stream",
     "text": [
      "Adding diffusion to step 4\n",
      "Adding diffusion to step 5\n"
     ]
    },
    {
     "name": "stdout",
     "output_type": "stream",
     "text": [
      "Adding diffusion to step 4\n"
     ]
    },
    {
     "name": "stdout",
     "output_type": "stream",
     "text": [
      "Adding diffusion to step 5\n"
     ]
    },
    {
     "name": "stdout",
     "output_type": "stream",
     "text": [
      "Adding diffusion to step 6\n"
     ]
    },
    {
     "name": "stdout",
     "output_type": "stream",
     "text": [
      "Adding diffusion to step 4\n"
     ]
    },
    {
     "name": "stdout",
     "output_type": "stream",
     "text": [
      "Adding diffusion to step 5\n"
     ]
    },
    {
     "name": "stdout",
     "output_type": "stream",
     "text": [
      "Adding diffusion to step 6\n"
     ]
    },
    {
     "name": "stdout",
     "output_type": "stream",
     "text": [
      "Adding diffusion to step 7\n"
     ]
    },
    {
     "name": "stdout",
     "output_type": "stream",
     "text": [
      "Adding diffusion to step 8\n"
     ]
    },
    {
     "name": "stdout",
     "output_type": "stream",
     "text": [
      "Adding diffusion to step 4\n",
      "Adding diffusion to step 5\n"
     ]
    },
    {
     "name": "stdout",
     "output_type": "stream",
     "text": [
      "Adding diffusion to step 4\n",
      "Adding diffusion to step 5\n",
      "Adding diffusion to step 6\n"
     ]
    },
    {
     "name": "stdout",
     "output_type": "stream",
     "text": [
      "Adding diffusion to step 4\n"
     ]
    },
    {
     "name": "stdout",
     "output_type": "stream",
     "text": [
      "Adding diffusion to step 5\n"
     ]
    },
    {
     "name": "stdout",
     "output_type": "stream",
     "text": [
      "Adding diffusion to step 6\n"
     ]
    },
    {
     "name": "stdout",
     "output_type": "stream",
     "text": [
      "Adding diffusion to step 7\n"
     ]
    },
    {
     "name": "stdout",
     "output_type": "stream",
     "text": [
      "Adding diffusion to step 8\n"
     ]
    },
    {
     "name": "stdout",
     "output_type": "stream",
     "text": [
      "Adding diffusion to step 9\n"
     ]
    },
    {
     "name": "stdout",
     "output_type": "stream",
     "text": [
      "Adding diffusion to step 4\n"
     ]
    },
    {
     "name": "stdout",
     "output_type": "stream",
     "text": [
      "Adding diffusion to step 5\n"
     ]
    },
    {
     "name": "stdout",
     "output_type": "stream",
     "text": [
      "Adding diffusion to step 6\n"
     ]
    },
    {
     "name": "stdout",
     "output_type": "stream",
     "text": [
      "Adding diffusion to step 4\n"
     ]
    },
    {
     "name": "stdout",
     "output_type": "stream",
     "text": [
      "Adding diffusion to step 5\n"
     ]
    },
    {
     "name": "stdout",
     "output_type": "stream",
     "text": [
      "Adding diffusion to step 6\n"
     ]
    },
    {
     "name": "stdout",
     "output_type": "stream",
     "text": [
      "Adding diffusion to step 7\n"
     ]
    },
    {
     "name": "stdout",
     "output_type": "stream",
     "text": [
      "Adding diffusion to step 4\n"
     ]
    },
    {
     "name": "stdout",
     "output_type": "stream",
     "text": [
      "Adding diffusion to step 5\n"
     ]
    },
    {
     "name": "stdout",
     "output_type": "stream",
     "text": [
      "Adding diffusion to step 6\n"
     ]
    },
    {
     "name": "stdout",
     "output_type": "stream",
     "text": [
      "Adding diffusion to step 7\n"
     ]
    },
    {
     "name": "stdout",
     "output_type": "stream",
     "text": [
      "kbet_score 0.660567362001633\n",
      "graph_conn 0.8144347196031001\n",
      "Warning: cluster key cluster already exists in adata.obs and will be overwritten\n"
     ]
    },
    {
     "name": "stdout",
     "output_type": "stream",
     "text": [
      "NMI, ARI ---\n",
      "NMI 0.7086381323081986\n",
      "ARI 0.7308475329646729\n",
      "positive and true positive rate---\n"
     ]
    },
    {
     "name": "stdout",
     "output_type": "stream",
     "text": [
      "                             ASW_label       ARI       NMI   1-cLISI  \\\n",
      "X_effect_modifier_space_PCA   0.595196  0.730848  0.708638  0.968894   \n",
      "\n",
      "                                bLISI  ASW_batch  kBET Accept Rate  \\\n",
      "X_effect_modifier_space_PCA  0.284838   0.791654          0.660567   \n",
      "\n",
      "                             graph connectivity  PCR_batch  pos rate  \\\n",
      "X_effect_modifier_space_PCA            0.814435    0.47336  0.849023   \n",
      "\n",
      "                             true pos rate  F1 LISI  \n",
      "X_effect_modifier_space_PCA       0.487864  0.44025  \n"
     ]
    },
    {
     "data": {
      "text/html": [
       "<div>\n",
       "<style scoped>\n",
       "    .dataframe tbody tr th:only-of-type {\n",
       "        vertical-align: middle;\n",
       "    }\n",
       "\n",
       "    .dataframe tbody tr th {\n",
       "        vertical-align: top;\n",
       "    }\n",
       "\n",
       "    .dataframe thead th {\n",
       "        text-align: right;\n",
       "    }\n",
       "</style>\n",
       "<table border=\"1\" class=\"dataframe\">\n",
       "  <thead>\n",
       "    <tr style=\"text-align: right;\">\n",
       "      <th></th>\n",
       "      <th>ASW_label</th>\n",
       "      <th>ARI</th>\n",
       "      <th>NMI</th>\n",
       "      <th>1-cLISI</th>\n",
       "      <th>bLISI</th>\n",
       "      <th>ASW_batch</th>\n",
       "      <th>kBET Accept Rate</th>\n",
       "      <th>graph connectivity</th>\n",
       "      <th>PCR_batch</th>\n",
       "      <th>pos rate</th>\n",
       "      <th>true pos rate</th>\n",
       "      <th>F1 LISI</th>\n",
       "    </tr>\n",
       "  </thead>\n",
       "  <tbody>\n",
       "    <tr>\n",
       "      <th>X_effect_modifier_space_PCA</th>\n",
       "      <td>0.595196</td>\n",
       "      <td>0.730848</td>\n",
       "      <td>0.708638</td>\n",
       "      <td>0.968894</td>\n",
       "      <td>0.284838</td>\n",
       "      <td>0.791654</td>\n",
       "      <td>0.660567</td>\n",
       "      <td>0.814435</td>\n",
       "      <td>0.47336</td>\n",
       "      <td>0.849023</td>\n",
       "      <td>0.487864</td>\n",
       "      <td>0.44025</td>\n",
       "    </tr>\n",
       "  </tbody>\n",
       "</table>\n",
       "</div>"
      ],
      "text/plain": [
       "                             ASW_label       ARI       NMI   1-cLISI  \\\n",
       "X_effect_modifier_space_PCA   0.595196  0.730848  0.708638  0.968894   \n",
       "\n",
       "                                bLISI  ASW_batch  kBET Accept Rate  \\\n",
       "X_effect_modifier_space_PCA  0.284838   0.791654          0.660567   \n",
       "\n",
       "                             graph connectivity  PCR_batch  pos rate  \\\n",
       "X_effect_modifier_space_PCA            0.814435    0.47336  0.849023   \n",
       "\n",
       "                             true pos rate  F1 LISI  \n",
       "X_effect_modifier_space_PCA       0.487864  0.44025  "
      ]
     },
     "execution_count": 3,
     "metadata": {},
     "output_type": "execute_result"
    }
   ],
   "source": [
    "import rpy2.robjects as robjects\n",
    "\n",
    "import anndata2ri\n",
    "anndata2ri.activate()\n",
    "# Add your library path\n",
    "library_path = \"/gpfs/gibbs/project/wang_zuoheng/xx244/R/4.3/\"  # Replace with the actual path\n",
    "# Update R's library paths\n",
    "robjects.r(f'.libPaths(c(\"{library_path}\", .libPaths()))')\n",
    "# Verify the updated library paths\n",
    "print(robjects.r('.libPaths()'))\n",
    "\n",
    "from metrics import calculate_metrics\n",
    "\n",
    "import warnings\n",
    "warnings.filterwarnings(\"ignore\")\n",
    "warnings.filterwarnings(\"ignore\", category=FutureWarning)\n",
    "\n",
    "calculate_metrics(adata1, batch_key=\"Batch\", celltype_key=\"CellType\", all=True, n_neighbors=15, embed='X_effect_modifier_space_PCA')"
   ]
  },
  {
   "cell_type": "markdown",
   "id": "69934a3a-eafc-4907-b3d3-f7678ad6cb01",
   "metadata": {},
   "source": [
    "# Then, we treat whether or not a cell is perturbed as condition and consider batch effect"
   ]
  },
  {
   "cell_type": "code",
   "execution_count": 4,
   "id": "b0a84624-3db5-4066-9e0e-5158d8faeca1",
   "metadata": {
    "execution": {
     "iopub.execute_input": "2025-01-07T17:26:18.754605Z",
     "iopub.status.busy": "2025-01-07T17:26:18.754380Z",
     "iopub.status.idle": "2025-01-07T17:36:18.998775Z",
     "shell.execute_reply": "2025-01-07T17:36:18.998257Z"
    }
   },
   "outputs": [
    {
     "name": "stdout",
     "output_type": "stream",
     "text": [
      "['/gpfs/gibbs/project/wang_zuoheng/xx244/R/4.3'\n",
      " '/vast/palmer/apps/avx2/software/R/4.3.2-foss-2022b-patched/lib64/R/library']\n",
      "Cell cluster IPC contains only one batch or has less than 10 cells. Skip.\n",
      "Cell cluster Hippocampus contains only one batch or has less than 10 cells. Skip.\n",
      "Cell cluster Doublet contains only one batch or has less than 10 cells. Skip.\n",
      "Cell cluster Ependyma contains only one batch or has less than 10 cells. Skip.\n",
      "Cell cluster Fibroblast-like contains only one batch or has less than 10 cells. Skip.\n",
      "Cell cluster Vascular contains only one batch or has less than 10 cells. Skip.\n",
      "Cell cluster Choroid Plexus contains only one batch or has less than 10 cells. Skip.\n",
      "LISI---\n"
     ]
    },
    {
     "name": "stdout",
     "output_type": "stream",
     "text": [
      "cLISI, bLISI, LISI_F1 0.9925259859562221 0.7679873714552773 0.8659376764699094\n"
     ]
    },
    {
     "name": "stdout",
     "output_type": "stream",
     "text": [
      "ASW---\n"
     ]
    },
    {
     "name": "stdout",
     "output_type": "stream",
     "text": [
      "asw_label 0.6073309406638145\n"
     ]
    },
    {
     "name": "stdout",
     "output_type": "stream",
     "text": [
      "asw_batch 0.9418350889386179\n"
     ]
    },
    {
     "name": "stdout",
     "output_type": "stream",
     "text": [
      "kBET---\n"
     ]
    },
    {
     "name": "stdout",
     "output_type": "stream",
     "text": [
      "7 labels consist of a single batch or is too small. Skip.\n"
     ]
    },
    {
     "name": "stdout",
     "output_type": "stream",
     "text": [
      "Adding diffusion to step 4\n"
     ]
    },
    {
     "name": "stdout",
     "output_type": "stream",
     "text": [
      "Adding diffusion to step 5\n"
     ]
    },
    {
     "name": "stdout",
     "output_type": "stream",
     "text": [
      "Adding diffusion to step 4\n"
     ]
    },
    {
     "name": "stdout",
     "output_type": "stream",
     "text": [
      "Adding diffusion to step 4\n"
     ]
    },
    {
     "name": "stdout",
     "output_type": "stream",
     "text": [
      "Adding diffusion to step 5\n"
     ]
    },
    {
     "name": "stdout",
     "output_type": "stream",
     "text": [
      "Adding diffusion to step 4\n"
     ]
    },
    {
     "name": "stdout",
     "output_type": "stream",
     "text": [
      "Adding diffusion to step 5\n"
     ]
    },
    {
     "name": "stdout",
     "output_type": "stream",
     "text": [
      "Adding diffusion to step 4\n"
     ]
    },
    {
     "name": "stdout",
     "output_type": "stream",
     "text": [
      "kbet_score 0.8846323364929815\n",
      "graph_conn 0.9279337977900671\n"
     ]
    },
    {
     "name": "stdout",
     "output_type": "stream",
     "text": [
      "NMI, ARI ---\n",
      "NMI 0.8207313710913458\n",
      "ARI 0.8385334485003746\n",
      "positive and true positive rate---\n"
     ]
    },
    {
     "name": "stdout",
     "output_type": "stream",
     "text": [
      "                             ASW_label       ARI       NMI   1-cLISI  \\\n",
      "X_effect_modifier_space_PCA   0.607331  0.838533  0.820731  0.992526   \n",
      "\n",
      "                                bLISI  ASW_batch  kBET Accept Rate  \\\n",
      "X_effect_modifier_space_PCA  0.767987   0.941835          0.884632   \n",
      "\n",
      "                             graph connectivity  PCR_batch  pos rate  \\\n",
      "X_effect_modifier_space_PCA            0.927934   0.317272  0.959219   \n",
      "\n",
      "                             true pos rate   F1 LISI  \n",
      "X_effect_modifier_space_PCA       0.849492  0.865938  \n"
     ]
    },
    {
     "data": {
      "text/html": [
       "<div>\n",
       "<style scoped>\n",
       "    .dataframe tbody tr th:only-of-type {\n",
       "        vertical-align: middle;\n",
       "    }\n",
       "\n",
       "    .dataframe tbody tr th {\n",
       "        vertical-align: top;\n",
       "    }\n",
       "\n",
       "    .dataframe thead th {\n",
       "        text-align: right;\n",
       "    }\n",
       "</style>\n",
       "<table border=\"1\" class=\"dataframe\">\n",
       "  <thead>\n",
       "    <tr style=\"text-align: right;\">\n",
       "      <th></th>\n",
       "      <th>ASW_label</th>\n",
       "      <th>ARI</th>\n",
       "      <th>NMI</th>\n",
       "      <th>1-cLISI</th>\n",
       "      <th>bLISI</th>\n",
       "      <th>ASW_batch</th>\n",
       "      <th>kBET Accept Rate</th>\n",
       "      <th>graph connectivity</th>\n",
       "      <th>PCR_batch</th>\n",
       "      <th>pos rate</th>\n",
       "      <th>true pos rate</th>\n",
       "      <th>F1 LISI</th>\n",
       "    </tr>\n",
       "  </thead>\n",
       "  <tbody>\n",
       "    <tr>\n",
       "      <th>X_effect_modifier_space_PCA</th>\n",
       "      <td>0.607331</td>\n",
       "      <td>0.838533</td>\n",
       "      <td>0.820731</td>\n",
       "      <td>0.992526</td>\n",
       "      <td>0.767987</td>\n",
       "      <td>0.941835</td>\n",
       "      <td>0.884632</td>\n",
       "      <td>0.927934</td>\n",
       "      <td>0.317272</td>\n",
       "      <td>0.959219</td>\n",
       "      <td>0.849492</td>\n",
       "      <td>0.865938</td>\n",
       "    </tr>\n",
       "  </tbody>\n",
       "</table>\n",
       "</div>"
      ],
      "text/plain": [
       "                             ASW_label       ARI       NMI   1-cLISI  \\\n",
       "X_effect_modifier_space_PCA   0.607331  0.838533  0.820731  0.992526   \n",
       "\n",
       "                                bLISI  ASW_batch  kBET Accept Rate  \\\n",
       "X_effect_modifier_space_PCA  0.767987   0.941835          0.884632   \n",
       "\n",
       "                             graph connectivity  PCR_batch  pos rate  \\\n",
       "X_effect_modifier_space_PCA            0.927934   0.317272  0.959219   \n",
       "\n",
       "                             true pos rate   F1 LISI  \n",
       "X_effect_modifier_space_PCA       0.849492  0.865938  "
      ]
     },
     "execution_count": 4,
     "metadata": {},
     "output_type": "execute_result"
    }
   ],
   "source": [
    "adata2=sc.read_h5ad(\"./ASD01/adata.h5ad\")\n",
    "\n",
    "import rpy2.robjects as robjects\n",
    "\n",
    "import anndata2ri\n",
    "anndata2ri.activate()\n",
    "# Add your library path\n",
    "library_path = \"/gpfs/gibbs/project/wang_zuoheng/xx244/R/4.3/\"  # Replace with the actual path\n",
    "# Update R's library paths\n",
    "robjects.r(f'.libPaths(c(\"{library_path}\", .libPaths()))')\n",
    "# Verify the updated library paths\n",
    "print(robjects.r('.libPaths()'))\n",
    "\n",
    "from metrics import calculate_metrics\n",
    "\n",
    "import warnings\n",
    "warnings.filterwarnings(\"ignore\")\n",
    "warnings.filterwarnings(\"ignore\", category=FutureWarning)\n",
    "\n",
    "calculate_metrics(adata2, batch_key='perturb01', celltype_key=\"CellType\", all=True, n_neighbors=15, embed='X_effect_modifier_space_PCA')"
   ]
  },
  {
   "cell_type": "code",
   "execution_count": 5,
   "id": "8c78614f-70cd-476b-babb-7aa26e7c7648",
   "metadata": {
    "execution": {
     "iopub.execute_input": "2025-01-07T17:36:19.000427Z",
     "iopub.status.busy": "2025-01-07T17:36:19.000205Z",
     "iopub.status.idle": "2025-01-07T17:48:26.965174Z",
     "shell.execute_reply": "2025-01-07T17:48:26.964679Z"
    }
   },
   "outputs": [
    {
     "name": "stdout",
     "output_type": "stream",
     "text": [
      "['/gpfs/gibbs/project/wang_zuoheng/xx244/R/4.3'\n",
      " '/vast/palmer/apps/avx2/software/R/4.3.2-foss-2022b-patched/lib64/R/library']\n",
      "LISI---\n"
     ]
    },
    {
     "name": "stdout",
     "output_type": "stream",
     "text": [
      "cLISI, bLISI, LISI_F1 0.9925259859562221 0.2546907416428221 0.40536207359821363\n"
     ]
    },
    {
     "name": "stdout",
     "output_type": "stream",
     "text": [
      "ASW---\n"
     ]
    },
    {
     "name": "stdout",
     "output_type": "stream",
     "text": [
      "asw_label 0.6073309406638145\n"
     ]
    },
    {
     "name": "stdout",
     "output_type": "stream",
     "text": [
      "asw_batch 0.8223610214242733\n"
     ]
    },
    {
     "name": "stdout",
     "output_type": "stream",
     "text": [
      "kBET---\n"
     ]
    },
    {
     "name": "stdout",
     "output_type": "stream",
     "text": [
      "0 labels consist of a single batch or is too small. Skip.\n"
     ]
    },
    {
     "name": "stdout",
     "output_type": "stream",
     "text": [
      "Adding diffusion to step 4\n"
     ]
    },
    {
     "name": "stdout",
     "output_type": "stream",
     "text": [
      "Adding diffusion to step 5\n"
     ]
    },
    {
     "name": "stdout",
     "output_type": "stream",
     "text": [
      "Adding diffusion to step 4\n"
     ]
    },
    {
     "name": "stdout",
     "output_type": "stream",
     "text": [
      "Adding diffusion to step 4\n"
     ]
    },
    {
     "name": "stdout",
     "output_type": "stream",
     "text": [
      "Adding diffusion to step 4\n"
     ]
    },
    {
     "name": "stdout",
     "output_type": "stream",
     "text": [
      "Adding diffusion to step 4\n"
     ]
    },
    {
     "name": "stdout",
     "output_type": "stream",
     "text": [
      "Adding diffusion to step 4\n"
     ]
    },
    {
     "name": "stdout",
     "output_type": "stream",
     "text": [
      "Adding diffusion to step 5\n"
     ]
    },
    {
     "name": "stdout",
     "output_type": "stream",
     "text": [
      "Adding diffusion to step 4\n"
     ]
    },
    {
     "name": "stdout",
     "output_type": "stream",
     "text": [
      "Adding diffusion to step 5\n"
     ]
    },
    {
     "name": "stdout",
     "output_type": "stream",
     "text": [
      "Adding diffusion to step 4\n"
     ]
    },
    {
     "name": "stdout",
     "output_type": "stream",
     "text": [
      "Adding diffusion to step 4\n"
     ]
    },
    {
     "name": "stdout",
     "output_type": "stream",
     "text": [
      "kbet_score 0.5379288760382837\n",
      "graph_conn 0.9279337977900671\n",
      "Warning: cluster key cluster already exists in adata.obs and will be overwritten\n"
     ]
    },
    {
     "name": "stdout",
     "output_type": "stream",
     "text": [
      "NMI, ARI ---\n",
      "NMI 0.8207313710913458\n",
      "ARI 0.8385334485003746\n",
      "positive and true positive rate---\n"
     ]
    },
    {
     "name": "stdout",
     "output_type": "stream",
     "text": [
      "                             ASW_label       ARI       NMI   1-cLISI  \\\n",
      "X_effect_modifier_space_PCA   0.607331  0.838533  0.820731  0.992526   \n",
      "\n",
      "                                bLISI  ASW_batch  kBET Accept Rate  \\\n",
      "X_effect_modifier_space_PCA  0.254691   0.822361          0.537929   \n",
      "\n",
      "                             graph connectivity  PCR_batch  pos rate  \\\n",
      "X_effect_modifier_space_PCA            0.927934   0.377082  0.959219   \n",
      "\n",
      "                             true pos rate   F1 LISI  \n",
      "X_effect_modifier_space_PCA       0.232458  0.405362  \n"
     ]
    },
    {
     "data": {
      "text/html": [
       "<div>\n",
       "<style scoped>\n",
       "    .dataframe tbody tr th:only-of-type {\n",
       "        vertical-align: middle;\n",
       "    }\n",
       "\n",
       "    .dataframe tbody tr th {\n",
       "        vertical-align: top;\n",
       "    }\n",
       "\n",
       "    .dataframe thead th {\n",
       "        text-align: right;\n",
       "    }\n",
       "</style>\n",
       "<table border=\"1\" class=\"dataframe\">\n",
       "  <thead>\n",
       "    <tr style=\"text-align: right;\">\n",
       "      <th></th>\n",
       "      <th>ASW_label</th>\n",
       "      <th>ARI</th>\n",
       "      <th>NMI</th>\n",
       "      <th>1-cLISI</th>\n",
       "      <th>bLISI</th>\n",
       "      <th>ASW_batch</th>\n",
       "      <th>kBET Accept Rate</th>\n",
       "      <th>graph connectivity</th>\n",
       "      <th>PCR_batch</th>\n",
       "      <th>pos rate</th>\n",
       "      <th>true pos rate</th>\n",
       "      <th>F1 LISI</th>\n",
       "    </tr>\n",
       "  </thead>\n",
       "  <tbody>\n",
       "    <tr>\n",
       "      <th>X_effect_modifier_space_PCA</th>\n",
       "      <td>0.607331</td>\n",
       "      <td>0.838533</td>\n",
       "      <td>0.820731</td>\n",
       "      <td>0.992526</td>\n",
       "      <td>0.254691</td>\n",
       "      <td>0.822361</td>\n",
       "      <td>0.537929</td>\n",
       "      <td>0.927934</td>\n",
       "      <td>0.377082</td>\n",
       "      <td>0.959219</td>\n",
       "      <td>0.232458</td>\n",
       "      <td>0.405362</td>\n",
       "    </tr>\n",
       "  </tbody>\n",
       "</table>\n",
       "</div>"
      ],
      "text/plain": [
       "                             ASW_label       ARI       NMI   1-cLISI  \\\n",
       "X_effect_modifier_space_PCA   0.607331  0.838533  0.820731  0.992526   \n",
       "\n",
       "                                bLISI  ASW_batch  kBET Accept Rate  \\\n",
       "X_effect_modifier_space_PCA  0.254691   0.822361          0.537929   \n",
       "\n",
       "                             graph connectivity  PCR_batch  pos rate  \\\n",
       "X_effect_modifier_space_PCA            0.927934   0.377082  0.959219   \n",
       "\n",
       "                             true pos rate   F1 LISI  \n",
       "X_effect_modifier_space_PCA       0.232458  0.405362  "
      ]
     },
     "execution_count": 5,
     "metadata": {},
     "output_type": "execute_result"
    }
   ],
   "source": [
    "import rpy2.robjects as robjects\n",
    "\n",
    "import anndata2ri\n",
    "anndata2ri.activate()\n",
    "# Add your library path\n",
    "library_path = \"/gpfs/gibbs/project/wang_zuoheng/xx244/R/4.3/\"  # Replace with the actual path\n",
    "# Update R's library paths\n",
    "robjects.r(f'.libPaths(c(\"{library_path}\", .libPaths()))')\n",
    "# Verify the updated library paths\n",
    "print(robjects.r('.libPaths()'))\n",
    "\n",
    "from metrics import calculate_metrics\n",
    "\n",
    "import warnings\n",
    "warnings.filterwarnings(\"ignore\")\n",
    "warnings.filterwarnings(\"ignore\", category=FutureWarning)\n",
    "\n",
    "calculate_metrics(adata2, batch_key=\"Batch\", celltype_key=\"CellType\", all=True, n_neighbors=15, embed='X_effect_modifier_space_PCA')"
   ]
  },
  {
   "cell_type": "markdown",
   "id": "3c0ddeef-a0ab-4a9e-b2e7-df980d24882b",
   "metadata": {},
   "source": [
    "# At last, we treat whether or not a cell is perturbed as condition and do not consider batch effect"
   ]
  },
  {
   "cell_type": "code",
   "execution_count": 6,
   "id": "9eea151b-0533-4e67-9fa8-7e92726b6ad0",
   "metadata": {
    "execution": {
     "iopub.execute_input": "2025-01-07T17:48:26.966828Z",
     "iopub.status.busy": "2025-01-07T17:48:26.966595Z",
     "iopub.status.idle": "2025-01-07T17:58:33.508866Z",
     "shell.execute_reply": "2025-01-07T17:58:33.508366Z"
    }
   },
   "outputs": [
    {
     "name": "stdout",
     "output_type": "stream",
     "text": [
      "['/gpfs/gibbs/project/wang_zuoheng/xx244/R/4.3'\n",
      " '/vast/palmer/apps/avx2/software/R/4.3.2-foss-2022b-patched/lib64/R/library']\n",
      "Cell cluster IPC contains only one batch or has less than 10 cells. Skip.\n",
      "Cell cluster Hippocampus contains only one batch or has less than 10 cells. Skip.\n",
      "Cell cluster Doublet contains only one batch or has less than 10 cells. Skip.\n",
      "Cell cluster Ependyma contains only one batch or has less than 10 cells. Skip.\n",
      "Cell cluster Fibroblast-like contains only one batch or has less than 10 cells. Skip.\n",
      "Cell cluster Vascular contains only one batch or has less than 10 cells. Skip.\n",
      "Cell cluster Choroid Plexus contains only one batch or has less than 10 cells. Skip.\n",
      "LISI---\n"
     ]
    },
    {
     "name": "stdout",
     "output_type": "stream",
     "text": [
      "cLISI, bLISI, LISI_F1 0.9919921176892283 0.7631085318042745 0.8626259111803063\n"
     ]
    },
    {
     "name": "stdout",
     "output_type": "stream",
     "text": [
      "ASW---\n"
     ]
    },
    {
     "name": "stdout",
     "output_type": "stream",
     "text": [
      "asw_label 0.5788113996386528\n"
     ]
    },
    {
     "name": "stdout",
     "output_type": "stream",
     "text": [
      "asw_batch 0.9550785940782337\n"
     ]
    },
    {
     "name": "stdout",
     "output_type": "stream",
     "text": [
      "kBET---\n"
     ]
    },
    {
     "name": "stdout",
     "output_type": "stream",
     "text": [
      "7 labels consist of a single batch or is too small. Skip.\n"
     ]
    },
    {
     "name": "stdout",
     "output_type": "stream",
     "text": [
      "Adding diffusion to step 4\n"
     ]
    },
    {
     "name": "stdout",
     "output_type": "stream",
     "text": [
      "Adding diffusion to step 4\n"
     ]
    },
    {
     "name": "stdout",
     "output_type": "stream",
     "text": [
      "Adding diffusion to step 5\n"
     ]
    },
    {
     "name": "stdout",
     "output_type": "stream",
     "text": [
      "Adding diffusion to step 4\n"
     ]
    },
    {
     "name": "stdout",
     "output_type": "stream",
     "text": [
      "kbet_score 0.7356851843821715\n",
      "graph_conn 0.9371320490373208\n"
     ]
    },
    {
     "name": "stdout",
     "output_type": "stream",
     "text": [
      "NMI, ARI ---\n",
      "NMI 0.8075139917688382\n",
      "ARI 0.8009868268582222\n",
      "positive and true positive rate---\n"
     ]
    },
    {
     "name": "stdout",
     "output_type": "stream",
     "text": [
      "                             ASW_label       ARI       NMI   1-cLISI  \\\n",
      "X_effect_modifier_space_PCA   0.578811  0.800987  0.807514  0.991992   \n",
      "\n",
      "                                bLISI  ASW_batch  kBET Accept Rate  \\\n",
      "X_effect_modifier_space_PCA  0.763109   0.955079          0.735685   \n",
      "\n",
      "                             graph connectivity  PCR_batch  pos rate  \\\n",
      "X_effect_modifier_space_PCA            0.937132    0.89932  0.960197   \n",
      "\n",
      "                             true pos rate   F1 LISI  \n",
      "X_effect_modifier_space_PCA       0.836815  0.862626  \n"
     ]
    },
    {
     "data": {
      "text/html": [
       "<div>\n",
       "<style scoped>\n",
       "    .dataframe tbody tr th:only-of-type {\n",
       "        vertical-align: middle;\n",
       "    }\n",
       "\n",
       "    .dataframe tbody tr th {\n",
       "        vertical-align: top;\n",
       "    }\n",
       "\n",
       "    .dataframe thead th {\n",
       "        text-align: right;\n",
       "    }\n",
       "</style>\n",
       "<table border=\"1\" class=\"dataframe\">\n",
       "  <thead>\n",
       "    <tr style=\"text-align: right;\">\n",
       "      <th></th>\n",
       "      <th>ASW_label</th>\n",
       "      <th>ARI</th>\n",
       "      <th>NMI</th>\n",
       "      <th>1-cLISI</th>\n",
       "      <th>bLISI</th>\n",
       "      <th>ASW_batch</th>\n",
       "      <th>kBET Accept Rate</th>\n",
       "      <th>graph connectivity</th>\n",
       "      <th>PCR_batch</th>\n",
       "      <th>pos rate</th>\n",
       "      <th>true pos rate</th>\n",
       "      <th>F1 LISI</th>\n",
       "    </tr>\n",
       "  </thead>\n",
       "  <tbody>\n",
       "    <tr>\n",
       "      <th>X_effect_modifier_space_PCA</th>\n",
       "      <td>0.578811</td>\n",
       "      <td>0.800987</td>\n",
       "      <td>0.807514</td>\n",
       "      <td>0.991992</td>\n",
       "      <td>0.763109</td>\n",
       "      <td>0.955079</td>\n",
       "      <td>0.735685</td>\n",
       "      <td>0.937132</td>\n",
       "      <td>0.89932</td>\n",
       "      <td>0.960197</td>\n",
       "      <td>0.836815</td>\n",
       "      <td>0.862626</td>\n",
       "    </tr>\n",
       "  </tbody>\n",
       "</table>\n",
       "</div>"
      ],
      "text/plain": [
       "                             ASW_label       ARI       NMI   1-cLISI  \\\n",
       "X_effect_modifier_space_PCA   0.578811  0.800987  0.807514  0.991992   \n",
       "\n",
       "                                bLISI  ASW_batch  kBET Accept Rate  \\\n",
       "X_effect_modifier_space_PCA  0.763109   0.955079          0.735685   \n",
       "\n",
       "                             graph connectivity  PCR_batch  pos rate  \\\n",
       "X_effect_modifier_space_PCA            0.937132    0.89932  0.960197   \n",
       "\n",
       "                             true pos rate   F1 LISI  \n",
       "X_effect_modifier_space_PCA       0.836815  0.862626  "
      ]
     },
     "execution_count": 6,
     "metadata": {},
     "output_type": "execute_result"
    }
   ],
   "source": [
    "adata3=sc.read_h5ad(\"./ASD01_nobatch/adata.h5ad\")\n",
    "\n",
    "import rpy2.robjects as robjects\n",
    "\n",
    "import anndata2ri\n",
    "anndata2ri.activate()\n",
    "# Add your library path\n",
    "library_path = \"/gpfs/gibbs/project/wang_zuoheng/xx244/R/4.3/\"  # Replace with the actual path\n",
    "# Update R's library paths\n",
    "robjects.r(f'.libPaths(c(\"{library_path}\", .libPaths()))')\n",
    "# Verify the updated library paths\n",
    "print(robjects.r('.libPaths()'))\n",
    "\n",
    "from metrics import calculate_metrics\n",
    "\n",
    "import warnings\n",
    "warnings.filterwarnings(\"ignore\")\n",
    "warnings.filterwarnings(\"ignore\", category=FutureWarning)\n",
    "\n",
    "calculate_metrics(adata3, batch_key='perturb01', celltype_key=\"CellType\", all=True, n_neighbors=15, embed='X_effect_modifier_space_PCA')"
   ]
  },
  {
   "cell_type": "code",
   "execution_count": 7,
   "id": "f4c4cb9c-707f-4692-a5db-474e0111c034",
   "metadata": {
    "execution": {
     "iopub.execute_input": "2025-01-07T17:58:33.510501Z",
     "iopub.status.busy": "2025-01-07T17:58:33.510272Z",
     "iopub.status.idle": "2025-01-07T18:09:56.606514Z",
     "shell.execute_reply": "2025-01-07T18:09:56.606042Z"
    }
   },
   "outputs": [
    {
     "name": "stdout",
     "output_type": "stream",
     "text": [
      "['/gpfs/gibbs/project/wang_zuoheng/xx244/R/4.3'\n",
      " '/vast/palmer/apps/avx2/software/R/4.3.2-foss-2022b-patched/lib64/R/library']\n",
      "LISI---\n"
     ]
    },
    {
     "name": "stdout",
     "output_type": "stream",
     "text": [
      "cLISI, bLISI, LISI_F1 0.9919921176892283 0.24123951207624958 0.3880985350665127\n"
     ]
    },
    {
     "name": "stdout",
     "output_type": "stream",
     "text": [
      "ASW---\n"
     ]
    },
    {
     "name": "stdout",
     "output_type": "stream",
     "text": [
      "asw_label 0.5788113996386528\n"
     ]
    },
    {
     "name": "stdout",
     "output_type": "stream",
     "text": [
      "asw_batch 0.8507960501947961\n"
     ]
    },
    {
     "name": "stdout",
     "output_type": "stream",
     "text": [
      "kBET---\n"
     ]
    },
    {
     "name": "stdout",
     "output_type": "stream",
     "text": [
      "0 labels consist of a single batch or is too small. Skip.\n"
     ]
    },
    {
     "name": "stdout",
     "output_type": "stream",
     "text": [
      "Adding diffusion to step 4\n"
     ]
    },
    {
     "name": "stdout",
     "output_type": "stream",
     "text": [
      "Adding diffusion to step 4\n"
     ]
    },
    {
     "name": "stdout",
     "output_type": "stream",
     "text": [
      "Adding diffusion to step 4\n"
     ]
    },
    {
     "name": "stdout",
     "output_type": "stream",
     "text": [
      "Adding diffusion to step 5\n"
     ]
    },
    {
     "name": "stdout",
     "output_type": "stream",
     "text": [
      "Adding diffusion to step 4\n"
     ]
    },
    {
     "name": "stdout",
     "output_type": "stream",
     "text": [
      "Adding diffusion to step 5\n"
     ]
    },
    {
     "name": "stdout",
     "output_type": "stream",
     "text": [
      "Adding diffusion to step 4\n"
     ]
    },
    {
     "name": "stdout",
     "output_type": "stream",
     "text": [
      "kbet_score 0.516058293426725\n",
      "graph_conn 0.9371320490373208\n",
      "Warning: cluster key cluster already exists in adata.obs and will be overwritten\n"
     ]
    },
    {
     "name": "stdout",
     "output_type": "stream",
     "text": [
      "NMI, ARI ---\n",
      "NMI 0.8075139917688382\n",
      "ARI 0.8009868268582222\n",
      "positive and true positive rate---\n"
     ]
    },
    {
     "name": "stdout",
     "output_type": "stream",
     "text": [
      "                             ASW_label       ARI       NMI   1-cLISI    bLISI  \\\n",
      "X_effect_modifier_space_PCA   0.578811  0.800987  0.807514  0.991992  0.24124   \n",
      "\n",
      "                             ASW_batch  kBET Accept Rate  graph connectivity  \\\n",
      "X_effect_modifier_space_PCA   0.850796          0.516058            0.937132   \n",
      "\n",
      "                             PCR_batch  pos rate  true pos rate   F1 LISI  \n",
      "X_effect_modifier_space_PCA   0.449099  0.960197       0.205617  0.388099  \n"
     ]
    },
    {
     "data": {
      "text/html": [
       "<div>\n",
       "<style scoped>\n",
       "    .dataframe tbody tr th:only-of-type {\n",
       "        vertical-align: middle;\n",
       "    }\n",
       "\n",
       "    .dataframe tbody tr th {\n",
       "        vertical-align: top;\n",
       "    }\n",
       "\n",
       "    .dataframe thead th {\n",
       "        text-align: right;\n",
       "    }\n",
       "</style>\n",
       "<table border=\"1\" class=\"dataframe\">\n",
       "  <thead>\n",
       "    <tr style=\"text-align: right;\">\n",
       "      <th></th>\n",
       "      <th>ASW_label</th>\n",
       "      <th>ARI</th>\n",
       "      <th>NMI</th>\n",
       "      <th>1-cLISI</th>\n",
       "      <th>bLISI</th>\n",
       "      <th>ASW_batch</th>\n",
       "      <th>kBET Accept Rate</th>\n",
       "      <th>graph connectivity</th>\n",
       "      <th>PCR_batch</th>\n",
       "      <th>pos rate</th>\n",
       "      <th>true pos rate</th>\n",
       "      <th>F1 LISI</th>\n",
       "    </tr>\n",
       "  </thead>\n",
       "  <tbody>\n",
       "    <tr>\n",
       "      <th>X_effect_modifier_space_PCA</th>\n",
       "      <td>0.578811</td>\n",
       "      <td>0.800987</td>\n",
       "      <td>0.807514</td>\n",
       "      <td>0.991992</td>\n",
       "      <td>0.24124</td>\n",
       "      <td>0.850796</td>\n",
       "      <td>0.516058</td>\n",
       "      <td>0.937132</td>\n",
       "      <td>0.449099</td>\n",
       "      <td>0.960197</td>\n",
       "      <td>0.205617</td>\n",
       "      <td>0.388099</td>\n",
       "    </tr>\n",
       "  </tbody>\n",
       "</table>\n",
       "</div>"
      ],
      "text/plain": [
       "                             ASW_label       ARI       NMI   1-cLISI    bLISI  \\\n",
       "X_effect_modifier_space_PCA   0.578811  0.800987  0.807514  0.991992  0.24124   \n",
       "\n",
       "                             ASW_batch  kBET Accept Rate  graph connectivity  \\\n",
       "X_effect_modifier_space_PCA   0.850796          0.516058            0.937132   \n",
       "\n",
       "                             PCR_batch  pos rate  true pos rate   F1 LISI  \n",
       "X_effect_modifier_space_PCA   0.449099  0.960197       0.205617  0.388099  "
      ]
     },
     "execution_count": 7,
     "metadata": {},
     "output_type": "execute_result"
    }
   ],
   "source": [
    "import rpy2.robjects as robjects\n",
    "\n",
    "import anndata2ri\n",
    "anndata2ri.activate()\n",
    "# Add your library path\n",
    "library_path = \"/gpfs/gibbs/project/wang_zuoheng/xx244/R/4.3/\"  # Replace with the actual path\n",
    "# Update R's library paths\n",
    "robjects.r(f'.libPaths(c(\"{library_path}\", .libPaths()))')\n",
    "# Verify the updated library paths\n",
    "print(robjects.r('.libPaths()'))\n",
    "\n",
    "from metrics import calculate_metrics\n",
    "\n",
    "import warnings\n",
    "warnings.filterwarnings(\"ignore\")\n",
    "warnings.filterwarnings(\"ignore\", category=FutureWarning)\n",
    "\n",
    "calculate_metrics(adata3, batch_key=\"Batch\", celltype_key=\"CellType\", all=True, n_neighbors=15, embed='X_effect_modifier_space_PCA')"
   ]
  }
 ],
 "metadata": {
  "kernelspec": {
   "display_name": "Python 3 (ipykernel)",
   "language": "python",
   "name": "python3"
  },
  "language_info": {
   "codemirror_mode": {
    "name": "ipython",
    "version": 3
   },
   "file_extension": ".py",
   "mimetype": "text/x-python",
   "name": "python",
   "nbconvert_exporter": "python",
   "pygments_lexer": "ipython3",
   "version": "3.11.11"
  }
 },
 "nbformat": 4,
 "nbformat_minor": 5
}
