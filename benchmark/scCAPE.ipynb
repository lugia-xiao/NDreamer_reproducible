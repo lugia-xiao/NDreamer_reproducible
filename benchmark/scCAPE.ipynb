{
 "cells": [
  {
   "cell_type": "code",
   "execution_count": 1,
   "id": "83e6d406-5e8e-456c-80ea-d1e53f4857a5",
   "metadata": {},
   "outputs": [],
   "source": [
    "from scCAPE import sccape\n",
    "from scCAPE import plotting\n",
    "import numpy as np\n",
    "import pandas as pd\n",
    "import scanpy as sc\n",
    "import matplotlib.pyplot as plt\n",
    "import os\n",
    "import pickle\n",
    "import gseapy as gp\n",
    "from fractions import Fraction\n",
    "import scipy\n",
    "from scipy.sparse import csr_matrix"
   ]
  },
  {
   "cell_type": "code",
   "execution_count": 2,
   "id": "56bfa2f6-7d13-4ace-9910-7e3d34356c4b",
   "metadata": {},
   "outputs": [],
   "source": [
    "import random\n",
    "import torch\n",
    "import sklearn\n",
    "import os\n",
    "def set_seed(seed: int):\n",
    "    # Set Python random seed\n",
    "    random.seed(seed)\n",
    "\n",
    "    # Set NumPy random seed\n",
    "    np.random.seed(seed)\n",
    "\n",
    "    # Set PyTorch random seed\n",
    "    torch.manual_seed(seed)\n",
    "    if torch.cuda.is_available():\n",
    "        torch.cuda.manual_seed(seed)\n",
    "        torch.cuda.manual_seed_all(seed)  # If using multi-GPU.\n",
    "\n",
    "        # Ensure deterministic behavior in PyTorch (can slow down computations)\n",
    "        torch.backends.cudnn.deterministic = True\n",
    "        torch.backends.cudnn.benchmark = False\n",
    "\n",
    "    # Set sklearn random seed\n",
    "    sklearn.utils.check_random_state(seed)\n",
    "\n",
    "    # Set environment variable for reproducibility\n",
    "    os.environ['PYTHONHASHSEED'] = str(seed)\n",
    "\n",
    "set_seed(123)\n",
    "\n",
    "import warnings\n",
    "warnings.filterwarnings(\"ignore\")\n",
    "warnings.filterwarnings(\"ignore\", category=FutureWarning)"
   ]
  },
  {
   "cell_type": "code",
   "execution_count": 3,
   "id": "3c1067b5-ec94-489f-9e25-4bc2a437a9cd",
   "metadata": {},
   "outputs": [],
   "source": [
    "import os\n",
    "import multiprocessing\n",
    "'''\n",
    "multiprocessing.set_start_method('spawn', force=True)\n",
    "multiprocessing.set_start_method('forkserver', force=True)\n",
    "warnings.filterwarnings('ignore', category=DeprecationWarning, module='multiprocessing')\n",
    "\n",
    "os.environ['OMP_NUM_THREADS'] = '1'\n",
    "os.environ['OPENBLAS_NUM_THREADS'] = '1'\n",
    "os.environ['MKL_NUM_THREADS'] = '1'\n",
    "'''\n",
    "def run_sccape(adata, condition_key, cell_type_key, exp_label, ref_label, dataset_name):\n",
    "    dataset_name1= \"z_\"+dataset_name\n",
    "\n",
    "    print(adata)\n",
    "    if adata.shape[1]>2000:\n",
    "        sc.pp.highly_variable_genes(adata, n_top_genes=2000)\n",
    "        adata = adata[:, adata.var[\"highly_variable\"]]\n",
    "    \n",
    "    if isinstance(adata.X, scipy.sparse.spmatrix):\n",
    "        X_dense = adata.X.toarray()\n",
    "    \n",
    "    adata.obs[\"condition\"]=adata.obs[condition_key].copy()\n",
    "    adata.write(\"./scCAPE/tmp.h5ad\")\n",
    "    \n",
    "    data_x=csr_matrix(adata.X.T)\n",
    "    sccape.onmf(data=data_x, dataset_name=dataset_name1, ncells=2000, nfactors=list(range(5, 16)),nreps=2, niters=500)\n",
    "    \n",
    "    try:\n",
    "        sccape.CAPE_train(data_path=\"./scCAPE/tmp.h5ad\", dataset_name=dataset_name1, perturbation_key='condition', split_key=None,\n",
    "                      max_epochs=300, lambda_adv=0.5, lambda_ort=0.5, patience=5, model_index=0, hparams=None,\n",
    "                      verbose=True)\n",
    "    except Exception as e:\n",
    "        print(\"Error occurred during scCAPE training:\", str(e))\n",
    "\n",
    "\n",
    "    latent_adata = sc.read_h5ad(os.path.join(dataset_name1, 'CAPE', 'model_index=0_basal.h5ad'))\n",
    "    latent_adata.obsm[\"latent\"] = latent_adata.X\n",
    "    latent_adata.obs = adata.obs\n",
    "\n",
    "    sc.pp.neighbors(latent_adata)\n",
    "    sc.tl.umap(latent_adata)\n",
    "    sc.pl.umap(\n",
    "        latent_adata,\n",
    "        color=[condition_key, cell_type_key],\n",
    "        wspace=0.4,\n",
    "        frameon=False\n",
    "    )\n",
    "    latent_adata.write(\"./scCAPE/\" + dataset_name + \".h5ad\")\n",
    "\n",
    "    import rpy2.robjects as robjects\n",
    "    os.environ[\"R_HOME\"]=\"/home/xx244/.conda/envs/benchmark/lib/R\"\n",
    "    import anndata2ri\n",
    "    anndata2ri.activate()\n",
    "\n",
    "    from metrics import calculate_metrics\n",
    "\n",
    "    import warnings\n",
    "    warnings.filterwarnings(\"ignore\")\n",
    "    warnings.filterwarnings(\"ignore\", category=FutureWarning)\n",
    "    \n",
    "    try:\n",
    "        calculate_metrics(latent_adata, batch_key=condition_key, celltype_key=cell_type_key, all=True, n_neighbors=15,\n",
    "                          embed='latent', savepath=\"./scCAPE/\" + dataset_name + \".csv\")\n",
    "    except:\n",
    "        calculate_metrics(latent_adata, batch_key=condition_key, celltype_key=cell_type_key, all=True, n_neighbors=15,\n",
    "                          embed='latent', savepath=\"./scCAPE/\" + dataset_name + \".csv\")"
   ]
  },
  {
   "cell_type": "markdown",
   "id": "a39782ba-8f52-4683-830c-aa865420f765",
   "metadata": {},
   "source": [
    "# PBMC\n",
    "\n",
    "https://www.ncbi.nlm.nih.gov/geo/query/acc.cgi?acc=GSE96583\n",
    "\n",
    "https://drive.google.com/uc?id=1r87vhoLLq6PXAYdmyyd89zG90eJOFYLk"
   ]
  },
  {
   "cell_type": "code",
   "execution_count": 4,
   "id": "ced6fb7f-d667-4c16-8f8b-9ef7aeb06f10",
   "metadata": {
    "scrolled": true
   },
   "outputs": [
    {
     "name": "stdout",
     "output_type": "stream",
     "text": [
      "Performing automatic train-test split with 0.2 ratio...\n",
      "Assigned 8007 control cells.\n",
      "Performing DEG analysis...\n",
      "Finish epoch:4\n",
      "loss:0.04944953828487756\n",
      "iteration:265\n",
      "l2 loss: 0.0015988360984988933\n"
     ]
    },
    {
     "ename": "KeyboardInterrupt",
     "evalue": "",
     "output_type": "error",
     "traceback": [
      "\u001b[0;31m---------------------------------------------------------------------------\u001b[0m",
      "\u001b[0;31mKeyboardInterrupt\u001b[0m                         Traceback (most recent call last)",
      "Cell \u001b[0;32mIn[4], line 6\u001b[0m\n\u001b[1;32m      3\u001b[0m warnings\u001b[38;5;241m.\u001b[39mfilterwarnings(\u001b[38;5;124m\"\u001b[39m\u001b[38;5;124mignore\u001b[39m\u001b[38;5;124m\"\u001b[39m, category\u001b[38;5;241m=\u001b[39m\u001b[38;5;167;01mFutureWarning\u001b[39;00m)\n\u001b[1;32m      5\u001b[0m adata \u001b[38;5;241m=\u001b[39m sc\u001b[38;5;241m.\u001b[39mread_h5ad(\u001b[38;5;124m'\u001b[39m\u001b[38;5;124m../data/PBMC.h5ad\u001b[39m\u001b[38;5;124m'\u001b[39m)\n\u001b[0;32m----> 6\u001b[0m \u001b[43mrun_sccape\u001b[49m\u001b[43m(\u001b[49m\u001b[43madata\u001b[49m\u001b[38;5;241;43m=\u001b[39;49m\u001b[43madata\u001b[49m\u001b[43m,\u001b[49m\u001b[43m \u001b[49m\u001b[43mcondition_key\u001b[49m\u001b[38;5;241;43m=\u001b[39;49m\u001b[38;5;124;43m'\u001b[39;49m\u001b[38;5;124;43mcondition\u001b[39;49m\u001b[38;5;124;43m'\u001b[39;49m\u001b[43m,\u001b[49m\u001b[43m \u001b[49m\u001b[43mcell_type_key\u001b[49m\u001b[38;5;241;43m=\u001b[39;49m\u001b[38;5;124;43m'\u001b[39;49m\u001b[38;5;124;43mcell_type\u001b[39;49m\u001b[38;5;124;43m'\u001b[39;49m\u001b[43m,\u001b[49m\u001b[43m \u001b[49m\u001b[43mexp_label\u001b[49m\u001b[38;5;241;43m=\u001b[39;49m\u001b[38;5;124;43m'\u001b[39;49m\u001b[38;5;124;43mstimulated\u001b[39;49m\u001b[38;5;124;43m'\u001b[39;49m\u001b[43m,\u001b[49m\u001b[43m \u001b[49m\u001b[43mref_label\u001b[49m\u001b[38;5;241;43m=\u001b[39;49m\u001b[38;5;124;43m'\u001b[39;49m\u001b[38;5;124;43mcontrol\u001b[39;49m\u001b[38;5;124;43m'\u001b[39;49m\u001b[43m,\u001b[49m\u001b[43m \u001b[49m\u001b[43mdataset_name\u001b[49m\u001b[38;5;241;43m=\u001b[39;49m\u001b[38;5;124;43m\"\u001b[39;49m\u001b[38;5;124;43mPBMC\u001b[39;49m\u001b[38;5;124;43m\"\u001b[39;49m\u001b[43m)\u001b[49m\n",
      "Cell \u001b[0;32mIn[3], line 22\u001b[0m, in \u001b[0;36mrun_sccape\u001b[0;34m(adata, condition_key, cell_type_key, exp_label, ref_label, dataset_name)\u001b[0m\n\u001b[1;32m     20\u001b[0m data_x\u001b[38;5;241m=\u001b[39mcsr_matrix(adata\u001b[38;5;241m.\u001b[39mX\u001b[38;5;241m.\u001b[39mT)\n\u001b[1;32m     21\u001b[0m \u001b[38;5;66;03m#sccape.onmf(data=data_x, dataset_name=dataset_name1, ncells=2000, nfactors=list(range(5, 16)),nreps=2, niters=500)\u001b[39;00m\n\u001b[0;32m---> 22\u001b[0m \u001b[43msccape\u001b[49m\u001b[38;5;241;43m.\u001b[39;49m\u001b[43mCAPE_train\u001b[49m\u001b[43m(\u001b[49m\u001b[43mdata_path\u001b[49m\u001b[38;5;241;43m=\u001b[39;49m\u001b[38;5;124;43m\"\u001b[39;49m\u001b[38;5;124;43m./scCAPE/tmp.h5ad\u001b[39;49m\u001b[38;5;124;43m\"\u001b[39;49m\u001b[43m,\u001b[49m\u001b[43m \u001b[49m\u001b[43mdataset_name\u001b[49m\u001b[38;5;241;43m=\u001b[39;49m\u001b[43mdataset_name1\u001b[49m\u001b[43m,\u001b[49m\u001b[43m \u001b[49m\u001b[43mperturbation_key\u001b[49m\u001b[38;5;241;43m=\u001b[39;49m\u001b[38;5;124;43m'\u001b[39;49m\u001b[38;5;124;43mcondition\u001b[39;49m\u001b[38;5;124;43m'\u001b[39;49m\u001b[43m,\u001b[49m\u001b[43m \u001b[49m\u001b[43msplit_key\u001b[49m\u001b[38;5;241;43m=\u001b[39;49m\u001b[38;5;28;43;01mNone\u001b[39;49;00m\u001b[43m,\u001b[49m\n\u001b[1;32m     23\u001b[0m \u001b[43m                  \u001b[49m\u001b[43mmax_epochs\u001b[49m\u001b[38;5;241;43m=\u001b[39;49m\u001b[38;5;241;43m300\u001b[39;49m\u001b[43m,\u001b[49m\u001b[43m \u001b[49m\u001b[43mlambda_adv\u001b[49m\u001b[38;5;241;43m=\u001b[39;49m\u001b[38;5;241;43m0.5\u001b[39;49m\u001b[43m,\u001b[49m\u001b[43m \u001b[49m\u001b[43mlambda_ort\u001b[49m\u001b[38;5;241;43m=\u001b[39;49m\u001b[38;5;241;43m0.5\u001b[39;49m\u001b[43m,\u001b[49m\u001b[43m \u001b[49m\u001b[43mpatience\u001b[49m\u001b[38;5;241;43m=\u001b[39;49m\u001b[38;5;241;43m5\u001b[39;49m\u001b[43m,\u001b[49m\u001b[43m \u001b[49m\u001b[43mmodel_index\u001b[49m\u001b[38;5;241;43m=\u001b[39;49m\u001b[38;5;241;43m0\u001b[39;49m\u001b[43m,\u001b[49m\u001b[43m \u001b[49m\u001b[43mhparams\u001b[49m\u001b[38;5;241;43m=\u001b[39;49m\u001b[38;5;28;43;01mNone\u001b[39;49;00m\u001b[43m,\u001b[49m\n\u001b[1;32m     24\u001b[0m \u001b[43m                  \u001b[49m\u001b[43mverbose\u001b[49m\u001b[38;5;241;43m=\u001b[39;49m\u001b[38;5;28;43;01mTrue\u001b[39;49;00m\u001b[43m)\u001b[49m\n\u001b[1;32m     25\u001b[0m \u001b[38;5;28;01mtry\u001b[39;00m:\n\u001b[1;32m     26\u001b[0m     sccape\u001b[38;5;241m.\u001b[39mCAPE_train(data_path\u001b[38;5;241m=\u001b[39m\u001b[38;5;124m\"\u001b[39m\u001b[38;5;124m./scCAPE/tmp.h5ad\u001b[39m\u001b[38;5;124m\"\u001b[39m, dataset_name\u001b[38;5;241m=\u001b[39mdataset_name1, perturbation_key\u001b[38;5;241m=\u001b[39m\u001b[38;5;124m'\u001b[39m\u001b[38;5;124mcondition\u001b[39m\u001b[38;5;124m'\u001b[39m, split_key\u001b[38;5;241m=\u001b[39m\u001b[38;5;28;01mNone\u001b[39;00m,\n\u001b[1;32m     27\u001b[0m                   max_epochs\u001b[38;5;241m=\u001b[39m\u001b[38;5;241m300\u001b[39m, lambda_adv\u001b[38;5;241m=\u001b[39m\u001b[38;5;241m0.5\u001b[39m, lambda_ort\u001b[38;5;241m=\u001b[39m\u001b[38;5;241m0.5\u001b[39m, patience\u001b[38;5;241m=\u001b[39m\u001b[38;5;241m5\u001b[39m, model_index\u001b[38;5;241m=\u001b[39m\u001b[38;5;241m0\u001b[39m, hparams\u001b[38;5;241m=\u001b[39m\u001b[38;5;28;01mNone\u001b[39;00m,\n\u001b[1;32m     28\u001b[0m                   verbose\u001b[38;5;241m=\u001b[39m\u001b[38;5;28;01mTrue\u001b[39;00m)\n",
      "File \u001b[0;32m~/.conda/envs/benchmark/lib/python3.11/site-packages/scCAPE/sccape.py:551\u001b[0m, in \u001b[0;36mCAPE_train\u001b[0;34m(data_path, dataset_name, model_index, seed, perturbation_key, split_key, max_epochs, lambda_adv, lambda_ort, patience, hparams, verbose)\u001b[0m\n\u001b[1;32m    549\u001b[0m \u001b[38;5;28;01mfor\u001b[39;00m data \u001b[38;5;129;01min\u001b[39;00m datasets[\u001b[38;5;124m\"\u001b[39m\u001b[38;5;124mloader_tr\u001b[39m\u001b[38;5;124m\"\u001b[39m]:\n\u001b[1;32m    550\u001b[0m     genes, perts, cell_states \u001b[38;5;241m=\u001b[39m data[\u001b[38;5;241m0\u001b[39m], data[\u001b[38;5;241m1\u001b[39m], data[\u001b[38;5;241m2\u001b[39m]\n\u001b[0;32m--> 551\u001b[0m     minibatch_training_stats \u001b[38;5;241m=\u001b[39m \u001b[43mautoencoder\u001b[49m\u001b[38;5;241;43m.\u001b[39;49m\u001b[43mupdate\u001b[49m\u001b[43m(\u001b[49m\u001b[43mgenes\u001b[49m\u001b[38;5;241;43m=\u001b[39;49m\u001b[43mgenes\u001b[49m\u001b[43m,\u001b[49m\u001b[43m \u001b[49m\u001b[43mperts\u001b[49m\u001b[38;5;241;43m=\u001b[39;49m\u001b[43mperts\u001b[49m\u001b[43m,\u001b[49m\u001b[43m \u001b[49m\u001b[43mcell_states\u001b[49m\u001b[38;5;241;43m=\u001b[39;49m\u001b[43mcell_states\u001b[49m\u001b[43m,\u001b[49m\n\u001b[1;32m    552\u001b[0m \u001b[43m                                                  \u001b[49m\u001b[43mlambda_val\u001b[49m\u001b[38;5;241;43m=\u001b[39;49m\u001b[43mlambda_schedule\u001b[49m\u001b[43m[\u001b[49m\u001b[43mepoch\u001b[49m\u001b[43m]\u001b[49m\u001b[43m)\u001b[49m\n\u001b[1;32m    553\u001b[0m     \u001b[38;5;28;01mfor\u001b[39;00m key, val \u001b[38;5;129;01min\u001b[39;00m minibatch_training_stats\u001b[38;5;241m.\u001b[39mitems():\n\u001b[1;32m    554\u001b[0m         epoch_training_stats[key] \u001b[38;5;241m+\u001b[39m\u001b[38;5;241m=\u001b[39m val\n",
      "File \u001b[0;32m~/.conda/envs/benchmark/lib/python3.11/site-packages/scCAPE/modelDL.py:241\u001b[0m, in \u001b[0;36mCAPE.update\u001b[0;34m(self, genes, perts, cell_states, lambda_val)\u001b[0m\n\u001b[1;32m    239\u001b[0m \u001b[38;5;28;01mif\u001b[39;00m \u001b[38;5;28mself\u001b[39m\u001b[38;5;241m.\u001b[39miteration \u001b[38;5;241m%\u001b[39m \u001b[38;5;28mself\u001b[39m\u001b[38;5;241m.\u001b[39mhparams[\u001b[38;5;124m\"\u001b[39m\u001b[38;5;124madversary_steps\u001b[39m\u001b[38;5;124m\"\u001b[39m]:\n\u001b[1;32m    240\u001b[0m     \u001b[38;5;28;01mif\u001b[39;00m \u001b[38;5;28mself\u001b[39m\u001b[38;5;241m.\u001b[39mnum_perts \u001b[38;5;241m>\u001b[39m \u001b[38;5;241m0\u001b[39m:\n\u001b[0;32m--> 241\u001b[0m         adversary_perts_penalty \u001b[38;5;241m=\u001b[39m \u001b[38;5;28;43mself\u001b[39;49m\u001b[38;5;241;43m.\u001b[39;49m\u001b[43mcompute_gradients\u001b[49m\u001b[43m(\u001b[49m\n\u001b[1;32m    242\u001b[0m \u001b[43m            \u001b[49m\u001b[43madversary_perts_predictions\u001b[49m\u001b[38;5;241;43m.\u001b[39;49m\u001b[43msum\u001b[49m\u001b[43m(\u001b[49m\u001b[43m)\u001b[49m\u001b[43m,\u001b[49m\u001b[43m \u001b[49m\u001b[43mlatent_basal\u001b[49m\n\u001b[1;32m    243\u001b[0m \u001b[43m        \u001b[49m\u001b[43m)\u001b[49m\n\u001b[1;32m    244\u001b[0m         \u001b[38;5;28mself\u001b[39m\u001b[38;5;241m.\u001b[39moptimizer_adversaries\u001b[38;5;241m.\u001b[39mzero_grad()\n\u001b[1;32m    245\u001b[0m         (adversary_perts_loss \u001b[38;5;241m+\u001b[39m \u001b[38;5;28mself\u001b[39m\u001b[38;5;241m.\u001b[39mhparams[\u001b[38;5;124m\"\u001b[39m\u001b[38;5;124mpenalty_adversary\u001b[39m\u001b[38;5;124m\"\u001b[39m] \u001b[38;5;241m*\u001b[39m adversary_perts_penalty)\u001b[38;5;241m.\u001b[39mbackward()\n",
      "File \u001b[0;32m~/.conda/envs/benchmark/lib/python3.11/site-packages/scCAPE/modelDL.py:215\u001b[0m, in \u001b[0;36mCAPE.compute_gradients\u001b[0;34m(self, output, input)\u001b[0m\n\u001b[1;32m    214\u001b[0m \u001b[38;5;28;01mdef\u001b[39;00m \u001b[38;5;21mcompute_gradients\u001b[39m(\u001b[38;5;28mself\u001b[39m, output, \u001b[38;5;28minput\u001b[39m):\n\u001b[0;32m--> 215\u001b[0m     grads \u001b[38;5;241m=\u001b[39m \u001b[43mtorch\u001b[49m\u001b[38;5;241;43m.\u001b[39;49m\u001b[43mautograd\u001b[49m\u001b[38;5;241;43m.\u001b[39;49m\u001b[43mgrad\u001b[49m\u001b[43m(\u001b[49m\u001b[43moutput\u001b[49m\u001b[43m,\u001b[49m\u001b[43m \u001b[49m\u001b[38;5;28;43minput\u001b[39;49m\u001b[43m,\u001b[49m\u001b[43m \u001b[49m\u001b[43mcreate_graph\u001b[49m\u001b[38;5;241;43m=\u001b[39;49m\u001b[38;5;28;43;01mTrue\u001b[39;49;00m\u001b[43m)\u001b[49m\n\u001b[1;32m    216\u001b[0m     grads \u001b[38;5;241m=\u001b[39m grads[\u001b[38;5;241m0\u001b[39m]\u001b[38;5;241m.\u001b[39mpow(\u001b[38;5;241m2\u001b[39m)\u001b[38;5;241m.\u001b[39mmean()\n\u001b[1;32m    217\u001b[0m     \u001b[38;5;28;01mreturn\u001b[39;00m grads\n",
      "File \u001b[0;32m~/.conda/envs/benchmark/lib/python3.11/site-packages/torch/autograd/__init__.py:496\u001b[0m, in \u001b[0;36mgrad\u001b[0;34m(outputs, inputs, grad_outputs, retain_graph, create_graph, only_inputs, allow_unused, is_grads_batched, materialize_grads)\u001b[0m\n\u001b[1;32m    492\u001b[0m     result \u001b[38;5;241m=\u001b[39m _vmap_internals\u001b[38;5;241m.\u001b[39m_vmap(vjp, \u001b[38;5;241m0\u001b[39m, \u001b[38;5;241m0\u001b[39m, allow_none_pass_through\u001b[38;5;241m=\u001b[39m\u001b[38;5;28;01mTrue\u001b[39;00m)(\n\u001b[1;32m    493\u001b[0m         grad_outputs_\n\u001b[1;32m    494\u001b[0m     )\n\u001b[1;32m    495\u001b[0m \u001b[38;5;28;01melse\u001b[39;00m:\n\u001b[0;32m--> 496\u001b[0m     result \u001b[38;5;241m=\u001b[39m \u001b[43m_engine_run_backward\u001b[49m\u001b[43m(\u001b[49m\n\u001b[1;32m    497\u001b[0m \u001b[43m        \u001b[49m\u001b[43moutputs\u001b[49m\u001b[43m,\u001b[49m\n\u001b[1;32m    498\u001b[0m \u001b[43m        \u001b[49m\u001b[43mgrad_outputs_\u001b[49m\u001b[43m,\u001b[49m\n\u001b[1;32m    499\u001b[0m \u001b[43m        \u001b[49m\u001b[43mretain_graph\u001b[49m\u001b[43m,\u001b[49m\n\u001b[1;32m    500\u001b[0m \u001b[43m        \u001b[49m\u001b[43mcreate_graph\u001b[49m\u001b[43m,\u001b[49m\n\u001b[1;32m    501\u001b[0m \u001b[43m        \u001b[49m\u001b[43minputs\u001b[49m\u001b[43m,\u001b[49m\n\u001b[1;32m    502\u001b[0m \u001b[43m        \u001b[49m\u001b[43mallow_unused\u001b[49m\u001b[43m,\u001b[49m\n\u001b[1;32m    503\u001b[0m \u001b[43m        \u001b[49m\u001b[43maccumulate_grad\u001b[49m\u001b[38;5;241;43m=\u001b[39;49m\u001b[38;5;28;43;01mFalse\u001b[39;49;00m\u001b[43m,\u001b[49m\n\u001b[1;32m    504\u001b[0m \u001b[43m    \u001b[49m\u001b[43m)\u001b[49m\n\u001b[1;32m    505\u001b[0m \u001b[38;5;28;01mif\u001b[39;00m materialize_grads:\n\u001b[1;32m    506\u001b[0m     \u001b[38;5;28;01mif\u001b[39;00m \u001b[38;5;28many\u001b[39m(\n\u001b[1;32m    507\u001b[0m         result[i] \u001b[38;5;129;01mis\u001b[39;00m \u001b[38;5;28;01mNone\u001b[39;00m \u001b[38;5;129;01mand\u001b[39;00m \u001b[38;5;129;01mnot\u001b[39;00m is_tensor_like(inputs[i])\n\u001b[1;32m    508\u001b[0m         \u001b[38;5;28;01mfor\u001b[39;00m i \u001b[38;5;129;01min\u001b[39;00m \u001b[38;5;28mrange\u001b[39m(\u001b[38;5;28mlen\u001b[39m(inputs))\n\u001b[1;32m    509\u001b[0m     ):\n",
      "File \u001b[0;32m~/.conda/envs/benchmark/lib/python3.11/site-packages/torch/autograd/graph.py:825\u001b[0m, in \u001b[0;36m_engine_run_backward\u001b[0;34m(t_outputs, *args, **kwargs)\u001b[0m\n\u001b[1;32m    823\u001b[0m     unregister_hooks \u001b[38;5;241m=\u001b[39m _register_logging_hooks_on_whole_graph(t_outputs)\n\u001b[1;32m    824\u001b[0m \u001b[38;5;28;01mtry\u001b[39;00m:\n\u001b[0;32m--> 825\u001b[0m     \u001b[38;5;28;01mreturn\u001b[39;00m \u001b[43mVariable\u001b[49m\u001b[38;5;241;43m.\u001b[39;49m\u001b[43m_execution_engine\u001b[49m\u001b[38;5;241;43m.\u001b[39;49m\u001b[43mrun_backward\u001b[49m\u001b[43m(\u001b[49m\u001b[43m  \u001b[49m\u001b[38;5;66;43;03m# Calls into the C++ engine to run the backward pass\u001b[39;49;00m\n\u001b[1;32m    826\u001b[0m \u001b[43m        \u001b[49m\u001b[43mt_outputs\u001b[49m\u001b[43m,\u001b[49m\u001b[43m \u001b[49m\u001b[38;5;241;43m*\u001b[39;49m\u001b[43margs\u001b[49m\u001b[43m,\u001b[49m\u001b[43m \u001b[49m\u001b[38;5;241;43m*\u001b[39;49m\u001b[38;5;241;43m*\u001b[39;49m\u001b[43mkwargs\u001b[49m\n\u001b[1;32m    827\u001b[0m \u001b[43m    \u001b[49m\u001b[43m)\u001b[49m  \u001b[38;5;66;03m# Calls into the C++ engine to run the backward pass\u001b[39;00m\n\u001b[1;32m    828\u001b[0m \u001b[38;5;28;01mfinally\u001b[39;00m:\n\u001b[1;32m    829\u001b[0m     \u001b[38;5;28;01mif\u001b[39;00m attach_logging_hooks:\n",
      "\u001b[0;31mKeyboardInterrupt\u001b[0m: "
     ]
    }
   ],
   "source": [
    "import warnings\n",
    "warnings.filterwarnings(\"ignore\")\n",
    "warnings.filterwarnings(\"ignore\", category=FutureWarning)\n",
    "\n",
    "adata = sc.read_h5ad('../data/PBMC.h5ad')\n",
    "run_sccape(adata=adata, condition_key='condition', cell_type_key='cell_type', exp_label='stimulated', ref_label='control', dataset_name=\"PBMC\")"
   ]
  },
  {
   "cell_type": "markdown",
   "id": "1f07c34e-e9d8-4374-8e23-dc48a3e939ce",
   "metadata": {},
   "source": [
    "# PBMC (yale)\n",
    "\n",
    "https://datadryad.org/stash/dataset/doi:10.5061/dryad.4xgxd25g1"
   ]
  },
  {
   "cell_type": "code",
   "execution_count": null,
   "id": "74d3ef5e-7db6-4b02-8f1b-fd8dbdf76ef3",
   "metadata": {},
   "outputs": [],
   "source": [
    "import warnings\n",
    "warnings.filterwarnings(\"ignore\")\n",
    "warnings.filterwarnings(\"ignore\", category=FutureWarning)\n",
    "\n",
    "adata = sc.read_h5ad('../data/PBMC_yale_preprocessed.h5ad')\n",
    "run_sccape(adata=adata, condition_key='perturbation', cell_type_key='cell_type0528', exp_label='IFNb', ref_label='No stimulation', dataset_name=\"PBMC_yale\")"
   ]
  },
  {
   "cell_type": "markdown",
   "id": "dbc4f734-d3ca-4784-abd9-5456dee750e8",
   "metadata": {},
   "source": [
    "# The Rhinovirus infection dataset\n",
    "\n",
    "https://datadryad.org/stash/dataset/doi:10.5061/dryad.4xgxd25g1"
   ]
  },
  {
   "cell_type": "code",
   "execution_count": null,
   "id": "f88efa01-2318-4041-97e1-587da77c8dc3",
   "metadata": {},
   "outputs": [],
   "source": [
    "adata=sc.read_h5ad(\"../data/rvcse_221021.h5ad\")\n",
    "adata=adata[adata.obs[\"batch\"].isin(['CSE',\"MOCK\"])].copy()\n",
    "adata.obs[\"condition\"]=adata.obs[\"batch\"].copy()\n",
    "run_sccape(adata=adata, condition_key='condition', cell_type_key=\"cell_type1021\", exp_label='CSE', ref_label='MOCK', dataset_name=\"virus\")"
   ]
  },
  {
   "cell_type": "markdown",
   "id": "ba337c86-5dcf-43bf-9ca3-d3fd0cae9bb4",
   "metadata": {},
   "source": [
    "# (EC)CITE-seq\n",
    "\n",
    "https://www.nature.com/articles/s41588-021-00778-2"
   ]
  },
  {
   "cell_type": "code",
   "execution_count": null,
   "id": "0784d47e-cb13-4a36-b739-242ef4480764",
   "metadata": {},
   "outputs": [],
   "source": [
    "adata=sc.read_h5ad(\"../data/ECCITE.h5ad\")\n",
    "run_sccape(adata=adata, condition_key='perturbation', cell_type_key=\"Phase\", exp_label='NT', ref_label='Perturbed', dataset_name=\"ECCITE\")"
   ]
  },
  {
   "cell_type": "markdown",
   "id": "4a9bc2bf-a6e4-4cca-b3ce-fa101bfa5745",
   "metadata": {},
   "source": [
    "# ASD\n",
    "\n",
    "https://singlecell.broadinstitute.org/single_cell/study/SCP1184/in-vivo-perturb-seq-reveals-neuronal-and-glial-abnormalities-associated-with-asd-risk-genes#study-download"
   ]
  },
  {
   "cell_type": "code",
   "execution_count": null,
   "id": "f9fbe166-ab0c-4428-8cc2-bec584cebf1c",
   "metadata": {},
   "outputs": [],
   "source": [
    "adata=sc.read_h5ad(\"../data/ASD.h5ad\")\n",
    "run_sccape(adata=adata, condition_key='perturb01', cell_type_key=\"CellType\", exp_label='mutated', ref_label='nan', dataset_name=\"ASD\")"
   ]
  }
 ],
 "metadata": {
  "kernelspec": {
   "display_name": "Python 3 (ipykernel)",
   "language": "python",
   "name": "python3"
  },
  "language_info": {
   "codemirror_mode": {
    "name": "ipython",
    "version": 3
   },
   "file_extension": ".py",
   "mimetype": "text/x-python",
   "name": "python",
   "nbconvert_exporter": "python",
   "pygments_lexer": "ipython3",
   "version": "3.11.11"
  }
 },
 "nbformat": 4,
 "nbformat_minor": 5
}
