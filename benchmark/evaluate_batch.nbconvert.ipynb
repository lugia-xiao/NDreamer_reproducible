{
 "cells": [
  {
   "cell_type": "code",
   "execution_count": 1,
   "id": "4b656942-6461-407d-b305-ac0e2b426ea3",
   "metadata": {
    "execution": {
     "iopub.execute_input": "2025-01-06T04:47:07.496286Z",
     "iopub.status.busy": "2025-01-06T04:47:07.496065Z",
     "iopub.status.idle": "2025-01-06T04:47:20.414451Z",
     "shell.execute_reply": "2025-01-06T04:47:20.414023Z"
    }
   },
   "outputs": [
    {
     "name": "stdout",
     "output_type": "stream",
     "text": [
      "R_HOME is already set to: /vast/palmer/apps/avx2/software/R/4.3.2-foss-2022b-patched/lib64/R\n"
     ]
    },
    {
     "name": "stderr",
     "output_type": "stream",
     "text": [
      "Unable to determine R library path: Command '('/vast/palmer/apps/avx2/software/R/4.3.2-foss-2022b-patched/lib64/R/bin/Rscript', '-e', 'cat(Sys.getenv(\"LD_LIBRARY_PATH\"))')' returned non-zero exit status 127.\n"
     ]
    },
    {
     "name": "stderr",
     "output_type": "stream",
     "text": [
      "/gpfs/gibbs/project/wang_zuoheng/xx244/Ndreamer/benchmark/metrics.py:29: DeprecationWarning: The global conversion available with activate() is deprecated and will be removed in the next major release. Use a local converter.\n",
      "  anndata2ri.activate()\n",
      "/home/xx244/.conda/envs/benchmark/lib/python3.11/site-packages/rpy2/robjects/pandas2ri.py:368: DeprecationWarning: The global conversion available with activate() is deprecated and will be removed in the next major release. Use a local converter.\n",
      "  warnings.warn('The global conversion available with activate() '\n",
      "/home/xx244/.conda/envs/benchmark/lib/python3.11/site-packages/rpy2/robjects/numpy2ri.py:241: DeprecationWarning: The global conversion available with activate() is deprecated and will be removed in the next major release. Use a local converter.\n",
      "  warnings.warn('The global conversion available with activate() '\n"
     ]
    }
   ],
   "source": [
    "import numpy as np\n",
    "import scanpy as sc\n",
    "import cinemaot as co\n",
    "import matplotlib.colors as colors\n",
    "import matplotlib.pyplot as plt\n",
    "\n",
    "import random\n",
    "import torch\n",
    "import sklearn\n",
    "import os\n",
    "\n",
    "from metrics import calculate_metrics\n",
    "\n",
    "def set_seed(seed: int):\n",
    "    # Set Python random seed\n",
    "    random.seed(seed)\n",
    "\n",
    "    # Set NumPy random seed\n",
    "    np.random.seed(seed)\n",
    "\n",
    "    # Set PyTorch random seed\n",
    "    torch.manual_seed(seed)\n",
    "    if torch.cuda.is_available():\n",
    "        torch.cuda.manual_seed(seed)\n",
    "        torch.cuda.manual_seed_all(seed)  # If using multi-GPU.\n",
    "\n",
    "        # Ensure deterministic behavior in PyTorch (can slow down computations)\n",
    "        torch.backends.cudnn.deterministic = True\n",
    "        torch.backends.cudnn.benchmark = False\n",
    "\n",
    "    # Set sklearn random seed\n",
    "    sklearn.utils.check_random_state(seed)\n",
    "\n",
    "    # Set environment variable for reproducibility\n",
    "    os.environ['PYTHONHASHSEED'] = str(seed)\n",
    "\n",
    "set_seed(123)\n",
    "\n",
    "import warnings\n",
    "warnings.filterwarnings(\"ignore\")\n",
    "warnings.filterwarnings(\"ignore\", category=FutureWarning)"
   ]
  },
  {
   "cell_type": "markdown",
   "id": "a2afcfd5-bbf3-4216-9bda-93b14cca7989",
   "metadata": {},
   "source": [
    "# ECCITE dataset"
   ]
  },
  {
   "cell_type": "code",
   "execution_count": 2,
   "id": "cc48ab66-3c0a-42e8-920b-1eec757ba942",
   "metadata": {
    "execution": {
     "iopub.execute_input": "2025-01-06T04:47:20.416333Z",
     "iopub.status.busy": "2025-01-06T04:47:20.415999Z",
     "iopub.status.idle": "2025-01-06T04:47:20.420438Z",
     "shell.execute_reply": "2025-01-06T04:47:20.420077Z"
    }
   },
   "outputs": [],
   "source": [
    "def evaluate_ECCITE(adata, embed):\n",
    "    import warnings\n",
    "    warnings.filterwarnings(\"ignore\")\n",
    "    warnings.filterwarnings(\"ignore\", category=FutureWarning)\n",
    "\n",
    "    print(\"Evaluating the performance of condition (whether or not perturbed) mixing, phase as cell type\")\n",
    "    # Prepare the environment\n",
    "    import rpy2.robjects as robjects\n",
    "    import anndata2ri\n",
    "    anndata2ri.activate()\n",
    "    library_path = \"/gpfs/gibbs/project/wang_zuoheng/xx244/R/4.3/\"  # Replace with the actual path\n",
    "    robjects.r(f'.libPaths(c(\"{library_path}\", .libPaths()))')\n",
    "    calculate_metrics(adata, batch_key= 'perturbation', celltype_key=\"Phase\", all=True, n_neighbors=15,\n",
    "                      embed=embed)\n",
    "    print(\"=\"*20)\n",
    "\n",
    "    print(\"Evaluating the performance of condition (gene target of CRISPR) mixing, phase as cell type\")\n",
    "    # Prepare the environment\n",
    "    import rpy2.robjects as robjects\n",
    "    import anndata2ri\n",
    "    anndata2ri.activate()\n",
    "    library_path = \"/gpfs/gibbs/project/wang_zuoheng/xx244/R/4.3/\"  # Replace with the actual path\n",
    "    robjects.r(f'.libPaths(c(\"{library_path}\", .libPaths()))')\n",
    "    calculate_metrics(adata, batch_key='gene_target', celltype_key=\"Phase\", all=True, n_neighbors=15,\n",
    "                      embed=embed)\n",
    "    print(\"=\" * 20)\n",
    "\n",
    "    print(\"Evaluating the performance of batch mixing, phase as cell type\")\n",
    "    # Prepare the environment\n",
    "    import rpy2.robjects as robjects\n",
    "    import anndata2ri\n",
    "    anndata2ri.activate()\n",
    "    library_path = \"/gpfs/gibbs/project/wang_zuoheng/xx244/R/4.3/\"  # Replace with the actual path\n",
    "    robjects.r(f'.libPaths(c(\"{library_path}\", .libPaths()))')\n",
    "    calculate_metrics(adata, batch_key='replicate', celltype_key=\"Phase\", all=True, n_neighbors=15,\n",
    "                      embed=embed)\n",
    "    print(\"=\" * 20)"
   ]
  },
  {
   "cell_type": "code",
   "execution_count": 3,
   "id": "bee377d5-3284-43c2-add2-8483961d7031",
   "metadata": {
    "execution": {
     "iopub.execute_input": "2025-01-06T04:47:20.421847Z",
     "iopub.status.busy": "2025-01-06T04:47:20.421608Z",
     "iopub.status.idle": "2025-01-06T06:04:29.563448Z",
     "shell.execute_reply": "2025-01-06T06:04:29.562766Z"
    }
   },
   "outputs": [
    {
     "name": "stdout",
     "output_type": "stream",
     "text": [
      "cinema_ot\n"
     ]
    },
    {
     "name": "stdout",
     "output_type": "stream",
     "text": [
      "Evaluating the performance of condition (whether or not perturbed) mixing, phase as cell type\n",
      "LISI---\n"
     ]
    },
    {
     "name": "stdout",
     "output_type": "stream",
     "text": [
      "cLISI, bLISI, LISI_F1 0.9272810895608511 0.02052525161471544 0.04016153269706483\n"
     ]
    },
    {
     "name": "stdout",
     "output_type": "stream",
     "text": [
      "ASW---\n"
     ]
    },
    {
     "name": "stdout",
     "output_type": "stream",
     "text": [
      "asw_label 0.5390674099326134\n"
     ]
    },
    {
     "name": "stdout",
     "output_type": "stream",
     "text": [
      "asw_batch 0.6464528658971308\n"
     ]
    },
    {
     "name": "stdout",
     "output_type": "stream",
     "text": [
      "kBET---\n"
     ]
    },
    {
     "name": "stdout",
     "output_type": "stream",
     "text": [
      "0 labels consist of a single batch or is too small. Skip.\n"
     ]
    },
    {
     "name": "stdout",
     "output_type": "stream",
     "text": [
      "Adding diffusion to step 4\n"
     ]
    },
    {
     "name": "stdout",
     "output_type": "stream",
     "text": [
      "Adding diffusion to step 4\n",
      "Adding diffusion to step 5\n"
     ]
    },
    {
     "name": "stdout",
     "output_type": "stream",
     "text": [
      "Adding diffusion to step 6\n"
     ]
    },
    {
     "name": "stdout",
     "output_type": "stream",
     "text": [
      "kbet_score 0.825479285454541\n",
      "graph_conn 0.9194584123095018\n"
     ]
    },
    {
     "name": "stdout",
     "output_type": "stream",
     "text": [
      "NMI, ARI ---\n",
      "NMI 0.42181076768240433\n",
      "ARI 0.5505103402976648\n",
      "positive and true positive rate---\n"
     ]
    },
    {
     "name": "stdout",
     "output_type": "stream",
     "text": [
      "    ASW_label      ARI       NMI   1-cLISI     bLISI  ASW_batch  \\\n",
      "cf   0.539067  0.55051  0.421811  0.927281  0.020525   0.646453   \n",
      "\n",
      "    kBET Accept Rate  graph connectivity  PCR_batch  pos rate  true pos rate  \\\n",
      "cf          0.825479            0.919458   0.995812  0.931449       0.805104   \n",
      "\n",
      "     F1 LISI  \n",
      "cf  0.040162  \n",
      "====================\n",
      "Evaluating the performance of condition (gene target of CRISPR) mixing, phase as cell type\n",
      "LISI---\n"
     ]
    },
    {
     "name": "stdout",
     "output_type": "stream",
     "text": [
      "cLISI, bLISI, LISI_F1 0.9272810895608511 0.26291683984757847 0.409676084445777\n"
     ]
    },
    {
     "name": "stdout",
     "output_type": "stream",
     "text": [
      "ASW---\n"
     ]
    },
    {
     "name": "stdout",
     "output_type": "stream",
     "text": [
      "asw_label 0.5390674099326134\n"
     ]
    },
    {
     "name": "stdout",
     "output_type": "stream",
     "text": [
      "asw_batch 0.8941562672172756\n"
     ]
    },
    {
     "name": "stdout",
     "output_type": "stream",
     "text": [
      "kBET---\n"
     ]
    },
    {
     "name": "stdout",
     "output_type": "stream",
     "text": [
      "0 labels consist of a single batch or is too small. Skip.\n"
     ]
    },
    {
     "name": "stdout",
     "output_type": "stream",
     "text": [
      "Adding diffusion to step 4\n"
     ]
    },
    {
     "name": "stdout",
     "output_type": "stream",
     "text": [
      "Adding diffusion to step 4\n",
      "Adding diffusion to step 5\n"
     ]
    },
    {
     "name": "stdout",
     "output_type": "stream",
     "text": [
      "kbet_score 0.7734108995308576\n",
      "graph_conn 0.9194584123095018\n",
      "Warning: cluster key cluster already exists in adata.obs and will be overwritten\n"
     ]
    },
    {
     "name": "stdout",
     "output_type": "stream",
     "text": [
      "NMI, ARI ---\n",
      "NMI 0.42181076768240433\n",
      "ARI 0.5505103402976648\n",
      "positive and true positive rate---\n"
     ]
    },
    {
     "name": "stdout",
     "output_type": "stream",
     "text": [
      "    ASW_label      ARI       NMI   1-cLISI     bLISI  ASW_batch  \\\n",
      "cf   0.539067  0.55051  0.421811  0.927281  0.262917   0.894156   \n",
      "\n",
      "    kBET Accept Rate  graph connectivity  PCR_batch  pos rate  true pos rate  \\\n",
      "cf          0.773411            0.919458   0.808733  0.931449       0.359159   \n",
      "\n",
      "     F1 LISI  \n",
      "cf  0.409676  \n",
      "====================\n",
      "Evaluating the performance of batch mixing, phase as cell type\n",
      "LISI---\n"
     ]
    },
    {
     "name": "stdout",
     "output_type": "stream",
     "text": [
      "cLISI, bLISI, LISI_F1 0.9272810895608511 0.43543563338333685 0.5925974514864113\n"
     ]
    },
    {
     "name": "stdout",
     "output_type": "stream",
     "text": [
      "ASW---\n"
     ]
    },
    {
     "name": "stdout",
     "output_type": "stream",
     "text": [
      "asw_label 0.5390674099326134\n"
     ]
    },
    {
     "name": "stdout",
     "output_type": "stream",
     "text": [
      "asw_batch 0.9687758589010036\n"
     ]
    },
    {
     "name": "stdout",
     "output_type": "stream",
     "text": [
      "kBET---\n"
     ]
    },
    {
     "name": "stdout",
     "output_type": "stream",
     "text": [
      "0 labels consist of a single batch or is too small. Skip.\n"
     ]
    },
    {
     "name": "stdout",
     "output_type": "stream",
     "text": [
      "Adding diffusion to step 4\n"
     ]
    },
    {
     "name": "stdout",
     "output_type": "stream",
     "text": [
      "Adding diffusion to step 4\n",
      "Adding diffusion to step 5\n"
     ]
    },
    {
     "name": "stdout",
     "output_type": "stream",
     "text": [
      "Adding diffusion to step 6\n"
     ]
    },
    {
     "name": "stdout",
     "output_type": "stream",
     "text": [
      "kbet_score 0.19085610552637744\n",
      "graph_conn 0.9194584123095018\n",
      "Warning: cluster key cluster already exists in adata.obs and will be overwritten\n"
     ]
    },
    {
     "name": "stdout",
     "output_type": "stream",
     "text": [
      "NMI, ARI ---\n",
      "NMI 0.42181076768240433\n",
      "ARI 0.5505103402976648\n",
      "positive and true positive rate---\n"
     ]
    },
    {
     "name": "stdout",
     "output_type": "stream",
     "text": [
      "    ASW_label      ARI       NMI   1-cLISI     bLISI  ASW_batch  \\\n",
      "cf   0.539067  0.55051  0.421811  0.927281  0.435436   0.968776   \n",
      "\n",
      "    kBET Accept Rate  graph connectivity  PCR_batch  pos rate  true pos rate  \\\n",
      "cf          0.190856            0.919458   0.322351  0.931449       0.149452   \n",
      "\n",
      "     F1 LISI  \n",
      "cf  0.592597  \n",
      "====================\n",
      "mixscape\n"
     ]
    },
    {
     "name": "stdout",
     "output_type": "stream",
     "text": [
      "Evaluating the performance of condition (whether or not perturbed) mixing, phase as cell type\n",
      "LISI---\n"
     ]
    },
    {
     "name": "stdout",
     "output_type": "stream",
     "text": [
      "cLISI, bLISI, LISI_F1 0.9303678667121824 0.004172775472585476 0.00830828760025338\n"
     ]
    },
    {
     "name": "stdout",
     "output_type": "stream",
     "text": [
      "ASW---\n"
     ]
    },
    {
     "name": "stdout",
     "output_type": "stream",
     "text": [
      "asw_label 0.5404213964939117\n"
     ]
    },
    {
     "name": "stdout",
     "output_type": "stream",
     "text": [
      "asw_batch 0.7207280247517539\n"
     ]
    },
    {
     "name": "stdout",
     "output_type": "stream",
     "text": [
      "kBET---\n"
     ]
    },
    {
     "name": "stdout",
     "output_type": "stream",
     "text": [
      "0 labels consist of a single batch or is too small. Skip.\n"
     ]
    },
    {
     "name": "stdout",
     "output_type": "stream",
     "text": [
      "Adding diffusion to step 4\n"
     ]
    },
    {
     "name": "stdout",
     "output_type": "stream",
     "text": [
      "Adding diffusion to step 4\n",
      "Adding diffusion to step 5\n"
     ]
    },
    {
     "name": "stdout",
     "output_type": "stream",
     "text": [
      "Adding diffusion to step 6\n"
     ]
    },
    {
     "name": "stdout",
     "output_type": "stream",
     "text": [
      "Adding diffusion to step 7\n"
     ]
    },
    {
     "name": "stdout",
     "output_type": "stream",
     "text": [
      "Adding diffusion to step 8\n"
     ]
    },
    {
     "name": "stdout",
     "output_type": "stream",
     "text": [
      "Adding diffusion to step 9\n"
     ]
    },
    {
     "name": "stdout",
     "output_type": "stream",
     "text": [
      "Adding diffusion to step 10\n"
     ]
    },
    {
     "name": "stdout",
     "output_type": "stream",
     "text": [
      "Adding diffusion to step 11\n"
     ]
    },
    {
     "name": "stdout",
     "output_type": "stream",
     "text": [
      "Adding diffusion to step 12\n"
     ]
    },
    {
     "name": "stdout",
     "output_type": "stream",
     "text": [
      "Adding diffusion to step 13\n"
     ]
    },
    {
     "name": "stdout",
     "output_type": "stream",
     "text": [
      "kbet_score 0.934232626912015\n",
      "graph_conn 0.9039317535449441\n"
     ]
    },
    {
     "name": "stdout",
     "output_type": "stream",
     "text": [
      "NMI, ARI ---\n",
      "NMI 0.4153943462202346\n",
      "ARI 0.47638369351471505\n",
      "positive and true positive rate---\n"
     ]
    },
    {
     "name": "stdout",
     "output_type": "stream",
     "text": [
      "    ASW_label       ARI       NMI   1-cLISI     bLISI  ASW_batch  \\\n",
      "ef   0.540421  0.476384  0.415394  0.930368  0.004173   0.720728   \n",
      "\n",
      "    kBET Accept Rate  graph connectivity  PCR_batch  pos rate  true pos rate  \\\n",
      "ef          0.934233            0.903932   0.336843  0.933089       0.170003   \n",
      "\n",
      "     F1 LISI  \n",
      "ef  0.008308  \n",
      "====================\n",
      "Evaluating the performance of condition (gene target of CRISPR) mixing, phase as cell type\n",
      "LISI---\n"
     ]
    },
    {
     "name": "stdout",
     "output_type": "stream",
     "text": [
      "cLISI, bLISI, LISI_F1 0.9303678667121824 0.2615151888742452 0.40827047124359767\n"
     ]
    },
    {
     "name": "stdout",
     "output_type": "stream",
     "text": [
      "ASW---\n"
     ]
    },
    {
     "name": "stdout",
     "output_type": "stream",
     "text": [
      "asw_label 0.5404213964939117\n"
     ]
    },
    {
     "name": "stdout",
     "output_type": "stream",
     "text": [
      "asw_batch 0.8627057667490234\n"
     ]
    },
    {
     "name": "stdout",
     "output_type": "stream",
     "text": [
      "kBET---\n"
     ]
    },
    {
     "name": "stdout",
     "output_type": "stream",
     "text": [
      "0 labels consist of a single batch or is too small. Skip.\n"
     ]
    },
    {
     "name": "stdout",
     "output_type": "stream",
     "text": [
      "Adding diffusion to step 4\n"
     ]
    },
    {
     "name": "stdout",
     "output_type": "stream",
     "text": [
      "Adding diffusion to step 4\n",
      "Adding diffusion to step 5\n"
     ]
    },
    {
     "name": "stdout",
     "output_type": "stream",
     "text": [
      "Adding diffusion to step 6\n"
     ]
    },
    {
     "name": "stdout",
     "output_type": "stream",
     "text": [
      "Adding diffusion to step 7\n"
     ]
    },
    {
     "name": "stdout",
     "output_type": "stream",
     "text": [
      "Adding diffusion to step 8\n"
     ]
    },
    {
     "name": "stdout",
     "output_type": "stream",
     "text": [
      "Adding diffusion to step 9\n"
     ]
    },
    {
     "name": "stdout",
     "output_type": "stream",
     "text": [
      "kbet_score 0.8930388496878578\n",
      "graph_conn 0.9039317535449441\n",
      "Warning: cluster key cluster already exists in adata.obs and will be overwritten\n"
     ]
    },
    {
     "name": "stdout",
     "output_type": "stream",
     "text": [
      "NMI, ARI ---\n",
      "NMI 0.4153943462202346\n",
      "ARI 0.47638369351471505\n",
      "positive and true positive rate---\n"
     ]
    },
    {
     "name": "stdout",
     "output_type": "stream",
     "text": [
      "    ASW_label       ARI       NMI   1-cLISI     bLISI  ASW_batch  \\\n",
      "ef   0.540421  0.476384  0.415394  0.930368  0.261515   0.862706   \n",
      "\n",
      "    kBET Accept Rate  graph connectivity  PCR_batch  pos rate  true pos rate  \\\n",
      "ef          0.893039            0.903932    0.43599  0.933089       0.062907   \n",
      "\n",
      "    F1 LISI  \n",
      "ef  0.40827  \n",
      "====================\n",
      "Evaluating the performance of batch mixing, phase as cell type\n",
      "LISI---\n"
     ]
    },
    {
     "name": "stdout",
     "output_type": "stream",
     "text": [
      "cLISI, bLISI, LISI_F1 0.9303678667121824 0.37511876967799845 0.5346641471168764\n"
     ]
    },
    {
     "name": "stdout",
     "output_type": "stream",
     "text": [
      "Variance contribution increased after integration!\n",
      "Setting PCR comparison score to 0.\n",
      "ASW---\n"
     ]
    },
    {
     "name": "stdout",
     "output_type": "stream",
     "text": [
      "asw_label 0.5404213964939117\n"
     ]
    },
    {
     "name": "stdout",
     "output_type": "stream",
     "text": [
      "asw_batch 0.9383320320840163\n"
     ]
    },
    {
     "name": "stdout",
     "output_type": "stream",
     "text": [
      "kBET---\n"
     ]
    },
    {
     "name": "stdout",
     "output_type": "stream",
     "text": [
      "0 labels consist of a single batch or is too small. Skip.\n"
     ]
    },
    {
     "name": "stdout",
     "output_type": "stream",
     "text": [
      "Adding diffusion to step 4\n"
     ]
    },
    {
     "name": "stdout",
     "output_type": "stream",
     "text": [
      "Adding diffusion to step 4\n",
      "Adding diffusion to step 5\n"
     ]
    },
    {
     "name": "stdout",
     "output_type": "stream",
     "text": [
      "Adding diffusion to step 6\n"
     ]
    },
    {
     "name": "stdout",
     "output_type": "stream",
     "text": [
      "Adding diffusion to step 7\n"
     ]
    },
    {
     "name": "stdout",
     "output_type": "stream",
     "text": [
      "Adding diffusion to step 8\n"
     ]
    },
    {
     "name": "stdout",
     "output_type": "stream",
     "text": [
      "Adding diffusion to step 9\n"
     ]
    },
    {
     "name": "stdout",
     "output_type": "stream",
     "text": [
      "Adding diffusion to step 10\n"
     ]
    },
    {
     "name": "stdout",
     "output_type": "stream",
     "text": [
      "Adding diffusion to step 11\n"
     ]
    },
    {
     "name": "stdout",
     "output_type": "stream",
     "text": [
      "Adding diffusion to step 12\n"
     ]
    },
    {
     "name": "stdout",
     "output_type": "stream",
     "text": [
      "Adding diffusion to step 13\n"
     ]
    },
    {
     "name": "stdout",
     "output_type": "stream",
     "text": [
      "kbet_score 0.1361749004190047\n",
      "graph_conn 0.9039317535449441\n",
      "Warning: cluster key cluster already exists in adata.obs and will be overwritten\n"
     ]
    },
    {
     "name": "stdout",
     "output_type": "stream",
     "text": [
      "NMI, ARI ---\n",
      "NMI 0.4153943462202346\n",
      "ARI 0.47638369351471505\n",
      "positive and true positive rate---\n"
     ]
    },
    {
     "name": "stdout",
     "output_type": "stream",
     "text": [
      "    ASW_label       ARI       NMI   1-cLISI     bLISI  ASW_batch  \\\n",
      "ef   0.540421  0.476384  0.415394  0.930368  0.375119   0.938332   \n",
      "\n",
      "    kBET Accept Rate  graph connectivity  PCR_batch  pos rate  true pos rate  \\\n",
      "ef          0.136175            0.903932          0  0.933089       0.090694   \n",
      "\n",
      "     F1 LISI  \n",
      "ef  0.534664  \n",
      "====================\n",
      "scCAPE\n",
      "Evaluating the performance of condition (whether or not perturbed) mixing, phase as cell type\n",
      "LISI---\n"
     ]
    },
    {
     "name": "stdout",
     "output_type": "stream",
     "text": [
      "cLISI, bLISI, LISI_F1 0.9236290847396704 0.23983628604816384 0.38079305999460294\n"
     ]
    },
    {
     "name": "stdout",
     "output_type": "stream",
     "text": [
      "ASW---\n"
     ]
    },
    {
     "name": "stdout",
     "output_type": "stream",
     "text": [
      "asw_label 0.4648887887597084\n"
     ]
    },
    {
     "name": "stdout",
     "output_type": "stream",
     "text": [
      "asw_batch 0.9651956243584882\n"
     ]
    },
    {
     "name": "stdout",
     "output_type": "stream",
     "text": [
      "kBET---\n"
     ]
    },
    {
     "name": "stdout",
     "output_type": "stream",
     "text": [
      "0 labels consist of a single batch or is too small. Skip.\n"
     ]
    },
    {
     "name": "stdout",
     "output_type": "stream",
     "text": [
      "Adding diffusion to step 4\n"
     ]
    },
    {
     "name": "stdout",
     "output_type": "stream",
     "text": [
      "Adding diffusion to step 5\n"
     ]
    },
    {
     "name": "stdout",
     "output_type": "stream",
     "text": [
      "Adding diffusion to step 6\n"
     ]
    },
    {
     "name": "stdout",
     "output_type": "stream",
     "text": [
      "Adding diffusion to step 7\n"
     ]
    },
    {
     "name": "stdout",
     "output_type": "stream",
     "text": [
      "Adding diffusion to step 4\n",
      "Adding diffusion to step 5\n",
      "Adding diffusion to step 6\n"
     ]
    },
    {
     "name": "stdout",
     "output_type": "stream",
     "text": [
      "Adding diffusion to step 7\n",
      "Adding diffusion to step 8\n"
     ]
    },
    {
     "name": "stdout",
     "output_type": "stream",
     "text": [
      "Adding diffusion to step 9\n"
     ]
    },
    {
     "name": "stdout",
     "output_type": "stream",
     "text": [
      "Adding diffusion to step 10\n"
     ]
    },
    {
     "name": "stdout",
     "output_type": "stream",
     "text": [
      "Adding diffusion to step 11\n"
     ]
    },
    {
     "name": "stdout",
     "output_type": "stream",
     "text": [
      "Adding diffusion to step 12\n"
     ]
    },
    {
     "name": "stdout",
     "output_type": "stream",
     "text": [
      "Adding diffusion to step 13\n"
     ]
    },
    {
     "name": "stdout",
     "output_type": "stream",
     "text": [
      "Adding diffusion to step 14\n"
     ]
    },
    {
     "name": "stdout",
     "output_type": "stream",
     "text": [
      "kbet_score 0.8927910204188148\n",
      "graph_conn 0.8867356171294345\n"
     ]
    },
    {
     "name": "stdout",
     "output_type": "stream",
     "text": [
      "NMI, ARI ---\n",
      "NMI 0.2188705843650652\n",
      "ARI 0.08756579363407291\n",
      "positive and true positive rate---\n"
     ]
    },
    {
     "name": "stdout",
     "output_type": "stream",
     "text": [
      "        ASW_label       ARI       NMI   1-cLISI     bLISI  ASW_batch  \\\n",
      "latent   0.464889  0.087566  0.218871  0.923629  0.239836   0.965196   \n",
      "\n",
      "        kBET Accept Rate  graph connectivity  PCR_batch  pos rate  \\\n",
      "latent          0.892791            0.886736        0.0  0.923392   \n",
      "\n",
      "        true pos rate   F1 LISI  \n",
      "latent       0.848135  0.380793  \n",
      "====================\n",
      "Evaluating the performance of condition (gene target of CRISPR) mixing, phase as cell type\n",
      "LISI---\n"
     ]
    },
    {
     "name": "stdout",
     "output_type": "stream",
     "text": [
      "cLISI, bLISI, LISI_F1 0.9236290847396704 0.2736499570949389 0.4222091101224892\n"
     ]
    },
    {
     "name": "stdout",
     "output_type": "stream",
     "text": [
      "ASW---\n"
     ]
    },
    {
     "name": "stdout",
     "output_type": "stream",
     "text": [
      "asw_label 0.4648887887597084\n"
     ]
    },
    {
     "name": "stdout",
     "output_type": "stream",
     "text": [
      "asw_batch 0.8390138758921597\n"
     ]
    },
    {
     "name": "stdout",
     "output_type": "stream",
     "text": [
      "kBET---\n"
     ]
    },
    {
     "name": "stdout",
     "output_type": "stream",
     "text": [
      "0 labels consist of a single batch or is too small. Skip.\n"
     ]
    },
    {
     "name": "stdout",
     "output_type": "stream",
     "text": [
      "Adding diffusion to step 4\n"
     ]
    },
    {
     "name": "stdout",
     "output_type": "stream",
     "text": [
      "Adding diffusion to step 5\n"
     ]
    },
    {
     "name": "stdout",
     "output_type": "stream",
     "text": [
      "Adding diffusion to step 6\n"
     ]
    },
    {
     "name": "stdout",
     "output_type": "stream",
     "text": [
      "Adding diffusion to step 4\n",
      "Adding diffusion to step 5\n",
      "Adding diffusion to step 6\n"
     ]
    },
    {
     "name": "stdout",
     "output_type": "stream",
     "text": [
      "Adding diffusion to step 7\n",
      "Adding diffusion to step 8\n"
     ]
    },
    {
     "name": "stdout",
     "output_type": "stream",
     "text": [
      "Adding diffusion to step 9\n"
     ]
    },
    {
     "name": "stdout",
     "output_type": "stream",
     "text": [
      "Adding diffusion to step 10\n"
     ]
    },
    {
     "name": "stdout",
     "output_type": "stream",
     "text": [
      "kbet_score 0.7949632651983433\n",
      "graph_conn 0.8867356171294345\n",
      "Warning: cluster key cluster already exists in adata.obs and will be overwritten\n"
     ]
    },
    {
     "name": "stdout",
     "output_type": "stream",
     "text": [
      "NMI, ARI ---\n",
      "NMI 0.2188705843650652\n",
      "ARI 0.08756579363407291\n",
      "positive and true positive rate---\n"
     ]
    },
    {
     "name": "stdout",
     "output_type": "stream",
     "text": [
      "        ASW_label       ARI       NMI   1-cLISI    bLISI  ASW_batch  \\\n",
      "latent   0.464889  0.087566  0.218871  0.923629  0.27365   0.839014   \n",
      "\n",
      "        kBET Accept Rate  graph connectivity  PCR_batch  pos rate  \\\n",
      "latent          0.794963            0.886736        0.0  0.923392   \n",
      "\n",
      "        true pos rate   F1 LISI  \n",
      "latent       0.389503  0.422209  \n",
      "====================\n",
      "Evaluating the performance of batch mixing, phase as cell type\n",
      "LISI---\n"
     ]
    },
    {
     "name": "stdout",
     "output_type": "stream",
     "text": [
      "cLISI, bLISI, LISI_F1 0.9236290847396704 0.5820833845229678 0.7141192686707317\n"
     ]
    },
    {
     "name": "stdout",
     "output_type": "stream",
     "text": [
      "ASW---\n"
     ]
    },
    {
     "name": "stdout",
     "output_type": "stream",
     "text": [
      "asw_label 0.4648887887597084\n"
     ]
    },
    {
     "name": "stdout",
     "output_type": "stream",
     "text": [
      "asw_batch 0.946907315597506\n"
     ]
    },
    {
     "name": "stdout",
     "output_type": "stream",
     "text": [
      "kBET---\n"
     ]
    },
    {
     "name": "stdout",
     "output_type": "stream",
     "text": [
      "0 labels consist of a single batch or is too small. Skip.\n"
     ]
    },
    {
     "name": "stdout",
     "output_type": "stream",
     "text": [
      "Adding diffusion to step 4\n"
     ]
    },
    {
     "name": "stdout",
     "output_type": "stream",
     "text": [
      "Adding diffusion to step 5\n"
     ]
    },
    {
     "name": "stdout",
     "output_type": "stream",
     "text": [
      "Adding diffusion to step 6\n"
     ]
    },
    {
     "name": "stdout",
     "output_type": "stream",
     "text": [
      "Adding diffusion to step 7\n"
     ]
    },
    {
     "name": "stdout",
     "output_type": "stream",
     "text": [
      "Adding diffusion to step 4\n",
      "Adding diffusion to step 5\n",
      "Adding diffusion to step 6\n"
     ]
    },
    {
     "name": "stdout",
     "output_type": "stream",
     "text": [
      "Adding diffusion to step 7\n",
      "Adding diffusion to step 8\n"
     ]
    },
    {
     "name": "stdout",
     "output_type": "stream",
     "text": [
      "Adding diffusion to step 9\n"
     ]
    },
    {
     "name": "stdout",
     "output_type": "stream",
     "text": [
      "Adding diffusion to step 10\n"
     ]
    },
    {
     "name": "stdout",
     "output_type": "stream",
     "text": [
      "Adding diffusion to step 11\n"
     ]
    },
    {
     "name": "stdout",
     "output_type": "stream",
     "text": [
      "Adding diffusion to step 12\n"
     ]
    },
    {
     "name": "stdout",
     "output_type": "stream",
     "text": [
      "Adding diffusion to step 13\n"
     ]
    },
    {
     "name": "stdout",
     "output_type": "stream",
     "text": [
      "Adding diffusion to step 14\n"
     ]
    },
    {
     "name": "stdout",
     "output_type": "stream",
     "text": [
      "kbet_score 0.4328749398446021\n",
      "graph_conn 0.8867356171294345\n",
      "Warning: cluster key cluster already exists in adata.obs and will be overwritten\n"
     ]
    },
    {
     "name": "stdout",
     "output_type": "stream",
     "text": [
      "NMI, ARI ---\n",
      "NMI 0.2188705843650652\n",
      "ARI 0.08756579363407291\n",
      "positive and true positive rate---\n"
     ]
    },
    {
     "name": "stdout",
     "output_type": "stream",
     "text": [
      "        ASW_label       ARI       NMI   1-cLISI     bLISI  ASW_batch  \\\n",
      "latent   0.464889  0.087566  0.218871  0.923629  0.582083   0.946907   \n",
      "\n",
      "        kBET Accept Rate  graph connectivity  PCR_batch  pos rate  \\\n",
      "latent          0.432875            0.886736        0.0  0.923392   \n",
      "\n",
      "        true pos rate   F1 LISI  \n",
      "latent       0.313763  0.714119  \n",
      "====================\n",
      "scgen\n",
      "Evaluating the performance of condition (whether or not perturbed) mixing, phase as cell type\n",
      "LISI---\n"
     ]
    },
    {
     "name": "stdout",
     "output_type": "stream",
     "text": [
      "cLISI, bLISI, LISI_F1 0.9154782655675464 0.26103751702508343 0.40624048885696484\n"
     ]
    },
    {
     "name": "stdout",
     "output_type": "stream",
     "text": [
      "ASW---\n"
     ]
    },
    {
     "name": "stdout",
     "output_type": "stream",
     "text": [
      "asw_label 0.5060699437744915\n"
     ]
    },
    {
     "name": "stdout",
     "output_type": "stream",
     "text": [
      "asw_batch 0.976763968509811\n"
     ]
    },
    {
     "name": "stdout",
     "output_type": "stream",
     "text": [
      "kBET---\n"
     ]
    },
    {
     "name": "stdout",
     "output_type": "stream",
     "text": [
      "0 labels consist of a single batch or is too small. Skip.\n"
     ]
    },
    {
     "name": "stdout",
     "output_type": "stream",
     "text": [
      "Adding diffusion to step 4\n"
     ]
    },
    {
     "name": "stdout",
     "output_type": "stream",
     "text": [
      "Adding diffusion to step 5\n"
     ]
    },
    {
     "name": "stdout",
     "output_type": "stream",
     "text": [
      "Adding diffusion to step 6\n"
     ]
    },
    {
     "name": "stdout",
     "output_type": "stream",
     "text": [
      "Adding diffusion to step 7\n"
     ]
    },
    {
     "name": "stdout",
     "output_type": "stream",
     "text": [
      "Adding diffusion to step 8\n"
     ]
    },
    {
     "name": "stdout",
     "output_type": "stream",
     "text": [
      "kbet_score 0.8807184082590045\n",
      "graph_conn 0.9386529420630577\n"
     ]
    },
    {
     "name": "stdout",
     "output_type": "stream",
     "text": [
      "NMI, ARI ---\n",
      "NMI 0.3037855003992622\n",
      "ARI 0.3258301475767778\n",
      "positive and true positive rate---\n"
     ]
    },
    {
     "name": "stdout",
     "output_type": "stream",
     "text": [
      "        ASW_label      ARI       NMI   1-cLISI     bLISI  ASW_batch  \\\n",
      "latent    0.50607  0.32583  0.303786  0.915478  0.261038   0.976764   \n",
      "\n",
      "        kBET Accept Rate  graph connectivity  PCR_batch  pos rate  \\\n",
      "latent          0.880718            0.938653        0.0  0.934681   \n",
      "\n",
      "        true pos rate  F1 LISI  \n",
      "latent       0.847942  0.40624  \n",
      "====================\n",
      "Evaluating the performance of condition (gene target of CRISPR) mixing, phase as cell type\n",
      "LISI---\n"
     ]
    },
    {
     "name": "stdout",
     "output_type": "stream",
     "text": [
      "cLISI, bLISI, LISI_F1 0.9154782655675464 0.23048654941792776 0.3682581240514748\n"
     ]
    },
    {
     "name": "stdout",
     "output_type": "stream",
     "text": [
      "ASW---\n"
     ]
    },
    {
     "name": "stdout",
     "output_type": "stream",
     "text": [
      "asw_label 0.5060699437744915\n"
     ]
    },
    {
     "name": "stdout",
     "output_type": "stream",
     "text": [
      "asw_batch 0.9378391520052772\n"
     ]
    },
    {
     "name": "stdout",
     "output_type": "stream",
     "text": [
      "kBET---\n"
     ]
    },
    {
     "name": "stdout",
     "output_type": "stream",
     "text": [
      "0 labels consist of a single batch or is too small. Skip.\n"
     ]
    },
    {
     "name": "stdout",
     "output_type": "stream",
     "text": [
      "Adding diffusion to step 4\n"
     ]
    },
    {
     "name": "stdout",
     "output_type": "stream",
     "text": [
      "Adding diffusion to step 5\n"
     ]
    },
    {
     "name": "stdout",
     "output_type": "stream",
     "text": [
      "Adding diffusion to step 6\n"
     ]
    },
    {
     "name": "stdout",
     "output_type": "stream",
     "text": [
      "kbet_score 0.7538980610705962\n",
      "graph_conn 0.9386529420630577\n",
      "Warning: cluster key cluster already exists in adata.obs and will be overwritten\n"
     ]
    },
    {
     "name": "stdout",
     "output_type": "stream",
     "text": [
      "NMI, ARI ---\n",
      "NMI 0.3037855003992622\n",
      "ARI 0.3258301475767778\n",
      "positive and true positive rate---\n"
     ]
    },
    {
     "name": "stdout",
     "output_type": "stream",
     "text": [
      "        ASW_label      ARI       NMI   1-cLISI     bLISI  ASW_batch  \\\n",
      "latent    0.50607  0.32583  0.303786  0.915478  0.230487   0.937839   \n",
      "\n",
      "        kBET Accept Rate  graph connectivity  PCR_batch  pos rate  \\\n",
      "latent          0.753898            0.938653        0.0  0.934681   \n",
      "\n",
      "        true pos rate   F1 LISI  \n",
      "latent       0.398765  0.368258  \n",
      "====================\n",
      "Evaluating the performance of batch mixing, phase as cell type\n",
      "LISI---\n"
     ]
    },
    {
     "name": "stdout",
     "output_type": "stream",
     "text": [
      "cLISI, bLISI, LISI_F1 0.9154782655675464 0.39857776054212624 0.5553633477792803\n"
     ]
    },
    {
     "name": "stdout",
     "output_type": "stream",
     "text": [
      "ASW---\n"
     ]
    },
    {
     "name": "stdout",
     "output_type": "stream",
     "text": [
      "asw_label 0.5060699437744915\n"
     ]
    },
    {
     "name": "stdout",
     "output_type": "stream",
     "text": [
      "asw_batch 0.9624738307648109\n"
     ]
    },
    {
     "name": "stdout",
     "output_type": "stream",
     "text": [
      "kBET---\n"
     ]
    },
    {
     "name": "stdout",
     "output_type": "stream",
     "text": [
      "0 labels consist of a single batch or is too small. Skip.\n"
     ]
    },
    {
     "name": "stdout",
     "output_type": "stream",
     "text": [
      "Adding diffusion to step 4\n"
     ]
    },
    {
     "name": "stdout",
     "output_type": "stream",
     "text": [
      "Adding diffusion to step 5\n"
     ]
    },
    {
     "name": "stdout",
     "output_type": "stream",
     "text": [
      "Adding diffusion to step 6\n"
     ]
    },
    {
     "name": "stdout",
     "output_type": "stream",
     "text": [
      "Adding diffusion to step 7\n"
     ]
    },
    {
     "name": "stdout",
     "output_type": "stream",
     "text": [
      "Adding diffusion to step 8\n"
     ]
    },
    {
     "name": "stdout",
     "output_type": "stream",
     "text": [
      "kbet_score 0.14849862955136706\n",
      "graph_conn 0.9386529420630577\n",
      "Warning: cluster key cluster already exists in adata.obs and will be overwritten\n"
     ]
    },
    {
     "name": "stdout",
     "output_type": "stream",
     "text": [
      "NMI, ARI ---\n",
      "NMI 0.3037855003992622\n",
      "ARI 0.3258301475767778\n",
      "positive and true positive rate---\n"
     ]
    },
    {
     "name": "stdout",
     "output_type": "stream",
     "text": [
      "        ASW_label      ARI       NMI   1-cLISI     bLISI  ASW_batch  \\\n",
      "latent    0.50607  0.32583  0.303786  0.915478  0.398578   0.962474   \n",
      "\n",
      "        kBET Accept Rate  graph connectivity  PCR_batch  pos rate  \\\n",
      "latent          0.148499            0.938653        0.0  0.934681   \n",
      "\n",
      "        true pos rate   F1 LISI  \n",
      "latent       0.122099  0.555363  \n",
      "====================\n"
     ]
    }
   ],
   "source": [
    "model_names=[\"cinema_ot\",\"mixscape\",\"scCAPE\",\"scgen\"]\n",
    "embed_names=['cf','ef','latent','latent']\n",
    "for i in range(len(model_names)):\n",
    "    model_name=model_names[i]\n",
    "    print(model_name)\n",
    "    adata=sc.read_h5ad(\"./\"+model_name+\"/ECCITE.h5ad\")\n",
    "    evaluate_ECCITE(adata, embed_names[i])"
   ]
  },
  {
   "cell_type": "markdown",
   "id": "4d5a2285-b522-45b0-96c7-020eaeb427bb",
   "metadata": {},
   "source": [
    "# ASD dataset"
   ]
  },
  {
   "cell_type": "code",
   "execution_count": 4,
   "id": "a077e631-34ff-4afe-96bf-bd0c5986cb20",
   "metadata": {
    "execution": {
     "iopub.execute_input": "2025-01-06T06:04:29.566195Z",
     "iopub.status.busy": "2025-01-06T06:04:29.565321Z",
     "iopub.status.idle": "2025-01-06T06:04:29.571744Z",
     "shell.execute_reply": "2025-01-06T06:04:29.571255Z"
    }
   },
   "outputs": [],
   "source": [
    "def evaluate_ASD(adata, embed):\n",
    "    import warnings\n",
    "    warnings.filterwarnings(\"ignore\")\n",
    "    warnings.filterwarnings(\"ignore\", category=FutureWarning)\n",
    "\n",
    "    print(\"Evaluating the performance of condition (whether or not perturbed) mixing, phase as cell type\")\n",
    "    # Prepare the environment\n",
    "    import rpy2.robjects as robjects\n",
    "    import anndata2ri\n",
    "    anndata2ri.activate()\n",
    "    library_path = \"/gpfs/gibbs/project/wang_zuoheng/xx244/R/4.3/\"  # Replace with the actual path\n",
    "    robjects.r(f'.libPaths(c(\"{library_path}\", .libPaths()))')\n",
    "    calculate_metrics(adata, batch_key='Perturbation', celltype_key=\"CellType\", all=True, n_neighbors=15,\n",
    "                      embed=embed)\n",
    "    print(\"=\"*20)\n",
    "\n",
    "    print(\"Evaluating the performance of condition (gene target of CRISPR) mixing, phase as cell type\")\n",
    "    # Prepare the environment\n",
    "    import rpy2.robjects as robjects\n",
    "    import anndata2ri\n",
    "    anndata2ri.activate()\n",
    "    library_path = \"/gpfs/gibbs/project/wang_zuoheng/xx244/R/4.3/\"  # Replace with the actual path\n",
    "    robjects.r(f'.libPaths(c(\"{library_path}\", .libPaths()))')\n",
    "    calculate_metrics(adata, batch_key='perturb01', celltype_key=\"CellType\", all=True, n_neighbors=15,\n",
    "                      embed=embed)\n",
    "    print(\"=\" * 20)\n",
    "\n",
    "    print(\"Evaluating the performance of batch mixing, phase as cell type\")\n",
    "    # Prepare the environment\n",
    "    import rpy2.robjects as robjects\n",
    "    import anndata2ri\n",
    "    anndata2ri.activate()\n",
    "    library_path = \"/gpfs/gibbs/project/wang_zuoheng/xx244/R/4.3/\"  # Replace with the actual path\n",
    "    robjects.r(f'.libPaths(c(\"{library_path}\", .libPaths()))')\n",
    "    calculate_metrics(adata, batch_key=\"Batch\", celltype_key=\"CellType\", all=True, n_neighbors=15,\n",
    "                      embed=embed)\n",
    "    print(\"=\" * 20)"
   ]
  },
  {
   "cell_type": "code",
   "execution_count": 5,
   "id": "2d1470f8-b3c0-42ec-ad5e-8184a4ce7a6b",
   "metadata": {
    "execution": {
     "iopub.execute_input": "2025-01-06T06:04:29.573742Z",
     "iopub.status.busy": "2025-01-06T06:04:29.573338Z",
     "iopub.status.idle": "2025-01-06T10:38:12.903600Z",
     "shell.execute_reply": "2025-01-06T10:38:12.902998Z"
    },
    "scrolled": true
   },
   "outputs": [
    {
     "name": "stdout",
     "output_type": "stream",
     "text": [
      "cinema_ot\n"
     ]
    },
    {
     "name": "stdout",
     "output_type": "stream",
     "text": [
      "Evaluating the performance of condition (whether or not perturbed) mixing, phase as cell type\n",
      "Cell cluster Ependyma contains only one batch or has less than 10 cells. Skip.\n",
      "Cell cluster Hippocampus contains only one batch or has less than 10 cells. Skip.\n",
      "Cell cluster Fibroblast-like contains only one batch or has less than 10 cells. Skip.\n",
      "Cell cluster Vascular contains only one batch or has less than 10 cells. Skip.\n",
      "Cell cluster IPC contains only one batch or has less than 10 cells. Skip.\n",
      "Cell cluster Doublet contains only one batch or has less than 10 cells. Skip.\n",
      "Cell cluster Choroid Plexus contains only one batch or has less than 10 cells. Skip.\n",
      "LISI---\n"
     ]
    },
    {
     "name": "stdout",
     "output_type": "stream",
     "text": [
      "cLISI, bLISI, LISI_F1 0.9972482982206406 0.06460152248153614 0.12134250456354069\n"
     ]
    },
    {
     "name": "stdout",
     "output_type": "stream",
     "text": [
      "ASW---\n"
     ]
    },
    {
     "name": "stdout",
     "output_type": "stream",
     "text": [
      "asw_label 0.5558530576527119\n"
     ]
    },
    {
     "name": "stdout",
     "output_type": "stream",
     "text": [
      "asw_batch 0.6893669489068597\n"
     ]
    },
    {
     "name": "stdout",
     "output_type": "stream",
     "text": [
      "kBET---\n"
     ]
    },
    {
     "name": "stdout",
     "output_type": "stream",
     "text": [
      "7 labels consist of a single batch or is too small. Skip.\n"
     ]
    },
    {
     "name": "stdout",
     "output_type": "stream",
     "text": [
      "Adding diffusion to step 4\n"
     ]
    },
    {
     "name": "stdout",
     "output_type": "stream",
     "text": [
      "kbet_score 0.629366893944814\n",
      "graph_conn 0.9868722405988124\n"
     ]
    },
    {
     "name": "stdout",
     "output_type": "stream",
     "text": [
      "NMI, ARI ---\n",
      "NMI 0.8935637754773504\n",
      "ARI 0.8633531541081799\n",
      "positive and true positive rate---\n"
     ]
    },
    {
     "name": "stdout",
     "output_type": "stream",
     "text": [
      "    ASW_label       ARI       NMI   1-cLISI     bLISI  ASW_batch  \\\n",
      "cf   0.555853  0.863353  0.893564  0.997248  0.064602   0.689367   \n",
      "\n",
      "    kBET Accept Rate  graph connectivity  PCR_batch  pos rate  true pos rate  \\\n",
      "cf          0.629367            0.986872   0.302386  0.986182       0.205719   \n",
      "\n",
      "     F1 LISI  \n",
      "cf  0.121343  \n",
      "====================\n",
      "Evaluating the performance of condition (gene target of CRISPR) mixing, phase as cell type\n",
      "Cell cluster Ependyma contains only one batch or has less than 10 cells. Skip.\n",
      "Cell cluster Hippocampus contains only one batch or has less than 10 cells. Skip.\n",
      "Cell cluster Fibroblast-like contains only one batch or has less than 10 cells. Skip.\n",
      "Cell cluster Vascular contains only one batch or has less than 10 cells. Skip.\n",
      "Cell cluster IPC contains only one batch or has less than 10 cells. Skip.\n",
      "Cell cluster Doublet contains only one batch or has less than 10 cells. Skip.\n",
      "Cell cluster Choroid Plexus contains only one batch or has less than 10 cells. Skip.\n",
      "LISI---\n"
     ]
    },
    {
     "name": "stdout",
     "output_type": "stream",
     "text": [
      "cLISI, bLISI, LISI_F1 0.9972482982206406 0.055012879989748915 0.10427354365253301\n"
     ]
    },
    {
     "name": "stdout",
     "output_type": "stream",
     "text": [
      "ASW---\n"
     ]
    },
    {
     "name": "stdout",
     "output_type": "stream",
     "text": [
      "asw_label 0.5558530576527119\n"
     ]
    },
    {
     "name": "stdout",
     "output_type": "stream",
     "text": [
      "asw_batch 0.6507182294814029\n"
     ]
    },
    {
     "name": "stdout",
     "output_type": "stream",
     "text": [
      "kBET---\n"
     ]
    },
    {
     "name": "stdout",
     "output_type": "stream",
     "text": [
      "7 labels consist of a single batch or is too small. Skip.\n"
     ]
    },
    {
     "name": "stdout",
     "output_type": "stream",
     "text": [
      "Adding diffusion to step 4\n"
     ]
    },
    {
     "name": "stdout",
     "output_type": "stream",
     "text": [
      "Adding diffusion to step 4\n"
     ]
    },
    {
     "name": "stdout",
     "output_type": "stream",
     "text": [
      "Adding diffusion to step 4\n"
     ]
    },
    {
     "name": "stdout",
     "output_type": "stream",
     "text": [
      "kbet_score 0.411789517770764\n",
      "graph_conn 0.9868722405988124\n",
      "Warning: cluster key cluster already exists in adata.obs and will be overwritten\n"
     ]
    },
    {
     "name": "stdout",
     "output_type": "stream",
     "text": [
      "NMI, ARI ---\n",
      "NMI 0.8935637754773504\n",
      "ARI 0.8633531541081799\n",
      "positive and true positive rate---\n"
     ]
    },
    {
     "name": "stdout",
     "output_type": "stream",
     "text": [
      "    ASW_label       ARI       NMI   1-cLISI     bLISI  ASW_batch  \\\n",
      "cf   0.555853  0.863353  0.893564  0.997248  0.055013   0.650718   \n",
      "\n",
      "    kBET Accept Rate  graph connectivity  PCR_batch  pos rate  true pos rate  \\\n",
      "cf           0.41179            0.986872   0.537822  0.986182       0.332688   \n",
      "\n",
      "     F1 LISI  \n",
      "cf  0.104274  \n",
      "====================\n",
      "Evaluating the performance of batch mixing, phase as cell type\n",
      "LISI---\n"
     ]
    },
    {
     "name": "stdout",
     "output_type": "stream",
     "text": [
      "cLISI, bLISI, LISI_F1 0.9972482982206406 0.18892920302645622 0.31767475947609825\n"
     ]
    },
    {
     "name": "stdout",
     "output_type": "stream",
     "text": [
      "ASW---\n"
     ]
    },
    {
     "name": "stdout",
     "output_type": "stream",
     "text": [
      "asw_label 0.5558530576527119\n"
     ]
    },
    {
     "name": "stdout",
     "output_type": "stream",
     "text": [
      "asw_batch 0.8284735008512681\n"
     ]
    },
    {
     "name": "stdout",
     "output_type": "stream",
     "text": [
      "kBET---\n"
     ]
    },
    {
     "name": "stdout",
     "output_type": "stream",
     "text": [
      "0 labels consist of a single batch or is too small. Skip.\n"
     ]
    },
    {
     "name": "stdout",
     "output_type": "stream",
     "text": [
      "Adding diffusion to step 4\n",
      "Adding diffusion to step 5\n",
      "Adding diffusion to step 6\n"
     ]
    },
    {
     "name": "stdout",
     "output_type": "stream",
     "text": [
      "Adding diffusion to step 4\n"
     ]
    },
    {
     "name": "stdout",
     "output_type": "stream",
     "text": [
      "Adding diffusion to step 4\n"
     ]
    },
    {
     "name": "stdout",
     "output_type": "stream",
     "text": [
      "Adding diffusion to step 4\n"
     ]
    },
    {
     "name": "stdout",
     "output_type": "stream",
     "text": [
      "kbet_score 0.32382692364411403\n",
      "graph_conn 0.9868722405988124\n",
      "Warning: cluster key cluster already exists in adata.obs and will be overwritten\n"
     ]
    },
    {
     "name": "stdout",
     "output_type": "stream",
     "text": [
      "NMI, ARI ---\n",
      "NMI 0.8935637754773504\n",
      "ARI 0.8633531541081799\n",
      "positive and true positive rate---\n"
     ]
    },
    {
     "name": "stdout",
     "output_type": "stream",
     "text": [
      "    ASW_label       ARI       NMI   1-cLISI     bLISI  ASW_batch  \\\n",
      "cf   0.555853  0.863353  0.893564  0.997248  0.188929   0.828474   \n",
      "\n",
      "    kBET Accept Rate  graph connectivity  PCR_batch  pos rate  true pos rate  \\\n",
      "cf          0.323827            0.986872   0.127156  0.986182       0.055129   \n",
      "\n",
      "     F1 LISI  \n",
      "cf  0.317675  \n",
      "====================\n",
      "mixscape\n"
     ]
    },
    {
     "name": "stdout",
     "output_type": "stream",
     "text": [
      "Evaluating the performance of condition (whether or not perturbed) mixing, phase as cell type\n",
      "Cell cluster Ependyma contains only one batch or has less than 10 cells. Skip.\n",
      "Cell cluster Hippocampus contains only one batch or has less than 10 cells. Skip.\n",
      "Cell cluster Fibroblast-like contains only one batch or has less than 10 cells. Skip.\n",
      "Cell cluster Vascular contains only one batch or has less than 10 cells. Skip.\n",
      "Cell cluster IPC contains only one batch or has less than 10 cells. Skip.\n",
      "Cell cluster Doublet contains only one batch or has less than 10 cells. Skip.\n",
      "Cell cluster Choroid Plexus contains only one batch or has less than 10 cells. Skip.\n",
      "LISI---\n"
     ]
    },
    {
     "name": "stdout",
     "output_type": "stream",
     "text": [
      "cLISI, bLISI, LISI_F1 0.9975858371049765 0.0032279319875470718 0.0064350418296800615\n"
     ]
    },
    {
     "name": "stdout",
     "output_type": "stream",
     "text": [
      "Variance contribution increased after integration!\n",
      "Setting PCR comparison score to 0.\n",
      "ASW---\n"
     ]
    },
    {
     "name": "stdout",
     "output_type": "stream",
     "text": [
      "asw_label 0.6389124840497971\n"
     ]
    },
    {
     "name": "stdout",
     "output_type": "stream",
     "text": [
      "asw_batch 0.8914992941843176\n"
     ]
    },
    {
     "name": "stdout",
     "output_type": "stream",
     "text": [
      "kBET---\n"
     ]
    },
    {
     "name": "stdout",
     "output_type": "stream",
     "text": [
      "7 labels consist of a single batch or is too small. Skip.\n"
     ]
    },
    {
     "name": "stdout",
     "output_type": "stream",
     "text": [
      "kbet_score 0.8370469272669077\n",
      "graph_conn 0.9528391966613349\n"
     ]
    },
    {
     "name": "stdout",
     "output_type": "stream",
     "text": [
      "NMI, ARI ---\n",
      "NMI 0.9172653404888367\n",
      "ARI 0.8950500732128334\n",
      "positive and true positive rate---\n"
     ]
    },
    {
     "name": "stdout",
     "output_type": "stream",
     "text": [
      "    ASW_label      ARI       NMI   1-cLISI     bLISI  ASW_batch  \\\n",
      "ef   0.638912  0.89505  0.917265  0.997586  0.003228   0.891499   \n",
      "\n",
      "    kBET Accept Rate  graph connectivity  PCR_batch  pos rate  true pos rate  \\\n",
      "ef          0.837047            0.952839          0  0.989504       0.175046   \n",
      "\n",
      "     F1 LISI  \n",
      "ef  0.006435  \n",
      "====================\n",
      "Evaluating the performance of condition (gene target of CRISPR) mixing, phase as cell type\n",
      "Cell cluster Ependyma contains only one batch or has less than 10 cells. Skip.\n",
      "Cell cluster Hippocampus contains only one batch or has less than 10 cells. Skip.\n",
      "Cell cluster Fibroblast-like contains only one batch or has less than 10 cells. Skip.\n",
      "Cell cluster Vascular contains only one batch or has less than 10 cells. Skip.\n",
      "Cell cluster IPC contains only one batch or has less than 10 cells. Skip.\n",
      "Cell cluster Doublet contains only one batch or has less than 10 cells. Skip.\n",
      "Cell cluster Choroid Plexus contains only one batch or has less than 10 cells. Skip.\n",
      "LISI---\n"
     ]
    },
    {
     "name": "stdout",
     "output_type": "stream",
     "text": [
      "cLISI, bLISI, LISI_F1 0.9975858371049765 0.10355786565024833 0.18763738072517888\n"
     ]
    },
    {
     "name": "stdout",
     "output_type": "stream",
     "text": [
      "Variance contribution increased after integration!\n",
      "Setting PCR comparison score to 0.\n",
      "ASW---\n"
     ]
    },
    {
     "name": "stdout",
     "output_type": "stream",
     "text": [
      "asw_label 0.6389124840497971\n"
     ]
    },
    {
     "name": "stdout",
     "output_type": "stream",
     "text": [
      "asw_batch 0.8511181158068576\n"
     ]
    },
    {
     "name": "stdout",
     "output_type": "stream",
     "text": [
      "kBET---\n"
     ]
    },
    {
     "name": "stdout",
     "output_type": "stream",
     "text": [
      "7 labels consist of a single batch or is too small. Skip.\n"
     ]
    },
    {
     "name": "stdout",
     "output_type": "stream",
     "text": [
      "Adding diffusion to step 4\n"
     ]
    },
    {
     "name": "stdout",
     "output_type": "stream",
     "text": [
      "Adding diffusion to step 4\n"
     ]
    },
    {
     "name": "stdout",
     "output_type": "stream",
     "text": [
      "kbet_score 0.36705921115048845\n",
      "graph_conn 0.9528391966613349\n",
      "Warning: cluster key cluster already exists in adata.obs and will be overwritten\n"
     ]
    },
    {
     "name": "stdout",
     "output_type": "stream",
     "text": [
      "NMI, ARI ---\n",
      "NMI 0.9172653404888367\n",
      "ARI 0.8950500732128334\n",
      "positive and true positive rate---\n"
     ]
    },
    {
     "name": "stdout",
     "output_type": "stream",
     "text": [
      "    ASW_label      ARI       NMI   1-cLISI     bLISI  ASW_batch  \\\n",
      "ef   0.638912  0.89505  0.917265  0.997586  0.103558   0.851118   \n",
      "\n",
      "    kBET Accept Rate  graph connectivity  PCR_batch  pos rate  true pos rate  \\\n",
      "ef          0.367059            0.952839          0  0.989504       0.210202   \n",
      "\n",
      "     F1 LISI  \n",
      "ef  0.187637  \n",
      "====================\n",
      "Evaluating the performance of batch mixing, phase as cell type\n",
      "LISI---\n"
     ]
    },
    {
     "name": "stdout",
     "output_type": "stream",
     "text": [
      "cLISI, bLISI, LISI_F1 0.9975858371049765 0.17660721910899413 0.3000884046814238\n"
     ]
    },
    {
     "name": "stdout",
     "output_type": "stream",
     "text": [
      "ASW---\n"
     ]
    },
    {
     "name": "stdout",
     "output_type": "stream",
     "text": [
      "asw_label 0.6389124840497971\n"
     ]
    },
    {
     "name": "stdout",
     "output_type": "stream",
     "text": [
      "asw_batch 0.8714721781608508\n"
     ]
    },
    {
     "name": "stdout",
     "output_type": "stream",
     "text": [
      "kBET---\n"
     ]
    },
    {
     "name": "stdout",
     "output_type": "stream",
     "text": [
      "0 labels consist of a single batch or is too small. Skip.\n"
     ]
    },
    {
     "name": "stdout",
     "output_type": "stream",
     "text": [
      "Adding diffusion to step 4\n"
     ]
    },
    {
     "name": "stdout",
     "output_type": "stream",
     "text": [
      "Adding diffusion to step 4\n"
     ]
    },
    {
     "name": "stdout",
     "output_type": "stream",
     "text": [
      "kbet_score 0.3208503723981261\n",
      "graph_conn 0.9528391966613349\n",
      "Warning: cluster key cluster already exists in adata.obs and will be overwritten\n"
     ]
    },
    {
     "name": "stdout",
     "output_type": "stream",
     "text": [
      "NMI, ARI ---\n",
      "NMI 0.9172653404888367\n",
      "ARI 0.8950500732128334\n",
      "positive and true positive rate---\n"
     ]
    },
    {
     "name": "stdout",
     "output_type": "stream",
     "text": [
      "    ASW_label      ARI       NMI   1-cLISI     bLISI  ASW_batch  \\\n",
      "ef   0.638912  0.89505  0.917265  0.997586  0.176607   0.871472   \n",
      "\n",
      "    kBET Accept Rate  graph connectivity  PCR_batch  pos rate  true pos rate  \\\n",
      "ef           0.32085            0.952839    0.01518  0.989504        0.05627   \n",
      "\n",
      "     F1 LISI  \n",
      "ef  0.300088  \n",
      "====================\n",
      "scCAPE\n",
      "Evaluating the performance of condition (whether or not perturbed) mixing, phase as cell type\n",
      "Cell cluster Ependyma contains only one batch or has less than 10 cells. Skip.\n",
      "Cell cluster Hippocampus contains only one batch or has less than 10 cells. Skip.\n",
      "Cell cluster Fibroblast-like contains only one batch or has less than 10 cells. Skip.\n",
      "Cell cluster Vascular contains only one batch or has less than 10 cells. Skip.\n",
      "Cell cluster IPC contains only one batch or has less than 10 cells. Skip.\n",
      "Cell cluster Doublet contains only one batch or has less than 10 cells. Skip.\n",
      "Cell cluster Choroid Plexus contains only one batch or has less than 10 cells. Skip.\n",
      "LISI---\n"
     ]
    },
    {
     "name": "stdout",
     "output_type": "stream",
     "text": [
      "cLISI, bLISI, LISI_F1 0.9929124290782386 0.06575302456437279 0.12333829372596554\n"
     ]
    },
    {
     "name": "stdout",
     "output_type": "stream",
     "text": [
      "ASW---\n"
     ]
    },
    {
     "name": "stdout",
     "output_type": "stream",
     "text": [
      "asw_label 0.5905219316482544\n"
     ]
    },
    {
     "name": "stdout",
     "output_type": "stream",
     "text": [
      "asw_batch 0.8224794922995418\n"
     ]
    },
    {
     "name": "stdout",
     "output_type": "stream",
     "text": [
      "kBET---\n"
     ]
    },
    {
     "name": "stdout",
     "output_type": "stream",
     "text": [
      "7 labels consist of a single batch or is too small. Skip.\n"
     ]
    },
    {
     "name": "stdout",
     "output_type": "stream",
     "text": [
      "Adding diffusion to step 4\n"
     ]
    },
    {
     "name": "stdout",
     "output_type": "stream",
     "text": [
      "Adding diffusion to step 4\n"
     ]
    },
    {
     "name": "stdout",
     "output_type": "stream",
     "text": [
      "Adding diffusion to step 5\n"
     ]
    },
    {
     "name": "stdout",
     "output_type": "stream",
     "text": [
      "kbet_score 0.6592276346264391\n",
      "graph_conn 0.9386048467005125\n"
     ]
    },
    {
     "name": "stdout",
     "output_type": "stream",
     "text": [
      "NMI, ARI ---\n",
      "NMI 0.856865634742268\n",
      "ARI 0.8506431246377771\n",
      "positive and true positive rate---\n"
     ]
    },
    {
     "name": "stdout",
     "output_type": "stream",
     "text": [
      "        ASW_label       ARI       NMI   1-cLISI     bLISI  ASW_batch  \\\n",
      "latent   0.590522  0.850643  0.856866  0.992912  0.065753   0.822479   \n",
      "\n",
      "        kBET Accept Rate  graph connectivity  PCR_batch  pos rate  \\\n",
      "latent          0.659228            0.938605        0.0  0.967779   \n",
      "\n",
      "        true pos rate   F1 LISI  \n",
      "latent       0.286771  0.123338  \n",
      "====================\n",
      "Evaluating the performance of condition (gene target of CRISPR) mixing, phase as cell type\n",
      "Cell cluster Ependyma contains only one batch or has less than 10 cells. Skip.\n",
      "Cell cluster Hippocampus contains only one batch or has less than 10 cells. Skip.\n",
      "Cell cluster Fibroblast-like contains only one batch or has less than 10 cells. Skip.\n",
      "Cell cluster Vascular contains only one batch or has less than 10 cells. Skip.\n",
      "Cell cluster IPC contains only one batch or has less than 10 cells. Skip.\n",
      "Cell cluster Doublet contains only one batch or has less than 10 cells. Skip.\n",
      "Cell cluster Choroid Plexus contains only one batch or has less than 10 cells. Skip.\n",
      "LISI---\n"
     ]
    },
    {
     "name": "stdout",
     "output_type": "stream",
     "text": [
      "cLISI, bLISI, LISI_F1 0.9929124290782386 0.6859911530807685 0.8113975684722777\n"
     ]
    },
    {
     "name": "stdout",
     "output_type": "stream",
     "text": [
      "ASW---\n"
     ]
    },
    {
     "name": "stdout",
     "output_type": "stream",
     "text": [
      "asw_label 0.5905219316482544\n"
     ]
    },
    {
     "name": "stdout",
     "output_type": "stream",
     "text": [
      "asw_batch 0.9284414485043275\n"
     ]
    },
    {
     "name": "stdout",
     "output_type": "stream",
     "text": [
      "kBET---\n"
     ]
    },
    {
     "name": "stdout",
     "output_type": "stream",
     "text": [
      "7 labels consist of a single batch or is too small. Skip.\n"
     ]
    },
    {
     "name": "stdout",
     "output_type": "stream",
     "text": [
      "Adding diffusion to step 4\n"
     ]
    },
    {
     "name": "stdout",
     "output_type": "stream",
     "text": [
      "Adding diffusion to step 4\n"
     ]
    },
    {
     "name": "stdout",
     "output_type": "stream",
     "text": [
      "Adding diffusion to step 5\n"
     ]
    },
    {
     "name": "stdout",
     "output_type": "stream",
     "text": [
      "Adding diffusion to step 4\n"
     ]
    },
    {
     "name": "stdout",
     "output_type": "stream",
     "text": [
      "kbet_score 0.7233677119760272\n",
      "graph_conn 0.9386048467005125\n",
      "Warning: cluster key cluster already exists in adata.obs and will be overwritten\n"
     ]
    },
    {
     "name": "stdout",
     "output_type": "stream",
     "text": [
      "NMI, ARI ---\n",
      "NMI 0.856865634742268\n",
      "ARI 0.8506431246377771\n",
      "positive and true positive rate---\n"
     ]
    },
    {
     "name": "stdout",
     "output_type": "stream",
     "text": [
      "        ASW_label       ARI       NMI   1-cLISI     bLISI  ASW_batch  \\\n",
      "latent   0.590522  0.850643  0.856866  0.992912  0.685991   0.928441   \n",
      "\n",
      "        kBET Accept Rate  graph connectivity  PCR_batch  pos rate  \\\n",
      "latent          0.723368            0.938605        0.0  0.967779   \n",
      "\n",
      "        true pos rate   F1 LISI  \n",
      "latent       0.719078  0.811398  \n",
      "====================\n",
      "Evaluating the performance of batch mixing, phase as cell type\n",
      "LISI---\n"
     ]
    },
    {
     "name": "stdout",
     "output_type": "stream",
     "text": [
      "cLISI, bLISI, LISI_F1 0.9929124290782386 0.21871108398413563 0.35846275897394764\n"
     ]
    },
    {
     "name": "stdout",
     "output_type": "stream",
     "text": [
      "ASW---\n"
     ]
    },
    {
     "name": "stdout",
     "output_type": "stream",
     "text": [
      "asw_label 0.5905219316482544\n"
     ]
    },
    {
     "name": "stdout",
     "output_type": "stream",
     "text": [
      "asw_batch 0.7261345051954254\n"
     ]
    },
    {
     "name": "stdout",
     "output_type": "stream",
     "text": [
      "kBET---\n"
     ]
    },
    {
     "name": "stdout",
     "output_type": "stream",
     "text": [
      "0 labels consist of a single batch or is too small. Skip.\n"
     ]
    },
    {
     "name": "stdout",
     "output_type": "stream",
     "text": [
      "Adding diffusion to step 4\n"
     ]
    },
    {
     "name": "stdout",
     "output_type": "stream",
     "text": [
      "Adding diffusion to step 4\n"
     ]
    },
    {
     "name": "stdout",
     "output_type": "stream",
     "text": [
      "Adding diffusion to step 4\n",
      "Adding diffusion to step 5\n"
     ]
    },
    {
     "name": "stdout",
     "output_type": "stream",
     "text": [
      "Adding diffusion to step 4\n"
     ]
    },
    {
     "name": "stdout",
     "output_type": "stream",
     "text": [
      "Adding diffusion to step 4\n"
     ]
    },
    {
     "name": "stdout",
     "output_type": "stream",
     "text": [
      "Adding diffusion to step 5\n"
     ]
    },
    {
     "name": "stdout",
     "output_type": "stream",
     "text": [
      "Adding diffusion to step 4\n"
     ]
    },
    {
     "name": "stdout",
     "output_type": "stream",
     "text": [
      "Adding diffusion to step 4\n"
     ]
    },
    {
     "name": "stdout",
     "output_type": "stream",
     "text": [
      "kbet_score 0.39755340074767465\n",
      "graph_conn 0.9386048467005125\n",
      "Warning: cluster key cluster already exists in adata.obs and will be overwritten\n"
     ]
    },
    {
     "name": "stdout",
     "output_type": "stream",
     "text": [
      "NMI, ARI ---\n",
      "NMI 0.856865634742268\n",
      "ARI 0.8506431246377771\n",
      "positive and true positive rate---\n"
     ]
    },
    {
     "name": "stdout",
     "output_type": "stream",
     "text": [
      "        ASW_label       ARI       NMI   1-cLISI     bLISI  ASW_batch  \\\n",
      "latent   0.590522  0.850643  0.856866  0.992912  0.218711   0.726135   \n",
      "\n",
      "        kBET Accept Rate  graph connectivity  PCR_batch  pos rate  \\\n",
      "latent          0.397553            0.938605        0.0  0.967779   \n",
      "\n",
      "        true pos rate   F1 LISI  \n",
      "latent       0.081195  0.358463  \n",
      "====================\n",
      "scgen\n"
     ]
    },
    {
     "name": "stdout",
     "output_type": "stream",
     "text": [
      "Evaluating the performance of condition (whether or not perturbed) mixing, phase as cell type\n",
      "Cell cluster Ependyma contains only one batch or has less than 10 cells. Skip.\n",
      "Cell cluster Hippocampus contains only one batch or has less than 10 cells. Skip.\n",
      "Cell cluster Fibroblast-like contains only one batch or has less than 10 cells. Skip.\n",
      "Cell cluster Vascular contains only one batch or has less than 10 cells. Skip.\n",
      "Cell cluster IPC contains only one batch or has less than 10 cells. Skip.\n",
      "Cell cluster Doublet contains only one batch or has less than 10 cells. Skip.\n",
      "Cell cluster Choroid Plexus contains only one batch or has less than 10 cells. Skip.\n",
      "LISI---\n"
     ]
    },
    {
     "name": "stdout",
     "output_type": "stream",
     "text": [
      "cLISI, bLISI, LISI_F1 0.9959005373969251 0.058941222146659165 0.11129554604680787\n"
     ]
    },
    {
     "name": "stdout",
     "output_type": "stream",
     "text": [
      "ASW---\n"
     ]
    },
    {
     "name": "stdout",
     "output_type": "stream",
     "text": [
      "asw_label 0.5324015505611897\n"
     ]
    },
    {
     "name": "stdout",
     "output_type": "stream",
     "text": [
      "asw_batch 0.9483515324529037\n"
     ]
    },
    {
     "name": "stdout",
     "output_type": "stream",
     "text": [
      "kBET---\n"
     ]
    },
    {
     "name": "stdout",
     "output_type": "stream",
     "text": [
      "7 labels consist of a single batch or is too small. Skip.\n"
     ]
    },
    {
     "name": "stdout",
     "output_type": "stream",
     "text": [
      "kbet_score 0.5643654302341105\n",
      "graph_conn 0.9913409136260674\n"
     ]
    },
    {
     "name": "stdout",
     "output_type": "stream",
     "text": [
      "NMI, ARI ---\n",
      "NMI 0.9465685765992654\n",
      "ARI 0.9593014329988466\n",
      "positive and true positive rate---\n"
     ]
    },
    {
     "name": "stdout",
     "output_type": "stream",
     "text": [
      "        ASW_label       ARI       NMI   1-cLISI     bLISI  ASW_batch  \\\n",
      "latent   0.532402  0.959301  0.946569  0.995901  0.058941   0.948352   \n",
      "\n",
      "        kBET Accept Rate  graph connectivity  PCR_batch  pos rate  \\\n",
      "latent          0.564365            0.991341        0.0   0.98769   \n",
      "\n",
      "        true pos rate   F1 LISI  \n",
      "latent       0.334787  0.111296  \n",
      "====================\n",
      "Evaluating the performance of condition (gene target of CRISPR) mixing, phase as cell type\n",
      "Cell cluster Ependyma contains only one batch or has less than 10 cells. Skip.\n",
      "Cell cluster Hippocampus contains only one batch or has less than 10 cells. Skip.\n",
      "Cell cluster Fibroblast-like contains only one batch or has less than 10 cells. Skip.\n",
      "Cell cluster Vascular contains only one batch or has less than 10 cells. Skip.\n",
      "Cell cluster IPC contains only one batch or has less than 10 cells. Skip.\n",
      "Cell cluster Doublet contains only one batch or has less than 10 cells. Skip.\n",
      "Cell cluster Choroid Plexus contains only one batch or has less than 10 cells. Skip.\n",
      "LISI---\n"
     ]
    },
    {
     "name": "stdout",
     "output_type": "stream",
     "text": [
      "cLISI, bLISI, LISI_F1 0.9959005373969251 0.7440031377117247 0.8517174085810648\n"
     ]
    },
    {
     "name": "stdout",
     "output_type": "stream",
     "text": [
      "ASW---\n"
     ]
    },
    {
     "name": "stdout",
     "output_type": "stream",
     "text": [
      "asw_label 0.5324015505611897\n"
     ]
    },
    {
     "name": "stdout",
     "output_type": "stream",
     "text": [
      "asw_batch 0.9838421800520489\n"
     ]
    },
    {
     "name": "stdout",
     "output_type": "stream",
     "text": [
      "kBET---\n"
     ]
    },
    {
     "name": "stdout",
     "output_type": "stream",
     "text": [
      "7 labels consist of a single batch or is too small. Skip.\n"
     ]
    },
    {
     "name": "stdout",
     "output_type": "stream",
     "text": [
      "kbet_score 0.7079831298942691\n",
      "graph_conn 0.9913409136260674\n",
      "Warning: cluster key cluster already exists in adata.obs and will be overwritten\n"
     ]
    },
    {
     "name": "stdout",
     "output_type": "stream",
     "text": [
      "NMI, ARI ---\n",
      "NMI 0.9465685765992654\n",
      "ARI 0.9593014329988466\n",
      "positive and true positive rate---\n"
     ]
    },
    {
     "name": "stdout",
     "output_type": "stream",
     "text": [
      "        ASW_label       ARI       NMI   1-cLISI     bLISI  ASW_batch  \\\n",
      "latent   0.532402  0.959301  0.946569  0.995901  0.744003   0.983842   \n",
      "\n",
      "        kBET Accept Rate  graph connectivity  PCR_batch  pos rate  \\\n",
      "latent          0.707983            0.991341        0.0   0.98769   \n",
      "\n",
      "        true pos rate   F1 LISI  \n",
      "latent       0.841767  0.851717  \n",
      "====================\n",
      "Evaluating the performance of batch mixing, phase as cell type\n",
      "LISI---\n"
     ]
    },
    {
     "name": "stdout",
     "output_type": "stream",
     "text": [
      "cLISI, bLISI, LISI_F1 0.9959005373969251 0.1795773608199588 0.30428677632511475\n"
     ]
    },
    {
     "name": "stdout",
     "output_type": "stream",
     "text": [
      "ASW---\n"
     ]
    },
    {
     "name": "stdout",
     "output_type": "stream",
     "text": [
      "asw_label 0.5324015505611897\n"
     ]
    },
    {
     "name": "stdout",
     "output_type": "stream",
     "text": [
      "asw_batch 0.9455937094279595\n"
     ]
    },
    {
     "name": "stdout",
     "output_type": "stream",
     "text": [
      "kBET---\n"
     ]
    },
    {
     "name": "stdout",
     "output_type": "stream",
     "text": [
      "0 labels consist of a single batch or is too small. Skip.\n"
     ]
    },
    {
     "name": "stdout",
     "output_type": "stream",
     "text": [
      "kbet_score 0.3484880657053233\n",
      "graph_conn 0.9913409136260674\n",
      "Warning: cluster key cluster already exists in adata.obs and will be overwritten\n"
     ]
    },
    {
     "name": "stdout",
     "output_type": "stream",
     "text": [
      "NMI, ARI ---\n",
      "NMI 0.9465685765992654\n",
      "ARI 0.9593014329988466\n",
      "positive and true positive rate---\n"
     ]
    },
    {
     "name": "stdout",
     "output_type": "stream",
     "text": [
      "        ASW_label       ARI       NMI   1-cLISI     bLISI  ASW_batch  \\\n",
      "latent   0.532402  0.959301  0.946569  0.995901  0.179577   0.945594   \n",
      "\n",
      "        kBET Accept Rate  graph connectivity  PCR_batch  pos rate  \\\n",
      "latent          0.348488            0.991341        0.0   0.98769   \n",
      "\n",
      "        true pos rate   F1 LISI  \n",
      "latent       0.071942  0.304287  \n",
      "====================\n"
     ]
    }
   ],
   "source": [
    "model_names=[\"cinema_ot\",\"mixscape\",\"scCAPE\",\"scgen\"]\n",
    "embed_names=['cf','ef','latent','latent']\n",
    "for i in range(len(model_names)):\n",
    "    model_name=model_names[i]\n",
    "    print(model_name)\n",
    "    adata=sc.read_h5ad(\"./\"+model_name+\"/ASD.h5ad\")\n",
    "    evaluate_ASD(adata, embed_names[i])"
   ]
  },
  {
   "cell_type": "code",
   "execution_count": null,
   "id": "04aefe9d-9a5e-4b35-b961-c7d78e721eea",
   "metadata": {},
   "outputs": [],
   "source": []
  }
 ],
 "metadata": {
  "kernelspec": {
   "display_name": "Python 3 (ipykernel)",
   "language": "python",
   "name": "python3"
  },
  "language_info": {
   "codemirror_mode": {
    "name": "ipython",
    "version": 3
   },
   "file_extension": ".py",
   "mimetype": "text/x-python",
   "name": "python",
   "nbconvert_exporter": "python",
   "pygments_lexer": "ipython3",
   "version": "3.11.11"
  }
 },
 "nbformat": 4,
 "nbformat_minor": 5
}
