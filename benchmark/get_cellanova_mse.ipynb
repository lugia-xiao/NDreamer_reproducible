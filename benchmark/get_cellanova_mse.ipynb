{
 "cells": [
  {
   "cell_type": "code",
   "execution_count": 1,
   "id": "0378c806-6995-4921-8f7f-f32981d1ef23",
   "metadata": {},
   "outputs": [],
   "source": [
    "import anndata as ad\n",
    "import scanpy as sc\n",
    "import gc\n",
    "import sys\n",
    "import cellanova as cnova\n",
    "import numpy as np\n",
    "import pandas as pd\n",
    "import matplotlib.pyplot as plt\n",
    "import seaborn as sea"
   ]
  },
  {
   "cell_type": "code",
   "execution_count": 2,
   "id": "fecce14a-184f-467b-a979-62f7058f78ef",
   "metadata": {},
   "outputs": [],
   "source": [
    "def get_mean_std(adata, batch_key):\n",
    "    if np.max(adata.X) > 15:\n",
    "        sc.pp.filter_cells(adata, min_genes=300)\n",
    "        sc.pp.filter_genes(adata, min_cells=10)\n",
    "\n",
    "        sc.pp.normalize_per_cell(adata, counts_per_cell_after=1e4)\n",
    "        sc.pp.log1p(adata)\n",
    "\n",
    "    if adata.shape[1] > 3000:\n",
    "        sc.pp.highly_variable_genes(adata, n_top_genes=3000, batch_key=batch_key)\n",
    "        adata = adata[:, adata.var[\"highly_variable\"]].copy()\n",
    "    else:\n",
    "        sc.pp.highly_variable_genes(adata, n_top_genes=adata.shape[1], batch_key=batch_key)\n",
    "\n",
    "    if not isinstance(adata.X, np.ndarray):\n",
    "        adata.X = adata.X.toarray()\n",
    "    \n",
    "    print(adata.X.shape)\n",
    "    mean=np.mean(adata.X, axis=0, keepdims=True)\n",
    "    std=np.std(adata.X, axis=0, keepdims=True)\n",
    "    return mean,std"
   ]
  },
  {
   "cell_type": "code",
   "execution_count": 3,
   "id": "f8aa7bb8-0f57-46ff-85fa-099ff16f8e1c",
   "metadata": {},
   "outputs": [],
   "source": [
    "def calculate_rowwise_correlation_scaled(adata1, adata2, std, batch_key=\"batch_all_with_condition\"):\n",
    "    # Ensure the obs index and batch_key match\n",
    "    # assert np.sum(adata1.obs[\"batch_all_with_condition\"]!=adata2.obs[\"batch_all_with_condition\"])==0, \"obs indices do not match between the two AnnData objects\"\n",
    "    assert batch_key in adata1.obs.columns, f\"{batch_key} not found in adata1.obs\"\n",
    "    assert batch_key in adata2.obs.columns, f\"{batch_key} not found in adata2.obs\"\n",
    "\n",
    "    results = []\n",
    "\n",
    "    # Iterate through unique batches\n",
    "    unique_batches = adata1.obs[batch_key].unique()\n",
    "    for batch in unique_batches:\n",
    "        # Subset the data for the current batch\n",
    "        batch_mask = adata1.obs[batch_key] == batch\n",
    "        data1 = adata1[batch_mask].X\n",
    "        data2 = adata2[batch_mask].X\n",
    "\n",
    "        data1=data1*std\n",
    "        data2=data2*std\n",
    "\n",
    "        barcodes = adata1[batch_mask].obs_names.tolist()\n",
    "\n",
    "        # Ensure the data is in dense format if sparse\n",
    "        if not isinstance(data1, np.ndarray):\n",
    "            data1 = data1.toarray()\n",
    "        if not isinstance(data2, np.ndarray):\n",
    "            data2 = data2.toarray()\n",
    "\n",
    "        # Compute correlation for each row\n",
    "        for i in range(data1.shape[0]):\n",
    "            row_corr = np.corrcoef(data1[i, :], data2[i, :])[0, 1]\n",
    "            mse = np.mean(np.square(data1[i, :] - data2[i, :]))\n",
    "            results.append({\"correlation\": row_corr, batch_key: batch, \"barcode\": barcodes[i], \"mse\": mse})\n",
    "\n",
    "    # Convert results to DataFrame\n",
    "    result_df = pd.DataFrame(results)\n",
    "    return result_df"
   ]
  },
  {
   "cell_type": "code",
   "execution_count": 4,
   "id": "4cc2bda9-1729-47f0-bff5-8a4937778b87",
   "metadata": {},
   "outputs": [],
   "source": [
    "def evaluate_cellanova_mse(adata, batch_key, condition_key, dataset_name, std):\n",
    "    adata.raw=None\n",
    "    print(\"adata preprocessing...\")\n",
    "\n",
    "    import warnings\n",
    "    warnings.filterwarnings(\"ignore\")\n",
    "    warnings.filterwarnings(\"ignore\", category=FutureWarning)\n",
    "\n",
    "    if isinstance(batch_key, str):\n",
    "       batch_key = [batch_key]\n",
    "\n",
    "    batch_all = []\n",
    "    for i in range(adata.shape[0]):\n",
    "        tmp = \"__\".join([adata.obs[batch_keyj][i] for batch_keyj in batch_key])\n",
    "        batch_all.append(tmp)\n",
    "    batch_all = np.array(batch_all)\n",
    "    adata.obs[\"batch_all\"]=batch_all\n",
    "    adata.obs[\"batch_all\"] = adata.obs[\"batch_all\"].astype(\"category\")\n",
    "    print(\"batch_all\", np.unique(batch_all))\n",
    "\n",
    "    batch_all_with_condition = []\n",
    "    for i in range(adata.shape[0]):\n",
    "        tmp = \"__\".join([adata.obs[batch_keyj][i] for batch_keyj in batch_key])\n",
    "        tmp = tmp + \"__\" + adata.obs[condition_key][i]\n",
    "        batch_all_with_condition.append(tmp)\n",
    "    batch_all_with_condition = np.array(batch_all_with_condition)\n",
    "    adata.obs[\"batch_all_with_condition\"] = batch_all_with_condition\n",
    "    adata.obs[\"batch_all_with_condition\"] = adata.obs[\"batch_all_with_condition\"].astype(\"category\")\n",
    "    print(\"batch_all_with_condition\", np.unique(batch_all_with_condition))\n",
    "\n",
    "    batch_key.append(\"batch_all\")\n",
    "    batch_key.append(\"batch_all_with_condition\")\n",
    "    print(\"Finish preprocessing\")\n",
    "\n",
    "    main_effect_adata = ad.AnnData(adata.layers['main_effect'], dtype=np.float32)\n",
    "    main_effect_adata.var_names = adata.var_names\n",
    "    main_effect_adata.obs = adata.obs.copy()\n",
    "\n",
    "    integrated = ad.AnnData(adata.layers['denoised'], dtype=np.float32)\n",
    "    integrated.obs = adata.obs.copy()\n",
    "    integrated.var_names = adata.var_names\n",
    "\n",
    "    print(\"Calculating global distortion...\")\n",
    "    df_global_correlation=calculate_rowwise_correlation_scaled(adata, integrated, std)\n",
    "    df_global_correlation.to_csv(\"./cellanova/\"+dataset_name+\"_global_correlation_scaled.csv\")\n",
    "    print(\"Finish\")"
   ]
  },
  {
   "cell_type": "markdown",
   "id": "be853228-c546-433f-89b1-1b8c04e42733",
   "metadata": {},
   "source": [
    "# ECCITE dataset"
   ]
  },
  {
   "cell_type": "code",
   "execution_count": 5,
   "id": "5b6cf4ce-d10a-42a4-819f-75f41c9bf176",
   "metadata": {},
   "outputs": [
    {
     "name": "stdout",
     "output_type": "stream",
     "text": [
      "(20729, 2000)\n",
      "[[7.9479944e-03 7.7820746e-03 1.2972093e+00 ... 1.5478361e-04\n",
      "  1.8493716e-04 2.7093486e-04]] [[0.0779786  0.09267601 0.85973036 ... 0.01117775 0.01213464 0.01424947]]\n",
      "adata preprocessing...\n",
      "batch_all ['rep1' 'rep2' 'rep3']\n",
      "batch_all_with_condition ['rep1__NT' 'rep1__Perturbed' 'rep2__NT' 'rep2__Perturbed' 'rep3__NT'\n",
      " 'rep3__Perturbed']\n",
      "Finish preprocessing\n",
      "Calculating global distortion...\n",
      "Finish\n"
     ]
    }
   ],
   "source": [
    "adata=sc.read_h5ad(\"../data/ECCITE.h5ad\")\n",
    "mean,std=get_mean_std(adata=adata, batch_key='replicate')\n",
    "print(mean,std)\n",
    "\n",
    "adata=sc.read_h5ad(\"./cellanova/\" + \"ECCITE\" + \"_results.h5ad\")\n",
    "evaluate_cellanova_mse(adata=adata, batch_key='replicate', condition_key='perturbation', dataset_name=\"ECCITE\", std=std)"
   ]
  },
  {
   "cell_type": "markdown",
   "id": "b222b5b9-9fc3-4fdf-920e-19037b60e2d1",
   "metadata": {},
   "source": [
    "# ASD dataset"
   ]
  },
  {
   "cell_type": "code",
   "execution_count": 6,
   "id": "2acb123d-23b6-42bd-abe6-8f93f681ebd2",
   "metadata": {},
   "outputs": [
    {
     "name": "stdout",
     "output_type": "stream",
     "text": [
      "(40603, 2000)\n",
      "[[0.01146966 0.00093528 0.06404175 ... 0.00046896 0.00179852 0.00077637]] [[0.23614296 0.06750284 0.58396368 ... 0.04894076 0.09167504 0.06467935]]\n",
      "adata preprocessing...\n",
      "batch_all ['1' '10' '11' '12' '13' '14' '15' '16' '17' '18' '2' '3' '4' '5' '6' '7'\n",
      " '8' '9']\n",
      "batch_all_with_condition ['10__mutated' '10__nan' '11__mutated' '11__nan' '12__mutated' '12__nan'\n",
      " '13__mutated' '13__nan' '14__mutated' '14__nan' '15__mutated' '15__nan'\n",
      " '16__mutated' '16__nan' '17__mutated' '18__mutated' '18__nan'\n",
      " '1__mutated' '1__nan' '2__mutated' '2__nan' '3__mutated' '3__nan'\n",
      " '4__mutated' '4__nan' '5__mutated' '5__nan' '6__mutated' '6__nan'\n",
      " '7__mutated' '7__nan' '8__mutated' '8__nan' '9__mutated' '9__nan']\n",
      "Finish preprocessing\n",
      "Calculating global distortion...\n",
      "Finish\n"
     ]
    }
   ],
   "source": [
    "adata=sc.read_h5ad(\"../data/ASD1.h5ad\")\n",
    "mean,std=get_mean_std(adata=adata, batch_key='Batch')\n",
    "print(mean,std)\n",
    "\n",
    "adata=sc.read_h5ad(\"./cellanova/\" + \"ASD1\" + \"_results.h5ad\")\n",
    "evaluate_cellanova_mse(adata=adata, batch_key='Batch', condition_key='perturb01', dataset_name=\"ASD1\", std=std)"
   ]
  },
  {
   "cell_type": "code",
   "execution_count": null,
   "id": "df1dcfc2-ca21-4fed-a8d6-fdac10d1f72c",
   "metadata": {},
   "outputs": [],
   "source": []
  }
 ],
 "metadata": {
  "kernelspec": {
   "display_name": "Python 3 (ipykernel)",
   "language": "python",
   "name": "python3"
  },
  "language_info": {
   "codemirror_mode": {
    "name": "ipython",
    "version": 3
   },
   "file_extension": ".py",
   "mimetype": "text/x-python",
   "name": "python",
   "nbconvert_exporter": "python",
   "pygments_lexer": "ipython3",
   "version": "3.11.11"
  }
 },
 "nbformat": 4,
 "nbformat_minor": 5
}
