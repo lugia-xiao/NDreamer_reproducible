{
 "cells": [
  {
   "cell_type": "code",
   "execution_count": 1,
   "id": "cf07d5ba-46c0-4e10-8082-372a02ec8298",
   "metadata": {},
   "outputs": [
    {
     "name": "stdout",
     "output_type": "stream",
     "text": [
      "R_HOME is already set to: /vast/palmer/apps/avx2/software/R/4.3.2-foss-2022b-patched/lib64/R\n"
     ]
    },
    {
     "name": "stderr",
     "output_type": "stream",
     "text": [
      "Unable to determine R library path: Command '('/vast/palmer/apps/avx2/software/R/4.3.2-foss-2022b-patched/lib64/R/bin/Rscript', '-e', 'cat(Sys.getenv(\"LD_LIBRARY_PATH\"))')' returned non-zero exit status 127.\n",
      "/gpfs/gibbs/project/wang_zuoheng/xx244/Ndreamer/benchmark/metrics.py:29: DeprecationWarning: The global conversion available with activate() is deprecated and will be removed in the next major release. Use a local converter.\n",
      "  anndata2ri.activate()\n",
      "/home/xx244/.conda/envs/benchmark/lib/python3.11/site-packages/rpy2/robjects/pandas2ri.py:368: DeprecationWarning: The global conversion available with activate() is deprecated and will be removed in the next major release. Use a local converter.\n",
      "  warnings.warn('The global conversion available with activate() '\n",
      "/home/xx244/.conda/envs/benchmark/lib/python3.11/site-packages/rpy2/robjects/numpy2ri.py:241: DeprecationWarning: The global conversion available with activate() is deprecated and will be removed in the next major release. Use a local converter.\n",
      "  warnings.warn('The global conversion available with activate() '\n"
     ]
    }
   ],
   "source": [
    "import anndata as ad\n",
    "import scanpy as sc\n",
    "import gc\n",
    "import sys\n",
    "import numpy as np\n",
    "import pandas as pd\n",
    "import matplotlib.pyplot as plt\n",
    "import seaborn as sea\n",
    "import scipy\n",
    "import torch\n",
    "import os\n",
    "\n",
    "from scDisInFact import scdisinfact, create_scdisinfact_dataset\n",
    "\n",
    "from metrics import calculate_metrics\n",
    "\n",
    "sc.settings.verbosity = 0\n",
    "sc.settings.set_figure_params(dpi=300)\n",
    "pd.set_option('display.max_columns', None)\n",
    "seed = 10\n",
    "np.random.seed(seed)\n",
    "\n",
    "device = torch.device(\"cuda:0\" if torch.cuda.is_available() else \"cpu\")"
   ]
  },
  {
   "cell_type": "code",
   "execution_count": null,
   "id": "ffc2f8b7-bc65-4c7f-9128-4d87d6ea8780",
   "metadata": {},
   "outputs": [],
   "source": [
    "def run_scdisinfact(adata, batch_key, condition_key, dataset_name, cell_type_label=None):\n",
    "    if np.max(adata.X) > 15:\n",
    "        sc.pp.filter_cells(adata, min_genes=300)\n",
    "        sc.pp.filter_genes(adata, min_cells=10)\n",
    "\n",
    "        sc.pp.normalize_per_cell(adata, counts_per_cell_after=1e4)\n",
    "        sc.pp.log1p(adata)\n",
    "\n",
    "    if adata.shape[1] > 3000:\n",
    "        sc.pp.highly_variable_genes(adata, n_top_genes=3000, batch_key=batch_key)\n",
    "        adata = adata[:, adata.var[\"highly_variable\"]].copy()\n",
    "    else:\n",
    "        sc.pp.highly_variable_genes(adata, n_top_genes=adata.shape[1], batch_key=batch_key)\n",
    "\n",
    "    import warnings\n",
    "\n",
    "    # Suppress all warnings\n",
    "    warnings.filterwarnings(\"ignore\")\n",
    "\n",
    "    result_dir = \"./scd/\" + dataset_name + \"/\"\n",
    "    if not os.path.exists(result_dir):\n",
    "        os.makedirs(result_dir)\n",
    "\n",
    "    if isinstance(adata.X, scipy.sparse.spmatrix):\n",
    "        adata.X = adata.X.toarray()\n",
    "\n",
    "    counts = adata.X\n",
    "    adata.obs[\"batch\"] = adata.obs[batch_key].copy()\n",
    "    meta_cells = adata.obs.copy()\n",
    "\n",
    "    if isinstance(condition_key, str):\n",
    "        condition_key = [condition_key]\n",
    "\n",
    "    if not isinstance(condition_key, list):\n",
    "        print(\"Wrong condition_key, must be string or list of string\")\n",
    "\n",
    "    data_dict = create_scdisinfact_dataset(counts, meta_cells, condition_key=condition_key, batch_key=batch_key, log_trans=False)\n",
    "\n",
    "    # default setting of hyper-parameters\n",
    "    reg_mmd_comm = 1e-4\n",
    "    reg_mmd_diff = 1e-4\n",
    "    reg_kl_comm = 1e-5\n",
    "    reg_kl_diff = 1e-2\n",
    "    reg_class = 1\n",
    "    reg_gl = 1\n",
    "\n",
    "    Ks = [8, 4]\n",
    "\n",
    "    batch_size = 64\n",
    "    nepochs = 100\n",
    "    interval = 10\n",
    "    lr = 5e-4\n",
    "    lambs = [reg_mmd_comm, reg_mmd_diff, reg_kl_comm, reg_kl_diff, reg_class, reg_gl]\n",
    "    model = scdisinfact(data_dict=data_dict, Ks=Ks, batch_size=batch_size, interval=interval, lr=lr,\n",
    "                        reg_mmd_comm=reg_mmd_comm, reg_mmd_diff=reg_mmd_diff, reg_gl=reg_gl, reg_class=reg_class,\n",
    "                        reg_kl_comm=reg_kl_comm, reg_kl_diff=reg_kl_diff, seed=0, device=device)\n",
    "    model.train()\n",
    "    losses = model.train_model(nepochs=nepochs, recon_loss=\"NB\")\n",
    "    torch.save(model.state_dict(), result_dir + f\"model_{Ks}_{lambs}_{batch_size}_{nepochs}_{lr}.pth\")\n",
    "    model.load_state_dict(\n",
    "        torch.load(result_dir + f\"model_{Ks}_{lambs}_{batch_size}_{nepochs}_{lr}.pth\", map_location=device))\n",
    "    _ = model.eval()\n",
    "\n",
    "    # one forward pass\n",
    "    z_cs = []\n",
    "    z_ds = []\n",
    "    zs = []\n",
    "\n",
    "    for dataset in data_dict[\"datasets\"]:\n",
    "        with torch.no_grad():\n",
    "            # pass through the encoders\n",
    "            dict_inf = model.inference(counts=dataset.counts_norm.to(model.device),\n",
    "                                       batch_ids=dataset.batch_id[:, None].to(model.device), print_stat=True)\n",
    "            # pass through the decoder\n",
    "            dict_gen = model.generative(z_c=dict_inf[\"mu_c\"], z_d=dict_inf[\"mu_d\"],\n",
    "                                        batch_ids=dataset.batch_id[:, None].to(model.device))\n",
    "            z_c = dict_inf[\"mu_c\"]\n",
    "            z_d = dict_inf[\"mu_d\"]\n",
    "            z = torch.cat([z_c] + z_d, dim=1)\n",
    "            mu = dict_gen[\"mu\"]\n",
    "            z_ds.append([x.cpu().detach().numpy() for x in z_d])\n",
    "            z_cs.append(z_c.cpu().detach().numpy())\n",
    "            zs.append(np.concatenate([z_cs[-1]] + z_ds[-1], axis=1))\n",
    "\n",
    "    latent = np.concatenate(z_cs, axis=0)\n",
    "    meta_dict = {}\n",
    "    for namei in meta_cells.columns.tolist():\n",
    "        meta_dict[namei] = np.concatenate([x[namei].values for x in data_dict[\"meta_cells\"]])\n",
    "\n",
    "    meta_df = pd.DataFrame(meta_dict)\n",
    "    adata_latent = ad.AnnData(X=counts)\n",
    "    adata_latent.var_names = adata.var_names\n",
    "    adata_latent.obs = meta_df\n",
    "\n",
    "    denoised_counts = model.predict_counts(input_counts=counts, meta_cells=meta_cells, condition_keys=condition_key,\n",
    "                                           batch_key=batch_key, predict_conds=None, predict_batch=None)\n",
    "    # adata.obsm[\"denoised\"] = denoised_counts\n",
    "    adata.layers[\"denoised\"] = denoised_counts\n",
    "    adata.obsm['main_effect'] = latent\n",
    "\n",
    "    adata.write_h5ad(\"./scd/\" + dataset_name + \"_latent.h5ad\")\n",
    "\n",
    "    sc.pp.neighbors(adata_latent, n_neighbors=15, n_pcs=50)\n",
    "    sc.tl.umap(adata_latent)\n",
    "    sc.pl.umap(adata_latent, color=condition_key, ncols=1)\n",
    "    sc.pl.umap(adata_latent, color=batch_key, ncols=1)\n",
    "    if cell_type_label is not None:\n",
    "        sc.pl.umap(adata_latent, color=cell_type_label)"
   ]
  },
  {
   "cell_type": "markdown",
   "id": "c2ad5c2e-06a2-4473-80d0-3baab9986c50",
   "metadata": {},
   "source": [
    "# (EC)CITE-seq\n",
    "\n",
    "https://www.nature.com/articles/s41588-021-00778-2"
   ]
  },
  {
   "cell_type": "code",
   "execution_count": null,
   "id": "f3957673-870d-4b37-8616-4aab029c6b7f",
   "metadata": {},
   "outputs": [],
   "source": [
    "adata=sc.read_h5ad(\"../data/ECCITE.h5ad\")\n",
    "run_scdisinfact(adata=adata, batch_key='replicate', condition_key='perturbation', cell_type_label=\"Phase\", dataset_name=\"ECCITE\")"
   ]
  },
  {
   "cell_type": "markdown",
   "id": "a41444ee-a55e-4f36-beac-5f18ba0bb841",
   "metadata": {},
   "source": [
    "# ASD\n",
    "\n",
    "https://singlecell.broadinstitute.org/single_cell/study/SCP1184/in-vivo-perturb-seq-reveals-neuronal-and-glial-abnormalities-associated-with-asd-risk-genes#study-download"
   ]
  },
  {
   "cell_type": "code",
   "execution_count": null,
   "id": "a4c4cf6e-398b-424c-ab14-eb37efd489e2",
   "metadata": {},
   "outputs": [],
   "source": [
    "adata=sc.read_h5ad(\"../data/ASD.h5ad\")\n",
    "run_scdisinfact(adata=adata, batch_key='Batch', condition_key='perturb01', cell_type_label=\"CellType\", dataset_name=\"ASD\")"
   ]
  },
  {
   "cell_type": "markdown",
   "id": "43638819-58f9-4a64-88a6-2fb3c4ed3cca",
   "metadata": {},
   "source": [
    "# ASD1\n",
    "\n",
    "https://singlecell.broadinstitute.org/single_cell/study/SCP1184/in-vivo-perturb-seq-reveals-neuronal-and-glial-abnormalities-associated-with-asd-risk-genes#study-download"
   ]
  },
  {
   "cell_type": "code",
   "execution_count": null,
   "id": "81722809-da79-40af-9794-7229d4fffad9",
   "metadata": {},
   "outputs": [],
   "source": [
    "adata=sc.read_h5ad(\"../data/ASD1.h5ad\")\n",
    "run_scdisinfact(adata=adata, batch_key='Batch', condition_key='perturb01', cell_type_label=\"CellType\", dataset_name=\"ASD1\")"
   ]
  }
 ],
 "metadata": {
  "kernelspec": {
   "display_name": "Python 3 (ipykernel)",
   "language": "python",
   "name": "python3"
  },
  "language_info": {
   "codemirror_mode": {
    "name": "ipython",
    "version": 3
   },
   "file_extension": ".py",
   "mimetype": "text/x-python",
   "name": "python",
   "nbconvert_exporter": "python",
   "pygments_lexer": "ipython3",
   "version": "3.11.11"
  }
 },
 "nbformat": 4,
 "nbformat_minor": 5
}
